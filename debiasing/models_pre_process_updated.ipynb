{
  "cells": [
    {
      "cell_type": "code",
      "source": [
        "!pip install aif360\n",
        "!pip install fairlearn\n",
        "!pip install BlackBoxAuditing"
      ],
      "metadata": {
        "colab": {
          "base_uri": "https://localhost:8080/"
        },
        "id": "03DMlPyemTbC",
        "outputId": "e522c03c-8a32-41d1-f026-81644d20f5b3"
      },
      "id": "03DMlPyemTbC",
      "execution_count": 1,
      "outputs": [
        {
          "output_type": "stream",
          "name": "stdout",
          "text": [
            "Looking in indexes: https://pypi.org/simple, https://us-python.pkg.dev/colab-wheels/public/simple/\n",
            "Collecting aif360\n",
            "  Downloading aif360-0.4.0-py3-none-any.whl (175 kB)\n",
            "\u001b[K     |████████████████████████████████| 175 kB 5.0 MB/s \n",
            "\u001b[?25hCollecting tempeh\n",
            "  Downloading tempeh-0.1.12-py3-none-any.whl (39 kB)\n",
            "Requirement already satisfied: matplotlib in /usr/local/lib/python3.7/dist-packages (from aif360) (3.2.2)\n",
            "Requirement already satisfied: numpy>=1.16 in /usr/local/lib/python3.7/dist-packages (from aif360) (1.21.6)\n",
            "Requirement already satisfied: scikit-learn>=0.22.1 in /usr/local/lib/python3.7/dist-packages (from aif360) (1.0.2)\n",
            "Collecting scipy<1.6.0,>=1.2.0\n",
            "  Downloading scipy-1.5.4-cp37-cp37m-manylinux1_x86_64.whl (25.9 MB)\n",
            "\u001b[K     |████████████████████████████████| 25.9 MB 1.5 MB/s \n",
            "\u001b[?25hRequirement already satisfied: pandas>=0.24.0 in /usr/local/lib/python3.7/dist-packages (from aif360) (1.3.5)\n",
            "Requirement already satisfied: pytz>=2017.3 in /usr/local/lib/python3.7/dist-packages (from pandas>=0.24.0->aif360) (2022.1)\n",
            "Requirement already satisfied: python-dateutil>=2.7.3 in /usr/local/lib/python3.7/dist-packages (from pandas>=0.24.0->aif360) (2.8.2)\n",
            "Requirement already satisfied: six>=1.5 in /usr/local/lib/python3.7/dist-packages (from python-dateutil>=2.7.3->pandas>=0.24.0->aif360) (1.15.0)\n",
            "Requirement already satisfied: threadpoolctl>=2.0.0 in /usr/local/lib/python3.7/dist-packages (from scikit-learn>=0.22.1->aif360) (3.1.0)\n",
            "Requirement already satisfied: joblib>=0.11 in /usr/local/lib/python3.7/dist-packages (from scikit-learn>=0.22.1->aif360) (1.1.0)\n",
            "Requirement already satisfied: kiwisolver>=1.0.1 in /usr/local/lib/python3.7/dist-packages (from matplotlib->aif360) (1.4.4)\n",
            "Requirement already satisfied: pyparsing!=2.0.4,!=2.1.2,!=2.1.6,>=2.0.1 in /usr/local/lib/python3.7/dist-packages (from matplotlib->aif360) (3.0.9)\n",
            "Requirement already satisfied: cycler>=0.10 in /usr/local/lib/python3.7/dist-packages (from matplotlib->aif360) (0.11.0)\n",
            "Requirement already satisfied: typing-extensions in /usr/local/lib/python3.7/dist-packages (from kiwisolver>=1.0.1->matplotlib->aif360) (4.1.1)\n",
            "Collecting memory-profiler\n",
            "  Downloading memory_profiler-0.60.0.tar.gz (38 kB)\n",
            "Requirement already satisfied: requests in /usr/local/lib/python3.7/dist-packages (from tempeh->aif360) (2.23.0)\n",
            "Requirement already satisfied: pytest in /usr/local/lib/python3.7/dist-packages (from tempeh->aif360) (3.6.4)\n",
            "Collecting shap\n",
            "  Downloading shap-0.41.0-cp37-cp37m-manylinux_2_12_x86_64.manylinux2010_x86_64.whl (569 kB)\n",
            "\u001b[K     |████████████████████████████████| 569 kB 66.6 MB/s \n",
            "\u001b[?25hRequirement already satisfied: psutil in /usr/local/lib/python3.7/dist-packages (from memory-profiler->tempeh->aif360) (5.4.8)\n",
            "Requirement already satisfied: setuptools in /usr/local/lib/python3.7/dist-packages (from pytest->tempeh->aif360) (57.4.0)\n",
            "Requirement already satisfied: atomicwrites>=1.0 in /usr/local/lib/python3.7/dist-packages (from pytest->tempeh->aif360) (1.4.1)\n",
            "Requirement already satisfied: py>=1.5.0 in /usr/local/lib/python3.7/dist-packages (from pytest->tempeh->aif360) (1.11.0)\n",
            "Requirement already satisfied: attrs>=17.4.0 in /usr/local/lib/python3.7/dist-packages (from pytest->tempeh->aif360) (22.1.0)\n",
            "Requirement already satisfied: more-itertools>=4.0.0 in /usr/local/lib/python3.7/dist-packages (from pytest->tempeh->aif360) (8.13.0)\n",
            "Requirement already satisfied: pluggy<0.8,>=0.5 in /usr/local/lib/python3.7/dist-packages (from pytest->tempeh->aif360) (0.7.1)\n",
            "Requirement already satisfied: idna<3,>=2.5 in /usr/local/lib/python3.7/dist-packages (from requests->tempeh->aif360) (2.10)\n",
            "Requirement already satisfied: chardet<4,>=3.0.2 in /usr/local/lib/python3.7/dist-packages (from requests->tempeh->aif360) (3.0.4)\n",
            "Requirement already satisfied: certifi>=2017.4.17 in /usr/local/lib/python3.7/dist-packages (from requests->tempeh->aif360) (2022.6.15)\n",
            "Requirement already satisfied: urllib3!=1.25.0,!=1.25.1,<1.26,>=1.21.1 in /usr/local/lib/python3.7/dist-packages (from requests->tempeh->aif360) (1.24.3)\n",
            "Requirement already satisfied: packaging>20.9 in /usr/local/lib/python3.7/dist-packages (from shap->tempeh->aif360) (21.3)\n",
            "Requirement already satisfied: cloudpickle in /usr/local/lib/python3.7/dist-packages (from shap->tempeh->aif360) (1.3.0)\n",
            "Requirement already satisfied: numba in /usr/local/lib/python3.7/dist-packages (from shap->tempeh->aif360) (0.56.0)\n",
            "Requirement already satisfied: tqdm>4.25.0 in /usr/local/lib/python3.7/dist-packages (from shap->tempeh->aif360) (4.64.0)\n",
            "Collecting slicer==0.0.7\n",
            "  Downloading slicer-0.0.7-py3-none-any.whl (14 kB)\n",
            "Requirement already satisfied: importlib-metadata in /usr/local/lib/python3.7/dist-packages (from numba->shap->tempeh->aif360) (4.12.0)\n",
            "Requirement already satisfied: llvmlite<0.40,>=0.39.0dev0 in /usr/local/lib/python3.7/dist-packages (from numba->shap->tempeh->aif360) (0.39.0)\n",
            "Requirement already satisfied: zipp>=0.5 in /usr/local/lib/python3.7/dist-packages (from importlib-metadata->numba->shap->tempeh->aif360) (3.8.1)\n",
            "Building wheels for collected packages: memory-profiler\n",
            "  Building wheel for memory-profiler (setup.py) ... \u001b[?25l\u001b[?25hdone\n",
            "  Created wheel for memory-profiler: filename=memory_profiler-0.60.0-py3-none-any.whl size=31284 sha256=2563c0cff4d6dfe81a540c5f800390760630347d19f8ee45e63c749e6e9db711\n",
            "  Stored in directory: /root/.cache/pip/wheels/67/2b/fb/326e30d638c538e69a5eb0aa47f4223d979f502bbdb403950f\n",
            "Successfully built memory-profiler\n",
            "Installing collected packages: scipy, slicer, shap, memory-profiler, tempeh, aif360\n",
            "  Attempting uninstall: scipy\n",
            "    Found existing installation: scipy 1.7.3\n",
            "    Uninstalling scipy-1.7.3:\n",
            "      Successfully uninstalled scipy-1.7.3\n",
            "\u001b[31mERROR: pip's dependency resolver does not currently take into account all the packages that are installed. This behaviour is the source of the following dependency conflicts.\n",
            "pymc3 3.11.5 requires scipy<1.8.0,>=1.7.3, but you have scipy 1.5.4 which is incompatible.\u001b[0m\n",
            "Successfully installed aif360-0.4.0 memory-profiler-0.60.0 scipy-1.5.4 shap-0.41.0 slicer-0.0.7 tempeh-0.1.12\n",
            "Looking in indexes: https://pypi.org/simple, https://us-python.pkg.dev/colab-wheels/public/simple/\n",
            "Collecting fairlearn\n",
            "  Downloading fairlearn-0.7.0-py3-none-any.whl (177 kB)\n",
            "\u001b[K     |████████████████████████████████| 177 kB 5.2 MB/s \n",
            "\u001b[?25hRequirement already satisfied: scipy>=1.4.1 in /usr/local/lib/python3.7/dist-packages (from fairlearn) (1.5.4)\n",
            "Requirement already satisfied: numpy>=1.17.2 in /usr/local/lib/python3.7/dist-packages (from fairlearn) (1.21.6)\n",
            "Requirement already satisfied: pandas>=0.25.1 in /usr/local/lib/python3.7/dist-packages (from fairlearn) (1.3.5)\n",
            "Requirement already satisfied: scikit-learn>=0.22.1 in /usr/local/lib/python3.7/dist-packages (from fairlearn) (1.0.2)\n",
            "Requirement already satisfied: python-dateutil>=2.7.3 in /usr/local/lib/python3.7/dist-packages (from pandas>=0.25.1->fairlearn) (2.8.2)\n",
            "Requirement already satisfied: pytz>=2017.3 in /usr/local/lib/python3.7/dist-packages (from pandas>=0.25.1->fairlearn) (2022.1)\n",
            "Requirement already satisfied: six>=1.5 in /usr/local/lib/python3.7/dist-packages (from python-dateutil>=2.7.3->pandas>=0.25.1->fairlearn) (1.15.0)\n",
            "Requirement already satisfied: joblib>=0.11 in /usr/local/lib/python3.7/dist-packages (from scikit-learn>=0.22.1->fairlearn) (1.1.0)\n",
            "Requirement already satisfied: threadpoolctl>=2.0.0 in /usr/local/lib/python3.7/dist-packages (from scikit-learn>=0.22.1->fairlearn) (3.1.0)\n",
            "Installing collected packages: fairlearn\n",
            "Successfully installed fairlearn-0.7.0\n",
            "Looking in indexes: https://pypi.org/simple, https://us-python.pkg.dev/colab-wheels/public/simple/\n",
            "Collecting BlackBoxAuditing\n",
            "  Downloading BlackBoxAuditing-0.1.54.tar.gz (2.6 MB)\n",
            "\u001b[K     |████████████████████████████████| 2.6 MB 5.1 MB/s \n",
            "\u001b[?25hRequirement already satisfied: networkx in /usr/local/lib/python3.7/dist-packages (from BlackBoxAuditing) (2.6.3)\n",
            "Requirement already satisfied: matplotlib in /usr/local/lib/python3.7/dist-packages (from BlackBoxAuditing) (3.2.2)\n",
            "Requirement already satisfied: pandas in /usr/local/lib/python3.7/dist-packages (from BlackBoxAuditing) (1.3.5)\n",
            "Requirement already satisfied: numpy in /usr/local/lib/python3.7/dist-packages (from BlackBoxAuditing) (1.21.6)\n",
            "Requirement already satisfied: pyparsing!=2.0.4,!=2.1.2,!=2.1.6,>=2.0.1 in /usr/local/lib/python3.7/dist-packages (from matplotlib->BlackBoxAuditing) (3.0.9)\n",
            "Requirement already satisfied: python-dateutil>=2.1 in /usr/local/lib/python3.7/dist-packages (from matplotlib->BlackBoxAuditing) (2.8.2)\n",
            "Requirement already satisfied: kiwisolver>=1.0.1 in /usr/local/lib/python3.7/dist-packages (from matplotlib->BlackBoxAuditing) (1.4.4)\n",
            "Requirement already satisfied: cycler>=0.10 in /usr/local/lib/python3.7/dist-packages (from matplotlib->BlackBoxAuditing) (0.11.0)\n",
            "Requirement already satisfied: typing-extensions in /usr/local/lib/python3.7/dist-packages (from kiwisolver>=1.0.1->matplotlib->BlackBoxAuditing) (4.1.1)\n",
            "Requirement already satisfied: six>=1.5 in /usr/local/lib/python3.7/dist-packages (from python-dateutil>=2.1->matplotlib->BlackBoxAuditing) (1.15.0)\n",
            "Requirement already satisfied: pytz>=2017.3 in /usr/local/lib/python3.7/dist-packages (from pandas->BlackBoxAuditing) (2022.1)\n",
            "Building wheels for collected packages: BlackBoxAuditing\n",
            "  Building wheel for BlackBoxAuditing (setup.py) ... \u001b[?25l\u001b[?25hdone\n",
            "  Created wheel for BlackBoxAuditing: filename=BlackBoxAuditing-0.1.54-py2.py3-none-any.whl size=1394770 sha256=972407aa32950f0b432c036a3f4150fc590743eca197c302a38ec70f9ed480d6\n",
            "  Stored in directory: /root/.cache/pip/wheels/05/9f/ee/541a74be4cf5dad17430e64d3276370ea7b6a834a76cb4215a\n",
            "Successfully built BlackBoxAuditing\n",
            "Installing collected packages: BlackBoxAuditing\n",
            "Successfully installed BlackBoxAuditing-0.1.54\n"
          ]
        }
      ]
    },
    {
      "cell_type": "markdown",
      "id": "215008ca",
      "metadata": {
        "id": "215008ca"
      },
      "source": [
        "## Sample notebook for seminar project ML for SSP\n",
        "\n",
        "Pay attention to name of variables in PATH"
      ]
    },
    {
      "cell_type": "code",
      "execution_count": 52,
      "id": "8cbc3fb3",
      "metadata": {
        "scrolled": true,
        "id": "8cbc3fb3"
      },
      "outputs": [],
      "source": [
        "%matplotlib inline\n",
        "import matplotlib.pyplot as plt\n",
        "import numpy as np\n",
        "import pandas as pd\n",
        "from IPython.display import Markdown, display\n",
        "\n",
        "# Scalers\n",
        "from sklearn.preprocessing import StandardScaler\n",
        "from sklearn.preprocessing import MinMaxScaler\n",
        "\n",
        "# Classifiers\n",
        "from sklearn.ensemble import RandomForestClassifier\n",
        "from sklearn.linear_model import LogisticRegression\n",
        "from sklearn.neighbors import KNeighborsClassifier\n",
        "from sklearn.svm import SVC\n",
        "from sklearn.pipeline import Pipeline\n",
        "\n",
        "# Metrics\n",
        "import sklearn.metrics as skm\n",
        "\n",
        "# Cross validation\n",
        "from sklearn.model_selection import cross_val_predict\n",
        "from sklearn.model_selection import KFold\n",
        "\n",
        "np.random.seed(123)"
      ]
    },
    {
      "cell_type": "markdown",
      "id": "3527eed7",
      "metadata": {
        "id": "3527eed7"
      },
      "source": [
        "You will probably need to install aif360 package, so refer to this link: https://github.com/Trusted-AI/AIF360\n",
        "\n",
        "Or this: https://jakevdp.github.io/blog/2017/12/05/installing-python-packages-from-jupyter/\n",
        "\n",
        "Use this: https://anaconda.org/conda-forge/aif360 or https://github.com/conda-forge/aif360-feedstock if previous doesn't work\n",
        "\n",
        "\n",
        "UPD: it worked using only `pip`\n",
        "\n",
        "UPD: you will probably need to install fairlearn package `pip install fairlearn`"
      ]
    },
    {
      "cell_type": "markdown",
      "id": "5f2b963c",
      "metadata": {
        "id": "5f2b963c"
      },
      "source": [
        "  "
      ]
    },
    {
      "cell_type": "code",
      "execution_count": 53,
      "id": "5030f384",
      "metadata": {
        "scrolled": true,
        "id": "5030f384"
      },
      "outputs": [],
      "source": [
        "# Datapathes\n",
        "\n",
        "TRAIN_DATAPATH = '/content/functionals_train_all.csv'\n",
        "TEST_DATAPATH = '/content/functionals_test_all.csv'"
      ]
    },
    {
      "cell_type": "code",
      "execution_count": 54,
      "id": "9d674678",
      "metadata": {
        "scrolled": true,
        "id": "9d674678"
      },
      "outputs": [],
      "source": [
        "# reading data\n",
        "\n",
        "train = pd.read_csv(TRAIN_DATAPATH)\n",
        "test = pd.read_csv(TEST_DATAPATH)"
      ]
    },
    {
      "cell_type": "code",
      "execution_count": 55,
      "id": "4d48bfac",
      "metadata": {
        "scrolled": true,
        "colab": {
          "base_uri": "https://localhost:8080/",
          "height": 317
        },
        "id": "4d48bfac",
        "outputId": "0735f729-e9db-4301-cad5-ddb1ac68a207"
      },
      "outputs": [
        {
          "output_type": "execute_result",
          "data": {
            "text/plain": [
              "   Unnamed: 0    id  age  gender mmse  diagnosis  \\\n",
              "0           0  S001   74    male   NA          0   \n",
              "1           1  S002   62  female   30          0   \n",
              "2           2  S003   69  female   29          0   \n",
              "3           3  S004   71  female   30          0   \n",
              "4           4  S005   74  female   30          0   \n",
              "\n",
              "   F0semitoneFrom27.5Hz_sma3nz_amean  F0semitoneFrom27.5Hz_sma3nz_stddevNorm  \\\n",
              "0                          26.158813                                0.256494   \n",
              "1                          35.038100                                0.222455   \n",
              "2                          33.408146                                0.167676   \n",
              "3                          31.709782                                0.220399   \n",
              "4                          33.117634                                0.210555   \n",
              "\n",
              "   F0semitoneFrom27.5Hz_sma3nz_percentile20.0  \\\n",
              "0                                   23.504830   \n",
              "1                                   32.094150   \n",
              "2                                   30.763927   \n",
              "3                                   29.273027   \n",
              "4                                   29.349773   \n",
              "\n",
              "   F0semitoneFrom27.5Hz_sma3nz_percentile50.0  ...  slopeUV0-500_sma3nz_amean  \\\n",
              "0                                   25.390327  ...                   0.033982   \n",
              "1                                   33.338820  ...                   0.029004   \n",
              "2                                   33.175510  ...                   0.027397   \n",
              "3                                   31.521568  ...                   0.027672   \n",
              "4                                   31.528109  ...                   0.021428   \n",
              "\n",
              "   slopeUV500-1500_sma3nz_amean  spectralFluxUV_sma3nz_amean  \\\n",
              "0                     -0.007878                     0.025659   \n",
              "1                     -0.006766                     0.018389   \n",
              "2                     -0.006148                     0.020994   \n",
              "3                     -0.003709                     0.038795   \n",
              "4                     -0.001211                     0.005301   \n",
              "\n",
              "   loudnessPeaksPerSec  VoicedSegmentsPerSec  MeanVoicedSegmentLengthSec  \\\n",
              "0             2.082161              1.610542                    0.398252   \n",
              "1             0.105116              0.666316                    0.105000   \n",
              "2             2.314480              1.375416                    0.455579   \n",
              "3             2.695713              1.712295                    0.367209   \n",
              "4             0.405904              1.046154                    0.105647   \n",
              "\n",
              "   StddevVoicedSegmentLengthSec  MeanUnvoicedSegmentLength  \\\n",
              "0                      0.395510                   0.250614   \n",
              "1                      0.070366                   1.412162   \n",
              "2                      0.408640                   0.291481   \n",
              "3                      0.345697                   0.235282   \n",
              "4                      0.085536                   0.800909   \n",
              "\n",
              "   StddevUnvoicedSegmentLength  equivalentSoundLevel_dBp  \n",
              "0                     0.467176                -29.529222  \n",
              "1                     1.798986                -43.936977  \n",
              "2                     0.738442                -25.290459  \n",
              "3                     0.462315                -27.811728  \n",
              "4                     1.251056                -49.826008  \n",
              "\n",
              "[5 rows x 94 columns]"
            ],
            "text/html": [
              "\n",
              "  <div id=\"df-e5e50e14-02c9-4259-b7f2-b710ec3e4e47\">\n",
              "    <div class=\"colab-df-container\">\n",
              "      <div>\n",
              "<style scoped>\n",
              "    .dataframe tbody tr th:only-of-type {\n",
              "        vertical-align: middle;\n",
              "    }\n",
              "\n",
              "    .dataframe tbody tr th {\n",
              "        vertical-align: top;\n",
              "    }\n",
              "\n",
              "    .dataframe thead th {\n",
              "        text-align: right;\n",
              "    }\n",
              "</style>\n",
              "<table border=\"1\" class=\"dataframe\">\n",
              "  <thead>\n",
              "    <tr style=\"text-align: right;\">\n",
              "      <th></th>\n",
              "      <th>Unnamed: 0</th>\n",
              "      <th>id</th>\n",
              "      <th>age</th>\n",
              "      <th>gender</th>\n",
              "      <th>mmse</th>\n",
              "      <th>diagnosis</th>\n",
              "      <th>F0semitoneFrom27.5Hz_sma3nz_amean</th>\n",
              "      <th>F0semitoneFrom27.5Hz_sma3nz_stddevNorm</th>\n",
              "      <th>F0semitoneFrom27.5Hz_sma3nz_percentile20.0</th>\n",
              "      <th>F0semitoneFrom27.5Hz_sma3nz_percentile50.0</th>\n",
              "      <th>...</th>\n",
              "      <th>slopeUV0-500_sma3nz_amean</th>\n",
              "      <th>slopeUV500-1500_sma3nz_amean</th>\n",
              "      <th>spectralFluxUV_sma3nz_amean</th>\n",
              "      <th>loudnessPeaksPerSec</th>\n",
              "      <th>VoicedSegmentsPerSec</th>\n",
              "      <th>MeanVoicedSegmentLengthSec</th>\n",
              "      <th>StddevVoicedSegmentLengthSec</th>\n",
              "      <th>MeanUnvoicedSegmentLength</th>\n",
              "      <th>StddevUnvoicedSegmentLength</th>\n",
              "      <th>equivalentSoundLevel_dBp</th>\n",
              "    </tr>\n",
              "  </thead>\n",
              "  <tbody>\n",
              "    <tr>\n",
              "      <th>0</th>\n",
              "      <td>0</td>\n",
              "      <td>S001</td>\n",
              "      <td>74</td>\n",
              "      <td>male</td>\n",
              "      <td>NA</td>\n",
              "      <td>0</td>\n",
              "      <td>26.158813</td>\n",
              "      <td>0.256494</td>\n",
              "      <td>23.504830</td>\n",
              "      <td>25.390327</td>\n",
              "      <td>...</td>\n",
              "      <td>0.033982</td>\n",
              "      <td>-0.007878</td>\n",
              "      <td>0.025659</td>\n",
              "      <td>2.082161</td>\n",
              "      <td>1.610542</td>\n",
              "      <td>0.398252</td>\n",
              "      <td>0.395510</td>\n",
              "      <td>0.250614</td>\n",
              "      <td>0.467176</td>\n",
              "      <td>-29.529222</td>\n",
              "    </tr>\n",
              "    <tr>\n",
              "      <th>1</th>\n",
              "      <td>1</td>\n",
              "      <td>S002</td>\n",
              "      <td>62</td>\n",
              "      <td>female</td>\n",
              "      <td>30</td>\n",
              "      <td>0</td>\n",
              "      <td>35.038100</td>\n",
              "      <td>0.222455</td>\n",
              "      <td>32.094150</td>\n",
              "      <td>33.338820</td>\n",
              "      <td>...</td>\n",
              "      <td>0.029004</td>\n",
              "      <td>-0.006766</td>\n",
              "      <td>0.018389</td>\n",
              "      <td>0.105116</td>\n",
              "      <td>0.666316</td>\n",
              "      <td>0.105000</td>\n",
              "      <td>0.070366</td>\n",
              "      <td>1.412162</td>\n",
              "      <td>1.798986</td>\n",
              "      <td>-43.936977</td>\n",
              "    </tr>\n",
              "    <tr>\n",
              "      <th>2</th>\n",
              "      <td>2</td>\n",
              "      <td>S003</td>\n",
              "      <td>69</td>\n",
              "      <td>female</td>\n",
              "      <td>29</td>\n",
              "      <td>0</td>\n",
              "      <td>33.408146</td>\n",
              "      <td>0.167676</td>\n",
              "      <td>30.763927</td>\n",
              "      <td>33.175510</td>\n",
              "      <td>...</td>\n",
              "      <td>0.027397</td>\n",
              "      <td>-0.006148</td>\n",
              "      <td>0.020994</td>\n",
              "      <td>2.314480</td>\n",
              "      <td>1.375416</td>\n",
              "      <td>0.455579</td>\n",
              "      <td>0.408640</td>\n",
              "      <td>0.291481</td>\n",
              "      <td>0.738442</td>\n",
              "      <td>-25.290459</td>\n",
              "    </tr>\n",
              "    <tr>\n",
              "      <th>3</th>\n",
              "      <td>3</td>\n",
              "      <td>S004</td>\n",
              "      <td>71</td>\n",
              "      <td>female</td>\n",
              "      <td>30</td>\n",
              "      <td>0</td>\n",
              "      <td>31.709782</td>\n",
              "      <td>0.220399</td>\n",
              "      <td>29.273027</td>\n",
              "      <td>31.521568</td>\n",
              "      <td>...</td>\n",
              "      <td>0.027672</td>\n",
              "      <td>-0.003709</td>\n",
              "      <td>0.038795</td>\n",
              "      <td>2.695713</td>\n",
              "      <td>1.712295</td>\n",
              "      <td>0.367209</td>\n",
              "      <td>0.345697</td>\n",
              "      <td>0.235282</td>\n",
              "      <td>0.462315</td>\n",
              "      <td>-27.811728</td>\n",
              "    </tr>\n",
              "    <tr>\n",
              "      <th>4</th>\n",
              "      <td>4</td>\n",
              "      <td>S005</td>\n",
              "      <td>74</td>\n",
              "      <td>female</td>\n",
              "      <td>30</td>\n",
              "      <td>0</td>\n",
              "      <td>33.117634</td>\n",
              "      <td>0.210555</td>\n",
              "      <td>29.349773</td>\n",
              "      <td>31.528109</td>\n",
              "      <td>...</td>\n",
              "      <td>0.021428</td>\n",
              "      <td>-0.001211</td>\n",
              "      <td>0.005301</td>\n",
              "      <td>0.405904</td>\n",
              "      <td>1.046154</td>\n",
              "      <td>0.105647</td>\n",
              "      <td>0.085536</td>\n",
              "      <td>0.800909</td>\n",
              "      <td>1.251056</td>\n",
              "      <td>-49.826008</td>\n",
              "    </tr>\n",
              "  </tbody>\n",
              "</table>\n",
              "<p>5 rows × 94 columns</p>\n",
              "</div>\n",
              "      <button class=\"colab-df-convert\" onclick=\"convertToInteractive('df-e5e50e14-02c9-4259-b7f2-b710ec3e4e47')\"\n",
              "              title=\"Convert this dataframe to an interactive table.\"\n",
              "              style=\"display:none;\">\n",
              "        \n",
              "  <svg xmlns=\"http://www.w3.org/2000/svg\" height=\"24px\"viewBox=\"0 0 24 24\"\n",
              "       width=\"24px\">\n",
              "    <path d=\"M0 0h24v24H0V0z\" fill=\"none\"/>\n",
              "    <path d=\"M18.56 5.44l.94 2.06.94-2.06 2.06-.94-2.06-.94-.94-2.06-.94 2.06-2.06.94zm-11 1L8.5 8.5l.94-2.06 2.06-.94-2.06-.94L8.5 2.5l-.94 2.06-2.06.94zm10 10l.94 2.06.94-2.06 2.06-.94-2.06-.94-.94-2.06-.94 2.06-2.06.94z\"/><path d=\"M17.41 7.96l-1.37-1.37c-.4-.4-.92-.59-1.43-.59-.52 0-1.04.2-1.43.59L10.3 9.45l-7.72 7.72c-.78.78-.78 2.05 0 2.83L4 21.41c.39.39.9.59 1.41.59.51 0 1.02-.2 1.41-.59l7.78-7.78 2.81-2.81c.8-.78.8-2.07 0-2.86zM5.41 20L4 18.59l7.72-7.72 1.47 1.35L5.41 20z\"/>\n",
              "  </svg>\n",
              "      </button>\n",
              "      \n",
              "  <style>\n",
              "    .colab-df-container {\n",
              "      display:flex;\n",
              "      flex-wrap:wrap;\n",
              "      gap: 12px;\n",
              "    }\n",
              "\n",
              "    .colab-df-convert {\n",
              "      background-color: #E8F0FE;\n",
              "      border: none;\n",
              "      border-radius: 50%;\n",
              "      cursor: pointer;\n",
              "      display: none;\n",
              "      fill: #1967D2;\n",
              "      height: 32px;\n",
              "      padding: 0 0 0 0;\n",
              "      width: 32px;\n",
              "    }\n",
              "\n",
              "    .colab-df-convert:hover {\n",
              "      background-color: #E2EBFA;\n",
              "      box-shadow: 0px 1px 2px rgba(60, 64, 67, 0.3), 0px 1px 3px 1px rgba(60, 64, 67, 0.15);\n",
              "      fill: #174EA6;\n",
              "    }\n",
              "\n",
              "    [theme=dark] .colab-df-convert {\n",
              "      background-color: #3B4455;\n",
              "      fill: #D2E3FC;\n",
              "    }\n",
              "\n",
              "    [theme=dark] .colab-df-convert:hover {\n",
              "      background-color: #434B5C;\n",
              "      box-shadow: 0px 1px 3px 1px rgba(0, 0, 0, 0.15);\n",
              "      filter: drop-shadow(0px 1px 2px rgba(0, 0, 0, 0.3));\n",
              "      fill: #FFFFFF;\n",
              "    }\n",
              "  </style>\n",
              "\n",
              "      <script>\n",
              "        const buttonEl =\n",
              "          document.querySelector('#df-e5e50e14-02c9-4259-b7f2-b710ec3e4e47 button.colab-df-convert');\n",
              "        buttonEl.style.display =\n",
              "          google.colab.kernel.accessAllowed ? 'block' : 'none';\n",
              "\n",
              "        async function convertToInteractive(key) {\n",
              "          const element = document.querySelector('#df-e5e50e14-02c9-4259-b7f2-b710ec3e4e47');\n",
              "          const dataTable =\n",
              "            await google.colab.kernel.invokeFunction('convertToInteractive',\n",
              "                                                     [key], {});\n",
              "          if (!dataTable) return;\n",
              "\n",
              "          const docLinkHtml = 'Like what you see? Visit the ' +\n",
              "            '<a target=\"_blank\" href=https://colab.research.google.com/notebooks/data_table.ipynb>data table notebook</a>'\n",
              "            + ' to learn more about interactive tables.';\n",
              "          element.innerHTML = '';\n",
              "          dataTable['output_type'] = 'display_data';\n",
              "          await google.colab.output.renderOutput(dataTable, element);\n",
              "          const docLink = document.createElement('div');\n",
              "          docLink.innerHTML = docLinkHtml;\n",
              "          element.appendChild(docLink);\n",
              "        }\n",
              "      </script>\n",
              "    </div>\n",
              "  </div>\n",
              "  "
            ]
          },
          "metadata": {},
          "execution_count": 55
        }
      ],
      "source": [
        "train.head()"
      ]
    },
    {
      "cell_type": "code",
      "execution_count": 56,
      "id": "e4937c81",
      "metadata": {
        "scrolled": true,
        "colab": {
          "base_uri": "https://localhost:8080/",
          "height": 317
        },
        "id": "e4937c81",
        "outputId": "02159428-b22d-4a2b-c403-ffc9986d3674"
      },
      "outputs": [
        {
          "output_type": "execute_result",
          "data": {
            "text/plain": [
              "   Unnamed: 0  F0semitoneFrom27.5Hz_sma3nz_amean  \\\n",
              "0           0                          31.396942   \n",
              "1           1                          29.956886   \n",
              "2           2                          19.633840   \n",
              "3           3                          28.083347   \n",
              "4           4                          34.369990   \n",
              "\n",
              "   F0semitoneFrom27.5Hz_sma3nz_stddevNorm  \\\n",
              "0                                0.154061   \n",
              "1                                0.118317   \n",
              "2                                0.402905   \n",
              "3                                0.266278   \n",
              "4                                0.078030   \n",
              "\n",
              "   F0semitoneFrom27.5Hz_sma3nz_percentile20.0  \\\n",
              "0                                   30.213425   \n",
              "1                                   28.500713   \n",
              "2                                   13.825209   \n",
              "3                                   24.390467   \n",
              "4                                   33.367874   \n",
              "\n",
              "   F0semitoneFrom27.5Hz_sma3nz_percentile50.0  \\\n",
              "0                                   31.718218   \n",
              "1                                   29.874610   \n",
              "2                                   14.831374   \n",
              "3                                   26.107916   \n",
              "4                                   34.617860   \n",
              "\n",
              "   F0semitoneFrom27.5Hz_sma3nz_percentile80.0  \\\n",
              "0                                   33.796870   \n",
              "1                                   31.048702   \n",
              "2                                   31.307632   \n",
              "3                                   29.036630   \n",
              "4                                   35.442660   \n",
              "\n",
              "   F0semitoneFrom27.5Hz_sma3nz_pctlrange0-2  \\\n",
              "0                                  3.583446   \n",
              "1                                  2.547989   \n",
              "2                                 17.482424   \n",
              "3                                  4.646164   \n",
              "4                                  2.074787   \n",
              "\n",
              "   F0semitoneFrom27.5Hz_sma3nz_meanRisingSlope  \\\n",
              "0                                    177.98373   \n",
              "1                                    163.17845   \n",
              "2                                    209.11266   \n",
              "3                                    416.17200   \n",
              "4                                     58.16399   \n",
              "\n",
              "   F0semitoneFrom27.5Hz_sma3nz_stddevRisingSlope  \\\n",
              "0                                     132.606320   \n",
              "1                                     170.156390   \n",
              "2                                     314.103150   \n",
              "3                                     769.896240   \n",
              "4                                      31.168308   \n",
              "\n",
              "   F0semitoneFrom27.5Hz_sma3nz_meanFallingSlope  ...  \\\n",
              "0                                     216.58685  ...   \n",
              "1                                     146.55635  ...   \n",
              "2                                      78.85801  ...   \n",
              "3                                     225.06831  ...   \n",
              "4                                     367.91990  ...   \n",
              "\n",
              "   MeanVoicedSegmentLengthSec  StddevVoicedSegmentLengthSec  \\\n",
              "0                    0.344048                      0.342380   \n",
              "1                    0.140119                      0.154052   \n",
              "2                    1.483673                      1.388053   \n",
              "3                    0.368082                      0.375981   \n",
              "4                    0.074000                      0.034409   \n",
              "\n",
              "   MeanUnvoicedSegmentLength  StddevUnvoicedSegmentLength  \\\n",
              "0                   0.302286                     0.547483   \n",
              "1                   0.724940                     1.355301   \n",
              "2                   0.055946                     0.046988   \n",
              "3                   0.151600                     0.184023   \n",
              "4                   5.053333                     6.706737   \n",
              "\n",
              "   equivalentSoundLevel_dBp     id  age  gender  diagnosis  mmse  \n",
              "0                -22.975720  S160    63       1          0    28  \n",
              "1                -57.484940  S161    55       1          0    29  \n",
              "2                -25.289870  S162    67       1          1    24  \n",
              "3                -29.287306  S163    71       0          0    30  \n",
              "4                -66.156525  S164    73       1          1    21  \n",
              "\n",
              "[5 rows x 94 columns]"
            ],
            "text/html": [
              "\n",
              "  <div id=\"df-0b0ff7bd-1cb9-4978-9a33-be7706cb161a\">\n",
              "    <div class=\"colab-df-container\">\n",
              "      <div>\n",
              "<style scoped>\n",
              "    .dataframe tbody tr th:only-of-type {\n",
              "        vertical-align: middle;\n",
              "    }\n",
              "\n",
              "    .dataframe tbody tr th {\n",
              "        vertical-align: top;\n",
              "    }\n",
              "\n",
              "    .dataframe thead th {\n",
              "        text-align: right;\n",
              "    }\n",
              "</style>\n",
              "<table border=\"1\" class=\"dataframe\">\n",
              "  <thead>\n",
              "    <tr style=\"text-align: right;\">\n",
              "      <th></th>\n",
              "      <th>Unnamed: 0</th>\n",
              "      <th>F0semitoneFrom27.5Hz_sma3nz_amean</th>\n",
              "      <th>F0semitoneFrom27.5Hz_sma3nz_stddevNorm</th>\n",
              "      <th>F0semitoneFrom27.5Hz_sma3nz_percentile20.0</th>\n",
              "      <th>F0semitoneFrom27.5Hz_sma3nz_percentile50.0</th>\n",
              "      <th>F0semitoneFrom27.5Hz_sma3nz_percentile80.0</th>\n",
              "      <th>F0semitoneFrom27.5Hz_sma3nz_pctlrange0-2</th>\n",
              "      <th>F0semitoneFrom27.5Hz_sma3nz_meanRisingSlope</th>\n",
              "      <th>F0semitoneFrom27.5Hz_sma3nz_stddevRisingSlope</th>\n",
              "      <th>F0semitoneFrom27.5Hz_sma3nz_meanFallingSlope</th>\n",
              "      <th>...</th>\n",
              "      <th>MeanVoicedSegmentLengthSec</th>\n",
              "      <th>StddevVoicedSegmentLengthSec</th>\n",
              "      <th>MeanUnvoicedSegmentLength</th>\n",
              "      <th>StddevUnvoicedSegmentLength</th>\n",
              "      <th>equivalentSoundLevel_dBp</th>\n",
              "      <th>id</th>\n",
              "      <th>age</th>\n",
              "      <th>gender</th>\n",
              "      <th>diagnosis</th>\n",
              "      <th>mmse</th>\n",
              "    </tr>\n",
              "  </thead>\n",
              "  <tbody>\n",
              "    <tr>\n",
              "      <th>0</th>\n",
              "      <td>0</td>\n",
              "      <td>31.396942</td>\n",
              "      <td>0.154061</td>\n",
              "      <td>30.213425</td>\n",
              "      <td>31.718218</td>\n",
              "      <td>33.796870</td>\n",
              "      <td>3.583446</td>\n",
              "      <td>177.98373</td>\n",
              "      <td>132.606320</td>\n",
              "      <td>216.58685</td>\n",
              "      <td>...</td>\n",
              "      <td>0.344048</td>\n",
              "      <td>0.342380</td>\n",
              "      <td>0.302286</td>\n",
              "      <td>0.547483</td>\n",
              "      <td>-22.975720</td>\n",
              "      <td>S160</td>\n",
              "      <td>63</td>\n",
              "      <td>1</td>\n",
              "      <td>0</td>\n",
              "      <td>28</td>\n",
              "    </tr>\n",
              "    <tr>\n",
              "      <th>1</th>\n",
              "      <td>1</td>\n",
              "      <td>29.956886</td>\n",
              "      <td>0.118317</td>\n",
              "      <td>28.500713</td>\n",
              "      <td>29.874610</td>\n",
              "      <td>31.048702</td>\n",
              "      <td>2.547989</td>\n",
              "      <td>163.17845</td>\n",
              "      <td>170.156390</td>\n",
              "      <td>146.55635</td>\n",
              "      <td>...</td>\n",
              "      <td>0.140119</td>\n",
              "      <td>0.154052</td>\n",
              "      <td>0.724940</td>\n",
              "      <td>1.355301</td>\n",
              "      <td>-57.484940</td>\n",
              "      <td>S161</td>\n",
              "      <td>55</td>\n",
              "      <td>1</td>\n",
              "      <td>0</td>\n",
              "      <td>29</td>\n",
              "    </tr>\n",
              "    <tr>\n",
              "      <th>2</th>\n",
              "      <td>2</td>\n",
              "      <td>19.633840</td>\n",
              "      <td>0.402905</td>\n",
              "      <td>13.825209</td>\n",
              "      <td>14.831374</td>\n",
              "      <td>31.307632</td>\n",
              "      <td>17.482424</td>\n",
              "      <td>209.11266</td>\n",
              "      <td>314.103150</td>\n",
              "      <td>78.85801</td>\n",
              "      <td>...</td>\n",
              "      <td>1.483673</td>\n",
              "      <td>1.388053</td>\n",
              "      <td>0.055946</td>\n",
              "      <td>0.046988</td>\n",
              "      <td>-25.289870</td>\n",
              "      <td>S162</td>\n",
              "      <td>67</td>\n",
              "      <td>1</td>\n",
              "      <td>1</td>\n",
              "      <td>24</td>\n",
              "    </tr>\n",
              "    <tr>\n",
              "      <th>3</th>\n",
              "      <td>3</td>\n",
              "      <td>28.083347</td>\n",
              "      <td>0.266278</td>\n",
              "      <td>24.390467</td>\n",
              "      <td>26.107916</td>\n",
              "      <td>29.036630</td>\n",
              "      <td>4.646164</td>\n",
              "      <td>416.17200</td>\n",
              "      <td>769.896240</td>\n",
              "      <td>225.06831</td>\n",
              "      <td>...</td>\n",
              "      <td>0.368082</td>\n",
              "      <td>0.375981</td>\n",
              "      <td>0.151600</td>\n",
              "      <td>0.184023</td>\n",
              "      <td>-29.287306</td>\n",
              "      <td>S163</td>\n",
              "      <td>71</td>\n",
              "      <td>0</td>\n",
              "      <td>0</td>\n",
              "      <td>30</td>\n",
              "    </tr>\n",
              "    <tr>\n",
              "      <th>4</th>\n",
              "      <td>4</td>\n",
              "      <td>34.369990</td>\n",
              "      <td>0.078030</td>\n",
              "      <td>33.367874</td>\n",
              "      <td>34.617860</td>\n",
              "      <td>35.442660</td>\n",
              "      <td>2.074787</td>\n",
              "      <td>58.16399</td>\n",
              "      <td>31.168308</td>\n",
              "      <td>367.91990</td>\n",
              "      <td>...</td>\n",
              "      <td>0.074000</td>\n",
              "      <td>0.034409</td>\n",
              "      <td>5.053333</td>\n",
              "      <td>6.706737</td>\n",
              "      <td>-66.156525</td>\n",
              "      <td>S164</td>\n",
              "      <td>73</td>\n",
              "      <td>1</td>\n",
              "      <td>1</td>\n",
              "      <td>21</td>\n",
              "    </tr>\n",
              "  </tbody>\n",
              "</table>\n",
              "<p>5 rows × 94 columns</p>\n",
              "</div>\n",
              "      <button class=\"colab-df-convert\" onclick=\"convertToInteractive('df-0b0ff7bd-1cb9-4978-9a33-be7706cb161a')\"\n",
              "              title=\"Convert this dataframe to an interactive table.\"\n",
              "              style=\"display:none;\">\n",
              "        \n",
              "  <svg xmlns=\"http://www.w3.org/2000/svg\" height=\"24px\"viewBox=\"0 0 24 24\"\n",
              "       width=\"24px\">\n",
              "    <path d=\"M0 0h24v24H0V0z\" fill=\"none\"/>\n",
              "    <path d=\"M18.56 5.44l.94 2.06.94-2.06 2.06-.94-2.06-.94-.94-2.06-.94 2.06-2.06.94zm-11 1L8.5 8.5l.94-2.06 2.06-.94-2.06-.94L8.5 2.5l-.94 2.06-2.06.94zm10 10l.94 2.06.94-2.06 2.06-.94-2.06-.94-.94-2.06-.94 2.06-2.06.94z\"/><path d=\"M17.41 7.96l-1.37-1.37c-.4-.4-.92-.59-1.43-.59-.52 0-1.04.2-1.43.59L10.3 9.45l-7.72 7.72c-.78.78-.78 2.05 0 2.83L4 21.41c.39.39.9.59 1.41.59.51 0 1.02-.2 1.41-.59l7.78-7.78 2.81-2.81c.8-.78.8-2.07 0-2.86zM5.41 20L4 18.59l7.72-7.72 1.47 1.35L5.41 20z\"/>\n",
              "  </svg>\n",
              "      </button>\n",
              "      \n",
              "  <style>\n",
              "    .colab-df-container {\n",
              "      display:flex;\n",
              "      flex-wrap:wrap;\n",
              "      gap: 12px;\n",
              "    }\n",
              "\n",
              "    .colab-df-convert {\n",
              "      background-color: #E8F0FE;\n",
              "      border: none;\n",
              "      border-radius: 50%;\n",
              "      cursor: pointer;\n",
              "      display: none;\n",
              "      fill: #1967D2;\n",
              "      height: 32px;\n",
              "      padding: 0 0 0 0;\n",
              "      width: 32px;\n",
              "    }\n",
              "\n",
              "    .colab-df-convert:hover {\n",
              "      background-color: #E2EBFA;\n",
              "      box-shadow: 0px 1px 2px rgba(60, 64, 67, 0.3), 0px 1px 3px 1px rgba(60, 64, 67, 0.15);\n",
              "      fill: #174EA6;\n",
              "    }\n",
              "\n",
              "    [theme=dark] .colab-df-convert {\n",
              "      background-color: #3B4455;\n",
              "      fill: #D2E3FC;\n",
              "    }\n",
              "\n",
              "    [theme=dark] .colab-df-convert:hover {\n",
              "      background-color: #434B5C;\n",
              "      box-shadow: 0px 1px 3px 1px rgba(0, 0, 0, 0.15);\n",
              "      filter: drop-shadow(0px 1px 2px rgba(0, 0, 0, 0.3));\n",
              "      fill: #FFFFFF;\n",
              "    }\n",
              "  </style>\n",
              "\n",
              "      <script>\n",
              "        const buttonEl =\n",
              "          document.querySelector('#df-0b0ff7bd-1cb9-4978-9a33-be7706cb161a button.colab-df-convert');\n",
              "        buttonEl.style.display =\n",
              "          google.colab.kernel.accessAllowed ? 'block' : 'none';\n",
              "\n",
              "        async function convertToInteractive(key) {\n",
              "          const element = document.querySelector('#df-0b0ff7bd-1cb9-4978-9a33-be7706cb161a');\n",
              "          const dataTable =\n",
              "            await google.colab.kernel.invokeFunction('convertToInteractive',\n",
              "                                                     [key], {});\n",
              "          if (!dataTable) return;\n",
              "\n",
              "          const docLinkHtml = 'Like what you see? Visit the ' +\n",
              "            '<a target=\"_blank\" href=https://colab.research.google.com/notebooks/data_table.ipynb>data table notebook</a>'\n",
              "            + ' to learn more about interactive tables.';\n",
              "          element.innerHTML = '';\n",
              "          dataTable['output_type'] = 'display_data';\n",
              "          await google.colab.output.renderOutput(dataTable, element);\n",
              "          const docLink = document.createElement('div');\n",
              "          docLink.innerHTML = docLinkHtml;\n",
              "          element.appendChild(docLink);\n",
              "        }\n",
              "      </script>\n",
              "    </div>\n",
              "  </div>\n",
              "  "
            ]
          },
          "metadata": {},
          "execution_count": 56
        }
      ],
      "source": [
        "test.head()\n",
        "\n",
        "#comment: 1 - female, 0 - male"
      ]
    },
    {
      "cell_type": "code",
      "execution_count": 57,
      "id": "1463ca21",
      "metadata": {
        "scrolled": true,
        "colab": {
          "base_uri": "https://localhost:8080/"
        },
        "id": "1463ca21",
        "outputId": "733fe819-0ab2-45fa-e4b2-0a8ab407fd42"
      },
      "outputs": [
        {
          "output_type": "stream",
          "name": "stdout",
          "text": [
            "<class 'pandas.core.frame.DataFrame'>\n",
            "RangeIndex: 108 entries, 0 to 107\n",
            "Data columns (total 94 columns):\n",
            " #   Column                                          Non-Null Count  Dtype  \n",
            "---  ------                                          --------------  -----  \n",
            " 0   Unnamed: 0                                      108 non-null    int64  \n",
            " 1   id                                              108 non-null    object \n",
            " 2   age                                             108 non-null    int64  \n",
            " 3   gender                                          108 non-null    object \n",
            " 4   mmse                                            108 non-null    object \n",
            " 5   diagnosis                                       108 non-null    int64  \n",
            " 6   F0semitoneFrom27.5Hz_sma3nz_amean               108 non-null    float64\n",
            " 7   F0semitoneFrom27.5Hz_sma3nz_stddevNorm          108 non-null    float64\n",
            " 8   F0semitoneFrom27.5Hz_sma3nz_percentile20.0      108 non-null    float64\n",
            " 9   F0semitoneFrom27.5Hz_sma3nz_percentile50.0      108 non-null    float64\n",
            " 10  F0semitoneFrom27.5Hz_sma3nz_percentile80.0      108 non-null    float64\n",
            " 11  F0semitoneFrom27.5Hz_sma3nz_pctlrange0-2        108 non-null    float64\n",
            " 12  F0semitoneFrom27.5Hz_sma3nz_meanRisingSlope     108 non-null    float64\n",
            " 13  F0semitoneFrom27.5Hz_sma3nz_stddevRisingSlope   108 non-null    float64\n",
            " 14  F0semitoneFrom27.5Hz_sma3nz_meanFallingSlope    108 non-null    float64\n",
            " 15  F0semitoneFrom27.5Hz_sma3nz_stddevFallingSlope  108 non-null    float64\n",
            " 16  loudness_sma3_amean                             108 non-null    float64\n",
            " 17  loudness_sma3_stddevNorm                        108 non-null    float64\n",
            " 18  loudness_sma3_percentile20.0                    108 non-null    float64\n",
            " 19  loudness_sma3_percentile50.0                    108 non-null    float64\n",
            " 20  loudness_sma3_percentile80.0                    108 non-null    float64\n",
            " 21  loudness_sma3_pctlrange0-2                      108 non-null    float64\n",
            " 22  loudness_sma3_meanRisingSlope                   108 non-null    float64\n",
            " 23  loudness_sma3_stddevRisingSlope                 108 non-null    float64\n",
            " 24  loudness_sma3_meanFallingSlope                  108 non-null    float64\n",
            " 25  loudness_sma3_stddevFallingSlope                108 non-null    float64\n",
            " 26  spectralFlux_sma3_amean                         108 non-null    float64\n",
            " 27  spectralFlux_sma3_stddevNorm                    108 non-null    float64\n",
            " 28  mfcc1_sma3_amean                                108 non-null    float64\n",
            " 29  mfcc1_sma3_stddevNorm                           108 non-null    float64\n",
            " 30  mfcc2_sma3_amean                                108 non-null    float64\n",
            " 31  mfcc2_sma3_stddevNorm                           108 non-null    float64\n",
            " 32  mfcc3_sma3_amean                                108 non-null    float64\n",
            " 33  mfcc3_sma3_stddevNorm                           108 non-null    float64\n",
            " 34  mfcc4_sma3_amean                                108 non-null    float64\n",
            " 35  mfcc4_sma3_stddevNorm                           108 non-null    float64\n",
            " 36  jitterLocal_sma3nz_amean                        108 non-null    float64\n",
            " 37  jitterLocal_sma3nz_stddevNorm                   108 non-null    float64\n",
            " 38  shimmerLocaldB_sma3nz_amean                     108 non-null    float64\n",
            " 39  shimmerLocaldB_sma3nz_stddevNorm                108 non-null    float64\n",
            " 40  HNRdBACF_sma3nz_amean                           108 non-null    float64\n",
            " 41  HNRdBACF_sma3nz_stddevNorm                      108 non-null    float64\n",
            " 42  logRelF0-H1-H2_sma3nz_amean                     108 non-null    float64\n",
            " 43  logRelF0-H1-H2_sma3nz_stddevNorm                108 non-null    float64\n",
            " 44  logRelF0-H1-A3_sma3nz_amean                     108 non-null    float64\n",
            " 45  logRelF0-H1-A3_sma3nz_stddevNorm                108 non-null    float64\n",
            " 46  F1frequency_sma3nz_amean                        108 non-null    float64\n",
            " 47  F1frequency_sma3nz_stddevNorm                   108 non-null    float64\n",
            " 48  F1bandwidth_sma3nz_amean                        108 non-null    float64\n",
            " 49  F1bandwidth_sma3nz_stddevNorm                   108 non-null    float64\n",
            " 50  F1amplitudeLogRelF0_sma3nz_amean                108 non-null    float64\n",
            " 51  F1amplitudeLogRelF0_sma3nz_stddevNorm           108 non-null    float64\n",
            " 52  F2frequency_sma3nz_amean                        108 non-null    float64\n",
            " 53  F2frequency_sma3nz_stddevNorm                   108 non-null    float64\n",
            " 54  F2bandwidth_sma3nz_amean                        108 non-null    float64\n",
            " 55  F2bandwidth_sma3nz_stddevNorm                   108 non-null    float64\n",
            " 56  F2amplitudeLogRelF0_sma3nz_amean                108 non-null    float64\n",
            " 57  F2amplitudeLogRelF0_sma3nz_stddevNorm           108 non-null    float64\n",
            " 58  F3frequency_sma3nz_amean                        108 non-null    float64\n",
            " 59  F3frequency_sma3nz_stddevNorm                   108 non-null    float64\n",
            " 60  F3bandwidth_sma3nz_amean                        108 non-null    float64\n",
            " 61  F3bandwidth_sma3nz_stddevNorm                   108 non-null    float64\n",
            " 62  F3amplitudeLogRelF0_sma3nz_amean                108 non-null    float64\n",
            " 63  F3amplitudeLogRelF0_sma3nz_stddevNorm           108 non-null    float64\n",
            " 64  alphaRatioV_sma3nz_amean                        108 non-null    float64\n",
            " 65  alphaRatioV_sma3nz_stddevNorm                   108 non-null    float64\n",
            " 66  hammarbergIndexV_sma3nz_amean                   108 non-null    float64\n",
            " 67  hammarbergIndexV_sma3nz_stddevNorm              108 non-null    float64\n",
            " 68  slopeV0-500_sma3nz_amean                        108 non-null    float64\n",
            " 69  slopeV0-500_sma3nz_stddevNorm                   108 non-null    float64\n",
            " 70  slopeV500-1500_sma3nz_amean                     108 non-null    float64\n",
            " 71  slopeV500-1500_sma3nz_stddevNorm                108 non-null    float64\n",
            " 72  spectralFluxV_sma3nz_amean                      108 non-null    float64\n",
            " 73  spectralFluxV_sma3nz_stddevNorm                 108 non-null    float64\n",
            " 74  mfcc1V_sma3nz_amean                             108 non-null    float64\n",
            " 75  mfcc1V_sma3nz_stddevNorm                        108 non-null    float64\n",
            " 76  mfcc2V_sma3nz_amean                             108 non-null    float64\n",
            " 77  mfcc2V_sma3nz_stddevNorm                        108 non-null    float64\n",
            " 78  mfcc3V_sma3nz_amean                             108 non-null    float64\n",
            " 79  mfcc3V_sma3nz_stddevNorm                        108 non-null    float64\n",
            " 80  mfcc4V_sma3nz_amean                             108 non-null    float64\n",
            " 81  mfcc4V_sma3nz_stddevNorm                        108 non-null    float64\n",
            " 82  alphaRatioUV_sma3nz_amean                       108 non-null    float64\n",
            " 83  hammarbergIndexUV_sma3nz_amean                  108 non-null    float64\n",
            " 84  slopeUV0-500_sma3nz_amean                       108 non-null    float64\n",
            " 85  slopeUV500-1500_sma3nz_amean                    108 non-null    float64\n",
            " 86  spectralFluxUV_sma3nz_amean                     108 non-null    float64\n",
            " 87  loudnessPeaksPerSec                             108 non-null    float64\n",
            " 88  VoicedSegmentsPerSec                            108 non-null    float64\n",
            " 89  MeanVoicedSegmentLengthSec                      108 non-null    float64\n",
            " 90  StddevVoicedSegmentLengthSec                    108 non-null    float64\n",
            " 91  MeanUnvoicedSegmentLength                       108 non-null    float64\n",
            " 92  StddevUnvoicedSegmentLength                     108 non-null    float64\n",
            " 93  equivalentSoundLevel_dBp                        108 non-null    float64\n",
            "dtypes: float64(88), int64(3), object(3)\n",
            "memory usage: 79.4+ KB\n"
          ]
        }
      ],
      "source": [
        "train.info()"
      ]
    },
    {
      "cell_type": "code",
      "execution_count": 58,
      "id": "c0f29d6a",
      "metadata": {
        "scrolled": true,
        "colab": {
          "base_uri": "https://localhost:8080/"
        },
        "id": "c0f29d6a",
        "outputId": "de2e651c-1279-4d73-e01f-9ae57ac162ca"
      },
      "outputs": [
        {
          "output_type": "stream",
          "name": "stdout",
          "text": [
            "<class 'pandas.core.frame.DataFrame'>\n",
            "RangeIndex: 48 entries, 0 to 47\n",
            "Data columns (total 94 columns):\n",
            " #   Column                                          Non-Null Count  Dtype  \n",
            "---  ------                                          --------------  -----  \n",
            " 0   Unnamed: 0                                      48 non-null     int64  \n",
            " 1   F0semitoneFrom27.5Hz_sma3nz_amean               48 non-null     float64\n",
            " 2   F0semitoneFrom27.5Hz_sma3nz_stddevNorm          48 non-null     float64\n",
            " 3   F0semitoneFrom27.5Hz_sma3nz_percentile20.0      48 non-null     float64\n",
            " 4   F0semitoneFrom27.5Hz_sma3nz_percentile50.0      48 non-null     float64\n",
            " 5   F0semitoneFrom27.5Hz_sma3nz_percentile80.0      48 non-null     float64\n",
            " 6   F0semitoneFrom27.5Hz_sma3nz_pctlrange0-2        48 non-null     float64\n",
            " 7   F0semitoneFrom27.5Hz_sma3nz_meanRisingSlope     48 non-null     float64\n",
            " 8   F0semitoneFrom27.5Hz_sma3nz_stddevRisingSlope   48 non-null     float64\n",
            " 9   F0semitoneFrom27.5Hz_sma3nz_meanFallingSlope    48 non-null     float64\n",
            " 10  F0semitoneFrom27.5Hz_sma3nz_stddevFallingSlope  48 non-null     float64\n",
            " 11  loudness_sma3_amean                             48 non-null     float64\n",
            " 12  loudness_sma3_stddevNorm                        48 non-null     float64\n",
            " 13  loudness_sma3_percentile20.0                    48 non-null     float64\n",
            " 14  loudness_sma3_percentile50.0                    48 non-null     float64\n",
            " 15  loudness_sma3_percentile80.0                    48 non-null     float64\n",
            " 16  loudness_sma3_pctlrange0-2                      48 non-null     float64\n",
            " 17  loudness_sma3_meanRisingSlope                   48 non-null     float64\n",
            " 18  loudness_sma3_stddevRisingSlope                 48 non-null     float64\n",
            " 19  loudness_sma3_meanFallingSlope                  48 non-null     float64\n",
            " 20  loudness_sma3_stddevFallingSlope                48 non-null     float64\n",
            " 21  spectralFlux_sma3_amean                         48 non-null     float64\n",
            " 22  spectralFlux_sma3_stddevNorm                    48 non-null     float64\n",
            " 23  mfcc1_sma3_amean                                48 non-null     float64\n",
            " 24  mfcc1_sma3_stddevNorm                           48 non-null     float64\n",
            " 25  mfcc2_sma3_amean                                48 non-null     float64\n",
            " 26  mfcc2_sma3_stddevNorm                           48 non-null     float64\n",
            " 27  mfcc3_sma3_amean                                48 non-null     float64\n",
            " 28  mfcc3_sma3_stddevNorm                           48 non-null     float64\n",
            " 29  mfcc4_sma3_amean                                48 non-null     float64\n",
            " 30  mfcc4_sma3_stddevNorm                           48 non-null     float64\n",
            " 31  jitterLocal_sma3nz_amean                        48 non-null     float64\n",
            " 32  jitterLocal_sma3nz_stddevNorm                   48 non-null     float64\n",
            " 33  shimmerLocaldB_sma3nz_amean                     48 non-null     float64\n",
            " 34  shimmerLocaldB_sma3nz_stddevNorm                48 non-null     float64\n",
            " 35  HNRdBACF_sma3nz_amean                           48 non-null     float64\n",
            " 36  HNRdBACF_sma3nz_stddevNorm                      48 non-null     float64\n",
            " 37  logRelF0-H1-H2_sma3nz_amean                     48 non-null     float64\n",
            " 38  logRelF0-H1-H2_sma3nz_stddevNorm                48 non-null     float64\n",
            " 39  logRelF0-H1-A3_sma3nz_amean                     48 non-null     float64\n",
            " 40  logRelF0-H1-A3_sma3nz_stddevNorm                48 non-null     float64\n",
            " 41  F1frequency_sma3nz_amean                        48 non-null     float64\n",
            " 42  F1frequency_sma3nz_stddevNorm                   48 non-null     float64\n",
            " 43  F1bandwidth_sma3nz_amean                        48 non-null     float64\n",
            " 44  F1bandwidth_sma3nz_stddevNorm                   48 non-null     float64\n",
            " 45  F1amplitudeLogRelF0_sma3nz_amean                48 non-null     float64\n",
            " 46  F1amplitudeLogRelF0_sma3nz_stddevNorm           48 non-null     float64\n",
            " 47  F2frequency_sma3nz_amean                        48 non-null     float64\n",
            " 48  F2frequency_sma3nz_stddevNorm                   48 non-null     float64\n",
            " 49  F2bandwidth_sma3nz_amean                        48 non-null     float64\n",
            " 50  F2bandwidth_sma3nz_stddevNorm                   48 non-null     float64\n",
            " 51  F2amplitudeLogRelF0_sma3nz_amean                48 non-null     float64\n",
            " 52  F2amplitudeLogRelF0_sma3nz_stddevNorm           48 non-null     float64\n",
            " 53  F3frequency_sma3nz_amean                        48 non-null     float64\n",
            " 54  F3frequency_sma3nz_stddevNorm                   48 non-null     float64\n",
            " 55  F3bandwidth_sma3nz_amean                        48 non-null     float64\n",
            " 56  F3bandwidth_sma3nz_stddevNorm                   48 non-null     float64\n",
            " 57  F3amplitudeLogRelF0_sma3nz_amean                48 non-null     float64\n",
            " 58  F3amplitudeLogRelF0_sma3nz_stddevNorm           48 non-null     float64\n",
            " 59  alphaRatioV_sma3nz_amean                        48 non-null     float64\n",
            " 60  alphaRatioV_sma3nz_stddevNorm                   48 non-null     float64\n",
            " 61  hammarbergIndexV_sma3nz_amean                   48 non-null     float64\n",
            " 62  hammarbergIndexV_sma3nz_stddevNorm              48 non-null     float64\n",
            " 63  slopeV0-500_sma3nz_amean                        48 non-null     float64\n",
            " 64  slopeV0-500_sma3nz_stddevNorm                   48 non-null     float64\n",
            " 65  slopeV500-1500_sma3nz_amean                     48 non-null     float64\n",
            " 66  slopeV500-1500_sma3nz_stddevNorm                48 non-null     float64\n",
            " 67  spectralFluxV_sma3nz_amean                      48 non-null     float64\n",
            " 68  spectralFluxV_sma3nz_stddevNorm                 48 non-null     float64\n",
            " 69  mfcc1V_sma3nz_amean                             48 non-null     float64\n",
            " 70  mfcc1V_sma3nz_stddevNorm                        48 non-null     float64\n",
            " 71  mfcc2V_sma3nz_amean                             48 non-null     float64\n",
            " 72  mfcc2V_sma3nz_stddevNorm                        48 non-null     float64\n",
            " 73  mfcc3V_sma3nz_amean                             48 non-null     float64\n",
            " 74  mfcc3V_sma3nz_stddevNorm                        48 non-null     float64\n",
            " 75  mfcc4V_sma3nz_amean                             48 non-null     float64\n",
            " 76  mfcc4V_sma3nz_stddevNorm                        48 non-null     float64\n",
            " 77  alphaRatioUV_sma3nz_amean                       48 non-null     float64\n",
            " 78  hammarbergIndexUV_sma3nz_amean                  48 non-null     float64\n",
            " 79  slopeUV0-500_sma3nz_amean                       48 non-null     float64\n",
            " 80  slopeUV500-1500_sma3nz_amean                    48 non-null     float64\n",
            " 81  spectralFluxUV_sma3nz_amean                     48 non-null     float64\n",
            " 82  loudnessPeaksPerSec                             48 non-null     float64\n",
            " 83  VoicedSegmentsPerSec                            48 non-null     float64\n",
            " 84  MeanVoicedSegmentLengthSec                      48 non-null     float64\n",
            " 85  StddevVoicedSegmentLengthSec                    48 non-null     float64\n",
            " 86  MeanUnvoicedSegmentLength                       48 non-null     float64\n",
            " 87  StddevUnvoicedSegmentLength                     48 non-null     float64\n",
            " 88  equivalentSoundLevel_dBp                        48 non-null     float64\n",
            " 89  id                                              48 non-null     object \n",
            " 90  age                                             48 non-null     int64  \n",
            " 91  gender                                          48 non-null     int64  \n",
            " 92  diagnosis                                       48 non-null     int64  \n",
            " 93  mmse                                            48 non-null     int64  \n",
            "dtypes: float64(88), int64(5), object(1)\n",
            "memory usage: 35.4+ KB\n"
          ]
        }
      ],
      "source": [
        "test.info()"
      ]
    },
    {
      "cell_type": "code",
      "execution_count": 59,
      "id": "898cb217",
      "metadata": {
        "scrolled": true,
        "id": "898cb217"
      },
      "outputs": [],
      "source": [
        "# preprocessing\n",
        "features = [\"F2frequency_sma3nz_amean\", \n",
        "             \"HNRdBACF_sma3nz_amean\", \n",
        "             \"F0semitoneFrom27.5Hz_sma3nz_percentile80.0\", \n",
        "             \"F0semitoneFrom27.5Hz_sma3nz_amean\",\n",
        "             \"F1frequency_sma3nz_amean\",\n",
        "             \"spectralFlux_sma3_amean\",\n",
        "             \"mfcc1_sma3_amean\",\n",
        "             \"jitterLocal_sma3nz_amean\",\n",
        "             \"logRelF0-H1-H2_sma3nz_amean\",\n",
        "             \"slopeV0-500_sma3nz_amean\",\n",
        "             \"mfcc2V_sma3nz_stddevNorm\",\n",
        "             \"hammarbergIndexUV_sma3nz_amean\",\n",
        "             \"MeanUnvoicedSegmentLength\",\n",
        "             \"gender\", \"diagnosis\"]\n",
        "\n",
        "train['gender'] = train['gender'].replace(['female', 'male'], [1, 0])\n",
        "\n",
        "train_df = train[features]\n",
        "test_df = test[features]"
      ]
    },
    {
      "cell_type": "code",
      "execution_count": 60,
      "id": "8515620c",
      "metadata": {
        "scrolled": true,
        "id": "8515620c"
      },
      "outputs": [],
      "source": [
        "# function for calculating accuracy, sensitivity and specificity\n",
        "\n",
        "def classification_results(y_true, y_pred):\n",
        "    print(skm.confusion_matrix(y_true, y_pred))\n",
        "    tn, fp, fn, tp = skm.confusion_matrix(y_true, y_pred).ravel()\n",
        "    specificity = tn / (tn + fp)\n",
        "    sensitivity = tp / (tp + fn)\n",
        "    accuracy = skm.accuracy_score(y_pred=y_pred, y_true=y_true)\n",
        "    print('Accuracy: ', accuracy)\n",
        "    print('Sensitivity: ', sensitivity)\n",
        "    print('Specificity: ', specificity)"
      ]
    },
    {
      "cell_type": "code",
      "execution_count": 61,
      "id": "4ab296d7",
      "metadata": {
        "scrolled": true,
        "id": "4ab296d7"
      },
      "outputs": [],
      "source": [
        "# function for evaluating during CV, full train and test datasets\n",
        "\n",
        "def evaluate_model(model, data_x, data_y, X_test, y_test, k=5):\n",
        "    '''returns trained classifier'''\n",
        "    k_fold = KFold(k, shuffle=True, random_state=1)\n",
        "\n",
        "    predicted_targets = np.array([])\n",
        "    actual_targets = np.array([])\n",
        "    \n",
        "    display(Markdown(\"#### Results of k-fold CV on training set\"))\n",
        "    for train_ix, test_ix in k_fold.split(data_x):\n",
        "        train_x, train_y, test_x, test_y = data_x.iloc[train_ix], data_y.iloc[train_ix], data_x.iloc[test_ix], data_y.iloc[test_ix]\n",
        "\n",
        "        # Fit the classifier\n",
        "        classifier = model.fit(train_x, train_y)\n",
        "\n",
        "        # Predict the labels of the test set samples\n",
        "        predicted_labels_fold = classifier.predict(test_x)\n",
        "\n",
        "        predicted_targets = np.append(predicted_targets, predicted_labels_fold)\n",
        "        actual_targets = np.append(actual_targets, test_y)\n",
        "        \n",
        "        classification_results(test_y, predicted_labels_fold)\n",
        "        print('')\n",
        "        \n",
        "    display(Markdown(\"#### Results on the whole training set\"))\n",
        "    classification_results(actual_targets, predicted_targets)\n",
        "    \n",
        "    \n",
        "    display(Markdown(\"#### Results on test set\"))\n",
        "    classification_results(y_test, classifier.predict(X_test))\n",
        "    \n",
        "    return classifier\n",
        "        \n",
        "    "
      ]
    },
    {
      "cell_type": "markdown",
      "id": "22885091",
      "metadata": {
        "id": "22885091"
      },
      "source": [
        "### Logistic regression model"
      ]
    },
    {
      "cell_type": "code",
      "execution_count": 62,
      "id": "5e1f7291",
      "metadata": {
        "scrolled": true,
        "id": "5e1f7291"
      },
      "outputs": [],
      "source": [
        "features_lr = [\"F0semitoneFrom27.5Hz_sma3nz_percentile80.0\", \n",
        "                 \"F1frequency_sma3nz_amean\", \n",
        "                 \"HNRdBACF_sma3nz_amean\", \n",
        "                 \"F0semitoneFrom27.5Hz_sma3nz_amean\",\n",
        "                 \"spectralFlux_sma3_amean\",\n",
        "                  \"gender\"]\n",
        "\n",
        "Y_train = train_df[\"diagnosis\"]\n",
        "X_train = train_df[features_lr]\n",
        "\n",
        "Y_test = test_df[\"diagnosis\"]\n",
        "X_test = test_df[features_lr]\n"
      ]
    },
    {
      "cell_type": "code",
      "execution_count": 63,
      "id": "2141ade7",
      "metadata": {
        "scrolled": false,
        "colab": {
          "base_uri": "https://localhost:8080/",
          "height": 831
        },
        "id": "2141ade7",
        "outputId": "20da46c6-aaf9-4241-8c65-5a2d41321fb6"
      },
      "outputs": [
        {
          "output_type": "display_data",
          "data": {
            "text/plain": [
              "<IPython.core.display.Markdown object>"
            ],
            "text/markdown": "#### Results of k-fold CV on training set"
          },
          "metadata": {}
        },
        {
          "output_type": "stream",
          "name": "stdout",
          "text": [
            "[[ 3  1]\n",
            " [ 6 12]]\n",
            "Accuracy:  0.6818181818181818\n",
            "Sensitivity:  0.6666666666666666\n",
            "Specificity:  0.75\n",
            "\n",
            "[[13  1]\n",
            " [ 5  3]]\n",
            "Accuracy:  0.7272727272727273\n",
            "Sensitivity:  0.375\n",
            "Specificity:  0.9285714285714286\n",
            "\n",
            "[[6 5]\n",
            " [2 9]]\n",
            "Accuracy:  0.6818181818181818\n",
            "Sensitivity:  0.8181818181818182\n",
            "Specificity:  0.5454545454545454\n",
            "\n",
            "[[7 4]\n",
            " [4 6]]\n",
            "Accuracy:  0.6190476190476191\n",
            "Sensitivity:  0.6\n",
            "Specificity:  0.6363636363636364\n",
            "\n",
            "[[8 6]\n",
            " [3 4]]\n",
            "Accuracy:  0.5714285714285714\n",
            "Sensitivity:  0.5714285714285714\n",
            "Specificity:  0.5714285714285714\n",
            "\n"
          ]
        },
        {
          "output_type": "display_data",
          "data": {
            "text/plain": [
              "<IPython.core.display.Markdown object>"
            ],
            "text/markdown": "#### Results on the whole training set"
          },
          "metadata": {}
        },
        {
          "output_type": "stream",
          "name": "stdout",
          "text": [
            "[[37 17]\n",
            " [20 34]]\n",
            "Accuracy:  0.6574074074074074\n",
            "Sensitivity:  0.6296296296296297\n",
            "Specificity:  0.6851851851851852\n"
          ]
        },
        {
          "output_type": "display_data",
          "data": {
            "text/plain": [
              "<IPython.core.display.Markdown object>"
            ],
            "text/markdown": "#### Results on test set"
          },
          "metadata": {}
        },
        {
          "output_type": "stream",
          "name": "stdout",
          "text": [
            "[[18  6]\n",
            " [ 7 17]]\n",
            "Accuracy:  0.7291666666666666\n",
            "Sensitivity:  0.7083333333333334\n",
            "Specificity:  0.75\n"
          ]
        }
      ],
      "source": [
        "# model_lr = Pipeline(\n",
        "#     steps=[\n",
        "#         (\n",
        "#             \"classifier\",\n",
        "#             LogisticRegression(solver='liblinear', penalty = 'l2', class_weight = 'balanced'),\n",
        "#         ),\n",
        "#     ]\n",
        "# )\n",
        "\n",
        "model_lr = LogisticRegression(solver='liblinear', penalty = 'l2', class_weight = 'balanced')\n",
        "\n",
        "model_lr = evaluate_model(model_lr, X_train, Y_train, X_test, Y_test)"
      ]
    },
    {
      "cell_type": "markdown",
      "id": "a37b740f",
      "metadata": {
        "id": "a37b740f"
      },
      "source": [
        "### Random forest model"
      ]
    },
    {
      "cell_type": "code",
      "execution_count": 140,
      "id": "6d09dd9c",
      "metadata": {
        "scrolled": true,
        "id": "6d09dd9c"
      },
      "outputs": [],
      "source": [
        "features_rf = [\"F0semitoneFrom27.5Hz_sma3nz_percentile80.0\", \n",
        "                 \"F1frequency_sma3nz_amean\", \n",
        "                 \"HNRdBACF_sma3nz_amean\", \n",
        "                 \"F0semitoneFrom27.5Hz_sma3nz_amean\",\n",
        "                 \"gender\"]\n",
        "\n",
        "Y_train = train_df[\"diagnosis\"]\n",
        "X_train = train_df[features_rf]\n",
        "\n",
        "Y_test = test_df[\"diagnosis\"]\n",
        "X_test = test_df[features_rf]"
      ]
    },
    {
      "cell_type": "code",
      "source": [
        "#MinMaxScaler()\n",
        "\n",
        "minmax_scaler = MinMaxScaler()\n",
        "minmax_scaler.fit(X_train)\n",
        "minMax_scaled_x_train = minmax_scaler.transform(X_train)\n",
        "minMax_scaled_x_train_rf = pd.DataFrame(minMax_scaled_x_train, columns=X_train.columns)  # Converts back to dataframe after scaling\n",
        "\n",
        "minMax_scaled_x_test = minmax_scaler.transform(X_test)\n",
        "minMax_scaled_x_test_rf = pd.DataFrame(minMax_scaled_x_test, columns=X_test.columns)  # Converts back to dataframe after scaling\n",
        "\n"
      ],
      "metadata": {
        "id": "_wtDS-65nS7J"
      },
      "id": "_wtDS-65nS7J",
      "execution_count": 141,
      "outputs": []
    },
    {
      "cell_type": "code",
      "execution_count": 142,
      "id": "f20ca0b5",
      "metadata": {
        "colab": {
          "base_uri": "https://localhost:8080/",
          "height": 831
        },
        "id": "f20ca0b5",
        "outputId": "fe27d8c3-4e99-4d81-f9e8-f46ef7687228"
      },
      "outputs": [
        {
          "output_type": "display_data",
          "data": {
            "text/plain": [
              "<IPython.core.display.Markdown object>"
            ],
            "text/markdown": "#### Results of k-fold CV on training set"
          },
          "metadata": {}
        },
        {
          "output_type": "stream",
          "name": "stdout",
          "text": [
            "[[ 1  3]\n",
            " [ 6 12]]\n",
            "Accuracy:  0.5909090909090909\n",
            "Sensitivity:  0.6666666666666666\n",
            "Specificity:  0.25\n",
            "\n",
            "[[11  3]\n",
            " [ 4  4]]\n",
            "Accuracy:  0.6818181818181818\n",
            "Sensitivity:  0.5\n",
            "Specificity:  0.7857142857142857\n",
            "\n",
            "[[5 6]\n",
            " [7 4]]\n",
            "Accuracy:  0.4090909090909091\n",
            "Sensitivity:  0.36363636363636365\n",
            "Specificity:  0.45454545454545453\n",
            "\n",
            "[[9 2]\n",
            " [3 7]]\n",
            "Accuracy:  0.7619047619047619\n",
            "Sensitivity:  0.7\n",
            "Specificity:  0.8181818181818182\n",
            "\n",
            "[[9 5]\n",
            " [2 5]]\n",
            "Accuracy:  0.6666666666666666\n",
            "Sensitivity:  0.7142857142857143\n",
            "Specificity:  0.6428571428571429\n",
            "\n"
          ]
        },
        {
          "output_type": "display_data",
          "data": {
            "text/plain": [
              "<IPython.core.display.Markdown object>"
            ],
            "text/markdown": "#### Results on the whole training set"
          },
          "metadata": {}
        },
        {
          "output_type": "stream",
          "name": "stdout",
          "text": [
            "[[35 19]\n",
            " [22 32]]\n",
            "Accuracy:  0.6203703703703703\n",
            "Sensitivity:  0.5925925925925926\n",
            "Specificity:  0.6481481481481481\n"
          ]
        },
        {
          "output_type": "display_data",
          "data": {
            "text/plain": [
              "<IPython.core.display.Markdown object>"
            ],
            "text/markdown": "#### Results on test set"
          },
          "metadata": {}
        },
        {
          "output_type": "stream",
          "name": "stdout",
          "text": [
            "[[16  8]\n",
            " [11 13]]\n",
            "Accuracy:  0.6041666666666666\n",
            "Sensitivity:  0.5416666666666666\n",
            "Specificity:  0.6666666666666666\n"
          ]
        }
      ],
      "source": [
        "# model_rf = Pipeline(\n",
        "#     steps=[\n",
        "#         (\"preprocessor\", MinMaxScaler()),\n",
        "#         (\n",
        "#             \"classifier\",\n",
        "#             RandomForestClassifier(n_estimators=200, min_samples_leaf=20,\n",
        "#                                                                class_weight='balanced'),\n",
        "#         ),\n",
        "#     ]\n",
        "# )\n",
        "\n",
        "model_rf = RandomForestClassifier(n_estimators=200, min_samples_leaf=20, class_weight='balanced')\n",
        "\n",
        "# model_rf = evaluate_model(model_rf, X_train, Y_train, X_test, Y_test)\n",
        "model_rf = evaluate_model(model_rf, minMax_scaled_x_train_rf, Y_train, minMax_scaled_x_test_rf, Y_test)\n"
      ]
    },
    {
      "cell_type": "markdown",
      "id": "6dae4016",
      "metadata": {
        "id": "6dae4016"
      },
      "source": [
        "### kNN model"
      ]
    },
    {
      "cell_type": "code",
      "execution_count": 16,
      "id": "d7f01da5",
      "metadata": {
        "scrolled": true,
        "id": "d7f01da5"
      },
      "outputs": [],
      "source": [
        "features_knn = [\"F0semitoneFrom27.5Hz_sma3nz_percentile80.0\", \n",
        "                 \"HNRdBACF_sma3nz_amean\", \n",
        "                 \"F0semitoneFrom27.5Hz_sma3nz_amean\",\n",
        "                 \"mfcc1_sma3_amean\",\n",
        "                 \"MeanUnvoicedSegmentLength\",\n",
        "                 \"gender\"]\n",
        "\n",
        "Y_train = train_df[\"diagnosis\"]\n",
        "X_train = train_df[features_knn]\n",
        "\n",
        "Y_test = test_df[\"diagnosis\"]\n",
        "X_test = test_df[features_knn]"
      ]
    },
    {
      "cell_type": "code",
      "source": [
        "#MinMaxScaler()\n",
        "\n",
        "minmax_scaler = MinMaxScaler()\n",
        "minmax_scaler.fit(X_train)\n",
        "minMax_scaled_x_train = minmax_scaler.transform(X_train)\n",
        "minMax_scaled_x_train_knn = pd.DataFrame(minMax_scaled_x_train, columns=X_train.columns)  # Converts back to dataframe after scaling\n",
        "\n",
        "minMax_scaled_x_test = minmax_scaler.transform(X_test)\n",
        "minMax_scaled_x_test_knn = pd.DataFrame(minMax_scaled_x_test, columns=X_test.columns)  # Converts back to dataframe after scaling\n"
      ],
      "metadata": {
        "id": "kf3INX_Y4hZm"
      },
      "id": "kf3INX_Y4hZm",
      "execution_count": 39,
      "outputs": []
    },
    {
      "cell_type": "code",
      "execution_count": 41,
      "id": "ae51fb99",
      "metadata": {
        "scrolled": false,
        "colab": {
          "base_uri": "https://localhost:8080/",
          "height": 831
        },
        "id": "ae51fb99",
        "outputId": "7b93b27d-2ed6-462f-9792-48d530185874"
      },
      "outputs": [
        {
          "output_type": "display_data",
          "data": {
            "text/plain": [
              "<IPython.core.display.Markdown object>"
            ],
            "text/markdown": "#### Results of k-fold CV on training set"
          },
          "metadata": {}
        },
        {
          "output_type": "stream",
          "name": "stdout",
          "text": [
            "[[ 3  1]\n",
            " [ 7 11]]\n",
            "Accuracy:  0.6363636363636364\n",
            "Sensitivity:  0.6111111111111112\n",
            "Specificity:  0.75\n",
            "\n",
            "[[7 7]\n",
            " [4 4]]\n",
            "Accuracy:  0.5\n",
            "Sensitivity:  0.5\n",
            "Specificity:  0.5\n",
            "\n",
            "[[7 4]\n",
            " [5 6]]\n",
            "Accuracy:  0.5909090909090909\n",
            "Sensitivity:  0.5454545454545454\n",
            "Specificity:  0.6363636363636364\n",
            "\n",
            "[[9 2]\n",
            " [3 7]]\n",
            "Accuracy:  0.7619047619047619\n",
            "Sensitivity:  0.7\n",
            "Specificity:  0.8181818181818182\n",
            "\n",
            "[[7 7]\n",
            " [3 4]]\n",
            "Accuracy:  0.5238095238095238\n",
            "Sensitivity:  0.5714285714285714\n",
            "Specificity:  0.5\n",
            "\n"
          ]
        },
        {
          "output_type": "display_data",
          "data": {
            "text/plain": [
              "<IPython.core.display.Markdown object>"
            ],
            "text/markdown": "#### Results on the whole training set"
          },
          "metadata": {}
        },
        {
          "output_type": "stream",
          "name": "stdout",
          "text": [
            "[[33 21]\n",
            " [22 32]]\n",
            "Accuracy:  0.6018518518518519\n",
            "Sensitivity:  0.5925925925925926\n",
            "Specificity:  0.6111111111111112\n"
          ]
        },
        {
          "output_type": "display_data",
          "data": {
            "text/plain": [
              "<IPython.core.display.Markdown object>"
            ],
            "text/markdown": "#### Results on test set"
          },
          "metadata": {}
        },
        {
          "output_type": "stream",
          "name": "stdout",
          "text": [
            "[[15  9]\n",
            " [ 7 17]]\n",
            "Accuracy:  0.6666666666666666\n",
            "Sensitivity:  0.7083333333333334\n",
            "Specificity:  0.625\n"
          ]
        }
      ],
      "source": [
        "# model_knn = Pipeline(\n",
        "#     steps=[\n",
        "#         (\"preprocessor\", MinMaxScaler()),\n",
        "#         (\n",
        "#             \"classifier\",\n",
        "#             KNeighborsClassifier(n_neighbors=3),\n",
        "#         ),\n",
        "#     ]\n",
        "# )\n",
        "\n",
        "model_knn = KNeighborsClassifier(n_neighbors=3)\n",
        "\n",
        "# model_knn = evaluate_model(model_knn, X_train, Y_train, X_test, Y_test)\n",
        "model_knn = evaluate_model(model_knn, minMax_scaled_x_train_knn, Y_train, minMax_scaled_x_test_knn, Y_test)\n"
      ]
    },
    {
      "cell_type": "markdown",
      "id": "767938f8",
      "metadata": {
        "id": "767938f8"
      },
      "source": [
        "### Radial based SVM"
      ]
    },
    {
      "cell_type": "code",
      "execution_count": 174,
      "id": "e7bdc858",
      "metadata": {
        "scrolled": true,
        "id": "e7bdc858"
      },
      "outputs": [],
      "source": [
        "features_svm = [\"F2frequency_sma3nz_amean\", \n",
        "                    \"F0semitoneFrom27.5Hz_sma3nz_percentile80.0\", \n",
        "                    \"F0semitoneFrom27.5Hz_sma3nz_amean\",\n",
        "                     \"gender\"]\n",
        "Y_train = train_df[\"diagnosis\"]\n",
        "X_train = train_df[features_svm]\n",
        "\n",
        "Y_test = test_df[\"diagnosis\"]\n",
        "X_test = test_df[features_svm]"
      ]
    },
    {
      "cell_type": "code",
      "source": [
        "#MinMaxScaler()\n",
        "\n",
        "minmax_scaler = MinMaxScaler()\n",
        "minmax_scaler.fit(X_train)\n",
        "minMax_scaled_x_train = minmax_scaler.transform(X_train)\n",
        "minMax_scaled_x_train_svm = pd.DataFrame(minMax_scaled_x_train, columns=X_train.columns)  # Converts back to dataframe after scaling\n",
        "\n",
        "minMax_scaled_x_test = minmax_scaler.transform(X_test)\n",
        "minMax_scaled_x_test_svm = pd.DataFrame(minMax_scaled_x_test, columns=X_test.columns)  # Converts back to dataframe after scaling\n"
      ],
      "metadata": {
        "id": "-UAF1TEK4nX7"
      },
      "id": "-UAF1TEK4nX7",
      "execution_count": 175,
      "outputs": []
    },
    {
      "cell_type": "code",
      "execution_count": 176,
      "id": "571b5d24",
      "metadata": {
        "scrolled": false,
        "colab": {
          "base_uri": "https://localhost:8080/",
          "height": 831
        },
        "id": "571b5d24",
        "outputId": "0b123742-d6fb-4ee7-ed0f-7d0998508fcf"
      },
      "outputs": [
        {
          "output_type": "display_data",
          "data": {
            "text/plain": [
              "<IPython.core.display.Markdown object>"
            ],
            "text/markdown": "#### Results of k-fold CV on training set"
          },
          "metadata": {}
        },
        {
          "output_type": "stream",
          "name": "stdout",
          "text": [
            "[[ 4  0]\n",
            " [ 8 10]]\n",
            "Accuracy:  0.6363636363636364\n",
            "Sensitivity:  0.5555555555555556\n",
            "Specificity:  1.0\n",
            "\n",
            "[[9 5]\n",
            " [1 7]]\n",
            "Accuracy:  0.7272727272727273\n",
            "Sensitivity:  0.875\n",
            "Specificity:  0.6428571428571429\n",
            "\n",
            "[[5 6]\n",
            " [5 6]]\n",
            "Accuracy:  0.5\n",
            "Sensitivity:  0.5454545454545454\n",
            "Specificity:  0.45454545454545453\n",
            "\n",
            "[[6 5]\n",
            " [1 9]]\n",
            "Accuracy:  0.7142857142857143\n",
            "Sensitivity:  0.9\n",
            "Specificity:  0.5454545454545454\n",
            "\n",
            "[[9 5]\n",
            " [2 5]]\n",
            "Accuracy:  0.6666666666666666\n",
            "Sensitivity:  0.7142857142857143\n",
            "Specificity:  0.6428571428571429\n",
            "\n"
          ]
        },
        {
          "output_type": "display_data",
          "data": {
            "text/plain": [
              "<IPython.core.display.Markdown object>"
            ],
            "text/markdown": "#### Results on the whole training set"
          },
          "metadata": {}
        },
        {
          "output_type": "stream",
          "name": "stdout",
          "text": [
            "[[33 21]\n",
            " [17 37]]\n",
            "Accuracy:  0.6481481481481481\n",
            "Sensitivity:  0.6851851851851852\n",
            "Specificity:  0.6111111111111112\n"
          ]
        },
        {
          "output_type": "display_data",
          "data": {
            "text/plain": [
              "<IPython.core.display.Markdown object>"
            ],
            "text/markdown": "#### Results on test set"
          },
          "metadata": {}
        },
        {
          "output_type": "stream",
          "name": "stdout",
          "text": [
            "[[17  7]\n",
            " [ 8 16]]\n",
            "Accuracy:  0.6875\n",
            "Sensitivity:  0.6666666666666666\n",
            "Specificity:  0.7083333333333334\n"
          ]
        }
      ],
      "source": [
        "# model_svm = Pipeline(\n",
        "#     steps=[\n",
        "#         (\"preprocessor\", MinMaxScaler()),\n",
        "#         (\n",
        "#             \"classifier\",\n",
        "#             SVC(kernel = 'rbf', gamma = 4.0, C = 3.0),\n",
        "#         ),\n",
        "#     ]\n",
        "# )\n",
        "\n",
        "model_svm= SVC(kernel = 'rbf', gamma = 4.0, C = 3.0)\n",
        "\n",
        "# model_svm = evaluate_model(model_svm, X_train, Y_train, X_test, Y_test)\n",
        "\n",
        "model_svm = evaluate_model(model_svm, minMax_scaled_x_train_svm, Y_train, minMax_scaled_x_test_svm, Y_test)"
      ]
    },
    {
      "cell_type": "markdown",
      "id": "c6b841ec",
      "metadata": {
        "id": "c6b841ec"
      },
      "source": [
        "#### Results on the test set without debiasing\n",
        "\n",
        "| Model       | Logistic regression | Random forest | kNN    |  SVM   |  \n",
        "|------       |------               | ------        |------  | ------ |\n",
        "| Accuracy    |  0.7291             |  0.666        | 0.7083 | 0.6875 | \n",
        "| Sensitivity |  0.7083             |  0.666        | 0.625  | 0.666 | \n",
        "| Specificity |  0.75               |  0.666        | 0.7916 | 0.7083   | \n",
        "\n",
        "Comment: improved Lr and kNN"
      ]
    },
    {
      "cell_type": "markdown",
      "id": "b17fc9fc",
      "metadata": {
        "id": "b17fc9fc"
      },
      "source": [
        "## Applying debiasing techniques\n",
        "\n"
      ]
    },
    {
      "cell_type": "code",
      "execution_count": 177,
      "id": "c696f04a",
      "metadata": {
        "scrolled": true,
        "id": "c696f04a"
      },
      "outputs": [],
      "source": [
        "# AIF360 Metrics\n",
        "from aif360.sklearn.metrics import statistical_parity_difference, equal_opportunity_difference, average_odds_difference\n",
        "from aif360.sklearn.metrics import disparate_impact_ratio, theil_index\n",
        "\n",
        "# AIF360 in-processing algorithms\n",
        "\n",
        "from aif360.sklearn.inprocessing import ExponentiatedGradientReduction\n",
        "from aif360.sklearn.inprocessing import GridSearchReduction\n",
        "\n",
        "# AIF360 dataset utils\n",
        "from aif360.sklearn.datasets import standardize_dataset\n",
        "\n",
        "# import of fairlearn\n",
        "import fairlearn.reductions as red\n",
        "from fairlearn.metrics import true_negative_rate\n",
        "import fairlearn.metrics as fm"
      ]
    },
    {
      "cell_type": "code",
      "execution_count": 178,
      "id": "aca6e7a7",
      "metadata": {
        "scrolled": true,
        "id": "aca6e7a7"
      },
      "outputs": [],
      "source": [
        "def get_values_of_aif_metrics(y_test, y_pred):\n",
        "    print('Statistical parity difference: ', statistical_parity_difference(y_test, y_pred))\n",
        "    print('Equal opportunity difference: ', equal_opportunity_difference(y_test, y_pred))\n",
        "    print('Average odds difference: ', average_odds_difference(y_test, y_pred))\n",
        "    print('Disparate impact ratio: ', disparate_impact_ratio(y_test, y_pred))\n",
        "    print('Theil index: ', theil_index(y_pred))"
      ]
    },
    {
      "cell_type": "code",
      "execution_count": 179,
      "id": "eea28e22",
      "metadata": {
        "scrolled": true,
        "id": "eea28e22"
      },
      "outputs": [],
      "source": [
        "# creating aif360 dataset\n",
        "def create_dataset(train_df, test_df, target, prot_attr_cols, usecols):\n",
        "    X_train_aif, y_train_aif = standardize_dataset(df = train_df, prot_attr=prot_attr_cols, \n",
        "                                               target = target, usecols=usecols)\n",
        "    X_test_aif, y_test_aif = standardize_dataset(df = test_df, prot_attr=prot_attr_cols, target = target,\n",
        "                                            usecols=usecols)\n",
        "    return X_train_aif, y_train_aif, X_test_aif, y_test_aif"
      ]
    },
    {
      "cell_type": "code",
      "execution_count": 180,
      "id": "ce4ccc1a",
      "metadata": {
        "scrolled": true,
        "id": "ce4ccc1a"
      },
      "outputs": [],
      "source": [
        "metrics = {\n",
        "    'accuracy': skm.accuracy_score,\n",
        "    'sensitivity': skm.recall_score,  \n",
        "    'specificity': fm.true_negative_rate       \n",
        "            }\n",
        "\n",
        "def plot_metrics(y_true, X, metrics, model, sens_feature):\n",
        "    \n",
        "    metric_frame = fm.MetricFrame(metrics=metrics,\n",
        "                           y_true=y_true,\n",
        "                           y_pred=model.predict(X),\n",
        "                           sensitive_features=X[sens_feature])\n",
        "\n",
        "    metric_frame.by_group.plot.bar(\n",
        "        subplots=True,\n",
        "        layout=[1, 3],\n",
        "        legend=False,\n",
        "        figsize=[16, 5],\n",
        "        ylim = [0, 1],\n",
        "        title=\"Show all metrics\")\n",
        "    \n",
        "    print(metric_frame.by_group)"
      ]
    },
    {
      "cell_type": "code",
      "execution_count": 181,
      "id": "e5461db6",
      "metadata": {
        "scrolled": true,
        "colab": {
          "base_uri": "https://localhost:8080/"
        },
        "id": "e5461db6",
        "outputId": "c01abd03-85a1-4aa4-e0b6-60c5982335e1"
      },
      "outputs": [
        {
          "output_type": "execute_result",
          "data": {
            "text/plain": [
              "['gender']"
            ]
          },
          "metadata": {},
          "execution_count": 181
        }
      ],
      "source": [
        "prot_attr_cols = [colname for colname in train_df if \"gender\" in colname]\n",
        "prot_attr_cols"
      ]
    },
    {
      "cell_type": "markdown",
      "id": "27dd7254",
      "metadata": {
        "id": "27dd7254"
      },
      "source": [
        "### Logistic regression"
      ]
    },
    {
      "cell_type": "code",
      "execution_count": 69,
      "id": "c5fdbb97",
      "metadata": {
        "scrolled": true,
        "id": "c5fdbb97"
      },
      "outputs": [],
      "source": [
        "X_train_aif, y_train_aif, X_test_aif, y_test_aif = create_dataset(train_df, test_df, 'diagnosis', prot_attr_cols, features_lr)"
      ]
    },
    {
      "cell_type": "code",
      "execution_count": 70,
      "id": "acfff24f",
      "metadata": {
        "colab": {
          "base_uri": "https://localhost:8080/",
          "height": 644
        },
        "id": "acfff24f",
        "outputId": "9d4f7939-597c-4059-883b-e886c87e677a"
      },
      "outputs": [
        {
          "output_type": "stream",
          "name": "stdout",
          "text": [
            "Statistical parity difference:  0.038461538461538436\n",
            "Equal opportunity difference:  0.2027972027972028\n",
            "Average odds difference:  0.038461538461538436\n",
            "Disparate impact ratio:  1.0833333333333333\n",
            "Theil index:  0.735706794978741\n",
            "\n",
            "        accuracy sensitivity specificity\n",
            "gender                                  \n",
            "0       0.818182    0.818182    0.818182\n",
            "1       0.653846    0.615385    0.692308\n",
            "\n",
            "[[18  6]\n",
            " [ 7 17]]\n",
            "Accuracy:  0.7291666666666666\n",
            "Sensitivity:  0.7083333333333334\n",
            "Specificity:  0.75\n"
          ]
        },
        {
          "output_type": "display_data",
          "data": {
            "text/plain": [
              "<Figure size 1152x360 with 3 Axes>"
            ],
            "image/png": "[encoded data removed]"
          },
          "metadata": {
            "needs_background": "light"
          }
        }
      ],
      "source": [
        "# results for default model \n",
        "\n",
        "get_values_of_aif_metrics(y_test_aif, model_lr.predict(X_test_aif))\n",
        "print('')\n",
        "plot_metrics(y_test_aif, X_test_aif, metrics, model_lr, 'gender')\n",
        "print('')\n",
        "classification_results(y_test_aif, model_lr.predict(X_test_aif))"
      ]
    },
    {
      "cell_type": "markdown",
      "source": [
        "### pre-processing algorithms"
      ],
      "metadata": {
        "id": "haX4VJronkAU"
      },
      "id": "haX4VJronkAU"
    },
    {
      "cell_type": "code",
      "source": [
        "# results for reweighingMeta model\n",
        "\n",
        "from aif360.sklearn.preprocessing import Reweighing\n",
        "from aif360.sklearn.preprocessing import ReweighingMeta\n",
        "\n",
        "X_train_aif, y_train_aif, X_test_aif, y_test_aif = create_dataset(train_df, test_df, 'diagnosis', prot_attr_cols, features_lr)\n",
        "\n",
        "model_lr_meta = ReweighingMeta(model_lr, reweigher=Reweighing(prot_attr = prot_attr_cols))\n",
        "\n",
        "model_lr_meta.fit(X_train_aif, y_train_aif)\n",
        "#rw_estimator_meta.fit_transform(X_train_aif, y_train_aif)\n",
        "model_lr_meta.predict(X_test_aif)\n",
        "\n",
        "get_values_of_aif_metrics(y_test_aif, model_lr_meta.predict(X_test_aif))\n",
        "print('')\n",
        "plot_metrics(y_test_aif, X_test_aif, metrics, model_lr_meta, 'gender')\n",
        "print('')\n",
        "classification_results(y_test_aif, model_lr_meta.predict(X_test_aif))"
      ],
      "metadata": {
        "colab": {
          "base_uri": "https://localhost:8080/",
          "height": 644
        },
        "id": "fhIONxd8pZnV",
        "outputId": "dc07da4e-6952-4772-e1bd-0a6fc970b65f"
      },
      "id": "fhIONxd8pZnV",
      "execution_count": 30,
      "outputs": [
        {
          "output_type": "stream",
          "name": "stdout",
          "text": [
            "Statistical parity difference:  -0.006993006993007034\n",
            "Equal opportunity difference:  0.11188811188811187\n",
            "Average odds difference:  -0.006993006993007034\n",
            "Disparate impact ratio:  0.9848484848484848\n",
            "Theil index:  0.7801585575495752\n",
            "\n",
            "        accuracy sensitivity specificity\n",
            "gender                                  \n",
            "0       0.772727    0.727273    0.818182\n",
            "1       0.653846    0.615385    0.692308\n",
            "\n",
            "[[18  6]\n",
            " [ 8 16]]\n",
            "Accuracy:  0.7083333333333334\n",
            "Sensitivity:  0.6666666666666666\n",
            "Specificity:  0.75\n"
          ]
        },
        {
          "output_type": "display_data",
          "data": {
            "text/plain": [
              "<Figure size 1152x360 with 3 Axes>"
            ],
            "image/png": "[encoded data removed]"
          },
          "metadata": {
            "needs_background": "light"
          }
        }
      ]
    },
    {
      "cell_type": "code",
      "source": [
        "# results for DisparateImpactRemover model\n",
        "\n",
        "from aif360.algorithms.preprocessing import DisparateImpactRemover \n",
        "from BlackBoxAuditing.repairers.GeneralRepairer import Repairer\n",
        "from aif360.algorithms import Transformer\n",
        "from aif360.datasets import BinaryLabelDataset\n",
        "\n",
        "X_train_aif, y_train_aif, X_test_aif, y_test_aif = create_dataset(train_df, test_df, 'diagnosis', prot_attr_cols, features_lr)\n",
        "\n",
        "new_dataset_train = train_df.drop(columns=['F2frequency_sma3nz_amean', 'mfcc1_sma3_amean',\n",
        "                                     'jitterLocal_sma3nz_amean', 'logRelF0-H1-H2_sma3nz_amean',\n",
        "                                     'slopeV0-500_sma3nz_amean', 'mfcc2V_sma3nz_stddevNorm',\n",
        "                                     'hammarbergIndexUV_sma3nz_amean', 'MeanUnvoicedSegmentLength' ])\n",
        "\n",
        "new_dataset_test = test_df.drop(columns=['F2frequency_sma3nz_amean', 'mfcc1_sma3_amean',\n",
        "                                     'jitterLocal_sma3nz_amean', 'logRelF0-H1-H2_sma3nz_amean',\n",
        "                                     'slopeV0-500_sma3nz_amean', 'mfcc2V_sma3nz_stddevNorm',\n",
        "                                     'hammarbergIndexUV_sma3nz_amean', 'MeanUnvoicedSegmentLength' ])\n",
        "\n",
        "\n",
        "def DIR(data, target_variable, protect_attriburte):\n",
        "    binaryLabelDataset = BinaryLabelDataset(\n",
        "        favorable_label= 0,\n",
        "        unfavorable_label= 1,\n",
        "        df= data,\n",
        "        label_names=[target_variable],\n",
        "        protected_attribute_names=[protect_attriburte])\n",
        "    di = DisparateImpactRemover(repair_level = 1.0)\n",
        "    dataset_transf_train = di.fit_transform(binaryLabelDataset)\n",
        "    transformed = dataset_transf_train.convert_to_dataframe()[0]\n",
        "    x_trans = transformed.drop([target_variable], axis = 1)\n",
        "    y = transformed[target_variable]\n",
        "    return x_trans, y, transformed\n",
        "\n",
        "# DIR(new_dataset, 'diagnosis', 'gender')\n",
        "\n",
        "x_train_dir, y_train_dir, transformed_train_dir = DIR(new_dataset_train, 'diagnosis', 'gender')\n",
        "x_test_dir, y_test_dir, transformed_test_dir = DIR(new_dataset_test, 'diagnosis', 'gender')\n",
        "\n",
        "model_lr.fit(x_train_dir, y_train_dir)\n",
        "\n",
        "#model_lr.predict(x_test_dir)\n",
        "\n",
        "get_values_of_aif_metrics(y_test_aif, model_lr.predict(x_test_dir))\n",
        "print('')\n",
        "plot_metrics(y_test_aif, x_test_dir, metrics, model_lr, 'gender')\n",
        "print('')\n",
        "classification_results(y_test_aif, model_lr.predict(x_test_dir))\n",
        "  "
      ],
      "metadata": {
        "colab": {
          "base_uri": "https://localhost:8080/",
          "height": 654
        },
        "id": "M3g7h3kWp4d2",
        "outputId": "903b634e-6178-4b38-9a36-707a654e3a03"
      },
      "id": "M3g7h3kWp4d2",
      "execution_count": 31,
      "outputs": [
        {
          "output_type": "stream",
          "name": "stdout",
          "text": [
            "Statistical parity difference:  0.038461538461538436\n",
            "Equal opportunity difference:  0.2797202797202798\n",
            "Average odds difference:  0.03846153846153849\n",
            "Disparate impact ratio:  1.0833333333333333\n",
            "Theil index:  0.735706794978741\n",
            "\n",
            "        accuracy sensitivity specificity\n",
            "gender                                  \n",
            "0.0     0.818182    0.818182    0.818182\n",
            "1.0     0.576923    0.538462    0.615385\n",
            "\n",
            "[[17  7]\n",
            " [ 8 16]]\n",
            "Accuracy:  0.6875\n",
            "Sensitivity:  0.6666666666666666\n",
            "Specificity:  0.7083333333333334\n"
          ]
        },
        {
          "output_type": "display_data",
          "data": {
            "text/plain": [
              "<Figure size 1152x360 with 3 Axes>"
            ],
            "image/png": "[encoded data removed]"
          },
          "metadata": {
            "needs_background": "light"
          }
        }
      ]
    },
    {
      "cell_type": "markdown",
      "source": [
        "### in-processing algorithms"
      ],
      "metadata": {
        "id": "djHCT4g0nuRj"
      },
      "id": "djHCT4g0nuRj"
    },
    {
      "cell_type": "code",
      "execution_count": null,
      "id": "29d07343",
      "metadata": {
        "colab": {
          "base_uri": "https://localhost:8080/",
          "height": 393
        },
        "id": "29d07343",
        "outputId": "03c45722-960d-4696-de55-1991c9ce8b2e"
      },
      "outputs": [
        {
          "output_type": "stream",
          "name": "stderr",
          "text": [
            "Using the level keyword in DataFrame and Series aggregations is deprecated and will be removed in a future version. Use groupby instead. df.sum(level=1) should use df.groupby(level=1).sum().\n"
          ]
        },
        {
          "output_type": "error",
          "ename": "TypeError",
          "evalue": "ignored",
          "traceback": [
            "\u001b[0;31m---------------------------------------------------------------------------\u001b[0m",
            "\u001b[0;31mTypeError\u001b[0m                                 Traceback (most recent call last)",
            "\u001b[0;32m<ipython-input-36-0436f9f0a54b>\u001b[0m in \u001b[0;36m<module>\u001b[0;34m()\u001b[0m\n\u001b[1;32m      4\u001b[0m                                \u001b[0mconstraints\u001b[0m\u001b[0;34m=\u001b[0m\u001b[0mred\u001b[0m\u001b[0;34m.\u001b[0m\u001b[0mEqualizedOdds\u001b[0m\u001b[0;34m(\u001b[0m\u001b[0;34m)\u001b[0m\u001b[0;34m,\u001b[0m\u001b[0;34m\u001b[0m\u001b[0;34m\u001b[0m\u001b[0m\n\u001b[1;32m      5\u001b[0m                               sample_weight_name=\"classifier__sample_weight\")\n\u001b[0;32m----> 6\u001b[0;31m \u001b[0mmodel_lr_fair\u001b[0m\u001b[0;34m.\u001b[0m\u001b[0mfit\u001b[0m\u001b[0;34m(\u001b[0m\u001b[0mX_train_aif\u001b[0m\u001b[0;34m,\u001b[0m \u001b[0my_train_aif\u001b[0m\u001b[0;34m,\u001b[0m \u001b[0msensitive_features\u001b[0m\u001b[0;34m=\u001b[0m\u001b[0mX_train_aif\u001b[0m\u001b[0;34m[\u001b[0m\u001b[0;34m'gender'\u001b[0m\u001b[0;34m]\u001b[0m\u001b[0;34m)\u001b[0m\u001b[0;34m\u001b[0m\u001b[0;34m\u001b[0m\u001b[0m\n\u001b[0m\u001b[1;32m      7\u001b[0m \u001b[0;34m\u001b[0m\u001b[0m\n\u001b[1;32m      8\u001b[0m \u001b[0mget_values_of_aif_metrics\u001b[0m\u001b[0;34m(\u001b[0m\u001b[0my_test_aif\u001b[0m\u001b[0;34m,\u001b[0m \u001b[0mmodel_lr_fair\u001b[0m\u001b[0;34m.\u001b[0m\u001b[0mpredict\u001b[0m\u001b[0;34m(\u001b[0m\u001b[0mX_test_aif\u001b[0m\u001b[0;34m)\u001b[0m\u001b[0;34m)\u001b[0m\u001b[0;34m\u001b[0m\u001b[0;34m\u001b[0m\u001b[0m\n",
            "\u001b[0;32m/usr/local/lib/python3.7/dist-packages/fairlearn/reductions/_grid_search/grid_search.py\u001b[0m in \u001b[0;36mfit\u001b[0;34m(self, X, y, **kwargs)\u001b[0m\n\u001b[1;32m    184\u001b[0m \u001b[0;34m\u001b[0m\u001b[0m\n\u001b[1;32m    185\u001b[0m             \u001b[0moracle_call_start_time\u001b[0m \u001b[0;34m=\u001b[0m \u001b[0mtime\u001b[0m\u001b[0;34m(\u001b[0m\u001b[0;34m)\u001b[0m\u001b[0;34m\u001b[0m\u001b[0;34m\u001b[0m\u001b[0m\n\u001b[0;32m--> 186\u001b[0;31m             \u001b[0mcurrent_estimator\u001b[0m\u001b[0;34m.\u001b[0m\u001b[0mfit\u001b[0m\u001b[0;34m(\u001b[0m\u001b[0mX\u001b[0m\u001b[0;34m,\u001b[0m \u001b[0my_reduction\u001b[0m\u001b[0;34m,\u001b[0m \u001b[0;34m**\u001b[0m\u001b[0;34m{\u001b[0m\u001b[0mself\u001b[0m\u001b[0;34m.\u001b[0m\u001b[0msample_weight_name\u001b[0m\u001b[0;34m:\u001b[0m \u001b[0mweights\u001b[0m\u001b[0;34m}\u001b[0m\u001b[0;34m)\u001b[0m\u001b[0;34m\u001b[0m\u001b[0;34m\u001b[0m\u001b[0m\n\u001b[0m\u001b[1;32m    187\u001b[0m             \u001b[0moracle_call_execution_time\u001b[0m \u001b[0;34m=\u001b[0m \u001b[0mtime\u001b[0m\u001b[0;34m(\u001b[0m\u001b[0;34m)\u001b[0m \u001b[0;34m-\u001b[0m \u001b[0moracle_call_start_time\u001b[0m\u001b[0;34m\u001b[0m\u001b[0;34m\u001b[0m\u001b[0m\n\u001b[1;32m    188\u001b[0m             \u001b[0mlogger\u001b[0m\u001b[0;34m.\u001b[0m\u001b[0mdebug\u001b[0m\u001b[0;34m(\u001b[0m\u001b[0;34m\"Call to estimator complete\"\u001b[0m\u001b[0;34m)\u001b[0m\u001b[0;34m\u001b[0m\u001b[0;34m\u001b[0m\u001b[0m\n",
            "\u001b[0;31mTypeError\u001b[0m: fit() got an unexpected keyword argument 'classifier__sample_weight'"
          ]
        }
      ],
      "source": [
        "# results for debiased model with GridSearch\n",
        "\n",
        "model_lr_fair = red.GridSearch(model_lr,\n",
        "                               constraints=red.EqualizedOdds(),\n",
        "                              sample_weight_name=\"classifier__sample_weight\")\n",
        "model_lr_fair.fit(X_train_aif, y_train_aif, sensitive_features=X_train_aif['gender'])\n",
        "\n",
        "get_values_of_aif_metrics(y_test_aif, model_lr_fair.predict(X_test_aif))\n",
        "print('')\n",
        "plot_metrics(y_test_aif, X_test_aif, metrics, model_lr_fair, 'gender')\n",
        "print('')\n",
        "classification_results(y_test_aif, model_lr_fair.predict(X_test_aif))"
      ]
    },
    {
      "cell_type": "code",
      "execution_count": null,
      "id": "17369622",
      "metadata": {
        "scrolled": false,
        "id": "17369622",
        "outputId": "fd40e334-dafb-480b-f852-94e3f1afa6de"
      },
      "outputs": [
        {
          "name": "stderr",
          "output_type": "stream",
          "text": [
            "Using the level keyword in DataFrame and Series aggregations is deprecated and will be removed in a future version. Use groupby instead. df.sum(level=1) should use df.groupby(level=1).sum().\n",
            "Using the level keyword in DataFrame and Series aggregations is deprecated and will be removed in a future version. Use groupby instead. df.sum(level=1) should use df.groupby(level=1).sum().\n",
            "Using the level keyword in DataFrame and Series aggregations is deprecated and will be removed in a future version. Use groupby instead. df.sum(level=1) should use df.groupby(level=1).sum().\n",
            "Using the level keyword in DataFrame and Series aggregations is deprecated and will be removed in a future version. Use groupby instead. df.sum(level=1) should use df.groupby(level=1).sum().\n",
            "Using the level keyword in DataFrame and Series aggregations is deprecated and will be removed in a future version. Use groupby instead. df.sum(level=1) should use df.groupby(level=1).sum().\n",
            "Using the level keyword in DataFrame and Series aggregations is deprecated and will be removed in a future version. Use groupby instead. df.sum(level=1) should use df.groupby(level=1).sum().\n",
            "Using the level keyword in DataFrame and Series aggregations is deprecated and will be removed in a future version. Use groupby instead. df.sum(level=1) should use df.groupby(level=1).sum().\n",
            "Using the level keyword in DataFrame and Series aggregations is deprecated and will be removed in a future version. Use groupby instead. df.sum(level=1) should use df.groupby(level=1).sum().\n",
            "Using the level keyword in DataFrame and Series aggregations is deprecated and will be removed in a future version. Use groupby instead. df.sum(level=1) should use df.groupby(level=1).sum().\n",
            "Using the level keyword in DataFrame and Series aggregations is deprecated and will be removed in a future version. Use groupby instead. df.sum(level=1) should use df.groupby(level=1).sum().\n",
            "Using the level keyword in DataFrame and Series aggregations is deprecated and will be removed in a future version. Use groupby instead. df.sum(level=1) should use df.groupby(level=1).sum().\n",
            "Using the level keyword in DataFrame and Series aggregations is deprecated and will be removed in a future version. Use groupby instead. df.sum(level=1) should use df.groupby(level=1).sum().\n",
            "Using the level keyword in DataFrame and Series aggregations is deprecated and will be removed in a future version. Use groupby instead. df.sum(level=1) should use df.groupby(level=1).sum().\n",
            "Using the level keyword in DataFrame and Series aggregations is deprecated and will be removed in a future version. Use groupby instead. df.sum(level=1) should use df.groupby(level=1).sum().\n",
            "Using the level keyword in DataFrame and Series aggregations is deprecated and will be removed in a future version. Use groupby instead. df.sum(level=1) should use df.groupby(level=1).sum().\n",
            "Using the level keyword in DataFrame and Series aggregations is deprecated and will be removed in a future version. Use groupby instead. df.sum(level=1) should use df.groupby(level=1).sum().\n",
            "Using the level keyword in DataFrame and Series aggregations is deprecated and will be removed in a future version. Use groupby instead. df.sum(level=1) should use df.groupby(level=1).sum().\n",
            "Using the level keyword in DataFrame and Series aggregations is deprecated and will be removed in a future version. Use groupby instead. df.sum(level=1) should use df.groupby(level=1).sum().\n",
            "Using the level keyword in DataFrame and Series aggregations is deprecated and will be removed in a future version. Use groupby instead. df.sum(level=1) should use df.groupby(level=1).sum().\n",
            "Using the level keyword in DataFrame and Series aggregations is deprecated and will be removed in a future version. Use groupby instead. df.sum(level=1) should use df.groupby(level=1).sum().\n",
            "Using the level keyword in DataFrame and Series aggregations is deprecated and will be removed in a future version. Use groupby instead. df.sum(level=1) should use df.groupby(level=1).sum().\n",
            "Using the level keyword in DataFrame and Series aggregations is deprecated and will be removed in a future version. Use groupby instead. df.sum(level=1) should use df.groupby(level=1).sum().\n",
            "Using the level keyword in DataFrame and Series aggregations is deprecated and will be removed in a future version. Use groupby instead. df.sum(level=1) should use df.groupby(level=1).sum().\n"
          ]
        },
        {
          "name": "stdout",
          "output_type": "stream",
          "text": [
            "Statistical parity difference:  0.038461538461538436\n",
            "Equal opportunity difference:  0.11188811188811187\n",
            "Average odds difference:  0.038461538461538436\n",
            "Disparate impact ratio:  1.0833333333333333\n",
            "Theil index:  0.735706794978741\n",
            "\n",
            "        accuracy sensitivity specificity\n",
            "gender                                  \n",
            "0       0.772727    0.727273    0.818182\n",
            "1       0.653846    0.615385    0.692308\n",
            "\n",
            "[[18  6]\n",
            " [ 8 16]]\n",
            "Accuracy:  0.7083333333333334\n",
            "Sensitivity:  0.6666666666666666\n",
            "Specificity:  0.75\n"
          ]
        },
        {
          "data": {
            "image/png": "[encoded data removed]",
            "text/plain": [
              "<Figure size 1152x360 with 3 Axes>"
            ]
          },
          "metadata": {
            "needs_background": "light"
          },
          "output_type": "display_data"
        }
      ],
      "source": [
        "# results for debiased model with ExponentiatedGradient\n",
        "\n",
        "model_lr_fair = red.ExponentiatedGradient(model_lr,\n",
        "                               constraints=red.DemographicParity(),\n",
        "                              sample_weight_name=\"classifier__sample_weight\")\n",
        "model_lr_fair.fit(X_train_aif, y_train_aif, sensitive_features=X_train_aif['gender'])\n",
        "\n",
        "get_values_of_aif_metrics(y_test_aif, model_lr_fair.predict(X_test_aif))\n",
        "print('')\n",
        "plot_metrics(y_test_aif, X_test_aif, metrics, model_lr_fair, 'gender')\n",
        "print('')\n",
        "classification_results(y_test_aif, model_lr_fair.predict(X_test_aif))"
      ]
    },
    {
      "cell_type": "markdown",
      "id": "718453aa",
      "metadata": {
        "id": "718453aa"
      },
      "source": [
        "#### Results:\n",
        "\n",
        "Model's performance improved"
      ]
    },
    {
      "cell_type": "markdown",
      "id": "0c364522",
      "metadata": {
        "id": "0c364522"
      },
      "source": [
        "### Random forest model"
      ]
    },
    {
      "cell_type": "code",
      "execution_count": 135,
      "id": "7cda24e4",
      "metadata": {
        "scrolled": true,
        "id": "7cda24e4"
      },
      "outputs": [],
      "source": [
        "X_train_aif, y_train_aif, X_test_aif, y_test_aif = create_dataset(train_df, test_df, 'diagnosis', prot_attr_cols, features_rf)"
      ]
    },
    {
      "cell_type": "code",
      "source": [
        "# MinMaxScaler\n",
        "minmax_scaler = MinMaxScaler()\n",
        "minmax_scaler.fit(X_train_aif)\n",
        "minMax_scaled_x_train = minmax_scaler.transform(X_train_aif)\n",
        "minMax_scaled_x_train_rf = pd.DataFrame(minMax_scaled_x_train, columns=X_train_aif.columns)  # Converts back to dataframe after scaling\n",
        "\n",
        "minMax_scaled_x_test = minmax_scaler.transform(X_test_aif)\n",
        "minMax_scaled_x_test_rf = pd.DataFrame(minMax_scaled_x_test, columns=X_test_aif.columns)  # Converts back to dataframe after scaling\n"
      ],
      "metadata": {
        "id": "3RoG6iOP5blK"
      },
      "id": "3RoG6iOP5blK",
      "execution_count": 136,
      "outputs": []
    },
    {
      "cell_type": "code",
      "execution_count": 137,
      "id": "56fa3828",
      "metadata": {
        "scrolled": false,
        "colab": {
          "base_uri": "https://localhost:8080/",
          "height": 654
        },
        "id": "56fa3828",
        "outputId": "fc44629b-f9c3-4019-b7d3-4414962ebffe"
      },
      "outputs": [
        {
          "output_type": "stream",
          "name": "stdout",
          "text": [
            "Statistical parity difference:  -0.3356643356643357\n",
            "Equal opportunity difference:  -0.22377622377622386\n",
            "Average odds difference:  -0.3356643356643357\n",
            "Disparate impact ratio:  0.48663101604278075\n",
            "Theil index:  0.6931471805599453\n",
            "\n",
            "        accuracy sensitivity specificity\n",
            "gender                                  \n",
            "0.0     0.727273    0.545455    0.909091\n",
            "1.0     0.615385    0.769231    0.461538\n",
            "\n",
            "[[16  8]\n",
            " [ 8 16]]\n",
            "Accuracy:  0.6666666666666666\n",
            "Sensitivity:  0.6666666666666666\n",
            "Specificity:  0.6666666666666666\n"
          ]
        },
        {
          "output_type": "display_data",
          "data": {
            "text/plain": [
              "<Figure size 1152x360 with 3 Axes>"
            ],
            "image/png": "[encoded data removed]"
          },
          "metadata": {
            "needs_background": "light"
          }
        }
      ],
      "source": [
        "# results for default model \n",
        "\n",
        "get_values_of_aif_metrics(y_test_aif, model_rf.predict(minMax_scaled_x_test_rf))\n",
        "print('')\n",
        "plot_metrics(y_test_aif, minMax_scaled_x_test_rf, metrics, model_rf, 'gender')\n",
        "print('')\n",
        "classification_results(y_test_aif, model_rf.predict(minMax_scaled_x_test_rf))"
      ]
    },
    {
      "cell_type": "markdown",
      "source": [
        "### pre-processing algorithms"
      ],
      "metadata": {
        "id": "EUHooOcsn9XL"
      },
      "id": "EUHooOcsn9XL"
    },
    {
      "cell_type": "code",
      "source": [
        "# results for reweighing model\n",
        "\n",
        "from aif360.algorithms.preprocessing import DisparateImpactRemover, Reweighing \n",
        "from BlackBoxAuditing.repairers.GeneralRepairer import Repairer\n",
        "from aif360.algorithms import Transformer\n",
        "from aif360.datasets import BinaryLabelDataset\n",
        "\n",
        "minmax_scaler = MinMaxScaler()\n",
        "minmax_scaler.fit(train_df)\n",
        "minMax_scaled_x_train = minmax_scaler.transform(train_df)\n",
        "minMax_scaled_x_train_rf = pd.DataFrame(minMax_scaled_x_train, columns=train_df.columns)  # Converts back to dataframe after scaling\n",
        "\n",
        "minMax_scaled_x_test = minmax_scaler.transform(test_df)\n",
        "minMax_scaled_x_test_rf = pd.DataFrame(minMax_scaled_x_test, columns=test_df.columns)  # Converts back to dataframe after scaling\n",
        "\n",
        "new_dataset_train = minMax_scaled_x_train_rf.drop(columns=['F2frequency_sma3nz_amean', 'mfcc1_sma3_amean',\n",
        "                                     'jitterLocal_sma3nz_amean', 'logRelF0-H1-H2_sma3nz_amean',\n",
        "                                     'slopeV0-500_sma3nz_amean', 'mfcc2V_sma3nz_stddevNorm',\n",
        "                                     'hammarbergIndexUV_sma3nz_amean', 'spectralFlux_sma3_amean',\n",
        "                                     'MeanUnvoicedSegmentLength' ])\n",
        "\n",
        "new_dataset_test = minMax_scaled_x_test_rf.drop(columns=['F2frequency_sma3nz_amean', 'mfcc1_sma3_amean',\n",
        "                                     'jitterLocal_sma3nz_amean', 'logRelF0-H1-H2_sma3nz_amean',\n",
        "                                     'slopeV0-500_sma3nz_amean', 'mfcc2V_sma3nz_stddevNorm',\n",
        "                                     'hammarbergIndexUV_sma3nz_amean', 'spectralFlux_sma3_amean',\n",
        "                                     'MeanUnvoicedSegmentLength' ])\n",
        "\n",
        "def reweighing(data, target_variable, protect_attriburte):\n",
        "    binaryLabelDataset = BinaryLabelDataset(\n",
        "        favorable_label= 0,\n",
        "        unfavorable_label= 1,\n",
        "        df= data,\n",
        "        label_names=[target_variable],\n",
        "        protected_attribute_names=[protect_attriburte])\n",
        "    RW = Reweighing(unprivileged_groups=[{protect_attriburte: 1}],\n",
        "               privileged_groups=[{protect_attriburte: 0}])\n",
        "    RW.fit(binaryLabelDataset)\n",
        "    dataset_transf_train = RW.transform(binaryLabelDataset)\n",
        "    return dataset_transf_train, dataset_transf_train.instance_weights\n",
        "\n",
        "transformed_train_rw, transformed_train_rw_weights = reweighing(new_dataset_train, 'diagnosis', 'gender')\n",
        "transformed_test_rw, transformed_test_rw_weights = reweighing(new_dataset_test, 'diagnosis', 'gender')\n",
        "\n",
        "data_transformed_train_rw = transformed_train_rw.convert_to_dataframe()[0]\n",
        "data_x_trans_train = data_transformed_train_rw.drop(['diagnosis'], axis = 1)\n",
        "\n",
        "\n",
        "data_transformed_test_rw = transformed_test_rw.convert_to_dataframe()[0]\n",
        "data_x_trans_test = data_transformed_test_rw.drop(['diagnosis'], axis = 1)\n",
        "\n",
        "\n",
        "model_rf.fit(data_x_trans_train, y_train_dir)\n",
        "\n",
        "#model_lr.predict(x_test_dir)\n",
        "\n",
        "#print('y_test, y_pred', y_test_dir, model_lr.predict(x_test_dir))\n",
        "#print('y_test_aif', y_test_aif)\n",
        "get_values_of_aif_metrics(y_test_aif, model_rf.predict(data_x_trans_test))\n",
        "print('')\n",
        "plot_metrics(y_test_aif, data_x_trans_test, metrics, model_rf, 'gender')\n",
        "print('')\n",
        "classification_results(y_test_aif, model_rf.predict(data_x_trans_test))\n"
      ],
      "metadata": {
        "colab": {
          "base_uri": "https://localhost:8080/",
          "height": 654
        },
        "id": "1C_-iWk594TJ",
        "outputId": "13b4baa2-035f-4755-a014-231ffe40dc23"
      },
      "id": "1C_-iWk594TJ",
      "execution_count": 138,
      "outputs": [
        {
          "output_type": "stream",
          "name": "stdout",
          "text": [
            "Statistical parity difference:  -0.2342657342657343\n",
            "Equal opportunity difference:  -0.2517482517482518\n",
            "Average odds difference:  -0.23426573426573427\n",
            "Disparate impact ratio:  0.4924242424242424\n",
            "Theil index:  1.0379876668516748\n",
            "\n",
            "        accuracy sensitivity specificity\n",
            "gender                                  \n",
            "0.0     0.636364    0.363636    0.909091\n",
            "1.0     0.653846    0.615385    0.692308\n",
            "\n",
            "[[19  5]\n",
            " [12 12]]\n",
            "Accuracy:  0.6458333333333334\n",
            "Sensitivity:  0.5\n",
            "Specificity:  0.7916666666666666\n"
          ]
        },
        {
          "output_type": "display_data",
          "data": {
            "text/plain": [
              "<Figure size 1152x360 with 3 Axes>"
            ],
            "image/png": "[encoded data removed]"
          },
          "metadata": {
            "needs_background": "light"
          }
        }
      ]
    },
    {
      "cell_type": "code",
      "source": [
        "# results for DisparateImpactRemover model\n",
        "\n",
        "from aif360.algorithms.preprocessing import DisparateImpactRemover \n",
        "from BlackBoxAuditing.repairers.GeneralRepairer import Repairer\n",
        "from aif360.algorithms import Transformer\n",
        "from aif360.datasets import BinaryLabelDataset\n",
        "\n",
        "X_train_aif, y_train_aif, X_test_aif, y_test_aif = create_dataset(train_df, test_df, 'diagnosis', prot_attr_cols, features_rf)\n",
        "\n",
        "minmax_scaler = MinMaxScaler()\n",
        "minmax_scaler.fit(train_df)\n",
        "minMax_scaled_x_train = minmax_scaler.transform(train_df)\n",
        "minMax_scaled_x_train_rf = pd.DataFrame(minMax_scaled_x_train, columns=train_df.columns)  # Converts back to dataframe after scaling\n",
        "\n",
        "minMax_scaled_x_test = minmax_scaler.transform(test_df)\n",
        "minMax_scaled_x_test_rf = pd.DataFrame(minMax_scaled_x_test, columns=test_df.columns)  # Converts back to dataframe after scaling\n",
        "\n",
        "new_dataset_train = minMax_scaled_x_train_rf.drop(columns=['F2frequency_sma3nz_amean', 'mfcc1_sma3_amean',\n",
        "                                     'jitterLocal_sma3nz_amean', 'logRelF0-H1-H2_sma3nz_amean',\n",
        "                                     'slopeV0-500_sma3nz_amean', 'mfcc2V_sma3nz_stddevNorm',\n",
        "                                     'hammarbergIndexUV_sma3nz_amean', 'spectralFlux_sma3_amean',\n",
        "                                     'MeanUnvoicedSegmentLength' ])\n",
        "\n",
        "new_dataset_test = minMax_scaled_x_test_rf.drop(columns=['F2frequency_sma3nz_amean', 'mfcc1_sma3_amean',\n",
        "                                     'jitterLocal_sma3nz_amean', 'logRelF0-H1-H2_sma3nz_amean',\n",
        "                                     'slopeV0-500_sma3nz_amean', 'mfcc2V_sma3nz_stddevNorm',\n",
        "                                     'hammarbergIndexUV_sma3nz_amean', 'spectralFlux_sma3_amean',\n",
        "                                     'MeanUnvoicedSegmentLength' ])\n",
        "\n",
        "def DIR(data, target_variable, protect_attriburte):\n",
        "    binaryLabelDataset = BinaryLabelDataset(\n",
        "        favorable_label= 0,\n",
        "        unfavorable_label= 1,\n",
        "        df= data,\n",
        "        label_names=[target_variable],\n",
        "        protected_attribute_names=[protect_attriburte])\n",
        "    di = DisparateImpactRemover(repair_level = 1.0)\n",
        "    dataset_transf_train = di.fit_transform(binaryLabelDataset)\n",
        "    transformed = dataset_transf_train.convert_to_dataframe()[0]\n",
        "    x_trans = transformed.drop([target_variable], axis = 1)\n",
        "    y = transformed[target_variable]\n",
        "    return x_trans, y, transformed\n",
        "\n",
        "# DIR(new_dataset, 'diagnosis', 'gender')\n",
        "\n",
        "x_train_dir, y_train_dir, transformed_train_dir = DIR(new_dataset_train, 'diagnosis', 'gender')\n",
        "x_test_dir, y_test_dir, transformed_test_dir = DIR(new_dataset_test, 'diagnosis', 'gender')\n",
        "\n",
        "model_rf.fit(x_train_dir, y_train_dir)\n",
        "\n",
        "#model_lr.predict(x_test_dir)\n",
        "\n",
        "#print('y_test, y_pred', y_test_dir, model_lr.predict(x_test_dir))\n",
        "#print('y_test_aif', y_test_aif)\n",
        "get_values_of_aif_metrics(y_test_aif, model_rf.predict(x_test_dir))\n",
        "print('')\n",
        "plot_metrics(y_test_aif, x_test_dir, metrics, model_rf, 'gender')\n",
        "print('')\n",
        "classification_results(y_test_aif, model_rf.predict(x_test_dir))\n",
        "  "
      ],
      "metadata": {
        "colab": {
          "base_uri": "https://localhost:8080/",
          "height": 654
        },
        "id": "em1v2NlJqv6Y",
        "outputId": "117424bc-f5dc-4d9e-886a-ecb9e5bda5ef"
      },
      "id": "em1v2NlJqv6Y",
      "execution_count": 148,
      "outputs": [
        {
          "output_type": "stream",
          "name": "stdout",
          "text": [
            "Statistical parity difference:  0.038461538461538436\n",
            "Equal opportunity difference:  0.18881118881118886\n",
            "Average odds difference:  0.03846153846153849\n",
            "Disparate impact ratio:  1.0833333333333333\n",
            "Theil index:  0.7357067949787411\n",
            "\n",
            "        accuracy sensitivity specificity\n",
            "gender                                  \n",
            "0.0     0.727273    0.727273    0.727273\n",
            "1.0     0.576923    0.538462    0.615385\n",
            "\n",
            "[[16  8]\n",
            " [ 9 15]]\n",
            "Accuracy:  0.6458333333333334\n",
            "Sensitivity:  0.625\n",
            "Specificity:  0.6666666666666666\n"
          ]
        },
        {
          "output_type": "display_data",
          "data": {
            "text/plain": [
              "<Figure size 1152x360 with 3 Axes>"
            ],
            "image/png": "[encoded data removed]"
          },
          "metadata": {
            "needs_background": "light"
          }
        }
      ]
    },
    {
      "cell_type": "markdown",
      "source": [
        "### in-processing algorithms"
      ],
      "metadata": {
        "id": "lft3zvXjoBEq"
      },
      "id": "lft3zvXjoBEq"
    },
    {
      "cell_type": "code",
      "execution_count": null,
      "id": "d1811d58",
      "metadata": {
        "scrolled": false,
        "id": "d1811d58"
      },
      "outputs": [],
      "source": [
        "# results for debiased model with GridSearch\n",
        "\n",
        "model_rf_fair = red.GridSearch(model_rf,\n",
        "                               constraints=red.DemographicParity(),\n",
        "                              sample_weight_name=\"classifier__sample_weight\",)\n",
        "model_rf_fair.fit(X_train_aif, y_train_aif, sensitive_features=X_train_aif['gender'])\n",
        "\n",
        "get_values_of_aif_metrics(y_test_aif, model_rf_fair.predict(X_test_aif))\n",
        "print('')\n",
        "plot_metrics(y_test_aif, X_test_aif, metrics, model_rf_fair, 'gender')\n",
        "print('')\n",
        "classification_results(y_test_aif, model_rf_fair.predict(X_test_aif))"
      ]
    },
    {
      "cell_type": "code",
      "execution_count": null,
      "id": "a6fe4848",
      "metadata": {
        "scrolled": false,
        "id": "a6fe4848"
      },
      "outputs": [],
      "source": [
        "# results for debiased model with ExponentiatedGradient\n",
        "\n",
        "model_rf_fair = red.ExponentiatedGradient(model_rf,\n",
        "                               constraints=red.TruePositiveRateParity(),\n",
        "                              sample_weight_name=\"classifier__sample_weight\",)\n",
        "model_rf_fair.fit(X_train_aif, y_train_aif, sensitive_features=X_train_aif['gender'])\n",
        "\n",
        "get_values_of_aif_metrics(y_test_aif, model_rf_fair.predict(X_test_aif))\n",
        "print('')\n",
        "plot_metrics(y_test_aif, X_test_aif, metrics, model_rf_fair, 'gender')\n",
        "print('')\n",
        "classification_results(y_test_aif, model_rf_fair.predict(X_test_aif))"
      ]
    },
    {
      "cell_type": "markdown",
      "id": "358f3113",
      "metadata": {
        "id": "358f3113"
      },
      "source": [
        "#### Results:\n",
        "Model performance didn't improve and even became a bit worse."
      ]
    },
    {
      "cell_type": "markdown",
      "id": "de02bb08",
      "metadata": {
        "id": "de02bb08"
      },
      "source": [
        "### kNN model"
      ]
    },
    {
      "cell_type": "code",
      "execution_count": null,
      "id": "e169a57d",
      "metadata": {
        "scrolled": true,
        "id": "e169a57d"
      },
      "outputs": [],
      "source": [
        "X_train_aif, y_train_aif, X_test_aif, y_test_aif = create_dataset(train_df, test_df, 'diagnosis', prot_attr_cols, features_knn)"
      ]
    },
    {
      "cell_type": "code",
      "execution_count": null,
      "id": "4b009cf0",
      "metadata": {
        "scrolled": false,
        "colab": {
          "base_uri": "https://localhost:8080/",
          "height": 644
        },
        "id": "4b009cf0",
        "outputId": "e2148d2e-24f9-4754-ba5e-263878402079"
      },
      "outputs": [
        {
          "output_type": "stream",
          "name": "stdout",
          "text": [
            "Statistical parity difference:  0.0\n",
            "Equal opportunity difference:  0.0\n",
            "Average odds difference:  0.0\n",
            "Disparate impact ratio:  1.0\n",
            "Theil index:  0.0\n",
            "\n",
            "       accuracy sensitivity specificity\n",
            "gender                                 \n",
            "0           0.5         1.0         0.0\n",
            "1           0.5         1.0         0.0\n",
            "\n",
            "[[ 0 24]\n",
            " [ 0 24]]\n",
            "Accuracy:  0.5\n",
            "Sensitivity:  1.0\n",
            "Specificity:  0.0\n"
          ]
        },
        {
          "output_type": "display_data",
          "data": {
            "text/plain": [
              "<Figure size 1152x360 with 3 Axes>"
            ],
            "image/png": "[encoded data removed]"
          },
          "metadata": {
            "needs_background": "light"
          }
        }
      ],
      "source": [
        "# results for default model\n",
        "# print('train', X_train_aif.head())\n",
        "# print('test', X_test_aif.head())\n",
        "get_values_of_aif_metrics(y_test_aif, model_knn.predict(X_test_aif))\n",
        "print('')\n",
        "plot_metrics(y_test_aif, X_test_aif, metrics, model_knn, 'gender')\n",
        "print('')\n",
        "classification_results(y_test_aif, model_knn.predict(X_test_aif))"
      ]
    },
    {
      "cell_type": "markdown",
      "source": [
        "### pre-processing algorithms"
      ],
      "metadata": {
        "id": "URx_vSV1oXYJ"
      },
      "id": "URx_vSV1oXYJ"
    },
    {
      "cell_type": "code",
      "source": [
        "# results for reweighingMeta model\n",
        "from aif360.sklearn.preprocessing import Reweighing\n",
        "from aif360.sklearn.preprocessing import ReweighingMeta\n",
        "\n",
        "X_train_aif, y_train_aif, X_test_aif, y_test_aif = create_dataset(train_df, test_df, 'diagnosis', prot_attr_cols, features_knn)\n",
        "\n",
        "model_knn_meta = ReweighingMeta(model_knn, reweigher=Reweighing(prot_attr = prot_attr_cols))\n",
        "\n",
        "model_knn_meta.fit(X_train_aif, y_train_aif)\n",
        "\n",
        "#model_knn_meta.predict(X_test_aif)\n",
        "\n",
        "get_values_of_aif_metrics(y_test_aif, model_knn_meta.predict(X_test_aif))\n",
        "print('')\n",
        "plot_metrics(y_test_aif, X_test_aif, metrics, model_knn_meta, 'gender')\n",
        "print('')\n",
        "classification_results(y_test_aif, model_knn_meta.predict(X_test_aif))"
      ],
      "metadata": {
        "colab": {
          "base_uri": "https://localhost:8080/",
          "height": 356
        },
        "id": "tkGFfNKjq9Be",
        "outputId": "45b5e79d-94e4-4f3c-8275-dded6e309e52"
      },
      "id": "tkGFfNKjq9Be",
      "execution_count": null,
      "outputs": [
        {
          "output_type": "error",
          "ename": "TypeError",
          "evalue": "ignored",
          "traceback": [
            "\u001b[0;31m---------------------------------------------------------------------------\u001b[0m",
            "\u001b[0;31mTypeError\u001b[0m                                 Traceback (most recent call last)",
            "\u001b[0;32m<ipython-input-82-7470d3317653>\u001b[0m in \u001b[0;36m<module>\u001b[0;34m()\u001b[0m\n\u001b[1;32m      7\u001b[0m \u001b[0mmodel_knn_meta\u001b[0m \u001b[0;34m=\u001b[0m \u001b[0mReweighingMeta\u001b[0m\u001b[0;34m(\u001b[0m\u001b[0mmodel_knn\u001b[0m\u001b[0;34m,\u001b[0m \u001b[0mreweigher\u001b[0m\u001b[0;34m=\u001b[0m\u001b[0mReweighing\u001b[0m\u001b[0;34m(\u001b[0m\u001b[0mprot_attr\u001b[0m \u001b[0;34m=\u001b[0m \u001b[0mprot_attr_cols\u001b[0m\u001b[0;34m)\u001b[0m\u001b[0;34m)\u001b[0m\u001b[0;34m\u001b[0m\u001b[0;34m\u001b[0m\u001b[0m\n\u001b[1;32m      8\u001b[0m \u001b[0;34m\u001b[0m\u001b[0m\n\u001b[0;32m----> 9\u001b[0;31m \u001b[0mmodel_knn_meta\u001b[0m\u001b[0;34m.\u001b[0m\u001b[0mfit\u001b[0m\u001b[0;34m(\u001b[0m\u001b[0mX_train_aif\u001b[0m\u001b[0;34m,\u001b[0m \u001b[0my_train_aif\u001b[0m\u001b[0;34m)\u001b[0m\u001b[0;34m\u001b[0m\u001b[0;34m\u001b[0m\u001b[0m\n\u001b[0m\u001b[1;32m     10\u001b[0m \u001b[0;34m\u001b[0m\u001b[0m\n\u001b[1;32m     11\u001b[0m \u001b[0;31m#model_knn_meta.predict(X_test_aif)\u001b[0m\u001b[0;34m\u001b[0m\u001b[0;34m\u001b[0m\u001b[0;34m\u001b[0m\u001b[0m\n",
            "\u001b[0;32m/usr/local/lib/python3.7/dist-packages/aif360/sklearn/preprocessing/reweighing.py\u001b[0m in \u001b[0;36mfit\u001b[0;34m(self, X, y, sample_weight)\u001b[0m\n\u001b[1;32m    134\u001b[0m         \u001b[0;32mif\u001b[0m \u001b[0;32mnot\u001b[0m \u001b[0mhas_fit_parameter\u001b[0m\u001b[0;34m(\u001b[0m\u001b[0mself\u001b[0m\u001b[0;34m.\u001b[0m\u001b[0mestimator\u001b[0m\u001b[0;34m,\u001b[0m \u001b[0;34m'sample_weight'\u001b[0m\u001b[0;34m)\u001b[0m\u001b[0;34m:\u001b[0m\u001b[0;34m\u001b[0m\u001b[0;34m\u001b[0m\u001b[0m\n\u001b[1;32m    135\u001b[0m             raise TypeError(\"`estimator` (type: {}) does not have fit parameter\"\n\u001b[0;32m--> 136\u001b[0;31m                             \" `sample_weight`.\".format(type(self.estimator)))\n\u001b[0m\u001b[1;32m    137\u001b[0m \u001b[0;34m\u001b[0m\u001b[0m\n\u001b[1;32m    138\u001b[0m         \u001b[0mself\u001b[0m\u001b[0;34m.\u001b[0m\u001b[0mreweigher_\u001b[0m \u001b[0;34m=\u001b[0m \u001b[0mclone\u001b[0m\u001b[0;34m(\u001b[0m\u001b[0mself\u001b[0m\u001b[0;34m.\u001b[0m\u001b[0mreweigher\u001b[0m\u001b[0;34m)\u001b[0m\u001b[0;34m\u001b[0m\u001b[0;34m\u001b[0m\u001b[0m\n",
            "\u001b[0;31mTypeError\u001b[0m: `estimator` (type: <class 'sklearn.neighbors._classification.KNeighborsClassifier'>) does not have fit parameter `sample_weight`."
          ]
        }
      ]
    },
    {
      "cell_type": "code",
      "source": [
        "# results for DisparateImpactRemover model\n",
        "\n",
        "from aif360.algorithms.preprocessing import DisparateImpactRemover \n",
        "from BlackBoxAuditing.repairers.GeneralRepairer import Repairer\n",
        "from aif360.algorithms import Transformer\n",
        "from aif360.datasets import BinaryLabelDataset\n",
        "\n",
        "X_train_aif, y_train_aif, X_test_aif, y_test_aif = create_dataset(train_df, test_df, 'diagnosis', prot_attr_cols, features_knn)\n",
        "\n",
        "new_dataset_train = train_df.drop(columns=['F2frequency_sma3nz_amean', 'F1frequency_sma3nz_amean',\n",
        "                                     'jitterLocal_sma3nz_amean', 'logRelF0-H1-H2_sma3nz_amean',\n",
        "                                     'slopeV0-500_sma3nz_amean', 'mfcc2V_sma3nz_stddevNorm',\n",
        "                                     'hammarbergIndexUV_sma3nz_amean', 'spectralFlux_sma3_amean' ])\n",
        "\n",
        "new_dataset_test = test_df.drop(columns=['F2frequency_sma3nz_amean', 'F1frequency_sma3nz_amean',\n",
        "                                     'jitterLocal_sma3nz_amean', 'logRelF0-H1-H2_sma3nz_amean',\n",
        "                                     'slopeV0-500_sma3nz_amean', 'mfcc2V_sma3nz_stddevNorm',\n",
        "                                     'hammarbergIndexUV_sma3nz_amean', 'spectralFlux_sma3_amean'])\n",
        "\n",
        "def DIR(data, target_variable, protect_attriburte):\n",
        "    binaryLabelDataset = BinaryLabelDataset(\n",
        "        favorable_label= 0,\n",
        "        unfavorable_label= 1,\n",
        "        df= data,\n",
        "        label_names=[target_variable],\n",
        "        protected_attribute_names=[protect_attriburte])\n",
        "    di = DisparateImpactRemover(repair_level = 1.0)\n",
        "    dataset_transf_train = di.fit_transform(binaryLabelDataset)\n",
        "    transformed = dataset_transf_train.convert_to_dataframe()[0]\n",
        "    x_trans = transformed.drop([target_variable], axis = 1)\n",
        "    y = transformed[target_variable]\n",
        "    return x_trans, y, transformed\n",
        "\n",
        "# DIR(new_dataset, 'diagnosis', 'gender')\n",
        "\n",
        "x_train_dir, y_train_dir, transformed_train_dir = DIR(new_dataset_train, 'diagnosis', 'gender')\n",
        "x_test_dir, y_test_dir, transformed_test_dir = DIR(new_dataset_test, 'diagnosis', 'gender')\n",
        "\n",
        "model_knn.fit(x_train_dir, y_train_dir)\n",
        "\n",
        "#model_lr.predict(x_test_dir)\n",
        "\n",
        "#print('y_test, y_pred', y_test_dir, model_lr.predict(x_test_dir))\n",
        "#print('y_test_aif', y_test_aif)\n",
        "get_values_of_aif_metrics(y_test_aif, model_knn.predict(x_test_dir))\n",
        "print('')\n",
        "plot_metrics(y_test_aif, x_test_dir, metrics, model_knn, 'gender')\n",
        "print('')\n",
        "classification_results(y_test_aif, model_knn.predict(x_test_dir))\n",
        "  "
      ],
      "metadata": {
        "colab": {
          "base_uri": "https://localhost:8080/",
          "height": 654
        },
        "id": "LodVAo9GrHgA",
        "outputId": "13d5e6c3-f08f-48a1-8abd-23c1e710fdf2"
      },
      "id": "LodVAo9GrHgA",
      "execution_count": null,
      "outputs": [
        {
          "output_type": "stream",
          "name": "stdout",
          "text": [
            "Statistical parity difference:  0.038461538461538436\n",
            "Equal opportunity difference:  0.0699300699300699\n",
            "Average odds difference:  0.038461538461538464\n",
            "Disparate impact ratio:  1.0833333333333333\n",
            "Theil index:  0.7357067949787411\n",
            "\n",
            "        accuracy sensitivity specificity\n",
            "gender                                  \n",
            "0.0     0.454545    0.454545    0.454545\n",
            "1.0     0.423077    0.384615    0.461538\n",
            "\n",
            "[[11 13]\n",
            " [14 10]]\n",
            "Accuracy:  0.4375\n",
            "Sensitivity:  0.4166666666666667\n",
            "Specificity:  0.4583333333333333\n"
          ]
        },
        {
          "output_type": "display_data",
          "data": {
            "text/plain": [
              "<Figure size 1152x360 with 3 Axes>"
            ],
            "image/png": "[encoded data removed]"
          },
          "metadata": {
            "needs_background": "light"
          }
        }
      ]
    },
    {
      "cell_type": "markdown",
      "source": [
        "### in-processing algorithms"
      ],
      "metadata": {
        "id": "wl9NY7BsoccO"
      },
      "id": "wl9NY7BsoccO"
    },
    {
      "cell_type": "code",
      "execution_count": null,
      "id": "d260109b",
      "metadata": {
        "collapsed": true,
        "id": "d260109b",
        "outputId": "dcbf3a31-2214-4906-c4bd-e2f7a1127ea0"
      },
      "outputs": [
        {
          "name": "stderr",
          "output_type": "stream",
          "text": [
            "Using the level keyword in DataFrame and Series aggregations is deprecated and will be removed in a future version. Use groupby instead. df.sum(level=1) should use df.groupby(level=1).sum().\n"
          ]
        },
        {
          "ename": "ValueError",
          "evalue": "Pipeline.fit does not accept the sample_weight parameter. You can pass parameters to specific steps of your pipeline using the stepname__parameter format, e.g. `Pipeline.fit(X, y, logisticregression__sample_weight=sample_weight)`.",
          "output_type": "error",
          "traceback": [
            "\u001b[1;31m---------------------------------------------------------------------------\u001b[0m",
            "\u001b[1;31mValueError\u001b[0m                                Traceback (most recent call last)",
            "Input \u001b[1;32mIn [32]\u001b[0m, in \u001b[0;36m<cell line: 6>\u001b[1;34m()\u001b[0m\n\u001b[0;32m      1\u001b[0m \u001b[38;5;66;03m# results for debiased model with GridSearch\u001b[39;00m\n\u001b[0;32m      3\u001b[0m model_knn_fair \u001b[38;5;241m=\u001b[39m red\u001b[38;5;241m.\u001b[39mGridSearch(model_knn,\n\u001b[0;32m      4\u001b[0m                                constraints\u001b[38;5;241m=\u001b[39mred\u001b[38;5;241m.\u001b[39mEqualizedOdds(),\n\u001b[0;32m      5\u001b[0m                               )\n\u001b[1;32m----> 6\u001b[0m \u001b[43mmodel_knn_fair\u001b[49m\u001b[38;5;241;43m.\u001b[39;49m\u001b[43mfit\u001b[49m\u001b[43m(\u001b[49m\u001b[43mX_train_aif\u001b[49m\u001b[43m,\u001b[49m\u001b[43m \u001b[49m\u001b[43my_train_aif\u001b[49m\u001b[43m,\u001b[49m\u001b[43m \u001b[49m\u001b[43msensitive_features\u001b[49m\u001b[38;5;241;43m=\u001b[39;49m\u001b[43mX_train_aif\u001b[49m\u001b[43m[\u001b[49m\u001b[38;5;124;43m'\u001b[39;49m\u001b[38;5;124;43mgender\u001b[39;49m\u001b[38;5;124;43m'\u001b[39;49m\u001b[43m]\u001b[49m\u001b[43m)\u001b[49m\n\u001b[0;32m      8\u001b[0m get_values_of_aif_metrics(y_test_aif, model_knn_fair\u001b[38;5;241m.\u001b[39mpredict(X_test_aif))\n\u001b[0;32m      9\u001b[0m \u001b[38;5;28mprint\u001b[39m(\u001b[38;5;124m'\u001b[39m\u001b[38;5;124m'\u001b[39m)\n",
            "File \u001b[1;32m~\\anaconda3\\lib\\site-packages\\fairlearn\\reductions\\_grid_search\\grid_search.py:186\u001b[0m, in \u001b[0;36mGridSearch.fit\u001b[1;34m(self, X, y, **kwargs)\u001b[0m\n\u001b[0;32m    183\u001b[0m     current_estimator \u001b[38;5;241m=\u001b[39m copy\u001b[38;5;241m.\u001b[39mdeepcopy(\u001b[38;5;28mself\u001b[39m\u001b[38;5;241m.\u001b[39mestimator)\n\u001b[0;32m    185\u001b[0m oracle_call_start_time \u001b[38;5;241m=\u001b[39m time()\n\u001b[1;32m--> 186\u001b[0m current_estimator\u001b[38;5;241m.\u001b[39mfit(X, y_reduction, \u001b[38;5;241m*\u001b[39m\u001b[38;5;241m*\u001b[39m{\u001b[38;5;28mself\u001b[39m\u001b[38;5;241m.\u001b[39msample_weight_name: weights})\n\u001b[0;32m    187\u001b[0m oracle_call_execution_time \u001b[38;5;241m=\u001b[39m time() \u001b[38;5;241m-\u001b[39m oracle_call_start_time\n\u001b[0;32m    188\u001b[0m logger\u001b[38;5;241m.\u001b[39mdebug(\u001b[38;5;124m\"\u001b[39m\u001b[38;5;124mCall to estimator complete\u001b[39m\u001b[38;5;124m\"\u001b[39m)\n",
            "File \u001b[1;32m~\\anaconda3\\lib\\site-packages\\sklearn\\pipeline.py:389\u001b[0m, in \u001b[0;36mPipeline.fit\u001b[1;34m(self, X, y, **fit_params)\u001b[0m\n\u001b[0;32m    363\u001b[0m \u001b[38;5;28;01mdef\u001b[39;00m \u001b[38;5;21mfit\u001b[39m(\u001b[38;5;28mself\u001b[39m, X, y\u001b[38;5;241m=\u001b[39m\u001b[38;5;28;01mNone\u001b[39;00m, \u001b[38;5;241m*\u001b[39m\u001b[38;5;241m*\u001b[39mfit_params):\n\u001b[0;32m    364\u001b[0m     \u001b[38;5;124;03m\"\"\"Fit the model.\u001b[39;00m\n\u001b[0;32m    365\u001b[0m \n\u001b[0;32m    366\u001b[0m \u001b[38;5;124;03m    Fit all the transformers one after the other and transform the\u001b[39;00m\n\u001b[1;32m   (...)\u001b[0m\n\u001b[0;32m    387\u001b[0m \u001b[38;5;124;03m        Pipeline with fitted steps.\u001b[39;00m\n\u001b[0;32m    388\u001b[0m \u001b[38;5;124;03m    \"\"\"\u001b[39;00m\n\u001b[1;32m--> 389\u001b[0m     fit_params_steps \u001b[38;5;241m=\u001b[39m \u001b[38;5;28mself\u001b[39m\u001b[38;5;241m.\u001b[39m_check_fit_params(\u001b[38;5;241m*\u001b[39m\u001b[38;5;241m*\u001b[39mfit_params)\n\u001b[0;32m    390\u001b[0m     Xt \u001b[38;5;241m=\u001b[39m \u001b[38;5;28mself\u001b[39m\u001b[38;5;241m.\u001b[39m_fit(X, y, \u001b[38;5;241m*\u001b[39m\u001b[38;5;241m*\u001b[39mfit_params_steps)\n\u001b[0;32m    391\u001b[0m     \u001b[38;5;28;01mwith\u001b[39;00m _print_elapsed_time(\u001b[38;5;124m\"\u001b[39m\u001b[38;5;124mPipeline\u001b[39m\u001b[38;5;124m\"\u001b[39m, \u001b[38;5;28mself\u001b[39m\u001b[38;5;241m.\u001b[39m_log_message(\u001b[38;5;28mlen\u001b[39m(\u001b[38;5;28mself\u001b[39m\u001b[38;5;241m.\u001b[39msteps) \u001b[38;5;241m-\u001b[39m \u001b[38;5;241m1\u001b[39m)):\n",
            "File \u001b[1;32m~\\anaconda3\\lib\\site-packages\\sklearn\\pipeline.py:300\u001b[0m, in \u001b[0;36mPipeline._check_fit_params\u001b[1;34m(self, **fit_params)\u001b[0m\n\u001b[0;32m    298\u001b[0m \u001b[38;5;28;01mfor\u001b[39;00m pname, pval \u001b[38;5;129;01min\u001b[39;00m fit_params\u001b[38;5;241m.\u001b[39mitems():\n\u001b[0;32m    299\u001b[0m     \u001b[38;5;28;01mif\u001b[39;00m \u001b[38;5;124m\"\u001b[39m\u001b[38;5;124m__\u001b[39m\u001b[38;5;124m\"\u001b[39m \u001b[38;5;129;01mnot\u001b[39;00m \u001b[38;5;129;01min\u001b[39;00m pname:\n\u001b[1;32m--> 300\u001b[0m         \u001b[38;5;28;01mraise\u001b[39;00m \u001b[38;5;167;01mValueError\u001b[39;00m(\n\u001b[0;32m    301\u001b[0m             \u001b[38;5;124m\"\u001b[39m\u001b[38;5;124mPipeline.fit does not accept the \u001b[39m\u001b[38;5;132;01m{}\u001b[39;00m\u001b[38;5;124m parameter. \u001b[39m\u001b[38;5;124m\"\u001b[39m\n\u001b[0;32m    302\u001b[0m             \u001b[38;5;124m\"\u001b[39m\u001b[38;5;124mYou can pass parameters to specific steps of your \u001b[39m\u001b[38;5;124m\"\u001b[39m\n\u001b[0;32m    303\u001b[0m             \u001b[38;5;124m\"\u001b[39m\u001b[38;5;124mpipeline using the stepname__parameter format, e.g. \u001b[39m\u001b[38;5;124m\"\u001b[39m\n\u001b[0;32m    304\u001b[0m             \u001b[38;5;124m\"\u001b[39m\u001b[38;5;124m`Pipeline.fit(X, y, logisticregression__sample_weight\u001b[39m\u001b[38;5;124m\"\u001b[39m\n\u001b[0;32m    305\u001b[0m             \u001b[38;5;124m\"\u001b[39m\u001b[38;5;124m=sample_weight)`.\u001b[39m\u001b[38;5;124m\"\u001b[39m\u001b[38;5;241m.\u001b[39mformat(pname)\n\u001b[0;32m    306\u001b[0m         )\n\u001b[0;32m    307\u001b[0m     step, param \u001b[38;5;241m=\u001b[39m pname\u001b[38;5;241m.\u001b[39msplit(\u001b[38;5;124m\"\u001b[39m\u001b[38;5;124m__\u001b[39m\u001b[38;5;124m\"\u001b[39m, \u001b[38;5;241m1\u001b[39m)\n\u001b[0;32m    308\u001b[0m     fit_params_steps[step][param] \u001b[38;5;241m=\u001b[39m pval\n",
            "\u001b[1;31mValueError\u001b[0m: Pipeline.fit does not accept the sample_weight parameter. You can pass parameters to specific steps of your pipeline using the stepname__parameter format, e.g. `Pipeline.fit(X, y, logisticregression__sample_weight=sample_weight)`."
          ]
        }
      ],
      "source": [
        "# results for debiased model with GridSearch\n",
        "\n",
        "model_knn_fair = red.GridSearch(model_knn,\n",
        "                               constraints=red.EqualizedOdds(),\n",
        "                              )\n",
        "model_knn_fair.fit(X_train_aif, y_train_aif, sensitive_features=X_train_aif['gender'])\n",
        "\n",
        "get_values_of_aif_metrics(y_test_aif, model_knn_fair.predict(X_test_aif))\n",
        "print('')\n",
        "plot_metrics(y_test_aif, X_test_aif, metrics, model_knn_fair, 'gender')\n",
        "print('')\n",
        "classification_results(y_test_aif, model_knn_fair.predict(X_test_aif))"
      ]
    },
    {
      "cell_type": "code",
      "execution_count": null,
      "id": "81745cf5",
      "metadata": {
        "collapsed": true,
        "id": "81745cf5",
        "outputId": "71e97618-8062-4ed3-9b5a-d6e437d537f7"
      },
      "outputs": [
        {
          "name": "stderr",
          "output_type": "stream",
          "text": [
            "Using the level keyword in DataFrame and Series aggregations is deprecated and will be removed in a future version. Use groupby instead. df.sum(level=1) should use df.groupby(level=1).sum().\n"
          ]
        },
        {
          "ename": "ValueError",
          "evalue": "Pipeline.fit does not accept the sample_weight parameter. You can pass parameters to specific steps of your pipeline using the stepname__parameter format, e.g. `Pipeline.fit(X, y, logisticregression__sample_weight=sample_weight)`.",
          "output_type": "error",
          "traceback": [
            "\u001b[1;31m---------------------------------------------------------------------------\u001b[0m",
            "\u001b[1;31mValueError\u001b[0m                                Traceback (most recent call last)",
            "Input \u001b[1;32mIn [53]\u001b[0m, in \u001b[0;36m<cell line: 6>\u001b[1;34m()\u001b[0m\n\u001b[0;32m      1\u001b[0m \u001b[38;5;66;03m# results for debiased model with ExponentiatedGradient\u001b[39;00m\n\u001b[0;32m      3\u001b[0m model_knn_fair \u001b[38;5;241m=\u001b[39m red\u001b[38;5;241m.\u001b[39mExponentiatedGradient(model_knn,\n\u001b[0;32m      4\u001b[0m                                constraints\u001b[38;5;241m=\u001b[39mred\u001b[38;5;241m.\u001b[39mEqualizedOdds(),\n\u001b[0;32m      5\u001b[0m                               )\n\u001b[1;32m----> 6\u001b[0m \u001b[43mmodel_knn_fair\u001b[49m\u001b[38;5;241;43m.\u001b[39;49m\u001b[43mfit\u001b[49m\u001b[43m(\u001b[49m\u001b[43mX_train_aif\u001b[49m\u001b[43m,\u001b[49m\u001b[43m \u001b[49m\u001b[43my_train_aif\u001b[49m\u001b[43m,\u001b[49m\u001b[43m \u001b[49m\u001b[43msensitive_features\u001b[49m\u001b[38;5;241;43m=\u001b[39;49m\u001b[43mX_train_aif\u001b[49m\u001b[43m[\u001b[49m\u001b[38;5;124;43m'\u001b[39;49m\u001b[38;5;124;43mgender\u001b[39;49m\u001b[38;5;124;43m'\u001b[39;49m\u001b[43m]\u001b[49m\u001b[43m)\u001b[49m\n\u001b[0;32m      8\u001b[0m get_values_of_aif_metrics(y_test_aif, model_knn_fair\u001b[38;5;241m.\u001b[39mpredict(X_test_aif))\n\u001b[0;32m      9\u001b[0m \u001b[38;5;28mprint\u001b[39m(\u001b[38;5;124m'\u001b[39m\u001b[38;5;124m'\u001b[39m)\n",
            "File \u001b[1;32m~\\anaconda3\\lib\\site-packages\\fairlearn\\reductions\\_exponentiated_gradient\\exponentiated_gradient.py:110\u001b[0m, in \u001b[0;36mExponentiatedGradient.fit\u001b[1;34m(self, X, y, **kwargs)\u001b[0m\n\u001b[0;32m    107\u001b[0m lambda_EG \u001b[38;5;241m=\u001b[39m \u001b[38;5;28mself\u001b[39m\u001b[38;5;241m.\u001b[39mlambda_vecs_EG_\u001b[38;5;241m.\u001b[39mmean(axis\u001b[38;5;241m=\u001b[39m\u001b[38;5;241m1\u001b[39m)\n\u001b[0;32m    109\u001b[0m \u001b[38;5;66;03m# select classifier according to best_h method\u001b[39;00m\n\u001b[1;32m--> 110\u001b[0m h, h_idx \u001b[38;5;241m=\u001b[39m \u001b[43mlagrangian\u001b[49m\u001b[38;5;241;43m.\u001b[39;49m\u001b[43mbest_h\u001b[49m\u001b[43m(\u001b[49m\u001b[43mlambda_vec\u001b[49m\u001b[43m)\u001b[49m\n\u001b[0;32m    112\u001b[0m \u001b[38;5;28;01mif\u001b[39;00m t \u001b[38;5;241m==\u001b[39m \u001b[38;5;241m0\u001b[39m:\n\u001b[0;32m    113\u001b[0m     \u001b[38;5;28;01mif\u001b[39;00m \u001b[38;5;28mself\u001b[39m\u001b[38;5;241m.\u001b[39mnu \u001b[38;5;129;01mis\u001b[39;00m \u001b[38;5;28;01mNone\u001b[39;00m:\n",
            "File \u001b[1;32m~\\anaconda3\\lib\\site-packages\\fairlearn\\reductions\\_exponentiated_gradient\\_lagrangian.py:187\u001b[0m, in \u001b[0;36m_Lagrangian.best_h\u001b[1;34m(self, lambda_vec)\u001b[0m\n\u001b[0;32m    181\u001b[0m \u001b[38;5;28;01mdef\u001b[39;00m \u001b[38;5;21mbest_h\u001b[39m(\u001b[38;5;28mself\u001b[39m, lambda_vec):\n\u001b[0;32m    182\u001b[0m     \u001b[38;5;124;03m\"\"\"Solve the best-response problem.\u001b[39;00m\n\u001b[0;32m    183\u001b[0m \n\u001b[0;32m    184\u001b[0m \u001b[38;5;124;03m    Returns the classifier that solves the best-response problem for\u001b[39;00m\n\u001b[0;32m    185\u001b[0m \u001b[38;5;124;03m    the vector of Lagrange multipliers `lambda_vec`.\u001b[39;00m\n\u001b[0;32m    186\u001b[0m \u001b[38;5;124;03m    \"\"\"\u001b[39;00m\n\u001b[1;32m--> 187\u001b[0m     classifier \u001b[38;5;241m=\u001b[39m \u001b[38;5;28;43mself\u001b[39;49m\u001b[38;5;241;43m.\u001b[39;49m\u001b[43m_call_oracle\u001b[49m\u001b[43m(\u001b[49m\u001b[43mlambda_vec\u001b[49m\u001b[43m)\u001b[49m\n\u001b[0;32m    189\u001b[0m     \u001b[38;5;28;01mdef\u001b[39;00m \u001b[38;5;21mh\u001b[39m(X):\n\u001b[0;32m    190\u001b[0m         pred \u001b[38;5;241m=\u001b[39m classifier\u001b[38;5;241m.\u001b[39mpredict(X)\n",
            "File \u001b[1;32m~\\anaconda3\\lib\\site-packages\\fairlearn\\reductions\\_exponentiated_gradient\\_lagrangian.py:175\u001b[0m, in \u001b[0;36m_Lagrangian._call_oracle\u001b[1;34m(self, lambda_vec)\u001b[0m\n\u001b[0;32m    172\u001b[0m     estimator \u001b[38;5;241m=\u001b[39m clone(estimator\u001b[38;5;241m=\u001b[39m\u001b[38;5;28mself\u001b[39m\u001b[38;5;241m.\u001b[39mestimator, safe\u001b[38;5;241m=\u001b[39m\u001b[38;5;28;01mFalse\u001b[39;00m)\n\u001b[0;32m    174\u001b[0m oracle_call_start_time \u001b[38;5;241m=\u001b[39m time()\n\u001b[1;32m--> 175\u001b[0m estimator\u001b[38;5;241m.\u001b[39mfit(\u001b[38;5;28mself\u001b[39m\u001b[38;5;241m.\u001b[39mconstraints\u001b[38;5;241m.\u001b[39mX, redY, \u001b[38;5;241m*\u001b[39m\u001b[38;5;241m*\u001b[39m{\u001b[38;5;28mself\u001b[39m\u001b[38;5;241m.\u001b[39msample_weight_name: redW})\n\u001b[0;32m    176\u001b[0m \u001b[38;5;28mself\u001b[39m\u001b[38;5;241m.\u001b[39moracle_execution_times\u001b[38;5;241m.\u001b[39mappend(time() \u001b[38;5;241m-\u001b[39m oracle_call_start_time)\n\u001b[0;32m    177\u001b[0m \u001b[38;5;28mself\u001b[39m\u001b[38;5;241m.\u001b[39mn_oracle_calls \u001b[38;5;241m+\u001b[39m\u001b[38;5;241m=\u001b[39m \u001b[38;5;241m1\u001b[39m\n",
            "File \u001b[1;32m~\\anaconda3\\lib\\site-packages\\sklearn\\pipeline.py:389\u001b[0m, in \u001b[0;36mPipeline.fit\u001b[1;34m(self, X, y, **fit_params)\u001b[0m\n\u001b[0;32m    363\u001b[0m \u001b[38;5;28;01mdef\u001b[39;00m \u001b[38;5;21mfit\u001b[39m(\u001b[38;5;28mself\u001b[39m, X, y\u001b[38;5;241m=\u001b[39m\u001b[38;5;28;01mNone\u001b[39;00m, \u001b[38;5;241m*\u001b[39m\u001b[38;5;241m*\u001b[39mfit_params):\n\u001b[0;32m    364\u001b[0m     \u001b[38;5;124;03m\"\"\"Fit the model.\u001b[39;00m\n\u001b[0;32m    365\u001b[0m \n\u001b[0;32m    366\u001b[0m \u001b[38;5;124;03m    Fit all the transformers one after the other and transform the\u001b[39;00m\n\u001b[1;32m   (...)\u001b[0m\n\u001b[0;32m    387\u001b[0m \u001b[38;5;124;03m        Pipeline with fitted steps.\u001b[39;00m\n\u001b[0;32m    388\u001b[0m \u001b[38;5;124;03m    \"\"\"\u001b[39;00m\n\u001b[1;32m--> 389\u001b[0m     fit_params_steps \u001b[38;5;241m=\u001b[39m \u001b[38;5;28mself\u001b[39m\u001b[38;5;241m.\u001b[39m_check_fit_params(\u001b[38;5;241m*\u001b[39m\u001b[38;5;241m*\u001b[39mfit_params)\n\u001b[0;32m    390\u001b[0m     Xt \u001b[38;5;241m=\u001b[39m \u001b[38;5;28mself\u001b[39m\u001b[38;5;241m.\u001b[39m_fit(X, y, \u001b[38;5;241m*\u001b[39m\u001b[38;5;241m*\u001b[39mfit_params_steps)\n\u001b[0;32m    391\u001b[0m     \u001b[38;5;28;01mwith\u001b[39;00m _print_elapsed_time(\u001b[38;5;124m\"\u001b[39m\u001b[38;5;124mPipeline\u001b[39m\u001b[38;5;124m\"\u001b[39m, \u001b[38;5;28mself\u001b[39m\u001b[38;5;241m.\u001b[39m_log_message(\u001b[38;5;28mlen\u001b[39m(\u001b[38;5;28mself\u001b[39m\u001b[38;5;241m.\u001b[39msteps) \u001b[38;5;241m-\u001b[39m \u001b[38;5;241m1\u001b[39m)):\n",
            "File \u001b[1;32m~\\anaconda3\\lib\\site-packages\\sklearn\\pipeline.py:300\u001b[0m, in \u001b[0;36mPipeline._check_fit_params\u001b[1;34m(self, **fit_params)\u001b[0m\n\u001b[0;32m    298\u001b[0m \u001b[38;5;28;01mfor\u001b[39;00m pname, pval \u001b[38;5;129;01min\u001b[39;00m fit_params\u001b[38;5;241m.\u001b[39mitems():\n\u001b[0;32m    299\u001b[0m     \u001b[38;5;28;01mif\u001b[39;00m \u001b[38;5;124m\"\u001b[39m\u001b[38;5;124m__\u001b[39m\u001b[38;5;124m\"\u001b[39m \u001b[38;5;129;01mnot\u001b[39;00m \u001b[38;5;129;01min\u001b[39;00m pname:\n\u001b[1;32m--> 300\u001b[0m         \u001b[38;5;28;01mraise\u001b[39;00m \u001b[38;5;167;01mValueError\u001b[39;00m(\n\u001b[0;32m    301\u001b[0m             \u001b[38;5;124m\"\u001b[39m\u001b[38;5;124mPipeline.fit does not accept the \u001b[39m\u001b[38;5;132;01m{}\u001b[39;00m\u001b[38;5;124m parameter. \u001b[39m\u001b[38;5;124m\"\u001b[39m\n\u001b[0;32m    302\u001b[0m             \u001b[38;5;124m\"\u001b[39m\u001b[38;5;124mYou can pass parameters to specific steps of your \u001b[39m\u001b[38;5;124m\"\u001b[39m\n\u001b[0;32m    303\u001b[0m             \u001b[38;5;124m\"\u001b[39m\u001b[38;5;124mpipeline using the stepname__parameter format, e.g. \u001b[39m\u001b[38;5;124m\"\u001b[39m\n\u001b[0;32m    304\u001b[0m             \u001b[38;5;124m\"\u001b[39m\u001b[38;5;124m`Pipeline.fit(X, y, logisticregression__sample_weight\u001b[39m\u001b[38;5;124m\"\u001b[39m\n\u001b[0;32m    305\u001b[0m             \u001b[38;5;124m\"\u001b[39m\u001b[38;5;124m=sample_weight)`.\u001b[39m\u001b[38;5;124m\"\u001b[39m\u001b[38;5;241m.\u001b[39mformat(pname)\n\u001b[0;32m    306\u001b[0m         )\n\u001b[0;32m    307\u001b[0m     step, param \u001b[38;5;241m=\u001b[39m pname\u001b[38;5;241m.\u001b[39msplit(\u001b[38;5;124m\"\u001b[39m\u001b[38;5;124m__\u001b[39m\u001b[38;5;124m\"\u001b[39m, \u001b[38;5;241m1\u001b[39m)\n\u001b[0;32m    308\u001b[0m     fit_params_steps[step][param] \u001b[38;5;241m=\u001b[39m pval\n",
            "\u001b[1;31mValueError\u001b[0m: Pipeline.fit does not accept the sample_weight parameter. You can pass parameters to specific steps of your pipeline using the stepname__parameter format, e.g. `Pipeline.fit(X, y, logisticregression__sample_weight=sample_weight)`."
          ]
        }
      ],
      "source": [
        "# results for debiased model with ExponentiatedGradient\n",
        "\n",
        "model_knn_fair = red.ExponentiatedGradient(model_knn,\n",
        "                               constraints=red.EqualizedOdds(),\n",
        "                              )\n",
        "model_knn_fair.fit(X_train_aif, y_train_aif, sensitive_features=X_train_aif['gender'])\n",
        "\n",
        "get_values_of_aif_metrics(y_test_aif, model_knn_fair.predict(X_test_aif))\n",
        "print('')\n",
        "plot_metrics(y_test_aif, X_test_aif, metrics, model_knn_fair, 'gender')\n",
        "print('')\n",
        "classification_results(y_test_aif, model_knn_fair.predict(X_test_aif))"
      ]
    },
    {
      "cell_type": "markdown",
      "id": "e5aad3e3",
      "metadata": {
        "id": "e5aad3e3"
      },
      "source": [
        "#### Results:"
      ]
    },
    {
      "cell_type": "markdown",
      "id": "573c0c93",
      "metadata": {
        "id": "573c0c93"
      },
      "source": [
        "### SVM model"
      ]
    },
    {
      "cell_type": "code",
      "execution_count": 149,
      "id": "90c0b3ec",
      "metadata": {
        "scrolled": true,
        "id": "90c0b3ec"
      },
      "outputs": [],
      "source": [
        "X_train_aif, y_train_aif, X_test_aif, y_test_aif = create_dataset(train_df, test_df, 'diagnosis', prot_attr_cols, features_svm)"
      ]
    },
    {
      "cell_type": "code",
      "source": [
        "# MinMaxScaler\n",
        "minmax_scaler = MinMaxScaler()\n",
        "minmax_scaler.fit(X_train_aif)\n",
        "minMax_scaled_x_train = minmax_scaler.transform(X_train_aif)\n",
        "minMax_scaled_x_train_svm = pd.DataFrame(minMax_scaled_x_train, columns=X_train_aif.columns)  # Converts back to dataframe after scaling\n",
        "\n",
        "minMax_scaled_x_test = minmax_scaler.transform(X_test_aif)\n",
        "minMax_scaled_x_test_svm = pd.DataFrame(minMax_scaled_x_test, columns=X_test_aif.columns)  # Converts back to dataframe after scaling\n"
      ],
      "metadata": {
        "id": "V-fE-FVWJfpJ"
      },
      "id": "V-fE-FVWJfpJ",
      "execution_count": 151,
      "outputs": []
    },
    {
      "cell_type": "code",
      "execution_count": 152,
      "id": "b2292f4e",
      "metadata": {
        "scrolled": false,
        "colab": {
          "base_uri": "https://localhost:8080/",
          "height": 654
        },
        "id": "b2292f4e",
        "outputId": "cf646f58-78e6-4041-be5c-349fa7c52d56"
      },
      "outputs": [
        {
          "output_type": "stream",
          "name": "stdout",
          "text": [
            "Statistical parity difference:  0.038461538461538436\n",
            "Equal opportunity difference:  0.11188811188811187\n",
            "Average odds difference:  0.038461538461538436\n",
            "Disparate impact ratio:  1.0833333333333333\n",
            "Theil index:  0.7357067949787411\n",
            "\n",
            "        accuracy sensitivity specificity\n",
            "gender                                  \n",
            "0.0     0.727273    0.727273    0.727273\n",
            "1.0     0.653846    0.615385    0.692308\n",
            "\n",
            "[[17  7]\n",
            " [ 8 16]]\n",
            "Accuracy:  0.6875\n",
            "Sensitivity:  0.6666666666666666\n",
            "Specificity:  0.7083333333333334\n"
          ]
        },
        {
          "output_type": "display_data",
          "data": {
            "text/plain": [
              "<Figure size 1152x360 with 3 Axes>"
            ],
            "image/png": "[encoded data removed]"
          },
          "metadata": {
            "needs_background": "light"
          }
        }
      ],
      "source": [
        "# results for default model \n",
        "\n",
        "get_values_of_aif_metrics(y_test_aif, model_svm.predict(minMax_scaled_x_test_svm))\n",
        "print('')\n",
        "plot_metrics(y_test_aif, minMax_scaled_x_test_svm, metrics, model_svm, 'gender')\n",
        "print('')\n",
        "classification_results(y_test_aif, model_svm.predict(minMax_scaled_x_test_svm))"
      ]
    },
    {
      "cell_type": "markdown",
      "source": [
        "### pre-processing algorithms"
      ],
      "metadata": {
        "id": "fl75goVJoHYb"
      },
      "id": "fl75goVJoHYb"
    },
    {
      "cell_type": "code",
      "source": [
        "# results for reweighing model\n",
        "\n",
        "from aif360.algorithms.preprocessing import DisparateImpactRemover, Reweighing \n",
        "from BlackBoxAuditing.repairers.GeneralRepairer import Repairer\n",
        "from aif360.algorithms import Transformer\n",
        "from aif360.datasets import BinaryLabelDataset\n",
        "\n",
        "minmax_scaler = MinMaxScaler()\n",
        "minmax_scaler.fit(train_df)\n",
        "minMax_scaled_x_train = minmax_scaler.transform(train_df)\n",
        "minMax_scaled_x_train_svm = pd.DataFrame(minMax_scaled_x_train, columns=train_df.columns)  # Converts back to dataframe after scaling\n",
        "\n",
        "minMax_scaled_x_test = minmax_scaler.transform(test_df)\n",
        "minMax_scaled_x_test_svm = pd.DataFrame(minMax_scaled_x_test, columns=test_df.columns)  # Converts back to dataframe after scaling\n",
        "\n",
        "new_dataset_train = minMax_scaled_x_train_svm.drop(columns=['HNRdBACF_sma3nz_amean', 'mfcc1_sma3_amean',\n",
        "                                     'jitterLocal_sma3nz_amean', 'logRelF0-H1-H2_sma3nz_amean',\n",
        "                                     'slopeV0-500_sma3nz_amean', 'mfcc2V_sma3nz_stddevNorm',\n",
        "                                     'hammarbergIndexUV_sma3nz_amean', 'MeanUnvoicedSegmentLength',\n",
        "                                     'F1frequency_sma3nz_amean', 'spectralFlux_sma3_amean' ])\n",
        "\n",
        "new_dataset_test = minMax_scaled_x_test_svm.drop(columns=['HNRdBACF_sma3nz_amean', 'mfcc1_sma3_amean',\n",
        "                                     'jitterLocal_sma3nz_amean', 'logRelF0-H1-H2_sma3nz_amean',\n",
        "                                     'slopeV0-500_sma3nz_amean', 'mfcc2V_sma3nz_stddevNorm',\n",
        "                                     'hammarbergIndexUV_sma3nz_amean', 'MeanUnvoicedSegmentLength',\n",
        "                                     'F1frequency_sma3nz_amean', 'spectralFlux_sma3_amean' ])\n",
        "\n",
        "def reweighing(data, target_variable, protect_attriburte):\n",
        "    binaryLabelDataset = BinaryLabelDataset(\n",
        "        favorable_label= 0,\n",
        "        unfavorable_label= 1,\n",
        "        df= data,\n",
        "        label_names=[target_variable],\n",
        "        protected_attribute_names=[protect_attriburte])\n",
        "    RW = Reweighing(unprivileged_groups=[{protect_attriburte: 1}],\n",
        "               privileged_groups=[{protect_attriburte: 0}])\n",
        "    RW.fit(binaryLabelDataset)\n",
        "    dataset_transf_train = RW.transform(binaryLabelDataset)\n",
        "    return dataset_transf_train, dataset_transf_train.instance_weights\n",
        "\n",
        "transformed_train_rw, transformed_train_rw_weights = reweighing(new_dataset_train, 'diagnosis', 'gender')\n",
        "transformed_test_rw, transformed_test_rw_weights = reweighing(new_dataset_test, 'diagnosis', 'gender')\n",
        "\n",
        "data_transformed_train_rw = transformed_train_rw.convert_to_dataframe()[0]\n",
        "data_x_trans_train = data_transformed_train_rw.drop(['diagnosis'], axis = 1)\n",
        "\n",
        "\n",
        "data_transformed_test_rw = transformed_test_rw.convert_to_dataframe()[0]\n",
        "data_x_trans_test = data_transformed_test_rw.drop(['diagnosis'], axis = 1)\n",
        "\n",
        "\n",
        "model_svm.fit(data_x_trans_train, y_train_dir)\n",
        "\n",
        "#model_lr.predict(x_test_dir)\n",
        "\n",
        "#print('y_test, y_pred', y_test_dir, model_lr.predict(x_test_dir))\n",
        "#print('y_test_aif', y_test_aif)\n",
        "get_values_of_aif_metrics(y_test_aif, model_svm.predict(data_x_trans_test))\n",
        "print('')\n",
        "plot_metrics(y_test_aif, data_x_trans_test, metrics, model_svm, 'gender')\n",
        "print('')\n",
        "classification_results(y_test_aif, model_svm.predict(data_x_trans_test))\n"
      ],
      "metadata": {
        "colab": {
          "base_uri": "https://localhost:8080/",
          "height": 654
        },
        "id": "DvZ1RFOdJXT7",
        "outputId": "822fdc98-1ec9-4e7f-c11b-743fc42289b0"
      },
      "id": "DvZ1RFOdJXT7",
      "execution_count": 183,
      "outputs": [
        {
          "output_type": "stream",
          "name": "stdout",
          "text": [
            "Statistical parity difference:  0.12237762237762234\n",
            "Equal opportunity difference:  0.18881118881118886\n",
            "Average odds difference:  0.1223776223776224\n",
            "Disparate impact ratio:  1.2892561983471074\n",
            "Theil index:  0.7357067949787411\n",
            "\n",
            "        accuracy sensitivity specificity\n",
            "gender                                  \n",
            "0.0     0.681818    0.727273    0.636364\n",
            "1.0     0.615385    0.538462    0.692308\n",
            "\n",
            "[[16  8]\n",
            " [ 9 15]]\n",
            "Accuracy:  0.6458333333333334\n",
            "Sensitivity:  0.625\n",
            "Specificity:  0.6666666666666666\n"
          ]
        },
        {
          "output_type": "display_data",
          "data": {
            "text/plain": [
              "<Figure size 1152x360 with 3 Axes>"
            ],
            "image/png": "[encoded data removed]"
          },
          "metadata": {
            "needs_background": "light"
          }
        }
      ]
    },
    {
      "cell_type": "code",
      "source": [
        "from aif360.algorithms.preprocessing import DisparateImpactRemover \n",
        "from BlackBoxAuditing.repairers.GeneralRepairer import Repairer\n",
        "from aif360.algorithms import Transformer\n",
        "from aif360.datasets import BinaryLabelDataset\n",
        "\n",
        "X_train_aif, y_train_aif, X_test_aif, y_test_aif = create_dataset(train_df, test_df, 'diagnosis', prot_attr_cols, features_svm)\n",
        "\n",
        "minmax_scaler = MinMaxScaler()\n",
        "minmax_scaler.fit(train_df)\n",
        "minMax_scaled_x_train = minmax_scaler.transform(train_df)\n",
        "minMax_scaled_x_train_svm = pd.DataFrame(minMax_scaled_x_train, columns=train_df.columns)  # Converts back to dataframe after scaling\n",
        "\n",
        "minMax_scaled_x_test = minmax_scaler.transform(test_df)\n",
        "minMax_scaled_x_test_svm = pd.DataFrame(minMax_scaled_x_test, columns=test_df.columns)  # Converts back to dataframe after scaling\n",
        "\n",
        "new_dataset_train = minMax_scaled_x_train_svm.drop(columns=['HNRdBACF_sma3nz_amean', 'mfcc1_sma3_amean',\n",
        "                                     'jitterLocal_sma3nz_amean', 'logRelF0-H1-H2_sma3nz_amean',\n",
        "                                     'slopeV0-500_sma3nz_amean', 'mfcc2V_sma3nz_stddevNorm',\n",
        "                                     'hammarbergIndexUV_sma3nz_amean', 'MeanUnvoicedSegmentLength',\n",
        "                                     'F1frequency_sma3nz_amean', 'spectralFlux_sma3_amean' ])\n",
        "\n",
        "new_dataset_test = minMax_scaled_x_test_svm.drop(columns=['HNRdBACF_sma3nz_amean', 'mfcc1_sma3_amean',\n",
        "                                     'jitterLocal_sma3nz_amean', 'logRelF0-H1-H2_sma3nz_amean',\n",
        "                                     'slopeV0-500_sma3nz_amean', 'mfcc2V_sma3nz_stddevNorm',\n",
        "                                     'hammarbergIndexUV_sma3nz_amean', 'MeanUnvoicedSegmentLength',\n",
        "                                     'F1frequency_sma3nz_amean', 'spectralFlux_sma3_amean' ])\n",
        "\n",
        "\n",
        "def DIR(data, target_variable, protect_attriburte):\n",
        "    binaryLabelDataset = BinaryLabelDataset(\n",
        "        favorable_label= 0,\n",
        "        unfavorable_label= 1,\n",
        "        df= data,\n",
        "        label_names=[target_variable],\n",
        "        protected_attribute_names=[protect_attriburte])\n",
        "    di = DisparateImpactRemover(repair_level = 1.0)\n",
        "    dataset_transf_train = di.fit_transform(binaryLabelDataset)\n",
        "    transformed = dataset_transf_train.convert_to_dataframe()[0]\n",
        "    x_trans = transformed.drop([target_variable], axis = 1)\n",
        "    y = transformed[target_variable]\n",
        "    return x_trans, y, transformed\n",
        "\n",
        "# DIR(new_dataset, 'diagnosis', 'gender')\n",
        "\n",
        "x_train_dir, y_train_dir, transformed_train_dir = DIR(new_dataset_train, 'diagnosis', 'gender')\n",
        "x_test_dir, y_test_dir, transformed_test_dir = DIR(new_dataset_test, 'diagnosis', 'gender')\n",
        "\n",
        "model_svm.fit(x_train_dir, y_train_dir)\n",
        "\n",
        "#model_lr.predict(x_test_dir)\n",
        "\n",
        "#print('y_test, y_pred', y_test_dir, model_lr.predict(x_test_dir))\n",
        "#print('y_test_aif', y_test_aif)\n",
        "get_values_of_aif_metrics(y_test_aif, model_svm.predict(x_test_dir))\n",
        "print('')\n",
        "plot_metrics(y_test_aif, x_test_dir, metrics, model_svm, 'gender')\n",
        "print('')\n",
        "classification_results(y_test_aif, model_svm.predict(x_test_dir))\n",
        "  "
      ],
      "metadata": {
        "colab": {
          "base_uri": "https://localhost:8080/",
          "height": 654
        },
        "id": "jtsjYPVira0u",
        "outputId": "fe8cb2c4-eab1-4d28-c9f8-ba8de3bb91f1"
      },
      "id": "jtsjYPVira0u",
      "execution_count": 182,
      "outputs": [
        {
          "output_type": "stream",
          "name": "stdout",
          "text": [
            "Statistical parity difference:  0.12237762237762234\n",
            "Equal opportunity difference:  0.26573426573426573\n",
            "Average odds difference:  0.1223776223776224\n",
            "Disparate impact ratio:  1.2892561983471074\n",
            "Theil index:  0.7357067949787411\n",
            "\n",
            "        accuracy sensitivity specificity\n",
            "gender                                  \n",
            "0.0     0.681818    0.727273    0.636364\n",
            "1.0     0.538462    0.461538    0.615385\n",
            "\n",
            "[[15  9]\n",
            " [10 14]]\n",
            "Accuracy:  0.6041666666666666\n",
            "Sensitivity:  0.5833333333333334\n",
            "Specificity:  0.625\n"
          ]
        },
        {
          "output_type": "display_data",
          "data": {
            "text/plain": [
              "<Figure size 1152x360 with 3 Axes>"
            ],
            "image/png": "[encoded data removed]"
          },
          "metadata": {
            "needs_background": "light"
          }
        }
      ]
    },
    {
      "cell_type": "markdown",
      "source": [
        "### in-processing algorithms"
      ],
      "metadata": {
        "id": "hi4w-NQXoLOz"
      },
      "id": "hi4w-NQXoLOz"
    },
    {
      "cell_type": "code",
      "execution_count": null,
      "id": "31574543",
      "metadata": {
        "scrolled": false,
        "id": "31574543",
        "outputId": "34e93149-74ee-43fa-e590-6022b7ca814a"
      },
      "outputs": [
        {
          "name": "stderr",
          "output_type": "stream",
          "text": [
            "Using the level keyword in DataFrame and Series aggregations is deprecated and will be removed in a future version. Use groupby instead. df.sum(level=1) should use df.groupby(level=1).sum().\n",
            "Using the level keyword in DataFrame and Series aggregations is deprecated and will be removed in a future version. Use groupby instead. df.sum(level=1) should use df.groupby(level=1).sum().\n",
            "Using the level keyword in DataFrame and Series aggregations is deprecated and will be removed in a future version. Use groupby instead. df.sum(level=1) should use df.groupby(level=1).sum().\n",
            "Using the level keyword in DataFrame and Series aggregations is deprecated and will be removed in a future version. Use groupby instead. df.sum(level=1) should use df.groupby(level=1).sum().\n",
            "Using the level keyword in DataFrame and Series aggregations is deprecated and will be removed in a future version. Use groupby instead. df.sum(level=1) should use df.groupby(level=1).sum().\n",
            "Using the level keyword in DataFrame and Series aggregations is deprecated and will be removed in a future version. Use groupby instead. df.sum(level=1) should use df.groupby(level=1).sum().\n",
            "Using the level keyword in DataFrame and Series aggregations is deprecated and will be removed in a future version. Use groupby instead. df.sum(level=1) should use df.groupby(level=1).sum().\n",
            "Using the level keyword in DataFrame and Series aggregations is deprecated and will be removed in a future version. Use groupby instead. df.sum(level=1) should use df.groupby(level=1).sum().\n",
            "Using the level keyword in DataFrame and Series aggregations is deprecated and will be removed in a future version. Use groupby instead. df.sum(level=1) should use df.groupby(level=1).sum().\n",
            "Using the level keyword in DataFrame and Series aggregations is deprecated and will be removed in a future version. Use groupby instead. df.sum(level=1) should use df.groupby(level=1).sum().\n"
          ]
        },
        {
          "name": "stdout",
          "output_type": "stream",
          "text": [
            "Statistical parity difference:  0.12237762237762234\n",
            "Equal opportunity difference:  0.18881118881118886\n",
            "Average odds difference:  0.1223776223776224\n",
            "Disparate impact ratio:  1.2892561983471074\n",
            "Theil index:  0.7357067949787411\n",
            "\n",
            "        accuracy sensitivity specificity\n",
            "gender                                  \n",
            "0       0.681818    0.727273    0.636364\n",
            "1       0.615385    0.538462    0.692308\n",
            "\n",
            "[[16  8]\n",
            " [ 9 15]]\n",
            "Accuracy:  0.6458333333333334\n",
            "Sensitivity:  0.625\n",
            "Specificity:  0.6666666666666666\n"
          ]
        },
        {
          "data": {
            "image/png": "[encoded data removed]",
            "text/plain": [
              "<Figure size 1152x360 with 3 Axes>"
            ]
          },
          "metadata": {
            "needs_background": "light"
          },
          "output_type": "display_data"
        }
      ],
      "source": [
        "# results for debiased model with GridSearch\n",
        "\n",
        "model_svm_fair = red.GridSearch(model_svm,\n",
        "                               constraints=red.EqualizedOdds(),\n",
        "                                sample_weight_name=\"classifier__sample_weight\",\n",
        "                              )\n",
        "model_svm_fair.fit(X_train_aif, y_train_aif, sensitive_features=X_train_aif['gender'])\n",
        "\n",
        "get_values_of_aif_metrics(y_test_aif, model_svm_fair.predict(X_test_aif))\n",
        "print('')\n",
        "plot_metrics(y_test_aif, X_test_aif, metrics, model_svm_fair, 'gender')\n",
        "print('')\n",
        "classification_results(y_test_aif, model_svm_fair.predict(X_test_aif))"
      ]
    },
    {
      "cell_type": "code",
      "execution_count": null,
      "id": "3a9d493c",
      "metadata": {
        "scrolled": false,
        "id": "3a9d493c",
        "outputId": "41c1c3b0-16ad-426a-c35d-89a1e15bf188"
      },
      "outputs": [
        {
          "name": "stderr",
          "output_type": "stream",
          "text": [
            "Using the level keyword in DataFrame and Series aggregations is deprecated and will be removed in a future version. Use groupby instead. df.sum(level=1) should use df.groupby(level=1).sum().\n",
            "Using the level keyword in DataFrame and Series aggregations is deprecated and will be removed in a future version. Use groupby instead. df.sum(level=1) should use df.groupby(level=1).sum().\n",
            "Using the level keyword in DataFrame and Series aggregations is deprecated and will be removed in a future version. Use groupby instead. df.sum(level=1) should use df.groupby(level=1).sum().\n",
            "Using the level keyword in DataFrame and Series aggregations is deprecated and will be removed in a future version. Use groupby instead. df.sum(level=1) should use df.groupby(level=1).sum().\n",
            "Using the level keyword in DataFrame and Series aggregations is deprecated and will be removed in a future version. Use groupby instead. df.sum(level=1) should use df.groupby(level=1).sum().\n",
            "Using the level keyword in DataFrame and Series aggregations is deprecated and will be removed in a future version. Use groupby instead. df.sum(level=1) should use df.groupby(level=1).sum().\n",
            "Using the level keyword in DataFrame and Series aggregations is deprecated and will be removed in a future version. Use groupby instead. df.sum(level=1) should use df.groupby(level=1).sum().\n",
            "Using the level keyword in DataFrame and Series aggregations is deprecated and will be removed in a future version. Use groupby instead. df.sum(level=1) should use df.groupby(level=1).sum().\n",
            "Using the level keyword in DataFrame and Series aggregations is deprecated and will be removed in a future version. Use groupby instead. df.sum(level=1) should use df.groupby(level=1).sum().\n",
            "Using the level keyword in DataFrame and Series aggregations is deprecated and will be removed in a future version. Use groupby instead. df.sum(level=1) should use df.groupby(level=1).sum().\n",
            "Using the level keyword in DataFrame and Series aggregations is deprecated and will be removed in a future version. Use groupby instead. df.sum(level=1) should use df.groupby(level=1).sum().\n",
            "Using the level keyword in DataFrame and Series aggregations is deprecated and will be removed in a future version. Use groupby instead. df.sum(level=1) should use df.groupby(level=1).sum().\n",
            "Using the level keyword in DataFrame and Series aggregations is deprecated and will be removed in a future version. Use groupby instead. df.sum(level=1) should use df.groupby(level=1).sum().\n",
            "Using the level keyword in DataFrame and Series aggregations is deprecated and will be removed in a future version. Use groupby instead. df.sum(level=1) should use df.groupby(level=1).sum().\n",
            "Using the level keyword in DataFrame and Series aggregations is deprecated and will be removed in a future version. Use groupby instead. df.sum(level=1) should use df.groupby(level=1).sum().\n",
            "Using the level keyword in DataFrame and Series aggregations is deprecated and will be removed in a future version. Use groupby instead. df.sum(level=1) should use df.groupby(level=1).sum().\n",
            "Using the level keyword in DataFrame and Series aggregations is deprecated and will be removed in a future version. Use groupby instead. df.sum(level=1) should use df.groupby(level=1).sum().\n",
            "Using the level keyword in DataFrame and Series aggregations is deprecated and will be removed in a future version. Use groupby instead. df.sum(level=1) should use df.groupby(level=1).sum().\n"
          ]
        },
        {
          "name": "stdout",
          "output_type": "stream",
          "text": [
            "Statistical parity difference:  0.11538461538461536\n",
            "Equal opportunity difference:  0.18881118881118886\n",
            "Average odds difference:  0.11538461538461542\n",
            "Disparate impact ratio:  1.2999999999999998\n",
            "Theil index:  0.8266785731844678\n",
            "\n",
            "        accuracy sensitivity specificity\n",
            "gender                                  \n",
            "0       0.636364    0.727273    0.545455\n",
            "1       0.615385    0.538462    0.692308\n",
            "\n",
            "[[17  7]\n",
            " [ 9 15]]\n",
            "Accuracy:  0.6666666666666666\n",
            "Sensitivity:  0.625\n",
            "Specificity:  0.7083333333333334\n"
          ]
        },
        {
          "data": {
            "image/png": "[encoded data removed]",
            "text/plain": [
              "<Figure size 1152x360 with 3 Axes>"
            ]
          },
          "metadata": {
            "needs_background": "light"
          },
          "output_type": "display_data"
        }
      ],
      "source": [
        "# results for debiased model with ExponentiatedGradient\n",
        "\n",
        "model_svm_fair = red.ExponentiatedGradient(model_svm,\n",
        "                               constraints=red.EqualizedOdds(),\n",
        "                                sample_weight_name=\"classifier__sample_weight\",\n",
        "                              )\n",
        "model_svm_fair.fit(X_train_aif, y_train_aif, sensitive_features=X_train_aif['gender'])\n",
        "\n",
        "get_values_of_aif_metrics(y_test_aif, model_svm_fair.predict(X_test_aif))\n",
        "print('')\n",
        "plot_metrics(y_test_aif, X_test_aif, metrics, model_svm_fair, 'gender')\n",
        "print('')\n",
        "classification_results(y_test_aif, model_svm_fair.predict(X_test_aif))"
      ]
    },
    {
      "cell_type": "markdown",
      "id": "e4d2c799",
      "metadata": {
        "id": "e4d2c799"
      },
      "source": [
        "#### Results:\n",
        "Model's performance became worse"
      ]
    },
    {
      "cell_type": "markdown",
      "id": "6466a29e",
      "metadata": {
        "id": "6466a29e"
      },
      "source": [
        "#### Results on the test set with debiasing\n",
        "\n",
        "| Model       | LR       | LR + RW | LR + DIR   |  LR + GridSearch | LR + ExponentiatedGradient \n",
        "|------       |------    |  ------ |------    |  ------          | ------   \n",
        "| Accuracy    |  0.7291  | 0.7083|0.6875 |  0.7708          |  0.7083                    | \n",
        "| Sensitivity |  0.7083  | 0.666| 0.666|  0.75            |  0.6666                    | \n",
        "| Specificity |  0.75    |0.75 | 0.7083|  0.7916          |  0.75                      | \n",
        "\n",
        "\n",
        "##### Summary:  \n",
        "LR + GridSearch obtained the best performance\n",
        "\n",
        "\n",
        "---"
      ]
    },
    {
      "cell_type": "markdown",
      "id": "8a882c4f",
      "metadata": {
        "id": "8a882c4f"
      },
      "source": [
        "#### Results on the test set with debiasing\n",
        "\n",
        "| Model       | RF       |  RF + RW | RF + DIR |   RF + GridSearch | RF + ExponentiatedGradient | \n",
        "|------       |------    |  ------   |------    |  ------          | ------                     |\n",
        "| Accuracy    |  0.6875  |0.6458|0.6458|  0.625           |  0.6875                    | \n",
        "| Sensitivity |  0.7083  |0.5|0.625|  0.5             |  0.5                       | \n",
        "| Specificity |  0.6666  |0.7916|0.666|  0.75            |  0.875                     | \n",
        "\n",
        "##### Summary:  \n",
        "Original model obtained the best performance\n",
        "\n",
        "---"
      ]
    },
    {
      "cell_type": "markdown",
      "id": "d8add886",
      "metadata": {
        "id": "d8add886"
      },
      "source": [
        "#### Results on the test set with debiasing\n",
        "\n",
        "| Model       | SVM      | SVM + RW |SVM + DIR| SVM + GridSearch |SVM + ExponentiatedGradient | \n",
        "|------       |------    |  ------ |------    |  ------          | ------                     |\n",
        "| Accuracy    |  0.7083  |0.6458|0.604|  0.6458          |  0.6666                    | \n",
        "| Sensitivity |  0.6666  |0.625|0.5831|  0.625           |  0.625                     | \n",
        "| Specificity |  0.75    |0.666|0.625|  0.6666          |  0.7083                    | \n",
        "\n",
        "##### Summary:  \n",
        "Original model obtained the best performance\n",
        "\n",
        "\n",
        "---"
      ]
    },
    {
      "cell_type": "code",
      "execution_count": null,
      "id": "a1ef7ceb",
      "metadata": {
        "scrolled": true,
        "id": "a1ef7ceb"
      },
      "outputs": [],
      "source": [
        ""
      ]
    }
  ],
  "metadata": {
    "kernelspec": {
      "display_name": "Python 3 (ipykernel)",
      "language": "python",
      "name": "python3"
    },
    "language_info": {
      "codemirror_mode": {
        "name": "ipython",
        "version": 3
      },
      "file_extension": ".py",
      "mimetype": "text/x-python",
      "name": "python",
      "nbconvert_exporter": "python",
      "pygments_lexer": "ipython3",
      "version": "3.9.7"
    },
    "colab": {
      "name": "models-pre-process-updated.ipynb",
      "provenance": []
    }
  },
  "nbformat": 4,
  "nbformat_minor": 5
}