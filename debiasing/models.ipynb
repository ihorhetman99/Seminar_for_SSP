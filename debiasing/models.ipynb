{
 "cells": [
  {
   "cell_type": "markdown",
   "id": "215008ca",
   "metadata": {},
   "source": [
    "## Sample notebook for seminar project ML for SSP\n",
    "\n",
    "Pay attention to name of variables in PATH"
   ]
  },
  {
   "cell_type": "code",
   "execution_count": 1,
   "id": "8cbc3fb3",
   "metadata": {
    "scrolled": true
   },
   "outputs": [],
   "source": [
    "%matplotlib inline\n",
    "import matplotlib.pyplot as plt\n",
    "import numpy as np\n",
    "import pandas as pd\n",
    "from IPython.display import Markdown, display\n",
    "\n",
    "# Scalers\n",
    "from sklearn.preprocessing import StandardScaler\n",
    "from sklearn.preprocessing import MinMaxScaler\n",
    "\n",
    "# Classifiers\n",
    "from sklearn.ensemble import RandomForestClassifier\n",
    "from sklearn.linear_model import LogisticRegression\n",
    "from sklearn.neighbors import KNeighborsClassifier\n",
    "from sklearn.svm import SVC\n",
    "from sklearn.pipeline import Pipeline\n",
    "\n",
    "# Metrics\n",
    "import sklearn.metrics as skm\n",
    "\n",
    "# Cross validation\n",
    "from sklearn.model_selection import cross_val_predict\n",
    "from sklearn.model_selection import KFold\n",
    "\n",
    "np.random.seed(123)"
   ]
  },
  {
   "cell_type": "markdown",
   "id": "3527eed7",
   "metadata": {},
   "source": [
    "You will probably need to install aif360 package, so refer to this link: https://github.com/Trusted-AI/AIF360\n",
    "\n",
    "Or this: https://jakevdp.github.io/blog/2017/12/05/installing-python-packages-from-jupyter/\n",
    "\n",
    "Use this: https://anaconda.org/conda-forge/aif360 or https://github.com/conda-forge/aif360-feedstock if previous doesn't work\n",
    "\n",
    "\n",
    "UPD: it worked using only `pip`\n",
    "\n",
    "UPD: you will probably need to install fairlearn package `pip install fairlearn`"
   ]
  },
  {
   "cell_type": "markdown",
   "id": "5f2b963c",
   "metadata": {},
   "source": [
    "  "
   ]
  },
  {
   "cell_type": "code",
   "execution_count": 2,
   "id": "5030f384",
   "metadata": {
    "scrolled": true
   },
   "outputs": [],
   "source": [
    "# Datapathes\n",
    "\n",
    "TRAIN_DATAPATH = r'D:\\Uni\\SS 2022\\Seminar ML for SSP\\Debiasing_Clinical_Data\\Data\\train\\functionals_train_all.csv'\n",
    "TEST_DATAPATH = r'D:\\Uni\\SS 2022\\Seminar ML for SSP\\Debiasing_Clinical_Data\\Data\\test\\functionals_test_all.csv'"
   ]
  },
  {
   "cell_type": "code",
   "execution_count": 3,
   "id": "9d674678",
   "metadata": {
    "scrolled": true
   },
   "outputs": [],
   "source": [
    "# reading data\n",
    "\n",
    "train = pd.read_csv(TRAIN_DATAPATH)\n",
    "test = pd.read_csv(TEST_DATAPATH)"
   ]
  },
  {
   "cell_type": "code",
   "execution_count": 4,
   "id": "4d48bfac",
   "metadata": {
    "scrolled": true
   },
   "outputs": [
    {
     "data": {
      "text/html": [
       "<div>\n",
       "<style scoped>\n",
       "    .dataframe tbody tr th:only-of-type {\n",
       "        vertical-align: middle;\n",
       "    }\n",
       "\n",
       "    .dataframe tbody tr th {\n",
       "        vertical-align: top;\n",
       "    }\n",
       "\n",
       "    .dataframe thead th {\n",
       "        text-align: right;\n",
       "    }\n",
       "</style>\n",
       "<table border=\"1\" class=\"dataframe\">\n",
       "  <thead>\n",
       "    <tr style=\"text-align: right;\">\n",
       "      <th></th>\n",
       "      <th>Unnamed: 0</th>\n",
       "      <th>id</th>\n",
       "      <th>age</th>\n",
       "      <th>gender</th>\n",
       "      <th>mmse</th>\n",
       "      <th>diagnosis</th>\n",
       "      <th>F0semitoneFrom27.5Hz_sma3nz_amean</th>\n",
       "      <th>F0semitoneFrom27.5Hz_sma3nz_stddevNorm</th>\n",
       "      <th>F0semitoneFrom27.5Hz_sma3nz_percentile20.0</th>\n",
       "      <th>F0semitoneFrom27.5Hz_sma3nz_percentile50.0</th>\n",
       "      <th>...</th>\n",
       "      <th>slopeUV0-500_sma3nz_amean</th>\n",
       "      <th>slopeUV500-1500_sma3nz_amean</th>\n",
       "      <th>spectralFluxUV_sma3nz_amean</th>\n",
       "      <th>loudnessPeaksPerSec</th>\n",
       "      <th>VoicedSegmentsPerSec</th>\n",
       "      <th>MeanVoicedSegmentLengthSec</th>\n",
       "      <th>StddevVoicedSegmentLengthSec</th>\n",
       "      <th>MeanUnvoicedSegmentLength</th>\n",
       "      <th>StddevUnvoicedSegmentLength</th>\n",
       "      <th>equivalentSoundLevel_dBp</th>\n",
       "    </tr>\n",
       "  </thead>\n",
       "  <tbody>\n",
       "    <tr>\n",
       "      <th>0</th>\n",
       "      <td>0</td>\n",
       "      <td>S001</td>\n",
       "      <td>74</td>\n",
       "      <td>male</td>\n",
       "      <td>NA</td>\n",
       "      <td>0</td>\n",
       "      <td>26.158813</td>\n",
       "      <td>0.256494</td>\n",
       "      <td>23.504830</td>\n",
       "      <td>25.390327</td>\n",
       "      <td>...</td>\n",
       "      <td>0.033982</td>\n",
       "      <td>-0.007878</td>\n",
       "      <td>0.025659</td>\n",
       "      <td>2.082161</td>\n",
       "      <td>1.610542</td>\n",
       "      <td>0.398252</td>\n",
       "      <td>0.395510</td>\n",
       "      <td>0.250614</td>\n",
       "      <td>0.467176</td>\n",
       "      <td>-29.529222</td>\n",
       "    </tr>\n",
       "    <tr>\n",
       "      <th>1</th>\n",
       "      <td>1</td>\n",
       "      <td>S002</td>\n",
       "      <td>62</td>\n",
       "      <td>female</td>\n",
       "      <td>30</td>\n",
       "      <td>0</td>\n",
       "      <td>35.038100</td>\n",
       "      <td>0.222455</td>\n",
       "      <td>32.094150</td>\n",
       "      <td>33.338820</td>\n",
       "      <td>...</td>\n",
       "      <td>0.029004</td>\n",
       "      <td>-0.006766</td>\n",
       "      <td>0.018389</td>\n",
       "      <td>0.105116</td>\n",
       "      <td>0.666316</td>\n",
       "      <td>0.105000</td>\n",
       "      <td>0.070366</td>\n",
       "      <td>1.412162</td>\n",
       "      <td>1.798986</td>\n",
       "      <td>-43.936977</td>\n",
       "    </tr>\n",
       "    <tr>\n",
       "      <th>2</th>\n",
       "      <td>2</td>\n",
       "      <td>S003</td>\n",
       "      <td>69</td>\n",
       "      <td>female</td>\n",
       "      <td>29</td>\n",
       "      <td>0</td>\n",
       "      <td>33.408146</td>\n",
       "      <td>0.167676</td>\n",
       "      <td>30.763927</td>\n",
       "      <td>33.175510</td>\n",
       "      <td>...</td>\n",
       "      <td>0.027397</td>\n",
       "      <td>-0.006148</td>\n",
       "      <td>0.020994</td>\n",
       "      <td>2.314480</td>\n",
       "      <td>1.375416</td>\n",
       "      <td>0.455579</td>\n",
       "      <td>0.408640</td>\n",
       "      <td>0.291481</td>\n",
       "      <td>0.738442</td>\n",
       "      <td>-25.290459</td>\n",
       "    </tr>\n",
       "    <tr>\n",
       "      <th>3</th>\n",
       "      <td>3</td>\n",
       "      <td>S004</td>\n",
       "      <td>71</td>\n",
       "      <td>female</td>\n",
       "      <td>30</td>\n",
       "      <td>0</td>\n",
       "      <td>31.709782</td>\n",
       "      <td>0.220399</td>\n",
       "      <td>29.273027</td>\n",
       "      <td>31.521568</td>\n",
       "      <td>...</td>\n",
       "      <td>0.027672</td>\n",
       "      <td>-0.003709</td>\n",
       "      <td>0.038795</td>\n",
       "      <td>2.695713</td>\n",
       "      <td>1.712295</td>\n",
       "      <td>0.367209</td>\n",
       "      <td>0.345697</td>\n",
       "      <td>0.235282</td>\n",
       "      <td>0.462315</td>\n",
       "      <td>-27.811728</td>\n",
       "    </tr>\n",
       "    <tr>\n",
       "      <th>4</th>\n",
       "      <td>4</td>\n",
       "      <td>S005</td>\n",
       "      <td>74</td>\n",
       "      <td>female</td>\n",
       "      <td>30</td>\n",
       "      <td>0</td>\n",
       "      <td>33.117634</td>\n",
       "      <td>0.210555</td>\n",
       "      <td>29.349773</td>\n",
       "      <td>31.528109</td>\n",
       "      <td>...</td>\n",
       "      <td>0.021428</td>\n",
       "      <td>-0.001211</td>\n",
       "      <td>0.005301</td>\n",
       "      <td>0.405904</td>\n",
       "      <td>1.046154</td>\n",
       "      <td>0.105647</td>\n",
       "      <td>0.085536</td>\n",
       "      <td>0.800909</td>\n",
       "      <td>1.251056</td>\n",
       "      <td>-49.826008</td>\n",
       "    </tr>\n",
       "  </tbody>\n",
       "</table>\n",
       "<p>5 rows × 94 columns</p>\n",
       "</div>"
      ],
      "text/plain": [
       "   Unnamed: 0    id  age  gender mmse  diagnosis  \\\n",
       "0           0  S001   74    male   NA          0   \n",
       "1           1  S002   62  female   30          0   \n",
       "2           2  S003   69  female   29          0   \n",
       "3           3  S004   71  female   30          0   \n",
       "4           4  S005   74  female   30          0   \n",
       "\n",
       "   F0semitoneFrom27.5Hz_sma3nz_amean  F0semitoneFrom27.5Hz_sma3nz_stddevNorm  \\\n",
       "0                          26.158813                                0.256494   \n",
       "1                          35.038100                                0.222455   \n",
       "2                          33.408146                                0.167676   \n",
       "3                          31.709782                                0.220399   \n",
       "4                          33.117634                                0.210555   \n",
       "\n",
       "   F0semitoneFrom27.5Hz_sma3nz_percentile20.0  \\\n",
       "0                                   23.504830   \n",
       "1                                   32.094150   \n",
       "2                                   30.763927   \n",
       "3                                   29.273027   \n",
       "4                                   29.349773   \n",
       "\n",
       "   F0semitoneFrom27.5Hz_sma3nz_percentile50.0  ...  slopeUV0-500_sma3nz_amean  \\\n",
       "0                                   25.390327  ...                   0.033982   \n",
       "1                                   33.338820  ...                   0.029004   \n",
       "2                                   33.175510  ...                   0.027397   \n",
       "3                                   31.521568  ...                   0.027672   \n",
       "4                                   31.528109  ...                   0.021428   \n",
       "\n",
       "   slopeUV500-1500_sma3nz_amean  spectralFluxUV_sma3nz_amean  \\\n",
       "0                     -0.007878                     0.025659   \n",
       "1                     -0.006766                     0.018389   \n",
       "2                     -0.006148                     0.020994   \n",
       "3                     -0.003709                     0.038795   \n",
       "4                     -0.001211                     0.005301   \n",
       "\n",
       "   loudnessPeaksPerSec  VoicedSegmentsPerSec  MeanVoicedSegmentLengthSec  \\\n",
       "0             2.082161              1.610542                    0.398252   \n",
       "1             0.105116              0.666316                    0.105000   \n",
       "2             2.314480              1.375416                    0.455579   \n",
       "3             2.695713              1.712295                    0.367209   \n",
       "4             0.405904              1.046154                    0.105647   \n",
       "\n",
       "   StddevVoicedSegmentLengthSec  MeanUnvoicedSegmentLength  \\\n",
       "0                      0.395510                   0.250614   \n",
       "1                      0.070366                   1.412162   \n",
       "2                      0.408640                   0.291481   \n",
       "3                      0.345697                   0.235282   \n",
       "4                      0.085536                   0.800909   \n",
       "\n",
       "   StddevUnvoicedSegmentLength  equivalentSoundLevel_dBp  \n",
       "0                     0.467176                -29.529222  \n",
       "1                     1.798986                -43.936977  \n",
       "2                     0.738442                -25.290459  \n",
       "3                     0.462315                -27.811728  \n",
       "4                     1.251056                -49.826008  \n",
       "\n",
       "[5 rows x 94 columns]"
      ]
     },
     "execution_count": 4,
     "metadata": {},
     "output_type": "execute_result"
    }
   ],
   "source": [
    "train.head()"
   ]
  },
  {
   "cell_type": "code",
   "execution_count": 5,
   "id": "e4937c81",
   "metadata": {
    "scrolled": true
   },
   "outputs": [
    {
     "data": {
      "text/html": [
       "<div>\n",
       "<style scoped>\n",
       "    .dataframe tbody tr th:only-of-type {\n",
       "        vertical-align: middle;\n",
       "    }\n",
       "\n",
       "    .dataframe tbody tr th {\n",
       "        vertical-align: top;\n",
       "    }\n",
       "\n",
       "    .dataframe thead th {\n",
       "        text-align: right;\n",
       "    }\n",
       "</style>\n",
       "<table border=\"1\" class=\"dataframe\">\n",
       "  <thead>\n",
       "    <tr style=\"text-align: right;\">\n",
       "      <th></th>\n",
       "      <th>Unnamed: 0</th>\n",
       "      <th>F0semitoneFrom27.5Hz_sma3nz_amean</th>\n",
       "      <th>F0semitoneFrom27.5Hz_sma3nz_stddevNorm</th>\n",
       "      <th>F0semitoneFrom27.5Hz_sma3nz_percentile20.0</th>\n",
       "      <th>F0semitoneFrom27.5Hz_sma3nz_percentile50.0</th>\n",
       "      <th>F0semitoneFrom27.5Hz_sma3nz_percentile80.0</th>\n",
       "      <th>F0semitoneFrom27.5Hz_sma3nz_pctlrange0-2</th>\n",
       "      <th>F0semitoneFrom27.5Hz_sma3nz_meanRisingSlope</th>\n",
       "      <th>F0semitoneFrom27.5Hz_sma3nz_stddevRisingSlope</th>\n",
       "      <th>F0semitoneFrom27.5Hz_sma3nz_meanFallingSlope</th>\n",
       "      <th>...</th>\n",
       "      <th>MeanVoicedSegmentLengthSec</th>\n",
       "      <th>StddevVoicedSegmentLengthSec</th>\n",
       "      <th>MeanUnvoicedSegmentLength</th>\n",
       "      <th>StddevUnvoicedSegmentLength</th>\n",
       "      <th>equivalentSoundLevel_dBp</th>\n",
       "      <th>id</th>\n",
       "      <th>age</th>\n",
       "      <th>gender</th>\n",
       "      <th>diagnosis</th>\n",
       "      <th>mmse</th>\n",
       "    </tr>\n",
       "  </thead>\n",
       "  <tbody>\n",
       "    <tr>\n",
       "      <th>0</th>\n",
       "      <td>0</td>\n",
       "      <td>31.396942</td>\n",
       "      <td>0.154061</td>\n",
       "      <td>30.213425</td>\n",
       "      <td>31.718218</td>\n",
       "      <td>33.796870</td>\n",
       "      <td>3.583446</td>\n",
       "      <td>177.98373</td>\n",
       "      <td>132.606320</td>\n",
       "      <td>216.58685</td>\n",
       "      <td>...</td>\n",
       "      <td>0.344048</td>\n",
       "      <td>0.342380</td>\n",
       "      <td>0.302286</td>\n",
       "      <td>0.547483</td>\n",
       "      <td>-22.975720</td>\n",
       "      <td>S160</td>\n",
       "      <td>63</td>\n",
       "      <td>1</td>\n",
       "      <td>0</td>\n",
       "      <td>28</td>\n",
       "    </tr>\n",
       "    <tr>\n",
       "      <th>1</th>\n",
       "      <td>1</td>\n",
       "      <td>29.956886</td>\n",
       "      <td>0.118317</td>\n",
       "      <td>28.500713</td>\n",
       "      <td>29.874610</td>\n",
       "      <td>31.048702</td>\n",
       "      <td>2.547989</td>\n",
       "      <td>163.17845</td>\n",
       "      <td>170.156390</td>\n",
       "      <td>146.55635</td>\n",
       "      <td>...</td>\n",
       "      <td>0.140119</td>\n",
       "      <td>0.154052</td>\n",
       "      <td>0.724940</td>\n",
       "      <td>1.355301</td>\n",
       "      <td>-57.484940</td>\n",
       "      <td>S161</td>\n",
       "      <td>55</td>\n",
       "      <td>1</td>\n",
       "      <td>0</td>\n",
       "      <td>29</td>\n",
       "    </tr>\n",
       "    <tr>\n",
       "      <th>2</th>\n",
       "      <td>2</td>\n",
       "      <td>19.633840</td>\n",
       "      <td>0.402905</td>\n",
       "      <td>13.825209</td>\n",
       "      <td>14.831374</td>\n",
       "      <td>31.307632</td>\n",
       "      <td>17.482424</td>\n",
       "      <td>209.11266</td>\n",
       "      <td>314.103150</td>\n",
       "      <td>78.85801</td>\n",
       "      <td>...</td>\n",
       "      <td>1.483673</td>\n",
       "      <td>1.388053</td>\n",
       "      <td>0.055946</td>\n",
       "      <td>0.046988</td>\n",
       "      <td>-25.289870</td>\n",
       "      <td>S162</td>\n",
       "      <td>67</td>\n",
       "      <td>1</td>\n",
       "      <td>1</td>\n",
       "      <td>24</td>\n",
       "    </tr>\n",
       "    <tr>\n",
       "      <th>3</th>\n",
       "      <td>3</td>\n",
       "      <td>28.083347</td>\n",
       "      <td>0.266278</td>\n",
       "      <td>24.390467</td>\n",
       "      <td>26.107916</td>\n",
       "      <td>29.036630</td>\n",
       "      <td>4.646164</td>\n",
       "      <td>416.17200</td>\n",
       "      <td>769.896240</td>\n",
       "      <td>225.06831</td>\n",
       "      <td>...</td>\n",
       "      <td>0.368082</td>\n",
       "      <td>0.375981</td>\n",
       "      <td>0.151600</td>\n",
       "      <td>0.184023</td>\n",
       "      <td>-29.287306</td>\n",
       "      <td>S163</td>\n",
       "      <td>71</td>\n",
       "      <td>0</td>\n",
       "      <td>0</td>\n",
       "      <td>30</td>\n",
       "    </tr>\n",
       "    <tr>\n",
       "      <th>4</th>\n",
       "      <td>4</td>\n",
       "      <td>34.369990</td>\n",
       "      <td>0.078030</td>\n",
       "      <td>33.367874</td>\n",
       "      <td>34.617860</td>\n",
       "      <td>35.442660</td>\n",
       "      <td>2.074787</td>\n",
       "      <td>58.16399</td>\n",
       "      <td>31.168308</td>\n",
       "      <td>367.91990</td>\n",
       "      <td>...</td>\n",
       "      <td>0.074000</td>\n",
       "      <td>0.034409</td>\n",
       "      <td>5.053333</td>\n",
       "      <td>6.706737</td>\n",
       "      <td>-66.156525</td>\n",
       "      <td>S164</td>\n",
       "      <td>73</td>\n",
       "      <td>1</td>\n",
       "      <td>1</td>\n",
       "      <td>21</td>\n",
       "    </tr>\n",
       "  </tbody>\n",
       "</table>\n",
       "<p>5 rows × 94 columns</p>\n",
       "</div>"
      ],
      "text/plain": [
       "   Unnamed: 0  F0semitoneFrom27.5Hz_sma3nz_amean  \\\n",
       "0           0                          31.396942   \n",
       "1           1                          29.956886   \n",
       "2           2                          19.633840   \n",
       "3           3                          28.083347   \n",
       "4           4                          34.369990   \n",
       "\n",
       "   F0semitoneFrom27.5Hz_sma3nz_stddevNorm  \\\n",
       "0                                0.154061   \n",
       "1                                0.118317   \n",
       "2                                0.402905   \n",
       "3                                0.266278   \n",
       "4                                0.078030   \n",
       "\n",
       "   F0semitoneFrom27.5Hz_sma3nz_percentile20.0  \\\n",
       "0                                   30.213425   \n",
       "1                                   28.500713   \n",
       "2                                   13.825209   \n",
       "3                                   24.390467   \n",
       "4                                   33.367874   \n",
       "\n",
       "   F0semitoneFrom27.5Hz_sma3nz_percentile50.0  \\\n",
       "0                                   31.718218   \n",
       "1                                   29.874610   \n",
       "2                                   14.831374   \n",
       "3                                   26.107916   \n",
       "4                                   34.617860   \n",
       "\n",
       "   F0semitoneFrom27.5Hz_sma3nz_percentile80.0  \\\n",
       "0                                   33.796870   \n",
       "1                                   31.048702   \n",
       "2                                   31.307632   \n",
       "3                                   29.036630   \n",
       "4                                   35.442660   \n",
       "\n",
       "   F0semitoneFrom27.5Hz_sma3nz_pctlrange0-2  \\\n",
       "0                                  3.583446   \n",
       "1                                  2.547989   \n",
       "2                                 17.482424   \n",
       "3                                  4.646164   \n",
       "4                                  2.074787   \n",
       "\n",
       "   F0semitoneFrom27.5Hz_sma3nz_meanRisingSlope  \\\n",
       "0                                    177.98373   \n",
       "1                                    163.17845   \n",
       "2                                    209.11266   \n",
       "3                                    416.17200   \n",
       "4                                     58.16399   \n",
       "\n",
       "   F0semitoneFrom27.5Hz_sma3nz_stddevRisingSlope  \\\n",
       "0                                     132.606320   \n",
       "1                                     170.156390   \n",
       "2                                     314.103150   \n",
       "3                                     769.896240   \n",
       "4                                      31.168308   \n",
       "\n",
       "   F0semitoneFrom27.5Hz_sma3nz_meanFallingSlope  ...  \\\n",
       "0                                     216.58685  ...   \n",
       "1                                     146.55635  ...   \n",
       "2                                      78.85801  ...   \n",
       "3                                     225.06831  ...   \n",
       "4                                     367.91990  ...   \n",
       "\n",
       "   MeanVoicedSegmentLengthSec  StddevVoicedSegmentLengthSec  \\\n",
       "0                    0.344048                      0.342380   \n",
       "1                    0.140119                      0.154052   \n",
       "2                    1.483673                      1.388053   \n",
       "3                    0.368082                      0.375981   \n",
       "4                    0.074000                      0.034409   \n",
       "\n",
       "   MeanUnvoicedSegmentLength  StddevUnvoicedSegmentLength  \\\n",
       "0                   0.302286                     0.547483   \n",
       "1                   0.724940                     1.355301   \n",
       "2                   0.055946                     0.046988   \n",
       "3                   0.151600                     0.184023   \n",
       "4                   5.053333                     6.706737   \n",
       "\n",
       "   equivalentSoundLevel_dBp     id  age  gender  diagnosis  mmse  \n",
       "0                -22.975720  S160    63       1          0    28  \n",
       "1                -57.484940  S161    55       1          0    29  \n",
       "2                -25.289870  S162    67       1          1    24  \n",
       "3                -29.287306  S163    71       0          0    30  \n",
       "4                -66.156525  S164    73       1          1    21  \n",
       "\n",
       "[5 rows x 94 columns]"
      ]
     },
     "execution_count": 5,
     "metadata": {},
     "output_type": "execute_result"
    }
   ],
   "source": [
    "test.head()\n",
    "\n",
    "#comment: 1 - female, 0 - male"
   ]
  },
  {
   "cell_type": "code",
   "execution_count": 6,
   "id": "1463ca21",
   "metadata": {
    "scrolled": true
   },
   "outputs": [
    {
     "name": "stdout",
     "output_type": "stream",
     "text": [
      "<class 'pandas.core.frame.DataFrame'>\n",
      "RangeIndex: 108 entries, 0 to 107\n",
      "Data columns (total 94 columns):\n",
      " #   Column                                          Non-Null Count  Dtype  \n",
      "---  ------                                          --------------  -----  \n",
      " 0   Unnamed: 0                                      108 non-null    int64  \n",
      " 1   id                                              108 non-null    object \n",
      " 2   age                                             108 non-null    int64  \n",
      " 3   gender                                          108 non-null    object \n",
      " 4   mmse                                            108 non-null    object \n",
      " 5   diagnosis                                       108 non-null    int64  \n",
      " 6   F0semitoneFrom27.5Hz_sma3nz_amean               108 non-null    float64\n",
      " 7   F0semitoneFrom27.5Hz_sma3nz_stddevNorm          108 non-null    float64\n",
      " 8   F0semitoneFrom27.5Hz_sma3nz_percentile20.0      108 non-null    float64\n",
      " 9   F0semitoneFrom27.5Hz_sma3nz_percentile50.0      108 non-null    float64\n",
      " 10  F0semitoneFrom27.5Hz_sma3nz_percentile80.0      108 non-null    float64\n",
      " 11  F0semitoneFrom27.5Hz_sma3nz_pctlrange0-2        108 non-null    float64\n",
      " 12  F0semitoneFrom27.5Hz_sma3nz_meanRisingSlope     108 non-null    float64\n",
      " 13  F0semitoneFrom27.5Hz_sma3nz_stddevRisingSlope   108 non-null    float64\n",
      " 14  F0semitoneFrom27.5Hz_sma3nz_meanFallingSlope    108 non-null    float64\n",
      " 15  F0semitoneFrom27.5Hz_sma3nz_stddevFallingSlope  108 non-null    float64\n",
      " 16  loudness_sma3_amean                             108 non-null    float64\n",
      " 17  loudness_sma3_stddevNorm                        108 non-null    float64\n",
      " 18  loudness_sma3_percentile20.0                    108 non-null    float64\n",
      " 19  loudness_sma3_percentile50.0                    108 non-null    float64\n",
      " 20  loudness_sma3_percentile80.0                    108 non-null    float64\n",
      " 21  loudness_sma3_pctlrange0-2                      108 non-null    float64\n",
      " 22  loudness_sma3_meanRisingSlope                   108 non-null    float64\n",
      " 23  loudness_sma3_stddevRisingSlope                 108 non-null    float64\n",
      " 24  loudness_sma3_meanFallingSlope                  108 non-null    float64\n",
      " 25  loudness_sma3_stddevFallingSlope                108 non-null    float64\n",
      " 26  spectralFlux_sma3_amean                         108 non-null    float64\n",
      " 27  spectralFlux_sma3_stddevNorm                    108 non-null    float64\n",
      " 28  mfcc1_sma3_amean                                108 non-null    float64\n",
      " 29  mfcc1_sma3_stddevNorm                           108 non-null    float64\n",
      " 30  mfcc2_sma3_amean                                108 non-null    float64\n",
      " 31  mfcc2_sma3_stddevNorm                           108 non-null    float64\n",
      " 32  mfcc3_sma3_amean                                108 non-null    float64\n",
      " 33  mfcc3_sma3_stddevNorm                           108 non-null    float64\n",
      " 34  mfcc4_sma3_amean                                108 non-null    float64\n",
      " 35  mfcc4_sma3_stddevNorm                           108 non-null    float64\n",
      " 36  jitterLocal_sma3nz_amean                        108 non-null    float64\n",
      " 37  jitterLocal_sma3nz_stddevNorm                   108 non-null    float64\n",
      " 38  shimmerLocaldB_sma3nz_amean                     108 non-null    float64\n",
      " 39  shimmerLocaldB_sma3nz_stddevNorm                108 non-null    float64\n",
      " 40  HNRdBACF_sma3nz_amean                           108 non-null    float64\n",
      " 41  HNRdBACF_sma3nz_stddevNorm                      108 non-null    float64\n",
      " 42  logRelF0-H1-H2_sma3nz_amean                     108 non-null    float64\n",
      " 43  logRelF0-H1-H2_sma3nz_stddevNorm                108 non-null    float64\n",
      " 44  logRelF0-H1-A3_sma3nz_amean                     108 non-null    float64\n",
      " 45  logRelF0-H1-A3_sma3nz_stddevNorm                108 non-null    float64\n",
      " 46  F1frequency_sma3nz_amean                        108 non-null    float64\n",
      " 47  F1frequency_sma3nz_stddevNorm                   108 non-null    float64\n",
      " 48  F1bandwidth_sma3nz_amean                        108 non-null    float64\n",
      " 49  F1bandwidth_sma3nz_stddevNorm                   108 non-null    float64\n",
      " 50  F1amplitudeLogRelF0_sma3nz_amean                108 non-null    float64\n",
      " 51  F1amplitudeLogRelF0_sma3nz_stddevNorm           108 non-null    float64\n",
      " 52  F2frequency_sma3nz_amean                        108 non-null    float64\n",
      " 53  F2frequency_sma3nz_stddevNorm                   108 non-null    float64\n",
      " 54  F2bandwidth_sma3nz_amean                        108 non-null    float64\n",
      " 55  F2bandwidth_sma3nz_stddevNorm                   108 non-null    float64\n",
      " 56  F2amplitudeLogRelF0_sma3nz_amean                108 non-null    float64\n",
      " 57  F2amplitudeLogRelF0_sma3nz_stddevNorm           108 non-null    float64\n",
      " 58  F3frequency_sma3nz_amean                        108 non-null    float64\n",
      " 59  F3frequency_sma3nz_stddevNorm                   108 non-null    float64\n",
      " 60  F3bandwidth_sma3nz_amean                        108 non-null    float64\n",
      " 61  F3bandwidth_sma3nz_stddevNorm                   108 non-null    float64\n",
      " 62  F3amplitudeLogRelF0_sma3nz_amean                108 non-null    float64\n",
      " 63  F3amplitudeLogRelF0_sma3nz_stddevNorm           108 non-null    float64\n",
      " 64  alphaRatioV_sma3nz_amean                        108 non-null    float64\n",
      " 65  alphaRatioV_sma3nz_stddevNorm                   108 non-null    float64\n",
      " 66  hammarbergIndexV_sma3nz_amean                   108 non-null    float64\n",
      " 67  hammarbergIndexV_sma3nz_stddevNorm              108 non-null    float64\n",
      " 68  slopeV0-500_sma3nz_amean                        108 non-null    float64\n",
      " 69  slopeV0-500_sma3nz_stddevNorm                   108 non-null    float64\n",
      " 70  slopeV500-1500_sma3nz_amean                     108 non-null    float64\n",
      " 71  slopeV500-1500_sma3nz_stddevNorm                108 non-null    float64\n",
      " 72  spectralFluxV_sma3nz_amean                      108 non-null    float64\n",
      " 73  spectralFluxV_sma3nz_stddevNorm                 108 non-null    float64\n",
      " 74  mfcc1V_sma3nz_amean                             108 non-null    float64\n",
      " 75  mfcc1V_sma3nz_stddevNorm                        108 non-null    float64\n",
      " 76  mfcc2V_sma3nz_amean                             108 non-null    float64\n",
      " 77  mfcc2V_sma3nz_stddevNorm                        108 non-null    float64\n",
      " 78  mfcc3V_sma3nz_amean                             108 non-null    float64\n",
      " 79  mfcc3V_sma3nz_stddevNorm                        108 non-null    float64\n",
      " 80  mfcc4V_sma3nz_amean                             108 non-null    float64\n",
      " 81  mfcc4V_sma3nz_stddevNorm                        108 non-null    float64\n",
      " 82  alphaRatioUV_sma3nz_amean                       108 non-null    float64\n",
      " 83  hammarbergIndexUV_sma3nz_amean                  108 non-null    float64\n",
      " 84  slopeUV0-500_sma3nz_amean                       108 non-null    float64\n",
      " 85  slopeUV500-1500_sma3nz_amean                    108 non-null    float64\n",
      " 86  spectralFluxUV_sma3nz_amean                     108 non-null    float64\n",
      " 87  loudnessPeaksPerSec                             108 non-null    float64\n",
      " 88  VoicedSegmentsPerSec                            108 non-null    float64\n",
      " 89  MeanVoicedSegmentLengthSec                      108 non-null    float64\n",
      " 90  StddevVoicedSegmentLengthSec                    108 non-null    float64\n",
      " 91  MeanUnvoicedSegmentLength                       108 non-null    float64\n",
      " 92  StddevUnvoicedSegmentLength                     108 non-null    float64\n",
      " 93  equivalentSoundLevel_dBp                        108 non-null    float64\n",
      "dtypes: float64(88), int64(3), object(3)\n",
      "memory usage: 79.4+ KB\n"
     ]
    }
   ],
   "source": [
    "train.info()"
   ]
  },
  {
   "cell_type": "code",
   "execution_count": 7,
   "id": "c0f29d6a",
   "metadata": {
    "scrolled": true
   },
   "outputs": [
    {
     "name": "stdout",
     "output_type": "stream",
     "text": [
      "<class 'pandas.core.frame.DataFrame'>\n",
      "RangeIndex: 48 entries, 0 to 47\n",
      "Data columns (total 94 columns):\n",
      " #   Column                                          Non-Null Count  Dtype  \n",
      "---  ------                                          --------------  -----  \n",
      " 0   Unnamed: 0                                      48 non-null     int64  \n",
      " 1   F0semitoneFrom27.5Hz_sma3nz_amean               48 non-null     float64\n",
      " 2   F0semitoneFrom27.5Hz_sma3nz_stddevNorm          48 non-null     float64\n",
      " 3   F0semitoneFrom27.5Hz_sma3nz_percentile20.0      48 non-null     float64\n",
      " 4   F0semitoneFrom27.5Hz_sma3nz_percentile50.0      48 non-null     float64\n",
      " 5   F0semitoneFrom27.5Hz_sma3nz_percentile80.0      48 non-null     float64\n",
      " 6   F0semitoneFrom27.5Hz_sma3nz_pctlrange0-2        48 non-null     float64\n",
      " 7   F0semitoneFrom27.5Hz_sma3nz_meanRisingSlope     48 non-null     float64\n",
      " 8   F0semitoneFrom27.5Hz_sma3nz_stddevRisingSlope   48 non-null     float64\n",
      " 9   F0semitoneFrom27.5Hz_sma3nz_meanFallingSlope    48 non-null     float64\n",
      " 10  F0semitoneFrom27.5Hz_sma3nz_stddevFallingSlope  48 non-null     float64\n",
      " 11  loudness_sma3_amean                             48 non-null     float64\n",
      " 12  loudness_sma3_stddevNorm                        48 non-null     float64\n",
      " 13  loudness_sma3_percentile20.0                    48 non-null     float64\n",
      " 14  loudness_sma3_percentile50.0                    48 non-null     float64\n",
      " 15  loudness_sma3_percentile80.0                    48 non-null     float64\n",
      " 16  loudness_sma3_pctlrange0-2                      48 non-null     float64\n",
      " 17  loudness_sma3_meanRisingSlope                   48 non-null     float64\n",
      " 18  loudness_sma3_stddevRisingSlope                 48 non-null     float64\n",
      " 19  loudness_sma3_meanFallingSlope                  48 non-null     float64\n",
      " 20  loudness_sma3_stddevFallingSlope                48 non-null     float64\n",
      " 21  spectralFlux_sma3_amean                         48 non-null     float64\n",
      " 22  spectralFlux_sma3_stddevNorm                    48 non-null     float64\n",
      " 23  mfcc1_sma3_amean                                48 non-null     float64\n",
      " 24  mfcc1_sma3_stddevNorm                           48 non-null     float64\n",
      " 25  mfcc2_sma3_amean                                48 non-null     float64\n",
      " 26  mfcc2_sma3_stddevNorm                           48 non-null     float64\n",
      " 27  mfcc3_sma3_amean                                48 non-null     float64\n",
      " 28  mfcc3_sma3_stddevNorm                           48 non-null     float64\n",
      " 29  mfcc4_sma3_amean                                48 non-null     float64\n",
      " 30  mfcc4_sma3_stddevNorm                           48 non-null     float64\n",
      " 31  jitterLocal_sma3nz_amean                        48 non-null     float64\n",
      " 32  jitterLocal_sma3nz_stddevNorm                   48 non-null     float64\n",
      " 33  shimmerLocaldB_sma3nz_amean                     48 non-null     float64\n",
      " 34  shimmerLocaldB_sma3nz_stddevNorm                48 non-null     float64\n",
      " 35  HNRdBACF_sma3nz_amean                           48 non-null     float64\n",
      " 36  HNRdBACF_sma3nz_stddevNorm                      48 non-null     float64\n",
      " 37  logRelF0-H1-H2_sma3nz_amean                     48 non-null     float64\n",
      " 38  logRelF0-H1-H2_sma3nz_stddevNorm                48 non-null     float64\n",
      " 39  logRelF0-H1-A3_sma3nz_amean                     48 non-null     float64\n",
      " 40  logRelF0-H1-A3_sma3nz_stddevNorm                48 non-null     float64\n",
      " 41  F1frequency_sma3nz_amean                        48 non-null     float64\n",
      " 42  F1frequency_sma3nz_stddevNorm                   48 non-null     float64\n",
      " 43  F1bandwidth_sma3nz_amean                        48 non-null     float64\n",
      " 44  F1bandwidth_sma3nz_stddevNorm                   48 non-null     float64\n",
      " 45  F1amplitudeLogRelF0_sma3nz_amean                48 non-null     float64\n",
      " 46  F1amplitudeLogRelF0_sma3nz_stddevNorm           48 non-null     float64\n",
      " 47  F2frequency_sma3nz_amean                        48 non-null     float64\n",
      " 48  F2frequency_sma3nz_stddevNorm                   48 non-null     float64\n",
      " 49  F2bandwidth_sma3nz_amean                        48 non-null     float64\n",
      " 50  F2bandwidth_sma3nz_stddevNorm                   48 non-null     float64\n",
      " 51  F2amplitudeLogRelF0_sma3nz_amean                48 non-null     float64\n",
      " 52  F2amplitudeLogRelF0_sma3nz_stddevNorm           48 non-null     float64\n",
      " 53  F3frequency_sma3nz_amean                        48 non-null     float64\n",
      " 54  F3frequency_sma3nz_stddevNorm                   48 non-null     float64\n",
      " 55  F3bandwidth_sma3nz_amean                        48 non-null     float64\n",
      " 56  F3bandwidth_sma3nz_stddevNorm                   48 non-null     float64\n",
      " 57  F3amplitudeLogRelF0_sma3nz_amean                48 non-null     float64\n",
      " 58  F3amplitudeLogRelF0_sma3nz_stddevNorm           48 non-null     float64\n",
      " 59  alphaRatioV_sma3nz_amean                        48 non-null     float64\n",
      " 60  alphaRatioV_sma3nz_stddevNorm                   48 non-null     float64\n",
      " 61  hammarbergIndexV_sma3nz_amean                   48 non-null     float64\n",
      " 62  hammarbergIndexV_sma3nz_stddevNorm              48 non-null     float64\n",
      " 63  slopeV0-500_sma3nz_amean                        48 non-null     float64\n",
      " 64  slopeV0-500_sma3nz_stddevNorm                   48 non-null     float64\n",
      " 65  slopeV500-1500_sma3nz_amean                     48 non-null     float64\n",
      " 66  slopeV500-1500_sma3nz_stddevNorm                48 non-null     float64\n",
      " 67  spectralFluxV_sma3nz_amean                      48 non-null     float64\n",
      " 68  spectralFluxV_sma3nz_stddevNorm                 48 non-null     float64\n",
      " 69  mfcc1V_sma3nz_amean                             48 non-null     float64\n",
      " 70  mfcc1V_sma3nz_stddevNorm                        48 non-null     float64\n",
      " 71  mfcc2V_sma3nz_amean                             48 non-null     float64\n",
      " 72  mfcc2V_sma3nz_stddevNorm                        48 non-null     float64\n",
      " 73  mfcc3V_sma3nz_amean                             48 non-null     float64\n",
      " 74  mfcc3V_sma3nz_stddevNorm                        48 non-null     float64\n",
      " 75  mfcc4V_sma3nz_amean                             48 non-null     float64\n",
      " 76  mfcc4V_sma3nz_stddevNorm                        48 non-null     float64\n",
      " 77  alphaRatioUV_sma3nz_amean                       48 non-null     float64\n",
      " 78  hammarbergIndexUV_sma3nz_amean                  48 non-null     float64\n",
      " 79  slopeUV0-500_sma3nz_amean                       48 non-null     float64\n",
      " 80  slopeUV500-1500_sma3nz_amean                    48 non-null     float64\n",
      " 81  spectralFluxUV_sma3nz_amean                     48 non-null     float64\n",
      " 82  loudnessPeaksPerSec                             48 non-null     float64\n",
      " 83  VoicedSegmentsPerSec                            48 non-null     float64\n",
      " 84  MeanVoicedSegmentLengthSec                      48 non-null     float64\n",
      " 85  StddevVoicedSegmentLengthSec                    48 non-null     float64\n",
      " 86  MeanUnvoicedSegmentLength                       48 non-null     float64\n",
      " 87  StddevUnvoicedSegmentLength                     48 non-null     float64\n",
      " 88  equivalentSoundLevel_dBp                        48 non-null     float64\n",
      " 89  id                                              48 non-null     object \n",
      " 90  age                                             48 non-null     int64  \n",
      " 91  gender                                          48 non-null     int64  \n",
      " 92  diagnosis                                       48 non-null     int64  \n",
      " 93  mmse                                            48 non-null     int64  \n",
      "dtypes: float64(88), int64(5), object(1)\n",
      "memory usage: 35.4+ KB\n"
     ]
    }
   ],
   "source": [
    "test.info()"
   ]
  },
  {
   "cell_type": "code",
   "execution_count": 8,
   "id": "898cb217",
   "metadata": {
    "scrolled": true
   },
   "outputs": [],
   "source": [
    "# preprocessing\n",
    "features = [\"F2frequency_sma3nz_amean\", \n",
    "             \"HNRdBACF_sma3nz_amean\", \n",
    "             \"F0semitoneFrom27.5Hz_sma3nz_percentile80.0\", \n",
    "             \"F0semitoneFrom27.5Hz_sma3nz_amean\",\n",
    "             \"F1frequency_sma3nz_amean\",\n",
    "             \"spectralFlux_sma3_amean\",\n",
    "             \"mfcc1_sma3_amean\",\n",
    "             \"jitterLocal_sma3nz_amean\",\n",
    "             \"logRelF0-H1-H2_sma3nz_amean\",\n",
    "             \"slopeV0-500_sma3nz_amean\",\n",
    "             \"mfcc2V_sma3nz_stddevNorm\",\n",
    "             \"hammarbergIndexUV_sma3nz_amean\",\n",
    "             \"MeanUnvoicedSegmentLength\",\n",
    "             \"gender\", \"diagnosis\"]\n",
    "\n",
    "train['gender'] = train['gender'].replace(['female', 'male'], [1, 0])\n",
    "\n",
    "train_df = train[features]\n",
    "test_df = test[features]"
   ]
  },
  {
   "cell_type": "code",
   "execution_count": 9,
   "id": "8515620c",
   "metadata": {
    "scrolled": true
   },
   "outputs": [],
   "source": [
    "# function for calculating accuracy, sensitivity and specificity\n",
    "\n",
    "def classification_results(y_true, y_pred):\n",
    "    print(skm.confusion_matrix(y_true, y_pred))\n",
    "    tn, fp, fn, tp = skm.confusion_matrix(y_true, y_pred).ravel()\n",
    "    specificity = tn / (tn + fp)\n",
    "    sensitivity = tp / (tp + fn)\n",
    "    accuracy = skm.accuracy_score(y_pred=y_pred, y_true=y_true)\n",
    "    print('Accuracy: ', accuracy)\n",
    "    print('Sensitivity: ', sensitivity)\n",
    "    print('Specificity: ', specificity)"
   ]
  },
  {
   "cell_type": "code",
   "execution_count": 10,
   "id": "4ab296d7",
   "metadata": {
    "scrolled": true
   },
   "outputs": [],
   "source": [
    "# function for evaluating during CV, full train and test datasets\n",
    "\n",
    "def evaluate_model(model, data_x, data_y, X_test, y_test, k=5):\n",
    "    '''returns trained classifier'''\n",
    "    k_fold = KFold(k, shuffle=True, random_state=1)\n",
    "\n",
    "    predicted_targets = np.array([])\n",
    "    actual_targets = np.array([])\n",
    "    \n",
    "    display(Markdown(\"#### Results of k-fold CV on training set\"))\n",
    "    for train_ix, test_ix in k_fold.split(data_x):\n",
    "        train_x, train_y, test_x, test_y = data_x.iloc[train_ix], data_y.iloc[train_ix], data_x.iloc[test_ix], data_y.iloc[test_ix]\n",
    "\n",
    "        # Fit the classifier\n",
    "        classifier = model.fit(train_x, train_y)\n",
    "\n",
    "        # Predict the labels of the test set samples\n",
    "        predicted_labels_fold = classifier.predict(test_x)\n",
    "\n",
    "        predicted_targets = np.append(predicted_targets, predicted_labels_fold)\n",
    "        actual_targets = np.append(actual_targets, test_y)\n",
    "        \n",
    "        classification_results(test_y, predicted_labels_fold)\n",
    "        print('')\n",
    "        \n",
    "    display(Markdown(\"#### Results on the whole training set\"))\n",
    "    classification_results(actual_targets, predicted_targets)\n",
    "    \n",
    "    \n",
    "    display(Markdown(\"#### Results on test set\"))\n",
    "    classification_results(y_test, classifier.predict(X_test))\n",
    "    \n",
    "    return classifier\n",
    "        \n",
    "    "
   ]
  },
  {
   "cell_type": "markdown",
   "id": "22885091",
   "metadata": {},
   "source": [
    "### Logistic regression model"
   ]
  },
  {
   "cell_type": "code",
   "execution_count": 11,
   "id": "5e1f7291",
   "metadata": {
    "scrolled": true
   },
   "outputs": [],
   "source": [
    "features_lr = [\"F0semitoneFrom27.5Hz_sma3nz_percentile80.0\", \n",
    "                 \"F1frequency_sma3nz_amean\", \n",
    "                 \"HNRdBACF_sma3nz_amean\", \n",
    "                 \"F0semitoneFrom27.5Hz_sma3nz_amean\",\n",
    "                 \"spectralFlux_sma3_amean\",\n",
    "                  \"gender\"]\n",
    "\n",
    "Y_train = train_df[\"diagnosis\"]\n",
    "X_train = train_df[features_lr]\n",
    "\n",
    "Y_test = test_df[\"diagnosis\"]\n",
    "X_test = test_df[features_lr]\n"
   ]
  },
  {
   "cell_type": "code",
   "execution_count": 12,
   "id": "2141ade7",
   "metadata": {
    "scrolled": false
   },
   "outputs": [
    {
     "data": {
      "text/markdown": [
       "#### Results of k-fold CV on training set"
      ],
      "text/plain": [
       "<IPython.core.display.Markdown object>"
      ]
     },
     "metadata": {},
     "output_type": "display_data"
    },
    {
     "name": "stdout",
     "output_type": "stream",
     "text": [
      "[[ 3  1]\n",
      " [ 6 12]]\n",
      "Accuracy:  0.6818181818181818\n",
      "Sensitivity:  0.6666666666666666\n",
      "Specificity:  0.75\n",
      "\n",
      "[[13  1]\n",
      " [ 5  3]]\n",
      "Accuracy:  0.7272727272727273\n",
      "Sensitivity:  0.375\n",
      "Specificity:  0.9285714285714286\n",
      "\n",
      "[[6 5]\n",
      " [2 9]]\n",
      "Accuracy:  0.6818181818181818\n",
      "Sensitivity:  0.8181818181818182\n",
      "Specificity:  0.5454545454545454\n",
      "\n",
      "[[7 4]\n",
      " [4 6]]\n",
      "Accuracy:  0.6190476190476191\n",
      "Sensitivity:  0.6\n",
      "Specificity:  0.6363636363636364\n",
      "\n",
      "[[8 6]\n",
      " [3 4]]\n",
      "Accuracy:  0.5714285714285714\n",
      "Sensitivity:  0.5714285714285714\n",
      "Specificity:  0.5714285714285714\n",
      "\n"
     ]
    },
    {
     "data": {
      "text/markdown": [
       "#### Results on the whole training set"
      ],
      "text/plain": [
       "<IPython.core.display.Markdown object>"
      ]
     },
     "metadata": {},
     "output_type": "display_data"
    },
    {
     "name": "stdout",
     "output_type": "stream",
     "text": [
      "[[37 17]\n",
      " [20 34]]\n",
      "Accuracy:  0.6574074074074074\n",
      "Sensitivity:  0.6296296296296297\n",
      "Specificity:  0.6851851851851852\n"
     ]
    },
    {
     "data": {
      "text/markdown": [
       "#### Results on test set"
      ],
      "text/plain": [
       "<IPython.core.display.Markdown object>"
      ]
     },
     "metadata": {},
     "output_type": "display_data"
    },
    {
     "name": "stdout",
     "output_type": "stream",
     "text": [
      "[[18  6]\n",
      " [ 7 17]]\n",
      "Accuracy:  0.7291666666666666\n",
      "Sensitivity:  0.7083333333333334\n",
      "Specificity:  0.75\n"
     ]
    }
   ],
   "source": [
    "model_lr = Pipeline(\n",
    "    steps=[\n",
    "        (\n",
    "            \"classifier\",\n",
    "            LogisticRegression(solver='liblinear', penalty = 'l2', class_weight = 'balanced'),\n",
    "        ),\n",
    "    ]\n",
    ")\n",
    "\n",
    "model_lr = evaluate_model(model_lr, X_train, Y_train, X_test, Y_test)"
   ]
  },
  {
   "cell_type": "markdown",
   "id": "a37b740f",
   "metadata": {},
   "source": [
    "### Random forest model"
   ]
  },
  {
   "cell_type": "code",
   "execution_count": 13,
   "id": "6d09dd9c",
   "metadata": {
    "scrolled": true
   },
   "outputs": [],
   "source": [
    "features_rf = [\"F0semitoneFrom27.5Hz_sma3nz_percentile80.0\", \n",
    "                 \"F1frequency_sma3nz_amean\", \n",
    "                 \"HNRdBACF_sma3nz_amean\", \n",
    "                 \"F0semitoneFrom27.5Hz_sma3nz_amean\",\n",
    "                 \"gender\"]\n",
    "\n",
    "Y_train = train_df[\"diagnosis\"]\n",
    "X_train = train_df[features_rf]\n",
    "\n",
    "Y_test = test_df[\"diagnosis\"]\n",
    "X_test = test_df[features_rf]"
   ]
  },
  {
   "cell_type": "code",
   "execution_count": 14,
   "id": "f20ca0b5",
   "metadata": {},
   "outputs": [
    {
     "data": {
      "text/markdown": [
       "#### Results of k-fold CV on training set"
      ],
      "text/plain": [
       "<IPython.core.display.Markdown object>"
      ]
     },
     "metadata": {},
     "output_type": "display_data"
    },
    {
     "name": "stdout",
     "output_type": "stream",
     "text": [
      "[[ 1  3]\n",
      " [ 6 12]]\n",
      "Accuracy:  0.5909090909090909\n",
      "Sensitivity:  0.6666666666666666\n",
      "Specificity:  0.25\n",
      "\n",
      "[[11  3]\n",
      " [ 4  4]]\n",
      "Accuracy:  0.6818181818181818\n",
      "Sensitivity:  0.5\n",
      "Specificity:  0.7857142857142857\n",
      "\n",
      "[[6 5]\n",
      " [7 4]]\n",
      "Accuracy:  0.45454545454545453\n",
      "Sensitivity:  0.36363636363636365\n",
      "Specificity:  0.5454545454545454\n",
      "\n",
      "[[9 2]\n",
      " [4 6]]\n",
      "Accuracy:  0.7142857142857143\n",
      "Sensitivity:  0.6\n",
      "Specificity:  0.8181818181818182\n",
      "\n",
      "[[8 6]\n",
      " [2 5]]\n",
      "Accuracy:  0.6190476190476191\n",
      "Sensitivity:  0.7142857142857143\n",
      "Specificity:  0.5714285714285714\n",
      "\n"
     ]
    },
    {
     "data": {
      "text/markdown": [
       "#### Results on the whole training set"
      ],
      "text/plain": [
       "<IPython.core.display.Markdown object>"
      ]
     },
     "metadata": {},
     "output_type": "display_data"
    },
    {
     "name": "stdout",
     "output_type": "stream",
     "text": [
      "[[35 19]\n",
      " [23 31]]\n",
      "Accuracy:  0.6111111111111112\n",
      "Sensitivity:  0.5740740740740741\n",
      "Specificity:  0.6481481481481481\n"
     ]
    },
    {
     "data": {
      "text/markdown": [
       "#### Results on test set"
      ],
      "text/plain": [
       "<IPython.core.display.Markdown object>"
      ]
     },
     "metadata": {},
     "output_type": "display_data"
    },
    {
     "name": "stdout",
     "output_type": "stream",
     "text": [
      "[[16  8]\n",
      " [ 8 16]]\n",
      "Accuracy:  0.6666666666666666\n",
      "Sensitivity:  0.6666666666666666\n",
      "Specificity:  0.6666666666666666\n"
     ]
    }
   ],
   "source": [
    "model_rf = Pipeline(\n",
    "    steps=[\n",
    "        (\"preprocessor\", MinMaxScaler()),\n",
    "        (\n",
    "            \"classifier\",\n",
    "            RandomForestClassifier(n_estimators=200, min_samples_leaf=20,\n",
    "                                                               class_weight='balanced'),\n",
    "        ),\n",
    "    ]\n",
    ")\n",
    "\n",
    "model_rf = evaluate_model(model_rf, X_train, Y_train, X_test, Y_test)"
   ]
  },
  {
   "cell_type": "markdown",
   "id": "6dae4016",
   "metadata": {},
   "source": [
    "### kNN model"
   ]
  },
  {
   "cell_type": "code",
   "execution_count": 15,
   "id": "d7f01da5",
   "metadata": {
    "scrolled": true
   },
   "outputs": [],
   "source": [
    "features_knn = [\"F0semitoneFrom27.5Hz_sma3nz_percentile80.0\", \n",
    "                 \"HNRdBACF_sma3nz_amean\", \n",
    "                 \"F0semitoneFrom27.5Hz_sma3nz_amean\",\n",
    "                 \"mfcc1_sma3_amean\",\n",
    "                 \"MeanUnvoicedSegmentLength\",\n",
    "                 \"gender\"]\n",
    "\n",
    "Y_train = train_df[\"diagnosis\"]\n",
    "X_train = train_df[features_knn]\n",
    "\n",
    "Y_test = test_df[\"diagnosis\"]\n",
    "X_test = test_df[features_knn]"
   ]
  },
  {
   "cell_type": "code",
   "execution_count": 16,
   "id": "ae51fb99",
   "metadata": {
    "scrolled": false
   },
   "outputs": [
    {
     "data": {
      "text/markdown": [
       "#### Results of k-fold CV on training set"
      ],
      "text/plain": [
       "<IPython.core.display.Markdown object>"
      ]
     },
     "metadata": {},
     "output_type": "display_data"
    },
    {
     "name": "stdout",
     "output_type": "stream",
     "text": [
      "[[ 2  2]\n",
      " [ 8 10]]\n",
      "Accuracy:  0.5454545454545454\n",
      "Sensitivity:  0.5555555555555556\n",
      "Specificity:  0.5\n",
      "\n",
      "[[7 7]\n",
      " [3 5]]\n",
      "Accuracy:  0.5454545454545454\n",
      "Sensitivity:  0.625\n",
      "Specificity:  0.5\n",
      "\n",
      "[[7 4]\n",
      " [5 6]]\n",
      "Accuracy:  0.5909090909090909\n",
      "Sensitivity:  0.5454545454545454\n",
      "Specificity:  0.6363636363636364\n",
      "\n",
      "[[7 4]\n",
      " [3 7]]\n",
      "Accuracy:  0.6666666666666666\n",
      "Sensitivity:  0.7\n",
      "Specificity:  0.6363636363636364\n",
      "\n",
      "[[5 9]\n",
      " [3 4]]\n",
      "Accuracy:  0.42857142857142855\n",
      "Sensitivity:  0.5714285714285714\n",
      "Specificity:  0.35714285714285715\n",
      "\n"
     ]
    },
    {
     "data": {
      "text/markdown": [
       "#### Results on the whole training set"
      ],
      "text/plain": [
       "<IPython.core.display.Markdown object>"
      ]
     },
     "metadata": {},
     "output_type": "display_data"
    },
    {
     "name": "stdout",
     "output_type": "stream",
     "text": [
      "[[28 26]\n",
      " [22 32]]\n",
      "Accuracy:  0.5555555555555556\n",
      "Sensitivity:  0.5925925925925926\n",
      "Specificity:  0.5185185185185185\n"
     ]
    },
    {
     "data": {
      "text/markdown": [
       "#### Results on test set"
      ],
      "text/plain": [
       "<IPython.core.display.Markdown object>"
      ]
     },
     "metadata": {},
     "output_type": "display_data"
    },
    {
     "name": "stdout",
     "output_type": "stream",
     "text": [
      "[[19  5]\n",
      " [ 9 15]]\n",
      "Accuracy:  0.7083333333333334\n",
      "Sensitivity:  0.625\n",
      "Specificity:  0.7916666666666666\n"
     ]
    }
   ],
   "source": [
    "model_knn = Pipeline(\n",
    "    steps=[\n",
    "        (\"preprocessor\", MinMaxScaler()),\n",
    "        (\n",
    "            \"classifier\",\n",
    "            KNeighborsClassifier(n_neighbors=3),\n",
    "        ),\n",
    "    ]\n",
    ")\n",
    "\n",
    "model_knn = evaluate_model(model_knn, X_train, Y_train, X_test, Y_test)"
   ]
  },
  {
   "cell_type": "markdown",
   "id": "767938f8",
   "metadata": {},
   "source": [
    "### Radial based SVM"
   ]
  },
  {
   "cell_type": "code",
   "execution_count": 37,
   "id": "e7bdc858",
   "metadata": {
    "scrolled": true
   },
   "outputs": [],
   "source": [
    "features_svm = [\"F2frequency_sma3nz_amean\", \n",
    "                    \"F0semitoneFrom27.5Hz_sma3nz_percentile80.0\", \n",
    "                    \"F0semitoneFrom27.5Hz_sma3nz_amean\",\n",
    "                     \"gender\"]\n",
    "Y_train = train_df[\"diagnosis\"]\n",
    "X_train = train_df[features_svm]\n",
    "\n",
    "Y_test = test_df[\"diagnosis\"]\n",
    "X_test = test_df[features_svm]"
   ]
  },
  {
   "cell_type": "code",
   "execution_count": 38,
   "id": "571b5d24",
   "metadata": {
    "scrolled": false
   },
   "outputs": [
    {
     "data": {
      "text/markdown": [
       "#### Results of k-fold CV on training set"
      ],
      "text/plain": [
       "<IPython.core.display.Markdown object>"
      ]
     },
     "metadata": {},
     "output_type": "display_data"
    },
    {
     "name": "stdout",
     "output_type": "stream",
     "text": [
      "[[ 4  0]\n",
      " [ 8 10]]\n",
      "Accuracy:  0.6363636363636364\n",
      "Sensitivity:  0.5555555555555556\n",
      "Specificity:  1.0\n",
      "\n",
      "[[9 5]\n",
      " [1 7]]\n",
      "Accuracy:  0.7272727272727273\n",
      "Sensitivity:  0.875\n",
      "Specificity:  0.6428571428571429\n",
      "\n",
      "[[5 6]\n",
      " [5 6]]\n",
      "Accuracy:  0.5\n",
      "Sensitivity:  0.5454545454545454\n",
      "Specificity:  0.45454545454545453\n",
      "\n",
      "[[6 5]\n",
      " [1 9]]\n",
      "Accuracy:  0.7142857142857143\n",
      "Sensitivity:  0.9\n",
      "Specificity:  0.5454545454545454\n",
      "\n",
      "[[9 5]\n",
      " [2 5]]\n",
      "Accuracy:  0.6666666666666666\n",
      "Sensitivity:  0.7142857142857143\n",
      "Specificity:  0.6428571428571429\n",
      "\n"
     ]
    },
    {
     "data": {
      "text/markdown": [
       "#### Results on the whole training set"
      ],
      "text/plain": [
       "<IPython.core.display.Markdown object>"
      ]
     },
     "metadata": {},
     "output_type": "display_data"
    },
    {
     "name": "stdout",
     "output_type": "stream",
     "text": [
      "[[33 21]\n",
      " [17 37]]\n",
      "Accuracy:  0.6481481481481481\n",
      "Sensitivity:  0.6851851851851852\n",
      "Specificity:  0.6111111111111112\n"
     ]
    },
    {
     "data": {
      "text/markdown": [
       "#### Results on test set"
      ],
      "text/plain": [
       "<IPython.core.display.Markdown object>"
      ]
     },
     "metadata": {},
     "output_type": "display_data"
    },
    {
     "name": "stdout",
     "output_type": "stream",
     "text": [
      "[[18  6]\n",
      " [ 8 16]]\n",
      "Accuracy:  0.7083333333333334\n",
      "Sensitivity:  0.6666666666666666\n",
      "Specificity:  0.75\n"
     ]
    }
   ],
   "source": [
    "model_svm = Pipeline(\n",
    "    steps=[\n",
    "        (\"preprocessor\", MinMaxScaler()),\n",
    "        (\n",
    "            \"classifier\",\n",
    "            SVC(kernel = 'rbf', gamma = 4.0, C = 3.0),\n",
    "        ),\n",
    "    ]\n",
    ")\n",
    "\n",
    "\n",
    "model_svm = evaluate_model(model_svm, X_train, Y_train, X_test, Y_test)"
   ]
  },
  {
   "cell_type": "markdown",
   "id": "c6b841ec",
   "metadata": {},
   "source": [
    "#### Results on the test set without debiasing\n",
    "\n",
    "| Model       | Logistic regression | Random forest | kNN    |  SVM   |  \n",
    "|------       |------               | ------        |------  | ------ |\n",
    "| Accuracy    |  0.7291             |  0.666        | 0.7083 | 0.7083 | \n",
    "| Sensitivity |  0.7083             |  0.666        | 0.625  | 0.6666 | \n",
    "| Specificity |  0.75               |  0.666        | 0.7916 | 0.75   | \n",
    "\n",
    "Comment: improved Lr and kNN"
   ]
  },
  {
   "cell_type": "markdown",
   "id": "b17fc9fc",
   "metadata": {},
   "source": [
    "## Applying debiasing techniques\n",
    "\n",
    "### in-processing algorithms"
   ]
  },
  {
   "cell_type": "code",
   "execution_count": 20,
   "id": "c696f04a",
   "metadata": {
    "scrolled": true
   },
   "outputs": [],
   "source": [
    "# AIF360 Metrics\n",
    "from aif360.sklearn.metrics import statistical_parity_difference, equal_opportunity_difference, average_odds_difference\n",
    "from aif360.sklearn.metrics import disparate_impact_ratio, theil_index\n",
    "\n",
    "# AIF360 in-processing algorithms\n",
    "\n",
    "from aif360.sklearn.inprocessing import ExponentiatedGradientReduction\n",
    "from aif360.sklearn.inprocessing import GridSearchReduction\n",
    "\n",
    "# AIF360 dataset utils\n",
    "from aif360.sklearn.datasets import standardize_dataset\n",
    "\n",
    "# import of fairlearn\n",
    "import fairlearn.reductions as red\n",
    "from fairlearn.metrics import true_negative_rate\n",
    "import fairlearn.metrics as fm"
   ]
  },
  {
   "cell_type": "code",
   "execution_count": 21,
   "id": "aca6e7a7",
   "metadata": {
    "scrolled": true
   },
   "outputs": [],
   "source": [
    "def get_values_of_aif_metrics(y_test, y_pred):\n",
    "    print('Statistical parity difference: ', statistical_parity_difference(y_test, y_pred))\n",
    "    print('Equal opportunity difference: ', equal_opportunity_difference(y_test, y_pred))\n",
    "    print('Average odds difference: ', average_odds_difference(y_test, y_pred))\n",
    "    print('Disparate impact ratio: ', disparate_impact_ratio(y_test, y_pred))\n",
    "    print('Theil index: ', theil_index(y_pred))"
   ]
  },
  {
   "cell_type": "code",
   "execution_count": 22,
   "id": "eea28e22",
   "metadata": {
    "scrolled": true
   },
   "outputs": [],
   "source": [
    "# creating aif360 dataset\n",
    "def create_dataset(train_df, test_df, target, prot_attr_cols, usecols):\n",
    "    X_train_aif, y_train_aif = standardize_dataset(df = train_df, prot_attr=prot_attr_cols, \n",
    "                                               target = target, usecols=usecols)\n",
    "    X_test_aif, y_test_aif = standardize_dataset(df = test_df, prot_attr=prot_attr_cols, target = target,\n",
    "                                            usecols=usecols)\n",
    "    return X_train_aif, y_train_aif, X_test_aif, y_test_aif"
   ]
  },
  {
   "cell_type": "code",
   "execution_count": 23,
   "id": "ce4ccc1a",
   "metadata": {
    "scrolled": true
   },
   "outputs": [],
   "source": [
    "metrics = {\n",
    "    'accuracy': skm.accuracy_score,\n",
    "    'sensitivity': skm.recall_score,  \n",
    "    'specificity': fm.true_negative_rate       \n",
    "            }\n",
    "\n",
    "def plot_metrics(y_true, X, metrics, model, sens_feature):\n",
    "    \n",
    "    metric_frame = fm.MetricFrame(metrics=metrics,\n",
    "                           y_true=y_true,\n",
    "                           y_pred=model.predict(X),\n",
    "                           sensitive_features=X[sens_feature])\n",
    "\n",
    "    metric_frame.by_group.plot.bar(\n",
    "        subplots=True,\n",
    "        layout=[1, 3],\n",
    "        legend=False,\n",
    "        figsize=[16, 5],\n",
    "        ylim = [0, 1],\n",
    "        title=\"Show all metrics\")\n",
    "    \n",
    "    print(metric_frame.by_group)"
   ]
  },
  {
   "cell_type": "code",
   "execution_count": 24,
   "id": "e5461db6",
   "metadata": {
    "scrolled": true
   },
   "outputs": [
    {
     "data": {
      "text/plain": [
       "['gender']"
      ]
     },
     "execution_count": 24,
     "metadata": {},
     "output_type": "execute_result"
    }
   ],
   "source": [
    "prot_attr_cols = [colname for colname in train_df if \"gender\" in colname]\n",
    "prot_attr_cols"
   ]
  },
  {
   "cell_type": "markdown",
   "id": "27dd7254",
   "metadata": {},
   "source": [
    "### Logistic regression"
   ]
  },
  {
   "cell_type": "code",
   "execution_count": 25,
   "id": "c5fdbb97",
   "metadata": {
    "scrolled": true
   },
   "outputs": [],
   "source": [
    "X_train_aif, y_train_aif, X_test_aif, y_test_aif = create_dataset(train_df, test_df, 'diagnosis', prot_attr_cols, features_lr)"
   ]
  },
  {
   "cell_type": "code",
   "execution_count": 26,
   "id": "acfff24f",
   "metadata": {},
   "outputs": [
    {
     "name": "stdout",
     "output_type": "stream",
     "text": [
      "Statistical parity difference:  0.038461538461538436\n",
      "Equal opportunity difference:  0.2027972027972028\n",
      "Average odds difference:  0.038461538461538436\n",
      "Disparate impact ratio:  1.0833333333333333\n",
      "Theil index:  0.735706794978741\n",
      "\n",
      "        accuracy sensitivity specificity\n",
      "gender                                  \n",
      "0       0.818182    0.818182    0.818182\n",
      "1       0.653846    0.615385    0.692308\n",
      "\n",
      "[[18  6]\n",
      " [ 7 17]]\n",
      "Accuracy:  0.7291666666666666\n",
      "Sensitivity:  0.7083333333333334\n",
      "Specificity:  0.75\n"
     ]
    },
    {
     "data": {
      "image/png": "[encoded data removed]",
      "text/plain": [
       "<Figure size 1152x360 with 3 Axes>"
      ]
     },
     "metadata": {
      "needs_background": "light"
     },
     "output_type": "display_data"
    }
   ],
   "source": [
    "# results for default model \n",
    "\n",
    "get_values_of_aif_metrics(y_test_aif, model_lr.predict(X_test_aif))\n",
    "print('')\n",
    "plot_metrics(y_test_aif, X_test_aif, metrics, model_lr, 'gender')\n",
    "print('')\n",
    "classification_results(y_test_aif, model_lr.predict(X_test_aif))"
   ]
  },
  {
   "cell_type": "code",
   "execution_count": 27,
   "id": "29d07343",
   "metadata": {},
   "outputs": [
    {
     "name": "stderr",
     "output_type": "stream",
     "text": [
      "Using the level keyword in DataFrame and Series aggregations is deprecated and will be removed in a future version. Use groupby instead. df.sum(level=1) should use df.groupby(level=1).sum().\n",
      "Using the level keyword in DataFrame and Series aggregations is deprecated and will be removed in a future version. Use groupby instead. df.sum(level=1) should use df.groupby(level=1).sum().\n",
      "Using the level keyword in DataFrame and Series aggregations is deprecated and will be removed in a future version. Use groupby instead. df.sum(level=1) should use df.groupby(level=1).sum().\n",
      "Using the level keyword in DataFrame and Series aggregations is deprecated and will be removed in a future version. Use groupby instead. df.sum(level=1) should use df.groupby(level=1).sum().\n",
      "Using the level keyword in DataFrame and Series aggregations is deprecated and will be removed in a future version. Use groupby instead. df.sum(level=1) should use df.groupby(level=1).sum().\n",
      "Using the level keyword in DataFrame and Series aggregations is deprecated and will be removed in a future version. Use groupby instead. df.sum(level=1) should use df.groupby(level=1).sum().\n",
      "Using the level keyword in DataFrame and Series aggregations is deprecated and will be removed in a future version. Use groupby instead. df.sum(level=1) should use df.groupby(level=1).sum().\n",
      "Using the level keyword in DataFrame and Series aggregations is deprecated and will be removed in a future version. Use groupby instead. df.sum(level=1) should use df.groupby(level=1).sum().\n",
      "Using the level keyword in DataFrame and Series aggregations is deprecated and will be removed in a future version. Use groupby instead. df.sum(level=1) should use df.groupby(level=1).sum().\n",
      "Using the level keyword in DataFrame and Series aggregations is deprecated and will be removed in a future version. Use groupby instead. df.sum(level=1) should use df.groupby(level=1).sum().\n"
     ]
    },
    {
     "name": "stdout",
     "output_type": "stream",
     "text": [
      "Statistical parity difference:  0.038461538461538436\n",
      "Equal opportunity difference:  0.12587412587412594\n",
      "Average odds difference:  0.03846153846153849\n",
      "Disparate impact ratio:  1.0833333333333333\n",
      "Theil index:  0.7357067949787411\n",
      "\n",
      "        accuracy sensitivity specificity\n",
      "gender                                  \n",
      "0       0.818182    0.818182    0.818182\n",
      "1       0.730769    0.692308    0.769231\n",
      "\n",
      "[[19  5]\n",
      " [ 6 18]]\n",
      "Accuracy:  0.7708333333333334\n",
      "Sensitivity:  0.75\n",
      "Specificity:  0.7916666666666666\n"
     ]
    },
    {
     "data": {
      "image/png": "[encoded data removed]",
      "text/plain": [
       "<Figure size 1152x360 with 3 Axes>"
      ]
     },
     "metadata": {
      "needs_background": "light"
     },
     "output_type": "display_data"
    }
   ],
   "source": [
    "# results for debiased model with GridSearch\n",
    "\n",
    "model_lr_fair = red.GridSearch(model_lr,\n",
    "                               constraints=red.EqualizedOdds(),\n",
    "                              sample_weight_name=\"classifier__sample_weight\")\n",
    "model_lr_fair.fit(X_train_aif, y_train_aif, sensitive_features=X_train_aif['gender'])\n",
    "\n",
    "get_values_of_aif_metrics(y_test_aif, model_lr_fair.predict(X_test_aif))\n",
    "print('')\n",
    "plot_metrics(y_test_aif, X_test_aif, metrics, model_lr_fair, 'gender')\n",
    "print('')\n",
    "classification_results(y_test_aif, model_lr_fair.predict(X_test_aif))"
   ]
  },
  {
   "cell_type": "code",
   "execution_count": 28,
   "id": "17369622",
   "metadata": {
    "scrolled": false
   },
   "outputs": [
    {
     "name": "stderr",
     "output_type": "stream",
     "text": [
      "Using the level keyword in DataFrame and Series aggregations is deprecated and will be removed in a future version. Use groupby instead. df.sum(level=1) should use df.groupby(level=1).sum().\n",
      "Using the level keyword in DataFrame and Series aggregations is deprecated and will be removed in a future version. Use groupby instead. df.sum(level=1) should use df.groupby(level=1).sum().\n",
      "Using the level keyword in DataFrame and Series aggregations is deprecated and will be removed in a future version. Use groupby instead. df.sum(level=1) should use df.groupby(level=1).sum().\n",
      "Using the level keyword in DataFrame and Series aggregations is deprecated and will be removed in a future version. Use groupby instead. df.sum(level=1) should use df.groupby(level=1).sum().\n",
      "Using the level keyword in DataFrame and Series aggregations is deprecated and will be removed in a future version. Use groupby instead. df.sum(level=1) should use df.groupby(level=1).sum().\n",
      "Using the level keyword in DataFrame and Series aggregations is deprecated and will be removed in a future version. Use groupby instead. df.sum(level=1) should use df.groupby(level=1).sum().\n",
      "Using the level keyword in DataFrame and Series aggregations is deprecated and will be removed in a future version. Use groupby instead. df.sum(level=1) should use df.groupby(level=1).sum().\n",
      "Using the level keyword in DataFrame and Series aggregations is deprecated and will be removed in a future version. Use groupby instead. df.sum(level=1) should use df.groupby(level=1).sum().\n",
      "Using the level keyword in DataFrame and Series aggregations is deprecated and will be removed in a future version. Use groupby instead. df.sum(level=1) should use df.groupby(level=1).sum().\n",
      "Using the level keyword in DataFrame and Series aggregations is deprecated and will be removed in a future version. Use groupby instead. df.sum(level=1) should use df.groupby(level=1).sum().\n",
      "Using the level keyword in DataFrame and Series aggregations is deprecated and will be removed in a future version. Use groupby instead. df.sum(level=1) should use df.groupby(level=1).sum().\n",
      "Using the level keyword in DataFrame and Series aggregations is deprecated and will be removed in a future version. Use groupby instead. df.sum(level=1) should use df.groupby(level=1).sum().\n",
      "Using the level keyword in DataFrame and Series aggregations is deprecated and will be removed in a future version. Use groupby instead. df.sum(level=1) should use df.groupby(level=1).sum().\n",
      "Using the level keyword in DataFrame and Series aggregations is deprecated and will be removed in a future version. Use groupby instead. df.sum(level=1) should use df.groupby(level=1).sum().\n",
      "Using the level keyword in DataFrame and Series aggregations is deprecated and will be removed in a future version. Use groupby instead. df.sum(level=1) should use df.groupby(level=1).sum().\n",
      "Using the level keyword in DataFrame and Series aggregations is deprecated and will be removed in a future version. Use groupby instead. df.sum(level=1) should use df.groupby(level=1).sum().\n",
      "Using the level keyword in DataFrame and Series aggregations is deprecated and will be removed in a future version. Use groupby instead. df.sum(level=1) should use df.groupby(level=1).sum().\n",
      "Using the level keyword in DataFrame and Series aggregations is deprecated and will be removed in a future version. Use groupby instead. df.sum(level=1) should use df.groupby(level=1).sum().\n",
      "Using the level keyword in DataFrame and Series aggregations is deprecated and will be removed in a future version. Use groupby instead. df.sum(level=1) should use df.groupby(level=1).sum().\n",
      "Using the level keyword in DataFrame and Series aggregations is deprecated and will be removed in a future version. Use groupby instead. df.sum(level=1) should use df.groupby(level=1).sum().\n",
      "Using the level keyword in DataFrame and Series aggregations is deprecated and will be removed in a future version. Use groupby instead. df.sum(level=1) should use df.groupby(level=1).sum().\n",
      "Using the level keyword in DataFrame and Series aggregations is deprecated and will be removed in a future version. Use groupby instead. df.sum(level=1) should use df.groupby(level=1).sum().\n",
      "Using the level keyword in DataFrame and Series aggregations is deprecated and will be removed in a future version. Use groupby instead. df.sum(level=1) should use df.groupby(level=1).sum().\n"
     ]
    },
    {
     "name": "stdout",
     "output_type": "stream",
     "text": [
      "Statistical parity difference:  0.038461538461538436\n",
      "Equal opportunity difference:  0.11188811188811187\n",
      "Average odds difference:  0.038461538461538436\n",
      "Disparate impact ratio:  1.0833333333333333\n",
      "Theil index:  0.735706794978741\n",
      "\n",
      "        accuracy sensitivity specificity\n",
      "gender                                  \n",
      "0       0.772727    0.727273    0.818182\n",
      "1       0.653846    0.615385    0.692308\n",
      "\n",
      "[[18  6]\n",
      " [ 8 16]]\n",
      "Accuracy:  0.7083333333333334\n",
      "Sensitivity:  0.6666666666666666\n",
      "Specificity:  0.75\n"
     ]
    },
    {
     "data": {
      "image/png": "[encoded data removed]",
      "text/plain": [
       "<Figure size 1152x360 with 3 Axes>"
      ]
     },
     "metadata": {
      "needs_background": "light"
     },
     "output_type": "display_data"
    }
   ],
   "source": [
    "# results for debiased model with ExponentiatedGradient\n",
    "\n",
    "model_lr_fair = red.ExponentiatedGradient(model_lr,\n",
    "                               constraints=red.DemographicParity(),\n",
    "                              sample_weight_name=\"classifier__sample_weight\")\n",
    "model_lr_fair.fit(X_train_aif, y_train_aif, sensitive_features=X_train_aif['gender'])\n",
    "\n",
    "get_values_of_aif_metrics(y_test_aif, model_lr_fair.predict(X_test_aif))\n",
    "print('')\n",
    "plot_metrics(y_test_aif, X_test_aif, metrics, model_lr_fair, 'gender')\n",
    "print('')\n",
    "classification_results(y_test_aif, model_lr_fair.predict(X_test_aif))"
   ]
  },
  {
   "cell_type": "markdown",
   "id": "718453aa",
   "metadata": {},
   "source": [
    "#### Results:\n",
    "\n",
    "Model's performance improved"
   ]
  },
  {
   "cell_type": "markdown",
   "id": "0c364522",
   "metadata": {},
   "source": [
    "### Random forest model"
   ]
  },
  {
   "cell_type": "code",
   "execution_count": 29,
   "id": "7cda24e4",
   "metadata": {
    "scrolled": true
   },
   "outputs": [],
   "source": [
    "X_train_aif, y_train_aif, X_test_aif, y_test_aif = create_dataset(train_df, test_df, 'diagnosis', prot_attr_cols, features_rf)"
   ]
  },
  {
   "cell_type": "code",
   "execution_count": 30,
   "id": "56fa3828",
   "metadata": {
    "scrolled": false
   },
   "outputs": [
    {
     "name": "stdout",
     "output_type": "stream",
     "text": [
      "Statistical parity difference:  -0.3356643356643357\n",
      "Equal opportunity difference:  -0.22377622377622386\n",
      "Average odds difference:  -0.3356643356643357\n",
      "Disparate impact ratio:  0.48663101604278075\n",
      "Theil index:  0.6931471805599453\n",
      "\n",
      "        accuracy sensitivity specificity\n",
      "gender                                  \n",
      "0       0.727273    0.545455    0.909091\n",
      "1       0.615385    0.769231    0.461538\n",
      "\n",
      "[[16  8]\n",
      " [ 8 16]]\n",
      "Accuracy:  0.6666666666666666\n",
      "Sensitivity:  0.6666666666666666\n",
      "Specificity:  0.6666666666666666\n"
     ]
    },
    {
     "data": {
      "image/png": "[encoded data removed]",
      "text/plain": [
       "<Figure size 1152x360 with 3 Axes>"
      ]
     },
     "metadata": {
      "needs_background": "light"
     },
     "output_type": "display_data"
    }
   ],
   "source": [
    "# results for default model \n",
    "\n",
    "get_values_of_aif_metrics(y_test_aif, model_rf.predict(X_test_aif))\n",
    "print('')\n",
    "plot_metrics(y_test_aif, X_test_aif, metrics, model_rf, 'gender')\n",
    "print('')\n",
    "classification_results(y_test_aif, model_rf.predict(X_test_aif))"
   ]
  },
  {
   "cell_type": "code",
   "execution_count": 31,
   "id": "d1811d58",
   "metadata": {
    "scrolled": false
   },
   "outputs": [
    {
     "name": "stderr",
     "output_type": "stream",
     "text": [
      "Using the level keyword in DataFrame and Series aggregations is deprecated and will be removed in a future version. Use groupby instead. df.sum(level=1) should use df.groupby(level=1).sum().\n",
      "Using the level keyword in DataFrame and Series aggregations is deprecated and will be removed in a future version. Use groupby instead. df.sum(level=1) should use df.groupby(level=1).sum().\n",
      "Using the level keyword in DataFrame and Series aggregations is deprecated and will be removed in a future version. Use groupby instead. df.sum(level=1) should use df.groupby(level=1).sum().\n",
      "Using the level keyword in DataFrame and Series aggregations is deprecated and will be removed in a future version. Use groupby instead. df.sum(level=1) should use df.groupby(level=1).sum().\n",
      "Using the level keyword in DataFrame and Series aggregations is deprecated and will be removed in a future version. Use groupby instead. df.sum(level=1) should use df.groupby(level=1).sum().\n",
      "Using the level keyword in DataFrame and Series aggregations is deprecated and will be removed in a future version. Use groupby instead. df.sum(level=1) should use df.groupby(level=1).sum().\n",
      "Using the level keyword in DataFrame and Series aggregations is deprecated and will be removed in a future version. Use groupby instead. df.sum(level=1) should use df.groupby(level=1).sum().\n",
      "Using the level keyword in DataFrame and Series aggregations is deprecated and will be removed in a future version. Use groupby instead. df.sum(level=1) should use df.groupby(level=1).sum().\n",
      "Using the level keyword in DataFrame and Series aggregations is deprecated and will be removed in a future version. Use groupby instead. df.sum(level=1) should use df.groupby(level=1).sum().\n",
      "Using the level keyword in DataFrame and Series aggregations is deprecated and will be removed in a future version. Use groupby instead. df.sum(level=1) should use df.groupby(level=1).sum().\n"
     ]
    },
    {
     "name": "stdout",
     "output_type": "stream",
     "text": [
      "Statistical parity difference:  -0.2342657342657343\n",
      "Equal opportunity difference:  -0.2517482517482518\n",
      "Average odds difference:  -0.23426573426573427\n",
      "Disparate impact ratio:  0.4924242424242424\n",
      "Theil index:  1.0379876668516748\n",
      "\n",
      "        accuracy sensitivity specificity\n",
      "gender                                  \n",
      "0       0.636364    0.363636    0.909091\n",
      "1       0.653846    0.615385    0.692308\n",
      "\n",
      "[[19  5]\n",
      " [12 12]]\n",
      "Accuracy:  0.6458333333333334\n",
      "Sensitivity:  0.5\n",
      "Specificity:  0.7916666666666666\n"
     ]
    },
    {
     "data": {
      "image/png": "[encoded data removed]",
      "text/plain": [
       "<Figure size 1152x360 with 3 Axes>"
      ]
     },
     "metadata": {
      "needs_background": "light"
     },
     "output_type": "display_data"
    }
   ],
   "source": [
    "# results for debiased model with GridSearch\n",
    "\n",
    "model_rf_fair = red.GridSearch(model_rf,\n",
    "                               constraints=red.DemographicParity(),\n",
    "                              sample_weight_name=\"classifier__sample_weight\",)\n",
    "model_rf_fair.fit(X_train_aif, y_train_aif, sensitive_features=X_train_aif['gender'])\n",
    "\n",
    "get_values_of_aif_metrics(y_test_aif, model_rf_fair.predict(X_test_aif))\n",
    "print('')\n",
    "plot_metrics(y_test_aif, X_test_aif, metrics, model_rf_fair, 'gender')\n",
    "print('')\n",
    "classification_results(y_test_aif, model_rf_fair.predict(X_test_aif))"
   ]
  },
  {
   "cell_type": "code",
   "execution_count": 32,
   "id": "a6fe4848",
   "metadata": {
    "scrolled": false
   },
   "outputs": [
    {
     "name": "stderr",
     "output_type": "stream",
     "text": [
      "Using the level keyword in DataFrame and Series aggregations is deprecated and will be removed in a future version. Use groupby instead. df.sum(level=1) should use df.groupby(level=1).sum().\n",
      "Using the level keyword in DataFrame and Series aggregations is deprecated and will be removed in a future version. Use groupby instead. df.sum(level=1) should use df.groupby(level=1).sum().\n",
      "Using the level keyword in DataFrame and Series aggregations is deprecated and will be removed in a future version. Use groupby instead. df.sum(level=1) should use df.groupby(level=1).sum().\n",
      "Using the level keyword in DataFrame and Series aggregations is deprecated and will be removed in a future version. Use groupby instead. df.sum(level=1) should use df.groupby(level=1).sum().\n",
      "Using the level keyword in DataFrame and Series aggregations is deprecated and will be removed in a future version. Use groupby instead. df.sum(level=1) should use df.groupby(level=1).sum().\n",
      "Using the level keyword in DataFrame and Series aggregations is deprecated and will be removed in a future version. Use groupby instead. df.sum(level=1) should use df.groupby(level=1).sum().\n",
      "Using the level keyword in DataFrame and Series aggregations is deprecated and will be removed in a future version. Use groupby instead. df.sum(level=1) should use df.groupby(level=1).sum().\n",
      "Using the level keyword in DataFrame and Series aggregations is deprecated and will be removed in a future version. Use groupby instead. df.sum(level=1) should use df.groupby(level=1).sum().\n",
      "Using the level keyword in DataFrame and Series aggregations is deprecated and will be removed in a future version. Use groupby instead. df.sum(level=1) should use df.groupby(level=1).sum().\n",
      "Using the level keyword in DataFrame and Series aggregations is deprecated and will be removed in a future version. Use groupby instead. df.sum(level=1) should use df.groupby(level=1).sum().\n",
      "Using the level keyword in DataFrame and Series aggregations is deprecated and will be removed in a future version. Use groupby instead. df.sum(level=1) should use df.groupby(level=1).sum().\n",
      "Using the level keyword in DataFrame and Series aggregations is deprecated and will be removed in a future version. Use groupby instead. df.sum(level=1) should use df.groupby(level=1).sum().\n",
      "Using the level keyword in DataFrame and Series aggregations is deprecated and will be removed in a future version. Use groupby instead. df.sum(level=1) should use df.groupby(level=1).sum().\n",
      "Using the level keyword in DataFrame and Series aggregations is deprecated and will be removed in a future version. Use groupby instead. df.sum(level=1) should use df.groupby(level=1).sum().\n",
      "Using the level keyword in DataFrame and Series aggregations is deprecated and will be removed in a future version. Use groupby instead. df.sum(level=1) should use df.groupby(level=1).sum().\n",
      "Using the level keyword in DataFrame and Series aggregations is deprecated and will be removed in a future version. Use groupby instead. df.sum(level=1) should use df.groupby(level=1).sum().\n",
      "Using the level keyword in DataFrame and Series aggregations is deprecated and will be removed in a future version. Use groupby instead. df.sum(level=1) should use df.groupby(level=1).sum().\n",
      "Using the level keyword in DataFrame and Series aggregations is deprecated and will be removed in a future version. Use groupby instead. df.sum(level=1) should use df.groupby(level=1).sum().\n",
      "Using the level keyword in DataFrame and Series aggregations is deprecated and will be removed in a future version. Use groupby instead. df.sum(level=1) should use df.groupby(level=1).sum().\n",
      "Using the level keyword in DataFrame and Series aggregations is deprecated and will be removed in a future version. Use groupby instead. df.sum(level=1) should use df.groupby(level=1).sum().\n",
      "Using the level keyword in DataFrame and Series aggregations is deprecated and will be removed in a future version. Use groupby instead. df.sum(level=1) should use df.groupby(level=1).sum().\n",
      "Using the level keyword in DataFrame and Series aggregations is deprecated and will be removed in a future version. Use groupby instead. df.sum(level=1) should use df.groupby(level=1).sum().\n",
      "Using the level keyword in DataFrame and Series aggregations is deprecated and will be removed in a future version. Use groupby instead. df.sum(level=1) should use df.groupby(level=1).sum().\n",
      "Using the level keyword in DataFrame and Series aggregations is deprecated and will be removed in a future version. Use groupby instead. df.sum(level=1) should use df.groupby(level=1).sum().\n",
      "Using the level keyword in DataFrame and Series aggregations is deprecated and will be removed in a future version. Use groupby instead. df.sum(level=1) should use df.groupby(level=1).sum().\n",
      "Using the level keyword in DataFrame and Series aggregations is deprecated and will be removed in a future version. Use groupby instead. df.sum(level=1) should use df.groupby(level=1).sum().\n",
      "Using the level keyword in DataFrame and Series aggregations is deprecated and will be removed in a future version. Use groupby instead. df.sum(level=1) should use df.groupby(level=1).sum().\n",
      "Using the level keyword in DataFrame and Series aggregations is deprecated and will be removed in a future version. Use groupby instead. df.sum(level=1) should use df.groupby(level=1).sum().\n",
      "Using the level keyword in DataFrame and Series aggregations is deprecated and will be removed in a future version. Use groupby instead. df.sum(level=1) should use df.groupby(level=1).sum().\n"
     ]
    },
    {
     "name": "stdout",
     "output_type": "stream",
     "text": [
      "Statistical parity difference:  -0.034965034965035\n",
      "Equal opportunity difference:  -0.006993006993007034\n",
      "Average odds difference:  -0.034965034965034975\n",
      "Disparate impact ratio:  0.8863636363636362\n",
      "Theil index:  1.232143681292632\n",
      "\n",
      "        accuracy sensitivity specificity\n",
      "gender                                  \n",
      "0       0.636364    0.454545    0.818182\n",
      "1       0.692308    0.538462    0.846154\n",
      "\n",
      "[[20  4]\n",
      " [12 12]]\n",
      "Accuracy:  0.6666666666666666\n",
      "Sensitivity:  0.5\n",
      "Specificity:  0.8333333333333334\n"
     ]
    },
    {
     "data": {
      "image/png": "[encoded data removed]",
      "text/plain": [
       "<Figure size 1152x360 with 3 Axes>"
      ]
     },
     "metadata": {
      "needs_background": "light"
     },
     "output_type": "display_data"
    }
   ],
   "source": [
    "# results for debiased model with ExponentiatedGradient\n",
    "\n",
    "model_rf_fair = red.ExponentiatedGradient(model_rf,\n",
    "                               constraints=red.TruePositiveRateParity(),\n",
    "                              sample_weight_name=\"classifier__sample_weight\",)\n",
    "model_rf_fair.fit(X_train_aif, y_train_aif, sensitive_features=X_train_aif['gender'])\n",
    "\n",
    "get_values_of_aif_metrics(y_test_aif, model_rf_fair.predict(X_test_aif))\n",
    "print('')\n",
    "plot_metrics(y_test_aif, X_test_aif, metrics, model_rf_fair, 'gender')\n",
    "print('')\n",
    "classification_results(y_test_aif, model_rf_fair.predict(X_test_aif))"
   ]
  },
  {
   "cell_type": "markdown",
   "id": "358f3113",
   "metadata": {},
   "source": [
    "#### Results:\n",
    "Model performance didn't improve and even became a bit worse."
   ]
  },
  {
   "cell_type": "markdown",
   "id": "de02bb08",
   "metadata": {},
   "source": [
    "### kNN model"
   ]
  },
  {
   "cell_type": "code",
   "execution_count": 30,
   "id": "e169a57d",
   "metadata": {
    "scrolled": true
   },
   "outputs": [],
   "source": [
    "X_train_aif, y_train_aif, X_test_aif, y_test_aif = create_dataset(train_df, test_df, 'diagnosis', prot_attr_cols, features_knn)"
   ]
  },
  {
   "cell_type": "code",
   "execution_count": 31,
   "id": "4b009cf0",
   "metadata": {
    "scrolled": false
   },
   "outputs": [
    {
     "name": "stdout",
     "output_type": "stream",
     "text": [
      "Statistical parity difference:  0.2272727272727273\n",
      "Equal opportunity difference:  0.21678321678321677\n",
      "Average odds difference:  0.22727272727272727\n",
      "Disparate impact ratio:  1.4545454545454546\n",
      "Theil index:  0.503905180921417\n",
      "\n",
      "        accuracy sensitivity specificity\n",
      "gender                                  \n",
      "0       0.681818    0.909091    0.454545\n",
      "1       0.692308    0.692308    0.692308\n",
      "\n",
      "[[14 10]\n",
      " [ 5 19]]\n",
      "Accuracy:  0.6875\n",
      "Sensitivity:  0.7916666666666666\n",
      "Specificity:  0.5833333333333334\n"
     ]
    },
    {
     "data": {
      "image/png": "[encoded data removed]",
      "text/plain": [
       "<Figure size 1152x360 with 3 Axes>"
      ]
     },
     "metadata": {
      "needs_background": "light"
     },
     "output_type": "display_data"
    }
   ],
   "source": [
    "# results for default model\n",
    "\n",
    "get_values_of_aif_metrics(y_test_aif, model_knn.predict(X_test_aif))\n",
    "print('')\n",
    "plot_metrics(y_test_aif, X_test_aif, metrics, model_knn, 'gender')\n",
    "print('')\n",
    "classification_results(y_test_aif, model_knn.predict(X_test_aif))"
   ]
  },
  {
   "cell_type": "code",
   "execution_count": 32,
   "id": "d260109b",
   "metadata": {
    "collapsed": true
   },
   "outputs": [
    {
     "name": "stderr",
     "output_type": "stream",
     "text": [
      "Using the level keyword in DataFrame and Series aggregations is deprecated and will be removed in a future version. Use groupby instead. df.sum(level=1) should use df.groupby(level=1).sum().\n"
     ]
    },
    {
     "ename": "ValueError",
     "evalue": "Pipeline.fit does not accept the sample_weight parameter. You can pass parameters to specific steps of your pipeline using the stepname__parameter format, e.g. `Pipeline.fit(X, y, logisticregression__sample_weight=sample_weight)`.",
     "output_type": "error",
     "traceback": [
      "\u001b[1;31m---------------------------------------------------------------------------\u001b[0m",
      "\u001b[1;31mValueError\u001b[0m                                Traceback (most recent call last)",
      "Input \u001b[1;32mIn [32]\u001b[0m, in \u001b[0;36m<cell line: 6>\u001b[1;34m()\u001b[0m\n\u001b[0;32m      1\u001b[0m \u001b[38;5;66;03m# results for debiased model with GridSearch\u001b[39;00m\n\u001b[0;32m      3\u001b[0m model_knn_fair \u001b[38;5;241m=\u001b[39m red\u001b[38;5;241m.\u001b[39mGridSearch(model_knn,\n\u001b[0;32m      4\u001b[0m                                constraints\u001b[38;5;241m=\u001b[39mred\u001b[38;5;241m.\u001b[39mEqualizedOdds(),\n\u001b[0;32m      5\u001b[0m                               )\n\u001b[1;32m----> 6\u001b[0m \u001b[43mmodel_knn_fair\u001b[49m\u001b[38;5;241;43m.\u001b[39;49m\u001b[43mfit\u001b[49m\u001b[43m(\u001b[49m\u001b[43mX_train_aif\u001b[49m\u001b[43m,\u001b[49m\u001b[43m \u001b[49m\u001b[43my_train_aif\u001b[49m\u001b[43m,\u001b[49m\u001b[43m \u001b[49m\u001b[43msensitive_features\u001b[49m\u001b[38;5;241;43m=\u001b[39;49m\u001b[43mX_train_aif\u001b[49m\u001b[43m[\u001b[49m\u001b[38;5;124;43m'\u001b[39;49m\u001b[38;5;124;43mgender\u001b[39;49m\u001b[38;5;124;43m'\u001b[39;49m\u001b[43m]\u001b[49m\u001b[43m)\u001b[49m\n\u001b[0;32m      8\u001b[0m get_values_of_aif_metrics(y_test_aif, model_knn_fair\u001b[38;5;241m.\u001b[39mpredict(X_test_aif))\n\u001b[0;32m      9\u001b[0m \u001b[38;5;28mprint\u001b[39m(\u001b[38;5;124m'\u001b[39m\u001b[38;5;124m'\u001b[39m)\n",
      "File \u001b[1;32m~\\anaconda3\\lib\\site-packages\\fairlearn\\reductions\\_grid_search\\grid_search.py:186\u001b[0m, in \u001b[0;36mGridSearch.fit\u001b[1;34m(self, X, y, **kwargs)\u001b[0m\n\u001b[0;32m    183\u001b[0m     current_estimator \u001b[38;5;241m=\u001b[39m copy\u001b[38;5;241m.\u001b[39mdeepcopy(\u001b[38;5;28mself\u001b[39m\u001b[38;5;241m.\u001b[39mestimator)\n\u001b[0;32m    185\u001b[0m oracle_call_start_time \u001b[38;5;241m=\u001b[39m time()\n\u001b[1;32m--> 186\u001b[0m current_estimator\u001b[38;5;241m.\u001b[39mfit(X, y_reduction, \u001b[38;5;241m*\u001b[39m\u001b[38;5;241m*\u001b[39m{\u001b[38;5;28mself\u001b[39m\u001b[38;5;241m.\u001b[39msample_weight_name: weights})\n\u001b[0;32m    187\u001b[0m oracle_call_execution_time \u001b[38;5;241m=\u001b[39m time() \u001b[38;5;241m-\u001b[39m oracle_call_start_time\n\u001b[0;32m    188\u001b[0m logger\u001b[38;5;241m.\u001b[39mdebug(\u001b[38;5;124m\"\u001b[39m\u001b[38;5;124mCall to estimator complete\u001b[39m\u001b[38;5;124m\"\u001b[39m)\n",
      "File \u001b[1;32m~\\anaconda3\\lib\\site-packages\\sklearn\\pipeline.py:389\u001b[0m, in \u001b[0;36mPipeline.fit\u001b[1;34m(self, X, y, **fit_params)\u001b[0m\n\u001b[0;32m    363\u001b[0m \u001b[38;5;28;01mdef\u001b[39;00m \u001b[38;5;21mfit\u001b[39m(\u001b[38;5;28mself\u001b[39m, X, y\u001b[38;5;241m=\u001b[39m\u001b[38;5;28;01mNone\u001b[39;00m, \u001b[38;5;241m*\u001b[39m\u001b[38;5;241m*\u001b[39mfit_params):\n\u001b[0;32m    364\u001b[0m     \u001b[38;5;124;03m\"\"\"Fit the model.\u001b[39;00m\n\u001b[0;32m    365\u001b[0m \n\u001b[0;32m    366\u001b[0m \u001b[38;5;124;03m    Fit all the transformers one after the other and transform the\u001b[39;00m\n\u001b[1;32m   (...)\u001b[0m\n\u001b[0;32m    387\u001b[0m \u001b[38;5;124;03m        Pipeline with fitted steps.\u001b[39;00m\n\u001b[0;32m    388\u001b[0m \u001b[38;5;124;03m    \"\"\"\u001b[39;00m\n\u001b[1;32m--> 389\u001b[0m     fit_params_steps \u001b[38;5;241m=\u001b[39m \u001b[38;5;28mself\u001b[39m\u001b[38;5;241m.\u001b[39m_check_fit_params(\u001b[38;5;241m*\u001b[39m\u001b[38;5;241m*\u001b[39mfit_params)\n\u001b[0;32m    390\u001b[0m     Xt \u001b[38;5;241m=\u001b[39m \u001b[38;5;28mself\u001b[39m\u001b[38;5;241m.\u001b[39m_fit(X, y, \u001b[38;5;241m*\u001b[39m\u001b[38;5;241m*\u001b[39mfit_params_steps)\n\u001b[0;32m    391\u001b[0m     \u001b[38;5;28;01mwith\u001b[39;00m _print_elapsed_time(\u001b[38;5;124m\"\u001b[39m\u001b[38;5;124mPipeline\u001b[39m\u001b[38;5;124m\"\u001b[39m, \u001b[38;5;28mself\u001b[39m\u001b[38;5;241m.\u001b[39m_log_message(\u001b[38;5;28mlen\u001b[39m(\u001b[38;5;28mself\u001b[39m\u001b[38;5;241m.\u001b[39msteps) \u001b[38;5;241m-\u001b[39m \u001b[38;5;241m1\u001b[39m)):\n",
      "File \u001b[1;32m~\\anaconda3\\lib\\site-packages\\sklearn\\pipeline.py:300\u001b[0m, in \u001b[0;36mPipeline._check_fit_params\u001b[1;34m(self, **fit_params)\u001b[0m\n\u001b[0;32m    298\u001b[0m \u001b[38;5;28;01mfor\u001b[39;00m pname, pval \u001b[38;5;129;01min\u001b[39;00m fit_params\u001b[38;5;241m.\u001b[39mitems():\n\u001b[0;32m    299\u001b[0m     \u001b[38;5;28;01mif\u001b[39;00m \u001b[38;5;124m\"\u001b[39m\u001b[38;5;124m__\u001b[39m\u001b[38;5;124m\"\u001b[39m \u001b[38;5;129;01mnot\u001b[39;00m \u001b[38;5;129;01min\u001b[39;00m pname:\n\u001b[1;32m--> 300\u001b[0m         \u001b[38;5;28;01mraise\u001b[39;00m \u001b[38;5;167;01mValueError\u001b[39;00m(\n\u001b[0;32m    301\u001b[0m             \u001b[38;5;124m\"\u001b[39m\u001b[38;5;124mPipeline.fit does not accept the \u001b[39m\u001b[38;5;132;01m{}\u001b[39;00m\u001b[38;5;124m parameter. \u001b[39m\u001b[38;5;124m\"\u001b[39m\n\u001b[0;32m    302\u001b[0m             \u001b[38;5;124m\"\u001b[39m\u001b[38;5;124mYou can pass parameters to specific steps of your \u001b[39m\u001b[38;5;124m\"\u001b[39m\n\u001b[0;32m    303\u001b[0m             \u001b[38;5;124m\"\u001b[39m\u001b[38;5;124mpipeline using the stepname__parameter format, e.g. \u001b[39m\u001b[38;5;124m\"\u001b[39m\n\u001b[0;32m    304\u001b[0m             \u001b[38;5;124m\"\u001b[39m\u001b[38;5;124m`Pipeline.fit(X, y, logisticregression__sample_weight\u001b[39m\u001b[38;5;124m\"\u001b[39m\n\u001b[0;32m    305\u001b[0m             \u001b[38;5;124m\"\u001b[39m\u001b[38;5;124m=sample_weight)`.\u001b[39m\u001b[38;5;124m\"\u001b[39m\u001b[38;5;241m.\u001b[39mformat(pname)\n\u001b[0;32m    306\u001b[0m         )\n\u001b[0;32m    307\u001b[0m     step, param \u001b[38;5;241m=\u001b[39m pname\u001b[38;5;241m.\u001b[39msplit(\u001b[38;5;124m\"\u001b[39m\u001b[38;5;124m__\u001b[39m\u001b[38;5;124m\"\u001b[39m, \u001b[38;5;241m1\u001b[39m)\n\u001b[0;32m    308\u001b[0m     fit_params_steps[step][param] \u001b[38;5;241m=\u001b[39m pval\n",
      "\u001b[1;31mValueError\u001b[0m: Pipeline.fit does not accept the sample_weight parameter. You can pass parameters to specific steps of your pipeline using the stepname__parameter format, e.g. `Pipeline.fit(X, y, logisticregression__sample_weight=sample_weight)`."
     ]
    }
   ],
   "source": [
    "# results for debiased model with GridSearch\n",
    "\n",
    "model_knn_fair = red.GridSearch(model_knn,\n",
    "                               constraints=red.EqualizedOdds(),\n",
    "                              )\n",
    "model_knn_fair.fit(X_train_aif, y_train_aif, sensitive_features=X_train_aif['gender'])\n",
    "\n",
    "get_values_of_aif_metrics(y_test_aif, model_knn_fair.predict(X_test_aif))\n",
    "print('')\n",
    "plot_metrics(y_test_aif, X_test_aif, metrics, model_knn_fair, 'gender')\n",
    "print('')\n",
    "classification_results(y_test_aif, model_knn_fair.predict(X_test_aif))"
   ]
  },
  {
   "cell_type": "code",
   "execution_count": 53,
   "id": "81745cf5",
   "metadata": {
    "collapsed": true
   },
   "outputs": [
    {
     "name": "stderr",
     "output_type": "stream",
     "text": [
      "Using the level keyword in DataFrame and Series aggregations is deprecated and will be removed in a future version. Use groupby instead. df.sum(level=1) should use df.groupby(level=1).sum().\n"
     ]
    },
    {
     "ename": "ValueError",
     "evalue": "Pipeline.fit does not accept the sample_weight parameter. You can pass parameters to specific steps of your pipeline using the stepname__parameter format, e.g. `Pipeline.fit(X, y, logisticregression__sample_weight=sample_weight)`.",
     "output_type": "error",
     "traceback": [
      "\u001b[1;31m---------------------------------------------------------------------------\u001b[0m",
      "\u001b[1;31mValueError\u001b[0m                                Traceback (most recent call last)",
      "Input \u001b[1;32mIn [53]\u001b[0m, in \u001b[0;36m<cell line: 6>\u001b[1;34m()\u001b[0m\n\u001b[0;32m      1\u001b[0m \u001b[38;5;66;03m# results for debiased model with ExponentiatedGradient\u001b[39;00m\n\u001b[0;32m      3\u001b[0m model_knn_fair \u001b[38;5;241m=\u001b[39m red\u001b[38;5;241m.\u001b[39mExponentiatedGradient(model_knn,\n\u001b[0;32m      4\u001b[0m                                constraints\u001b[38;5;241m=\u001b[39mred\u001b[38;5;241m.\u001b[39mEqualizedOdds(),\n\u001b[0;32m      5\u001b[0m                               )\n\u001b[1;32m----> 6\u001b[0m \u001b[43mmodel_knn_fair\u001b[49m\u001b[38;5;241;43m.\u001b[39;49m\u001b[43mfit\u001b[49m\u001b[43m(\u001b[49m\u001b[43mX_train_aif\u001b[49m\u001b[43m,\u001b[49m\u001b[43m \u001b[49m\u001b[43my_train_aif\u001b[49m\u001b[43m,\u001b[49m\u001b[43m \u001b[49m\u001b[43msensitive_features\u001b[49m\u001b[38;5;241;43m=\u001b[39;49m\u001b[43mX_train_aif\u001b[49m\u001b[43m[\u001b[49m\u001b[38;5;124;43m'\u001b[39;49m\u001b[38;5;124;43mgender\u001b[39;49m\u001b[38;5;124;43m'\u001b[39;49m\u001b[43m]\u001b[49m\u001b[43m)\u001b[49m\n\u001b[0;32m      8\u001b[0m get_values_of_aif_metrics(y_test_aif, model_knn_fair\u001b[38;5;241m.\u001b[39mpredict(X_test_aif))\n\u001b[0;32m      9\u001b[0m \u001b[38;5;28mprint\u001b[39m(\u001b[38;5;124m'\u001b[39m\u001b[38;5;124m'\u001b[39m)\n",
      "File \u001b[1;32m~\\anaconda3\\lib\\site-packages\\fairlearn\\reductions\\_exponentiated_gradient\\exponentiated_gradient.py:110\u001b[0m, in \u001b[0;36mExponentiatedGradient.fit\u001b[1;34m(self, X, y, **kwargs)\u001b[0m\n\u001b[0;32m    107\u001b[0m lambda_EG \u001b[38;5;241m=\u001b[39m \u001b[38;5;28mself\u001b[39m\u001b[38;5;241m.\u001b[39mlambda_vecs_EG_\u001b[38;5;241m.\u001b[39mmean(axis\u001b[38;5;241m=\u001b[39m\u001b[38;5;241m1\u001b[39m)\n\u001b[0;32m    109\u001b[0m \u001b[38;5;66;03m# select classifier according to best_h method\u001b[39;00m\n\u001b[1;32m--> 110\u001b[0m h, h_idx \u001b[38;5;241m=\u001b[39m \u001b[43mlagrangian\u001b[49m\u001b[38;5;241;43m.\u001b[39;49m\u001b[43mbest_h\u001b[49m\u001b[43m(\u001b[49m\u001b[43mlambda_vec\u001b[49m\u001b[43m)\u001b[49m\n\u001b[0;32m    112\u001b[0m \u001b[38;5;28;01mif\u001b[39;00m t \u001b[38;5;241m==\u001b[39m \u001b[38;5;241m0\u001b[39m:\n\u001b[0;32m    113\u001b[0m     \u001b[38;5;28;01mif\u001b[39;00m \u001b[38;5;28mself\u001b[39m\u001b[38;5;241m.\u001b[39mnu \u001b[38;5;129;01mis\u001b[39;00m \u001b[38;5;28;01mNone\u001b[39;00m:\n",
      "File \u001b[1;32m~\\anaconda3\\lib\\site-packages\\fairlearn\\reductions\\_exponentiated_gradient\\_lagrangian.py:187\u001b[0m, in \u001b[0;36m_Lagrangian.best_h\u001b[1;34m(self, lambda_vec)\u001b[0m\n\u001b[0;32m    181\u001b[0m \u001b[38;5;28;01mdef\u001b[39;00m \u001b[38;5;21mbest_h\u001b[39m(\u001b[38;5;28mself\u001b[39m, lambda_vec):\n\u001b[0;32m    182\u001b[0m     \u001b[38;5;124;03m\"\"\"Solve the best-response problem.\u001b[39;00m\n\u001b[0;32m    183\u001b[0m \n\u001b[0;32m    184\u001b[0m \u001b[38;5;124;03m    Returns the classifier that solves the best-response problem for\u001b[39;00m\n\u001b[0;32m    185\u001b[0m \u001b[38;5;124;03m    the vector of Lagrange multipliers `lambda_vec`.\u001b[39;00m\n\u001b[0;32m    186\u001b[0m \u001b[38;5;124;03m    \"\"\"\u001b[39;00m\n\u001b[1;32m--> 187\u001b[0m     classifier \u001b[38;5;241m=\u001b[39m \u001b[38;5;28;43mself\u001b[39;49m\u001b[38;5;241;43m.\u001b[39;49m\u001b[43m_call_oracle\u001b[49m\u001b[43m(\u001b[49m\u001b[43mlambda_vec\u001b[49m\u001b[43m)\u001b[49m\n\u001b[0;32m    189\u001b[0m     \u001b[38;5;28;01mdef\u001b[39;00m \u001b[38;5;21mh\u001b[39m(X):\n\u001b[0;32m    190\u001b[0m         pred \u001b[38;5;241m=\u001b[39m classifier\u001b[38;5;241m.\u001b[39mpredict(X)\n",
      "File \u001b[1;32m~\\anaconda3\\lib\\site-packages\\fairlearn\\reductions\\_exponentiated_gradient\\_lagrangian.py:175\u001b[0m, in \u001b[0;36m_Lagrangian._call_oracle\u001b[1;34m(self, lambda_vec)\u001b[0m\n\u001b[0;32m    172\u001b[0m     estimator \u001b[38;5;241m=\u001b[39m clone(estimator\u001b[38;5;241m=\u001b[39m\u001b[38;5;28mself\u001b[39m\u001b[38;5;241m.\u001b[39mestimator, safe\u001b[38;5;241m=\u001b[39m\u001b[38;5;28;01mFalse\u001b[39;00m)\n\u001b[0;32m    174\u001b[0m oracle_call_start_time \u001b[38;5;241m=\u001b[39m time()\n\u001b[1;32m--> 175\u001b[0m estimator\u001b[38;5;241m.\u001b[39mfit(\u001b[38;5;28mself\u001b[39m\u001b[38;5;241m.\u001b[39mconstraints\u001b[38;5;241m.\u001b[39mX, redY, \u001b[38;5;241m*\u001b[39m\u001b[38;5;241m*\u001b[39m{\u001b[38;5;28mself\u001b[39m\u001b[38;5;241m.\u001b[39msample_weight_name: redW})\n\u001b[0;32m    176\u001b[0m \u001b[38;5;28mself\u001b[39m\u001b[38;5;241m.\u001b[39moracle_execution_times\u001b[38;5;241m.\u001b[39mappend(time() \u001b[38;5;241m-\u001b[39m oracle_call_start_time)\n\u001b[0;32m    177\u001b[0m \u001b[38;5;28mself\u001b[39m\u001b[38;5;241m.\u001b[39mn_oracle_calls \u001b[38;5;241m+\u001b[39m\u001b[38;5;241m=\u001b[39m \u001b[38;5;241m1\u001b[39m\n",
      "File \u001b[1;32m~\\anaconda3\\lib\\site-packages\\sklearn\\pipeline.py:389\u001b[0m, in \u001b[0;36mPipeline.fit\u001b[1;34m(self, X, y, **fit_params)\u001b[0m\n\u001b[0;32m    363\u001b[0m \u001b[38;5;28;01mdef\u001b[39;00m \u001b[38;5;21mfit\u001b[39m(\u001b[38;5;28mself\u001b[39m, X, y\u001b[38;5;241m=\u001b[39m\u001b[38;5;28;01mNone\u001b[39;00m, \u001b[38;5;241m*\u001b[39m\u001b[38;5;241m*\u001b[39mfit_params):\n\u001b[0;32m    364\u001b[0m     \u001b[38;5;124;03m\"\"\"Fit the model.\u001b[39;00m\n\u001b[0;32m    365\u001b[0m \n\u001b[0;32m    366\u001b[0m \u001b[38;5;124;03m    Fit all the transformers one after the other and transform the\u001b[39;00m\n\u001b[1;32m   (...)\u001b[0m\n\u001b[0;32m    387\u001b[0m \u001b[38;5;124;03m        Pipeline with fitted steps.\u001b[39;00m\n\u001b[0;32m    388\u001b[0m \u001b[38;5;124;03m    \"\"\"\u001b[39;00m\n\u001b[1;32m--> 389\u001b[0m     fit_params_steps \u001b[38;5;241m=\u001b[39m \u001b[38;5;28mself\u001b[39m\u001b[38;5;241m.\u001b[39m_check_fit_params(\u001b[38;5;241m*\u001b[39m\u001b[38;5;241m*\u001b[39mfit_params)\n\u001b[0;32m    390\u001b[0m     Xt \u001b[38;5;241m=\u001b[39m \u001b[38;5;28mself\u001b[39m\u001b[38;5;241m.\u001b[39m_fit(X, y, \u001b[38;5;241m*\u001b[39m\u001b[38;5;241m*\u001b[39mfit_params_steps)\n\u001b[0;32m    391\u001b[0m     \u001b[38;5;28;01mwith\u001b[39;00m _print_elapsed_time(\u001b[38;5;124m\"\u001b[39m\u001b[38;5;124mPipeline\u001b[39m\u001b[38;5;124m\"\u001b[39m, \u001b[38;5;28mself\u001b[39m\u001b[38;5;241m.\u001b[39m_log_message(\u001b[38;5;28mlen\u001b[39m(\u001b[38;5;28mself\u001b[39m\u001b[38;5;241m.\u001b[39msteps) \u001b[38;5;241m-\u001b[39m \u001b[38;5;241m1\u001b[39m)):\n",
      "File \u001b[1;32m~\\anaconda3\\lib\\site-packages\\sklearn\\pipeline.py:300\u001b[0m, in \u001b[0;36mPipeline._check_fit_params\u001b[1;34m(self, **fit_params)\u001b[0m\n\u001b[0;32m    298\u001b[0m \u001b[38;5;28;01mfor\u001b[39;00m pname, pval \u001b[38;5;129;01min\u001b[39;00m fit_params\u001b[38;5;241m.\u001b[39mitems():\n\u001b[0;32m    299\u001b[0m     \u001b[38;5;28;01mif\u001b[39;00m \u001b[38;5;124m\"\u001b[39m\u001b[38;5;124m__\u001b[39m\u001b[38;5;124m\"\u001b[39m \u001b[38;5;129;01mnot\u001b[39;00m \u001b[38;5;129;01min\u001b[39;00m pname:\n\u001b[1;32m--> 300\u001b[0m         \u001b[38;5;28;01mraise\u001b[39;00m \u001b[38;5;167;01mValueError\u001b[39;00m(\n\u001b[0;32m    301\u001b[0m             \u001b[38;5;124m\"\u001b[39m\u001b[38;5;124mPipeline.fit does not accept the \u001b[39m\u001b[38;5;132;01m{}\u001b[39;00m\u001b[38;5;124m parameter. \u001b[39m\u001b[38;5;124m\"\u001b[39m\n\u001b[0;32m    302\u001b[0m             \u001b[38;5;124m\"\u001b[39m\u001b[38;5;124mYou can pass parameters to specific steps of your \u001b[39m\u001b[38;5;124m\"\u001b[39m\n\u001b[0;32m    303\u001b[0m             \u001b[38;5;124m\"\u001b[39m\u001b[38;5;124mpipeline using the stepname__parameter format, e.g. \u001b[39m\u001b[38;5;124m\"\u001b[39m\n\u001b[0;32m    304\u001b[0m             \u001b[38;5;124m\"\u001b[39m\u001b[38;5;124m`Pipeline.fit(X, y, logisticregression__sample_weight\u001b[39m\u001b[38;5;124m\"\u001b[39m\n\u001b[0;32m    305\u001b[0m             \u001b[38;5;124m\"\u001b[39m\u001b[38;5;124m=sample_weight)`.\u001b[39m\u001b[38;5;124m\"\u001b[39m\u001b[38;5;241m.\u001b[39mformat(pname)\n\u001b[0;32m    306\u001b[0m         )\n\u001b[0;32m    307\u001b[0m     step, param \u001b[38;5;241m=\u001b[39m pname\u001b[38;5;241m.\u001b[39msplit(\u001b[38;5;124m\"\u001b[39m\u001b[38;5;124m__\u001b[39m\u001b[38;5;124m\"\u001b[39m, \u001b[38;5;241m1\u001b[39m)\n\u001b[0;32m    308\u001b[0m     fit_params_steps[step][param] \u001b[38;5;241m=\u001b[39m pval\n",
      "\u001b[1;31mValueError\u001b[0m: Pipeline.fit does not accept the sample_weight parameter. You can pass parameters to specific steps of your pipeline using the stepname__parameter format, e.g. `Pipeline.fit(X, y, logisticregression__sample_weight=sample_weight)`."
     ]
    }
   ],
   "source": [
    "# results for debiased model with ExponentiatedGradient\n",
    "\n",
    "model_knn_fair = red.ExponentiatedGradient(model_knn,\n",
    "                               constraints=red.EqualizedOdds(),\n",
    "                              )\n",
    "model_knn_fair.fit(X_train_aif, y_train_aif, sensitive_features=X_train_aif['gender'])\n",
    "\n",
    "get_values_of_aif_metrics(y_test_aif, model_knn_fair.predict(X_test_aif))\n",
    "print('')\n",
    "plot_metrics(y_test_aif, X_test_aif, metrics, model_knn_fair, 'gender')\n",
    "print('')\n",
    "classification_results(y_test_aif, model_knn_fair.predict(X_test_aif))"
   ]
  },
  {
   "cell_type": "markdown",
   "id": "e5aad3e3",
   "metadata": {},
   "source": [
    "#### Results:"
   ]
  },
  {
   "cell_type": "markdown",
   "id": "573c0c93",
   "metadata": {},
   "source": [
    "### SVM model"
   ]
  },
  {
   "cell_type": "code",
   "execution_count": 33,
   "id": "90c0b3ec",
   "metadata": {
    "scrolled": true
   },
   "outputs": [],
   "source": [
    "X_train_aif, y_train_aif, X_test_aif, y_test_aif = create_dataset(train_df, test_df, 'diagnosis', prot_attr_cols, features_svm)"
   ]
  },
  {
   "cell_type": "code",
   "execution_count": 34,
   "id": "b2292f4e",
   "metadata": {
    "scrolled": false
   },
   "outputs": [
    {
     "name": "stdout",
     "output_type": "stream",
     "text": [
      "Statistical parity difference:  0.07692307692307693\n",
      "Equal opportunity difference:  0.11188811188811187\n",
      "Average odds difference:  0.07692307692307693\n",
      "Disparate impact ratio:  1.1818181818181819\n",
      "Theil index:  0.7801585575495752\n",
      "\n",
      "        accuracy sensitivity specificity\n",
      "gender                                  \n",
      "0       0.727273    0.727273    0.727273\n",
      "1       0.692308    0.615385    0.769231\n",
      "\n",
      "[[18  6]\n",
      " [ 8 16]]\n",
      "Accuracy:  0.7083333333333334\n",
      "Sensitivity:  0.6666666666666666\n",
      "Specificity:  0.75\n"
     ]
    },
    {
     "data": {
      "image/png": "[encoded data removed]",
      "text/plain": [
       "<Figure size 1152x360 with 3 Axes>"
      ]
     },
     "metadata": {
      "needs_background": "light"
     },
     "output_type": "display_data"
    }
   ],
   "source": [
    "# results for default model \n",
    "\n",
    "get_values_of_aif_metrics(y_test_aif, model_svm.predict(X_test_aif))\n",
    "print('')\n",
    "plot_metrics(y_test_aif, X_test_aif, metrics, model_svm, 'gender')\n",
    "print('')\n",
    "classification_results(y_test_aif, model_svm.predict(X_test_aif))"
   ]
  },
  {
   "cell_type": "code",
   "execution_count": 35,
   "id": "31574543",
   "metadata": {
    "scrolled": false
   },
   "outputs": [
    {
     "name": "stderr",
     "output_type": "stream",
     "text": [
      "Using the level keyword in DataFrame and Series aggregations is deprecated and will be removed in a future version. Use groupby instead. df.sum(level=1) should use df.groupby(level=1).sum().\n",
      "Using the level keyword in DataFrame and Series aggregations is deprecated and will be removed in a future version. Use groupby instead. df.sum(level=1) should use df.groupby(level=1).sum().\n",
      "Using the level keyword in DataFrame and Series aggregations is deprecated and will be removed in a future version. Use groupby instead. df.sum(level=1) should use df.groupby(level=1).sum().\n",
      "Using the level keyword in DataFrame and Series aggregations is deprecated and will be removed in a future version. Use groupby instead. df.sum(level=1) should use df.groupby(level=1).sum().\n",
      "Using the level keyword in DataFrame and Series aggregations is deprecated and will be removed in a future version. Use groupby instead. df.sum(level=1) should use df.groupby(level=1).sum().\n",
      "Using the level keyword in DataFrame and Series aggregations is deprecated and will be removed in a future version. Use groupby instead. df.sum(level=1) should use df.groupby(level=1).sum().\n",
      "Using the level keyword in DataFrame and Series aggregations is deprecated and will be removed in a future version. Use groupby instead. df.sum(level=1) should use df.groupby(level=1).sum().\n",
      "Using the level keyword in DataFrame and Series aggregations is deprecated and will be removed in a future version. Use groupby instead. df.sum(level=1) should use df.groupby(level=1).sum().\n",
      "Using the level keyword in DataFrame and Series aggregations is deprecated and will be removed in a future version. Use groupby instead. df.sum(level=1) should use df.groupby(level=1).sum().\n",
      "Using the level keyword in DataFrame and Series aggregations is deprecated and will be removed in a future version. Use groupby instead. df.sum(level=1) should use df.groupby(level=1).sum().\n"
     ]
    },
    {
     "name": "stdout",
     "output_type": "stream",
     "text": [
      "Statistical parity difference:  0.12237762237762234\n",
      "Equal opportunity difference:  0.18881118881118886\n",
      "Average odds difference:  0.1223776223776224\n",
      "Disparate impact ratio:  1.2892561983471074\n",
      "Theil index:  0.7357067949787411\n",
      "\n",
      "        accuracy sensitivity specificity\n",
      "gender                                  \n",
      "0       0.681818    0.727273    0.636364\n",
      "1       0.615385    0.538462    0.692308\n",
      "\n",
      "[[16  8]\n",
      " [ 9 15]]\n",
      "Accuracy:  0.6458333333333334\n",
      "Sensitivity:  0.625\n",
      "Specificity:  0.6666666666666666\n"
     ]
    },
    {
     "data": {
      "image/png": "[encoded data removed]",
      "text/plain": [
       "<Figure size 1152x360 with 3 Axes>"
      ]
     },
     "metadata": {
      "needs_background": "light"
     },
     "output_type": "display_data"
    }
   ],
   "source": [
    "# results for debiased model with GridSearch\n",
    "\n",
    "model_svm_fair = red.GridSearch(model_svm,\n",
    "                               constraints=red.EqualizedOdds(),\n",
    "                                sample_weight_name=\"classifier__sample_weight\",\n",
    "                              )\n",
    "model_svm_fair.fit(X_train_aif, y_train_aif, sensitive_features=X_train_aif['gender'])\n",
    "\n",
    "get_values_of_aif_metrics(y_test_aif, model_svm_fair.predict(X_test_aif))\n",
    "print('')\n",
    "plot_metrics(y_test_aif, X_test_aif, metrics, model_svm_fair, 'gender')\n",
    "print('')\n",
    "classification_results(y_test_aif, model_svm_fair.predict(X_test_aif))"
   ]
  },
  {
   "cell_type": "code",
   "execution_count": 36,
   "id": "3a9d493c",
   "metadata": {
    "scrolled": false
   },
   "outputs": [
    {
     "name": "stderr",
     "output_type": "stream",
     "text": [
      "Using the level keyword in DataFrame and Series aggregations is deprecated and will be removed in a future version. Use groupby instead. df.sum(level=1) should use df.groupby(level=1).sum().\n",
      "Using the level keyword in DataFrame and Series aggregations is deprecated and will be removed in a future version. Use groupby instead. df.sum(level=1) should use df.groupby(level=1).sum().\n",
      "Using the level keyword in DataFrame and Series aggregations is deprecated and will be removed in a future version. Use groupby instead. df.sum(level=1) should use df.groupby(level=1).sum().\n",
      "Using the level keyword in DataFrame and Series aggregations is deprecated and will be removed in a future version. Use groupby instead. df.sum(level=1) should use df.groupby(level=1).sum().\n",
      "Using the level keyword in DataFrame and Series aggregations is deprecated and will be removed in a future version. Use groupby instead. df.sum(level=1) should use df.groupby(level=1).sum().\n",
      "Using the level keyword in DataFrame and Series aggregations is deprecated and will be removed in a future version. Use groupby instead. df.sum(level=1) should use df.groupby(level=1).sum().\n",
      "Using the level keyword in DataFrame and Series aggregations is deprecated and will be removed in a future version. Use groupby instead. df.sum(level=1) should use df.groupby(level=1).sum().\n",
      "Using the level keyword in DataFrame and Series aggregations is deprecated and will be removed in a future version. Use groupby instead. df.sum(level=1) should use df.groupby(level=1).sum().\n",
      "Using the level keyword in DataFrame and Series aggregations is deprecated and will be removed in a future version. Use groupby instead. df.sum(level=1) should use df.groupby(level=1).sum().\n",
      "Using the level keyword in DataFrame and Series aggregations is deprecated and will be removed in a future version. Use groupby instead. df.sum(level=1) should use df.groupby(level=1).sum().\n",
      "Using the level keyword in DataFrame and Series aggregations is deprecated and will be removed in a future version. Use groupby instead. df.sum(level=1) should use df.groupby(level=1).sum().\n",
      "Using the level keyword in DataFrame and Series aggregations is deprecated and will be removed in a future version. Use groupby instead. df.sum(level=1) should use df.groupby(level=1).sum().\n",
      "Using the level keyword in DataFrame and Series aggregations is deprecated and will be removed in a future version. Use groupby instead. df.sum(level=1) should use df.groupby(level=1).sum().\n",
      "Using the level keyword in DataFrame and Series aggregations is deprecated and will be removed in a future version. Use groupby instead. df.sum(level=1) should use df.groupby(level=1).sum().\n",
      "Using the level keyword in DataFrame and Series aggregations is deprecated and will be removed in a future version. Use groupby instead. df.sum(level=1) should use df.groupby(level=1).sum().\n",
      "Using the level keyword in DataFrame and Series aggregations is deprecated and will be removed in a future version. Use groupby instead. df.sum(level=1) should use df.groupby(level=1).sum().\n",
      "Using the level keyword in DataFrame and Series aggregations is deprecated and will be removed in a future version. Use groupby instead. df.sum(level=1) should use df.groupby(level=1).sum().\n",
      "Using the level keyword in DataFrame and Series aggregations is deprecated and will be removed in a future version. Use groupby instead. df.sum(level=1) should use df.groupby(level=1).sum().\n"
     ]
    },
    {
     "name": "stdout",
     "output_type": "stream",
     "text": [
      "Statistical parity difference:  0.11538461538461536\n",
      "Equal opportunity difference:  0.18881118881118886\n",
      "Average odds difference:  0.11538461538461542\n",
      "Disparate impact ratio:  1.2999999999999998\n",
      "Theil index:  0.8266785731844678\n",
      "\n",
      "        accuracy sensitivity specificity\n",
      "gender                                  \n",
      "0       0.636364    0.727273    0.545455\n",
      "1       0.615385    0.538462    0.692308\n",
      "\n",
      "[[17  7]\n",
      " [ 9 15]]\n",
      "Accuracy:  0.6666666666666666\n",
      "Sensitivity:  0.625\n",
      "Specificity:  0.7083333333333334\n"
     ]
    },
    {
     "data": {
      "image/png": "[encoded data removed]",
      "text/plain": [
       "<Figure size 1152x360 with 3 Axes>"
      ]
     },
     "metadata": {
      "needs_background": "light"
     },
     "output_type": "display_data"
    }
   ],
   "source": [
    "# results for debiased model with ExponentiatedGradient\n",
    "\n",
    "model_svm_fair = red.ExponentiatedGradient(model_svm,\n",
    "                               constraints=red.EqualizedOdds(),\n",
    "                                sample_weight_name=\"classifier__sample_weight\",\n",
    "                              )\n",
    "model_svm_fair.fit(X_train_aif, y_train_aif, sensitive_features=X_train_aif['gender'])\n",
    "\n",
    "get_values_of_aif_metrics(y_test_aif, model_svm_fair.predict(X_test_aif))\n",
    "print('')\n",
    "plot_metrics(y_test_aif, X_test_aif, metrics, model_svm_fair, 'gender')\n",
    "print('')\n",
    "classification_results(y_test_aif, model_svm_fair.predict(X_test_aif))"
   ]
  },
  {
   "cell_type": "markdown",
   "id": "e4d2c799",
   "metadata": {},
   "source": [
    "#### Results:\n",
    "Model's performance became worse"
   ]
  },
  {
   "cell_type": "markdown",
   "id": "6466a29e",
   "metadata": {},
   "source": [
    "#### Results on the test set with debiasing\n",
    "\n",
    "| Model       | LR       |  LR + GridSearch | LR + ExponentiatedGradient | \n",
    "|------       |------    |  ------          | ------                     |\n",
    "| Accuracy    |  0.7291  |  0.7708          |  0.7083                    | \n",
    "| Sensitivity |  0.7083  |  0.75            |  0.6666                    | \n",
    "| Specificity |  0.75    |  0.7916          |  0.75                      | \n",
    "\n",
    "\n",
    "##### Summary:  \n",
    "LR + GridSearch obtained the best performance\n",
    "\n",
    "\n",
    "---"
   ]
  },
  {
   "cell_type": "markdown",
   "id": "8a882c4f",
   "metadata": {},
   "source": [
    "#### Results on the test set with debiasing\n",
    "\n",
    "| Model       | RF       |  RF + GridSearch | RF + ExponentiatedGradient | \n",
    "|------       |------    |  ------          | ------                     |\n",
    "| Accuracy    |  0.6875  |  0.625           |  0.6875                    | \n",
    "| Sensitivity |  0.7083  |  0.5             |  0.5                       | \n",
    "| Specificity |  0.6666  |  0.75            |  0.875                     | \n",
    "\n",
    "##### Summary:  \n",
    "Original model obtained the best performance\n",
    "\n",
    "---"
   ]
  },
  {
   "cell_type": "markdown",
   "id": "d8add886",
   "metadata": {},
   "source": [
    "#### Results on the test set with debiasing\n",
    "\n",
    "| Model       | SVM      | SVM + GridSearch |SVM + ExponentiatedGradient | \n",
    "|------       |------    |  ------          | ------                     |\n",
    "| Accuracy    |  0.7083  |  0.6458          |  0.6666                    | \n",
    "| Sensitivity |  0.6666  |  0.625           |  0.625                     | \n",
    "| Specificity |  0.75    |  0.6666          |  0.7083                    | \n",
    "\n",
    "##### Summary:  \n",
    "Original model obtained the best performance\n",
    "\n",
    "\n",
    "---"
   ]
  },
  {
   "cell_type": "code",
   "execution_count": null,
   "id": "a1ef7ceb",
   "metadata": {
    "scrolled": true
   },
   "outputs": [],
   "source": []
  }
 ],
 "metadata": {
  "kernelspec": {
   "display_name": "Python 3 (ipykernel)",
   "language": "python",
   "name": "python3"
  },
  "language_info": {
   "codemirror_mode": {
    "name": "ipython",
    "version": 3
   },
   "file_extension": ".py",
   "mimetype": "text/x-python",
   "name": "python",
   "nbconvert_exporter": "python",
   "pygments_lexer": "ipython3",
   "version": "3.9.7"
  }
 },
 "nbformat": 4,
 "nbformat_minor": 5
}
