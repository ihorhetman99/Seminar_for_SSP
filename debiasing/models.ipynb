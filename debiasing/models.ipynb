{
 "cells": [
  {
   "cell_type": "markdown",
   "id": "215008ca",
   "metadata": {},
   "source": [
    "## Sample notebook for seminar project ML for SSP\n",
    "\n",
    "Pay attention to name of variables in PATH"
   ]
  },
  {
   "cell_type": "code",
   "execution_count": 3,
   "id": "8cbc3fb3",
   "metadata": {},
   "outputs": [],
   "source": [
    "%matplotlib inline\n",
    "import matplotlib.pyplot as plt\n",
    "import numpy as np\n",
    "import pandas as pd\n",
    "from IPython.display import Markdown, display\n",
    "\n",
    "# Scalers\n",
    "from sklearn.preprocessing import StandardScaler\n",
    "from sklearn.preprocessing import MinMaxScaler\n",
    "\n",
    "# Classifiers\n",
    "from sklearn.ensemble import RandomForestClassifier\n",
    "from sklearn.linear_model import LogisticRegression\n",
    "from sklearn.neighbors import KNeighborsClassifier\n",
    "from sklearn.svm import SVC\n",
    "from sklearn.pipeline import make_pipeline\n",
    "\n",
    "# Metrics\n",
    "import sklearn.metrics as skm\n",
    "\n",
    "# Cross validation\n",
    "from sklearn.model_selection import cross_val_predict\n",
    "from sklearn.model_selection import KFold\n",
    "\n",
    "np.random.seed(123)"
   ]
  },
  {
   "cell_type": "markdown",
   "id": "3527eed7",
   "metadata": {},
   "source": [
    "You will probably need to install aif360 package, so refer to this link: https://github.com/Trusted-AI/AIF360\n",
    "\n",
    "Or this: https://jakevdp.github.io/blog/2017/12/05/installing-python-packages-from-jupyter/\n",
    "\n",
    "Use this: https://anaconda.org/conda-forge/aif360 or https://github.com/conda-forge/aif360-feedstock if previous doesn't work\n",
    "\n",
    "\n",
    "UPD: it worked using only `pip`\n",
    "\n",
    "UPD: you will probably need to install fairlearn package `pip install fairlearn`"
   ]
  },
  {
   "cell_type": "markdown",
   "id": "5f2b963c",
   "metadata": {},
   "source": [
    "  "
   ]
  },
  {
   "cell_type": "code",
   "execution_count": 4,
   "id": "5030f384",
   "metadata": {},
   "outputs": [],
   "source": [
    "# Datapathes\n",
    "\n",
    "TRAIN_DATAPATH = r'D:\\Uni\\SS 2022\\Seminar ML for SSP\\Debiasing_Clinical_Data\\Data\\train\\functionals_train_all.csv'\n",
    "TEST_DATAPATH = r'D:\\Uni\\SS 2022\\Seminar ML for SSP\\Debiasing_Clinical_Data\\Data\\test\\functionals_test_all.csv'"
   ]
  },
  {
   "cell_type": "code",
   "execution_count": 5,
   "id": "9d674678",
   "metadata": {},
   "outputs": [],
   "source": [
    "# reading data\n",
    "\n",
    "train = pd.read_csv(TRAIN_DATAPATH)\n",
    "test = pd.read_csv(TEST_DATAPATH)"
   ]
  },
  {
   "cell_type": "code",
   "execution_count": 6,
   "id": "4d48bfac",
   "metadata": {},
   "outputs": [
    {
     "data": {
      "text/html": [
       "<div>\n",
       "<style scoped>\n",
       "    .dataframe tbody tr th:only-of-type {\n",
       "        vertical-align: middle;\n",
       "    }\n",
       "\n",
       "    .dataframe tbody tr th {\n",
       "        vertical-align: top;\n",
       "    }\n",
       "\n",
       "    .dataframe thead th {\n",
       "        text-align: right;\n",
       "    }\n",
       "</style>\n",
       "<table border=\"1\" class=\"dataframe\">\n",
       "  <thead>\n",
       "    <tr style=\"text-align: right;\">\n",
       "      <th></th>\n",
       "      <th>Unnamed: 0</th>\n",
       "      <th>id</th>\n",
       "      <th>age</th>\n",
       "      <th>gender</th>\n",
       "      <th>mmse</th>\n",
       "      <th>diagnosis</th>\n",
       "      <th>F0semitoneFrom27.5Hz_sma3nz_amean</th>\n",
       "      <th>F0semitoneFrom27.5Hz_sma3nz_stddevNorm</th>\n",
       "      <th>F0semitoneFrom27.5Hz_sma3nz_percentile20.0</th>\n",
       "      <th>F0semitoneFrom27.5Hz_sma3nz_percentile50.0</th>\n",
       "      <th>...</th>\n",
       "      <th>slopeUV0-500_sma3nz_amean</th>\n",
       "      <th>slopeUV500-1500_sma3nz_amean</th>\n",
       "      <th>spectralFluxUV_sma3nz_amean</th>\n",
       "      <th>loudnessPeaksPerSec</th>\n",
       "      <th>VoicedSegmentsPerSec</th>\n",
       "      <th>MeanVoicedSegmentLengthSec</th>\n",
       "      <th>StddevVoicedSegmentLengthSec</th>\n",
       "      <th>MeanUnvoicedSegmentLength</th>\n",
       "      <th>StddevUnvoicedSegmentLength</th>\n",
       "      <th>equivalentSoundLevel_dBp</th>\n",
       "    </tr>\n",
       "  </thead>\n",
       "  <tbody>\n",
       "    <tr>\n",
       "      <th>0</th>\n",
       "      <td>0</td>\n",
       "      <td>S001</td>\n",
       "      <td>74</td>\n",
       "      <td>male</td>\n",
       "      <td>NA</td>\n",
       "      <td>0</td>\n",
       "      <td>26.158813</td>\n",
       "      <td>0.256494</td>\n",
       "      <td>23.504830</td>\n",
       "      <td>25.390327</td>\n",
       "      <td>...</td>\n",
       "      <td>0.033982</td>\n",
       "      <td>-0.007878</td>\n",
       "      <td>0.025659</td>\n",
       "      <td>2.082161</td>\n",
       "      <td>1.610542</td>\n",
       "      <td>0.398252</td>\n",
       "      <td>0.395510</td>\n",
       "      <td>0.250614</td>\n",
       "      <td>0.467176</td>\n",
       "      <td>-29.529222</td>\n",
       "    </tr>\n",
       "    <tr>\n",
       "      <th>1</th>\n",
       "      <td>1</td>\n",
       "      <td>S002</td>\n",
       "      <td>62</td>\n",
       "      <td>female</td>\n",
       "      <td>30</td>\n",
       "      <td>0</td>\n",
       "      <td>35.038100</td>\n",
       "      <td>0.222455</td>\n",
       "      <td>32.094150</td>\n",
       "      <td>33.338820</td>\n",
       "      <td>...</td>\n",
       "      <td>0.029004</td>\n",
       "      <td>-0.006766</td>\n",
       "      <td>0.018389</td>\n",
       "      <td>0.105116</td>\n",
       "      <td>0.666316</td>\n",
       "      <td>0.105000</td>\n",
       "      <td>0.070366</td>\n",
       "      <td>1.412162</td>\n",
       "      <td>1.798986</td>\n",
       "      <td>-43.936977</td>\n",
       "    </tr>\n",
       "    <tr>\n",
       "      <th>2</th>\n",
       "      <td>2</td>\n",
       "      <td>S003</td>\n",
       "      <td>69</td>\n",
       "      <td>female</td>\n",
       "      <td>29</td>\n",
       "      <td>0</td>\n",
       "      <td>33.408146</td>\n",
       "      <td>0.167676</td>\n",
       "      <td>30.763927</td>\n",
       "      <td>33.175510</td>\n",
       "      <td>...</td>\n",
       "      <td>0.027397</td>\n",
       "      <td>-0.006148</td>\n",
       "      <td>0.020994</td>\n",
       "      <td>2.314480</td>\n",
       "      <td>1.375416</td>\n",
       "      <td>0.455579</td>\n",
       "      <td>0.408640</td>\n",
       "      <td>0.291481</td>\n",
       "      <td>0.738442</td>\n",
       "      <td>-25.290459</td>\n",
       "    </tr>\n",
       "    <tr>\n",
       "      <th>3</th>\n",
       "      <td>3</td>\n",
       "      <td>S004</td>\n",
       "      <td>71</td>\n",
       "      <td>female</td>\n",
       "      <td>30</td>\n",
       "      <td>0</td>\n",
       "      <td>31.709782</td>\n",
       "      <td>0.220399</td>\n",
       "      <td>29.273027</td>\n",
       "      <td>31.521568</td>\n",
       "      <td>...</td>\n",
       "      <td>0.027672</td>\n",
       "      <td>-0.003709</td>\n",
       "      <td>0.038795</td>\n",
       "      <td>2.695713</td>\n",
       "      <td>1.712295</td>\n",
       "      <td>0.367209</td>\n",
       "      <td>0.345697</td>\n",
       "      <td>0.235282</td>\n",
       "      <td>0.462315</td>\n",
       "      <td>-27.811728</td>\n",
       "    </tr>\n",
       "    <tr>\n",
       "      <th>4</th>\n",
       "      <td>4</td>\n",
       "      <td>S005</td>\n",
       "      <td>74</td>\n",
       "      <td>female</td>\n",
       "      <td>30</td>\n",
       "      <td>0</td>\n",
       "      <td>33.117634</td>\n",
       "      <td>0.210555</td>\n",
       "      <td>29.349773</td>\n",
       "      <td>31.528109</td>\n",
       "      <td>...</td>\n",
       "      <td>0.021428</td>\n",
       "      <td>-0.001211</td>\n",
       "      <td>0.005301</td>\n",
       "      <td>0.405904</td>\n",
       "      <td>1.046154</td>\n",
       "      <td>0.105647</td>\n",
       "      <td>0.085536</td>\n",
       "      <td>0.800909</td>\n",
       "      <td>1.251056</td>\n",
       "      <td>-49.826008</td>\n",
       "    </tr>\n",
       "  </tbody>\n",
       "</table>\n",
       "<p>5 rows × 94 columns</p>\n",
       "</div>"
      ],
      "text/plain": [
       "   Unnamed: 0    id  age  gender mmse  diagnosis  \\\n",
       "0           0  S001   74    male   NA          0   \n",
       "1           1  S002   62  female   30          0   \n",
       "2           2  S003   69  female   29          0   \n",
       "3           3  S004   71  female   30          0   \n",
       "4           4  S005   74  female   30          0   \n",
       "\n",
       "   F0semitoneFrom27.5Hz_sma3nz_amean  F0semitoneFrom27.5Hz_sma3nz_stddevNorm  \\\n",
       "0                          26.158813                                0.256494   \n",
       "1                          35.038100                                0.222455   \n",
       "2                          33.408146                                0.167676   \n",
       "3                          31.709782                                0.220399   \n",
       "4                          33.117634                                0.210555   \n",
       "\n",
       "   F0semitoneFrom27.5Hz_sma3nz_percentile20.0  \\\n",
       "0                                   23.504830   \n",
       "1                                   32.094150   \n",
       "2                                   30.763927   \n",
       "3                                   29.273027   \n",
       "4                                   29.349773   \n",
       "\n",
       "   F0semitoneFrom27.5Hz_sma3nz_percentile50.0  ...  slopeUV0-500_sma3nz_amean  \\\n",
       "0                                   25.390327  ...                   0.033982   \n",
       "1                                   33.338820  ...                   0.029004   \n",
       "2                                   33.175510  ...                   0.027397   \n",
       "3                                   31.521568  ...                   0.027672   \n",
       "4                                   31.528109  ...                   0.021428   \n",
       "\n",
       "   slopeUV500-1500_sma3nz_amean  spectralFluxUV_sma3nz_amean  \\\n",
       "0                     -0.007878                     0.025659   \n",
       "1                     -0.006766                     0.018389   \n",
       "2                     -0.006148                     0.020994   \n",
       "3                     -0.003709                     0.038795   \n",
       "4                     -0.001211                     0.005301   \n",
       "\n",
       "   loudnessPeaksPerSec  VoicedSegmentsPerSec  MeanVoicedSegmentLengthSec  \\\n",
       "0             2.082161              1.610542                    0.398252   \n",
       "1             0.105116              0.666316                    0.105000   \n",
       "2             2.314480              1.375416                    0.455579   \n",
       "3             2.695713              1.712295                    0.367209   \n",
       "4             0.405904              1.046154                    0.105647   \n",
       "\n",
       "   StddevVoicedSegmentLengthSec  MeanUnvoicedSegmentLength  \\\n",
       "0                      0.395510                   0.250614   \n",
       "1                      0.070366                   1.412162   \n",
       "2                      0.408640                   0.291481   \n",
       "3                      0.345697                   0.235282   \n",
       "4                      0.085536                   0.800909   \n",
       "\n",
       "   StddevUnvoicedSegmentLength  equivalentSoundLevel_dBp  \n",
       "0                     0.467176                -29.529222  \n",
       "1                     1.798986                -43.936977  \n",
       "2                     0.738442                -25.290459  \n",
       "3                     0.462315                -27.811728  \n",
       "4                     1.251056                -49.826008  \n",
       "\n",
       "[5 rows x 94 columns]"
      ]
     },
     "execution_count": 6,
     "metadata": {},
     "output_type": "execute_result"
    }
   ],
   "source": [
    "train.head()"
   ]
  },
  {
   "cell_type": "code",
   "execution_count": 7,
   "id": "e4937c81",
   "metadata": {},
   "outputs": [
    {
     "data": {
      "text/html": [
       "<div>\n",
       "<style scoped>\n",
       "    .dataframe tbody tr th:only-of-type {\n",
       "        vertical-align: middle;\n",
       "    }\n",
       "\n",
       "    .dataframe tbody tr th {\n",
       "        vertical-align: top;\n",
       "    }\n",
       "\n",
       "    .dataframe thead th {\n",
       "        text-align: right;\n",
       "    }\n",
       "</style>\n",
       "<table border=\"1\" class=\"dataframe\">\n",
       "  <thead>\n",
       "    <tr style=\"text-align: right;\">\n",
       "      <th></th>\n",
       "      <th>Unnamed: 0</th>\n",
       "      <th>F0semitoneFrom27.5Hz_sma3nz_amean</th>\n",
       "      <th>F0semitoneFrom27.5Hz_sma3nz_stddevNorm</th>\n",
       "      <th>F0semitoneFrom27.5Hz_sma3nz_percentile20.0</th>\n",
       "      <th>F0semitoneFrom27.5Hz_sma3nz_percentile50.0</th>\n",
       "      <th>F0semitoneFrom27.5Hz_sma3nz_percentile80.0</th>\n",
       "      <th>F0semitoneFrom27.5Hz_sma3nz_pctlrange0-2</th>\n",
       "      <th>F0semitoneFrom27.5Hz_sma3nz_meanRisingSlope</th>\n",
       "      <th>F0semitoneFrom27.5Hz_sma3nz_stddevRisingSlope</th>\n",
       "      <th>F0semitoneFrom27.5Hz_sma3nz_meanFallingSlope</th>\n",
       "      <th>...</th>\n",
       "      <th>MeanVoicedSegmentLengthSec</th>\n",
       "      <th>StddevVoicedSegmentLengthSec</th>\n",
       "      <th>MeanUnvoicedSegmentLength</th>\n",
       "      <th>StddevUnvoicedSegmentLength</th>\n",
       "      <th>equivalentSoundLevel_dBp</th>\n",
       "      <th>id</th>\n",
       "      <th>age</th>\n",
       "      <th>gender</th>\n",
       "      <th>diagnosis</th>\n",
       "      <th>mmse</th>\n",
       "    </tr>\n",
       "  </thead>\n",
       "  <tbody>\n",
       "    <tr>\n",
       "      <th>0</th>\n",
       "      <td>0</td>\n",
       "      <td>31.396942</td>\n",
       "      <td>0.154061</td>\n",
       "      <td>30.213425</td>\n",
       "      <td>31.718218</td>\n",
       "      <td>33.796870</td>\n",
       "      <td>3.583446</td>\n",
       "      <td>177.98373</td>\n",
       "      <td>132.606320</td>\n",
       "      <td>216.58685</td>\n",
       "      <td>...</td>\n",
       "      <td>0.344048</td>\n",
       "      <td>0.342380</td>\n",
       "      <td>0.302286</td>\n",
       "      <td>0.547483</td>\n",
       "      <td>-22.975720</td>\n",
       "      <td>S160</td>\n",
       "      <td>63</td>\n",
       "      <td>1</td>\n",
       "      <td>0</td>\n",
       "      <td>28</td>\n",
       "    </tr>\n",
       "    <tr>\n",
       "      <th>1</th>\n",
       "      <td>1</td>\n",
       "      <td>29.956886</td>\n",
       "      <td>0.118317</td>\n",
       "      <td>28.500713</td>\n",
       "      <td>29.874610</td>\n",
       "      <td>31.048702</td>\n",
       "      <td>2.547989</td>\n",
       "      <td>163.17845</td>\n",
       "      <td>170.156390</td>\n",
       "      <td>146.55635</td>\n",
       "      <td>...</td>\n",
       "      <td>0.140119</td>\n",
       "      <td>0.154052</td>\n",
       "      <td>0.724940</td>\n",
       "      <td>1.355301</td>\n",
       "      <td>-57.484940</td>\n",
       "      <td>S161</td>\n",
       "      <td>55</td>\n",
       "      <td>1</td>\n",
       "      <td>0</td>\n",
       "      <td>29</td>\n",
       "    </tr>\n",
       "    <tr>\n",
       "      <th>2</th>\n",
       "      <td>2</td>\n",
       "      <td>19.633840</td>\n",
       "      <td>0.402905</td>\n",
       "      <td>13.825209</td>\n",
       "      <td>14.831374</td>\n",
       "      <td>31.307632</td>\n",
       "      <td>17.482424</td>\n",
       "      <td>209.11266</td>\n",
       "      <td>314.103150</td>\n",
       "      <td>78.85801</td>\n",
       "      <td>...</td>\n",
       "      <td>1.483673</td>\n",
       "      <td>1.388053</td>\n",
       "      <td>0.055946</td>\n",
       "      <td>0.046988</td>\n",
       "      <td>-25.289870</td>\n",
       "      <td>S162</td>\n",
       "      <td>67</td>\n",
       "      <td>1</td>\n",
       "      <td>1</td>\n",
       "      <td>24</td>\n",
       "    </tr>\n",
       "    <tr>\n",
       "      <th>3</th>\n",
       "      <td>3</td>\n",
       "      <td>28.083347</td>\n",
       "      <td>0.266278</td>\n",
       "      <td>24.390467</td>\n",
       "      <td>26.107916</td>\n",
       "      <td>29.036630</td>\n",
       "      <td>4.646164</td>\n",
       "      <td>416.17200</td>\n",
       "      <td>769.896240</td>\n",
       "      <td>225.06831</td>\n",
       "      <td>...</td>\n",
       "      <td>0.368082</td>\n",
       "      <td>0.375981</td>\n",
       "      <td>0.151600</td>\n",
       "      <td>0.184023</td>\n",
       "      <td>-29.287306</td>\n",
       "      <td>S163</td>\n",
       "      <td>71</td>\n",
       "      <td>0</td>\n",
       "      <td>0</td>\n",
       "      <td>30</td>\n",
       "    </tr>\n",
       "    <tr>\n",
       "      <th>4</th>\n",
       "      <td>4</td>\n",
       "      <td>34.369990</td>\n",
       "      <td>0.078030</td>\n",
       "      <td>33.367874</td>\n",
       "      <td>34.617860</td>\n",
       "      <td>35.442660</td>\n",
       "      <td>2.074787</td>\n",
       "      <td>58.16399</td>\n",
       "      <td>31.168308</td>\n",
       "      <td>367.91990</td>\n",
       "      <td>...</td>\n",
       "      <td>0.074000</td>\n",
       "      <td>0.034409</td>\n",
       "      <td>5.053333</td>\n",
       "      <td>6.706737</td>\n",
       "      <td>-66.156525</td>\n",
       "      <td>S164</td>\n",
       "      <td>73</td>\n",
       "      <td>1</td>\n",
       "      <td>1</td>\n",
       "      <td>21</td>\n",
       "    </tr>\n",
       "  </tbody>\n",
       "</table>\n",
       "<p>5 rows × 94 columns</p>\n",
       "</div>"
      ],
      "text/plain": [
       "   Unnamed: 0  F0semitoneFrom27.5Hz_sma3nz_amean  \\\n",
       "0           0                          31.396942   \n",
       "1           1                          29.956886   \n",
       "2           2                          19.633840   \n",
       "3           3                          28.083347   \n",
       "4           4                          34.369990   \n",
       "\n",
       "   F0semitoneFrom27.5Hz_sma3nz_stddevNorm  \\\n",
       "0                                0.154061   \n",
       "1                                0.118317   \n",
       "2                                0.402905   \n",
       "3                                0.266278   \n",
       "4                                0.078030   \n",
       "\n",
       "   F0semitoneFrom27.5Hz_sma3nz_percentile20.0  \\\n",
       "0                                   30.213425   \n",
       "1                                   28.500713   \n",
       "2                                   13.825209   \n",
       "3                                   24.390467   \n",
       "4                                   33.367874   \n",
       "\n",
       "   F0semitoneFrom27.5Hz_sma3nz_percentile50.0  \\\n",
       "0                                   31.718218   \n",
       "1                                   29.874610   \n",
       "2                                   14.831374   \n",
       "3                                   26.107916   \n",
       "4                                   34.617860   \n",
       "\n",
       "   F0semitoneFrom27.5Hz_sma3nz_percentile80.0  \\\n",
       "0                                   33.796870   \n",
       "1                                   31.048702   \n",
       "2                                   31.307632   \n",
       "3                                   29.036630   \n",
       "4                                   35.442660   \n",
       "\n",
       "   F0semitoneFrom27.5Hz_sma3nz_pctlrange0-2  \\\n",
       "0                                  3.583446   \n",
       "1                                  2.547989   \n",
       "2                                 17.482424   \n",
       "3                                  4.646164   \n",
       "4                                  2.074787   \n",
       "\n",
       "   F0semitoneFrom27.5Hz_sma3nz_meanRisingSlope  \\\n",
       "0                                    177.98373   \n",
       "1                                    163.17845   \n",
       "2                                    209.11266   \n",
       "3                                    416.17200   \n",
       "4                                     58.16399   \n",
       "\n",
       "   F0semitoneFrom27.5Hz_sma3nz_stddevRisingSlope  \\\n",
       "0                                     132.606320   \n",
       "1                                     170.156390   \n",
       "2                                     314.103150   \n",
       "3                                     769.896240   \n",
       "4                                      31.168308   \n",
       "\n",
       "   F0semitoneFrom27.5Hz_sma3nz_meanFallingSlope  ...  \\\n",
       "0                                     216.58685  ...   \n",
       "1                                     146.55635  ...   \n",
       "2                                      78.85801  ...   \n",
       "3                                     225.06831  ...   \n",
       "4                                     367.91990  ...   \n",
       "\n",
       "   MeanVoicedSegmentLengthSec  StddevVoicedSegmentLengthSec  \\\n",
       "0                    0.344048                      0.342380   \n",
       "1                    0.140119                      0.154052   \n",
       "2                    1.483673                      1.388053   \n",
       "3                    0.368082                      0.375981   \n",
       "4                    0.074000                      0.034409   \n",
       "\n",
       "   MeanUnvoicedSegmentLength  StddevUnvoicedSegmentLength  \\\n",
       "0                   0.302286                     0.547483   \n",
       "1                   0.724940                     1.355301   \n",
       "2                   0.055946                     0.046988   \n",
       "3                   0.151600                     0.184023   \n",
       "4                   5.053333                     6.706737   \n",
       "\n",
       "   equivalentSoundLevel_dBp     id  age  gender  diagnosis  mmse  \n",
       "0                -22.975720  S160    63       1          0    28  \n",
       "1                -57.484940  S161    55       1          0    29  \n",
       "2                -25.289870  S162    67       1          1    24  \n",
       "3                -29.287306  S163    71       0          0    30  \n",
       "4                -66.156525  S164    73       1          1    21  \n",
       "\n",
       "[5 rows x 94 columns]"
      ]
     },
     "execution_count": 7,
     "metadata": {},
     "output_type": "execute_result"
    }
   ],
   "source": [
    "test.head()\n",
    "\n",
    "#comment: 1 - female, 0 - male"
   ]
  },
  {
   "cell_type": "code",
   "execution_count": 8,
   "id": "1463ca21",
   "metadata": {},
   "outputs": [
    {
     "name": "stdout",
     "output_type": "stream",
     "text": [
      "<class 'pandas.core.frame.DataFrame'>\n",
      "RangeIndex: 108 entries, 0 to 107\n",
      "Data columns (total 94 columns):\n",
      " #   Column                                          Non-Null Count  Dtype  \n",
      "---  ------                                          --------------  -----  \n",
      " 0   Unnamed: 0                                      108 non-null    int64  \n",
      " 1   id                                              108 non-null    object \n",
      " 2   age                                             108 non-null    int64  \n",
      " 3   gender                                          108 non-null    object \n",
      " 4   mmse                                            108 non-null    object \n",
      " 5   diagnosis                                       108 non-null    int64  \n",
      " 6   F0semitoneFrom27.5Hz_sma3nz_amean               108 non-null    float64\n",
      " 7   F0semitoneFrom27.5Hz_sma3nz_stddevNorm          108 non-null    float64\n",
      " 8   F0semitoneFrom27.5Hz_sma3nz_percentile20.0      108 non-null    float64\n",
      " 9   F0semitoneFrom27.5Hz_sma3nz_percentile50.0      108 non-null    float64\n",
      " 10  F0semitoneFrom27.5Hz_sma3nz_percentile80.0      108 non-null    float64\n",
      " 11  F0semitoneFrom27.5Hz_sma3nz_pctlrange0-2        108 non-null    float64\n",
      " 12  F0semitoneFrom27.5Hz_sma3nz_meanRisingSlope     108 non-null    float64\n",
      " 13  F0semitoneFrom27.5Hz_sma3nz_stddevRisingSlope   108 non-null    float64\n",
      " 14  F0semitoneFrom27.5Hz_sma3nz_meanFallingSlope    108 non-null    float64\n",
      " 15  F0semitoneFrom27.5Hz_sma3nz_stddevFallingSlope  108 non-null    float64\n",
      " 16  loudness_sma3_amean                             108 non-null    float64\n",
      " 17  loudness_sma3_stddevNorm                        108 non-null    float64\n",
      " 18  loudness_sma3_percentile20.0                    108 non-null    float64\n",
      " 19  loudness_sma3_percentile50.0                    108 non-null    float64\n",
      " 20  loudness_sma3_percentile80.0                    108 non-null    float64\n",
      " 21  loudness_sma3_pctlrange0-2                      108 non-null    float64\n",
      " 22  loudness_sma3_meanRisingSlope                   108 non-null    float64\n",
      " 23  loudness_sma3_stddevRisingSlope                 108 non-null    float64\n",
      " 24  loudness_sma3_meanFallingSlope                  108 non-null    float64\n",
      " 25  loudness_sma3_stddevFallingSlope                108 non-null    float64\n",
      " 26  spectralFlux_sma3_amean                         108 non-null    float64\n",
      " 27  spectralFlux_sma3_stddevNorm                    108 non-null    float64\n",
      " 28  mfcc1_sma3_amean                                108 non-null    float64\n",
      " 29  mfcc1_sma3_stddevNorm                           108 non-null    float64\n",
      " 30  mfcc2_sma3_amean                                108 non-null    float64\n",
      " 31  mfcc2_sma3_stddevNorm                           108 non-null    float64\n",
      " 32  mfcc3_sma3_amean                                108 non-null    float64\n",
      " 33  mfcc3_sma3_stddevNorm                           108 non-null    float64\n",
      " 34  mfcc4_sma3_amean                                108 non-null    float64\n",
      " 35  mfcc4_sma3_stddevNorm                           108 non-null    float64\n",
      " 36  jitterLocal_sma3nz_amean                        108 non-null    float64\n",
      " 37  jitterLocal_sma3nz_stddevNorm                   108 non-null    float64\n",
      " 38  shimmerLocaldB_sma3nz_amean                     108 non-null    float64\n",
      " 39  shimmerLocaldB_sma3nz_stddevNorm                108 non-null    float64\n",
      " 40  HNRdBACF_sma3nz_amean                           108 non-null    float64\n",
      " 41  HNRdBACF_sma3nz_stddevNorm                      108 non-null    float64\n",
      " 42  logRelF0-H1-H2_sma3nz_amean                     108 non-null    float64\n",
      " 43  logRelF0-H1-H2_sma3nz_stddevNorm                108 non-null    float64\n",
      " 44  logRelF0-H1-A3_sma3nz_amean                     108 non-null    float64\n",
      " 45  logRelF0-H1-A3_sma3nz_stddevNorm                108 non-null    float64\n",
      " 46  F1frequency_sma3nz_amean                        108 non-null    float64\n",
      " 47  F1frequency_sma3nz_stddevNorm                   108 non-null    float64\n",
      " 48  F1bandwidth_sma3nz_amean                        108 non-null    float64\n",
      " 49  F1bandwidth_sma3nz_stddevNorm                   108 non-null    float64\n",
      " 50  F1amplitudeLogRelF0_sma3nz_amean                108 non-null    float64\n",
      " 51  F1amplitudeLogRelF0_sma3nz_stddevNorm           108 non-null    float64\n",
      " 52  F2frequency_sma3nz_amean                        108 non-null    float64\n",
      " 53  F2frequency_sma3nz_stddevNorm                   108 non-null    float64\n",
      " 54  F2bandwidth_sma3nz_amean                        108 non-null    float64\n",
      " 55  F2bandwidth_sma3nz_stddevNorm                   108 non-null    float64\n",
      " 56  F2amplitudeLogRelF0_sma3nz_amean                108 non-null    float64\n",
      " 57  F2amplitudeLogRelF0_sma3nz_stddevNorm           108 non-null    float64\n",
      " 58  F3frequency_sma3nz_amean                        108 non-null    float64\n",
      " 59  F3frequency_sma3nz_stddevNorm                   108 non-null    float64\n",
      " 60  F3bandwidth_sma3nz_amean                        108 non-null    float64\n",
      " 61  F3bandwidth_sma3nz_stddevNorm                   108 non-null    float64\n",
      " 62  F3amplitudeLogRelF0_sma3nz_amean                108 non-null    float64\n",
      " 63  F3amplitudeLogRelF0_sma3nz_stddevNorm           108 non-null    float64\n",
      " 64  alphaRatioV_sma3nz_amean                        108 non-null    float64\n",
      " 65  alphaRatioV_sma3nz_stddevNorm                   108 non-null    float64\n",
      " 66  hammarbergIndexV_sma3nz_amean                   108 non-null    float64\n",
      " 67  hammarbergIndexV_sma3nz_stddevNorm              108 non-null    float64\n",
      " 68  slopeV0-500_sma3nz_amean                        108 non-null    float64\n",
      " 69  slopeV0-500_sma3nz_stddevNorm                   108 non-null    float64\n",
      " 70  slopeV500-1500_sma3nz_amean                     108 non-null    float64\n",
      " 71  slopeV500-1500_sma3nz_stddevNorm                108 non-null    float64\n",
      " 72  spectralFluxV_sma3nz_amean                      108 non-null    float64\n",
      " 73  spectralFluxV_sma3nz_stddevNorm                 108 non-null    float64\n",
      " 74  mfcc1V_sma3nz_amean                             108 non-null    float64\n",
      " 75  mfcc1V_sma3nz_stddevNorm                        108 non-null    float64\n",
      " 76  mfcc2V_sma3nz_amean                             108 non-null    float64\n",
      " 77  mfcc2V_sma3nz_stddevNorm                        108 non-null    float64\n",
      " 78  mfcc3V_sma3nz_amean                             108 non-null    float64\n",
      " 79  mfcc3V_sma3nz_stddevNorm                        108 non-null    float64\n",
      " 80  mfcc4V_sma3nz_amean                             108 non-null    float64\n",
      " 81  mfcc4V_sma3nz_stddevNorm                        108 non-null    float64\n",
      " 82  alphaRatioUV_sma3nz_amean                       108 non-null    float64\n",
      " 83  hammarbergIndexUV_sma3nz_amean                  108 non-null    float64\n",
      " 84  slopeUV0-500_sma3nz_amean                       108 non-null    float64\n",
      " 85  slopeUV500-1500_sma3nz_amean                    108 non-null    float64\n",
      " 86  spectralFluxUV_sma3nz_amean                     108 non-null    float64\n",
      " 87  loudnessPeaksPerSec                             108 non-null    float64\n",
      " 88  VoicedSegmentsPerSec                            108 non-null    float64\n",
      " 89  MeanVoicedSegmentLengthSec                      108 non-null    float64\n",
      " 90  StddevVoicedSegmentLengthSec                    108 non-null    float64\n",
      " 91  MeanUnvoicedSegmentLength                       108 non-null    float64\n",
      " 92  StddevUnvoicedSegmentLength                     108 non-null    float64\n",
      " 93  equivalentSoundLevel_dBp                        108 non-null    float64\n",
      "dtypes: float64(88), int64(3), object(3)\n",
      "memory usage: 79.4+ KB\n"
     ]
    }
   ],
   "source": [
    "train.info()"
   ]
  },
  {
   "cell_type": "code",
   "execution_count": 9,
   "id": "c0f29d6a",
   "metadata": {},
   "outputs": [
    {
     "name": "stdout",
     "output_type": "stream",
     "text": [
      "<class 'pandas.core.frame.DataFrame'>\n",
      "RangeIndex: 48 entries, 0 to 47\n",
      "Data columns (total 94 columns):\n",
      " #   Column                                          Non-Null Count  Dtype  \n",
      "---  ------                                          --------------  -----  \n",
      " 0   Unnamed: 0                                      48 non-null     int64  \n",
      " 1   F0semitoneFrom27.5Hz_sma3nz_amean               48 non-null     float64\n",
      " 2   F0semitoneFrom27.5Hz_sma3nz_stddevNorm          48 non-null     float64\n",
      " 3   F0semitoneFrom27.5Hz_sma3nz_percentile20.0      48 non-null     float64\n",
      " 4   F0semitoneFrom27.5Hz_sma3nz_percentile50.0      48 non-null     float64\n",
      " 5   F0semitoneFrom27.5Hz_sma3nz_percentile80.0      48 non-null     float64\n",
      " 6   F0semitoneFrom27.5Hz_sma3nz_pctlrange0-2        48 non-null     float64\n",
      " 7   F0semitoneFrom27.5Hz_sma3nz_meanRisingSlope     48 non-null     float64\n",
      " 8   F0semitoneFrom27.5Hz_sma3nz_stddevRisingSlope   48 non-null     float64\n",
      " 9   F0semitoneFrom27.5Hz_sma3nz_meanFallingSlope    48 non-null     float64\n",
      " 10  F0semitoneFrom27.5Hz_sma3nz_stddevFallingSlope  48 non-null     float64\n",
      " 11  loudness_sma3_amean                             48 non-null     float64\n",
      " 12  loudness_sma3_stddevNorm                        48 non-null     float64\n",
      " 13  loudness_sma3_percentile20.0                    48 non-null     float64\n",
      " 14  loudness_sma3_percentile50.0                    48 non-null     float64\n",
      " 15  loudness_sma3_percentile80.0                    48 non-null     float64\n",
      " 16  loudness_sma3_pctlrange0-2                      48 non-null     float64\n",
      " 17  loudness_sma3_meanRisingSlope                   48 non-null     float64\n",
      " 18  loudness_sma3_stddevRisingSlope                 48 non-null     float64\n",
      " 19  loudness_sma3_meanFallingSlope                  48 non-null     float64\n",
      " 20  loudness_sma3_stddevFallingSlope                48 non-null     float64\n",
      " 21  spectralFlux_sma3_amean                         48 non-null     float64\n",
      " 22  spectralFlux_sma3_stddevNorm                    48 non-null     float64\n",
      " 23  mfcc1_sma3_amean                                48 non-null     float64\n",
      " 24  mfcc1_sma3_stddevNorm                           48 non-null     float64\n",
      " 25  mfcc2_sma3_amean                                48 non-null     float64\n",
      " 26  mfcc2_sma3_stddevNorm                           48 non-null     float64\n",
      " 27  mfcc3_sma3_amean                                48 non-null     float64\n",
      " 28  mfcc3_sma3_stddevNorm                           48 non-null     float64\n",
      " 29  mfcc4_sma3_amean                                48 non-null     float64\n",
      " 30  mfcc4_sma3_stddevNorm                           48 non-null     float64\n",
      " 31  jitterLocal_sma3nz_amean                        48 non-null     float64\n",
      " 32  jitterLocal_sma3nz_stddevNorm                   48 non-null     float64\n",
      " 33  shimmerLocaldB_sma3nz_amean                     48 non-null     float64\n",
      " 34  shimmerLocaldB_sma3nz_stddevNorm                48 non-null     float64\n",
      " 35  HNRdBACF_sma3nz_amean                           48 non-null     float64\n",
      " 36  HNRdBACF_sma3nz_stddevNorm                      48 non-null     float64\n",
      " 37  logRelF0-H1-H2_sma3nz_amean                     48 non-null     float64\n",
      " 38  logRelF0-H1-H2_sma3nz_stddevNorm                48 non-null     float64\n",
      " 39  logRelF0-H1-A3_sma3nz_amean                     48 non-null     float64\n",
      " 40  logRelF0-H1-A3_sma3nz_stddevNorm                48 non-null     float64\n",
      " 41  F1frequency_sma3nz_amean                        48 non-null     float64\n",
      " 42  F1frequency_sma3nz_stddevNorm                   48 non-null     float64\n",
      " 43  F1bandwidth_sma3nz_amean                        48 non-null     float64\n",
      " 44  F1bandwidth_sma3nz_stddevNorm                   48 non-null     float64\n",
      " 45  F1amplitudeLogRelF0_sma3nz_amean                48 non-null     float64\n",
      " 46  F1amplitudeLogRelF0_sma3nz_stddevNorm           48 non-null     float64\n",
      " 47  F2frequency_sma3nz_amean                        48 non-null     float64\n",
      " 48  F2frequency_sma3nz_stddevNorm                   48 non-null     float64\n",
      " 49  F2bandwidth_sma3nz_amean                        48 non-null     float64\n",
      " 50  F2bandwidth_sma3nz_stddevNorm                   48 non-null     float64\n",
      " 51  F2amplitudeLogRelF0_sma3nz_amean                48 non-null     float64\n",
      " 52  F2amplitudeLogRelF0_sma3nz_stddevNorm           48 non-null     float64\n",
      " 53  F3frequency_sma3nz_amean                        48 non-null     float64\n",
      " 54  F3frequency_sma3nz_stddevNorm                   48 non-null     float64\n",
      " 55  F3bandwidth_sma3nz_amean                        48 non-null     float64\n",
      " 56  F3bandwidth_sma3nz_stddevNorm                   48 non-null     float64\n",
      " 57  F3amplitudeLogRelF0_sma3nz_amean                48 non-null     float64\n",
      " 58  F3amplitudeLogRelF0_sma3nz_stddevNorm           48 non-null     float64\n",
      " 59  alphaRatioV_sma3nz_amean                        48 non-null     float64\n",
      " 60  alphaRatioV_sma3nz_stddevNorm                   48 non-null     float64\n",
      " 61  hammarbergIndexV_sma3nz_amean                   48 non-null     float64\n",
      " 62  hammarbergIndexV_sma3nz_stddevNorm              48 non-null     float64\n",
      " 63  slopeV0-500_sma3nz_amean                        48 non-null     float64\n",
      " 64  slopeV0-500_sma3nz_stddevNorm                   48 non-null     float64\n",
      " 65  slopeV500-1500_sma3nz_amean                     48 non-null     float64\n",
      " 66  slopeV500-1500_sma3nz_stddevNorm                48 non-null     float64\n",
      " 67  spectralFluxV_sma3nz_amean                      48 non-null     float64\n",
      " 68  spectralFluxV_sma3nz_stddevNorm                 48 non-null     float64\n",
      " 69  mfcc1V_sma3nz_amean                             48 non-null     float64\n",
      " 70  mfcc1V_sma3nz_stddevNorm                        48 non-null     float64\n",
      " 71  mfcc2V_sma3nz_amean                             48 non-null     float64\n",
      " 72  mfcc2V_sma3nz_stddevNorm                        48 non-null     float64\n",
      " 73  mfcc3V_sma3nz_amean                             48 non-null     float64\n",
      " 74  mfcc3V_sma3nz_stddevNorm                        48 non-null     float64\n",
      " 75  mfcc4V_sma3nz_amean                             48 non-null     float64\n",
      " 76  mfcc4V_sma3nz_stddevNorm                        48 non-null     float64\n",
      " 77  alphaRatioUV_sma3nz_amean                       48 non-null     float64\n",
      " 78  hammarbergIndexUV_sma3nz_amean                  48 non-null     float64\n",
      " 79  slopeUV0-500_sma3nz_amean                       48 non-null     float64\n",
      " 80  slopeUV500-1500_sma3nz_amean                    48 non-null     float64\n",
      " 81  spectralFluxUV_sma3nz_amean                     48 non-null     float64\n",
      " 82  loudnessPeaksPerSec                             48 non-null     float64\n",
      " 83  VoicedSegmentsPerSec                            48 non-null     float64\n",
      " 84  MeanVoicedSegmentLengthSec                      48 non-null     float64\n",
      " 85  StddevVoicedSegmentLengthSec                    48 non-null     float64\n",
      " 86  MeanUnvoicedSegmentLength                       48 non-null     float64\n",
      " 87  StddevUnvoicedSegmentLength                     48 non-null     float64\n",
      " 88  equivalentSoundLevel_dBp                        48 non-null     float64\n",
      " 89  id                                              48 non-null     object \n",
      " 90  age                                             48 non-null     int64  \n",
      " 91  gender                                          48 non-null     int64  \n",
      " 92  diagnosis                                       48 non-null     int64  \n",
      " 93  mmse                                            48 non-null     int64  \n",
      "dtypes: float64(88), int64(5), object(1)\n",
      "memory usage: 35.4+ KB\n"
     ]
    }
   ],
   "source": [
    "test.info()"
   ]
  },
  {
   "cell_type": "code",
   "execution_count": 10,
   "id": "898cb217",
   "metadata": {},
   "outputs": [],
   "source": [
    "# preprocessing\n",
    "features = [\"F2frequency_sma3nz_amean\", \n",
    "             \"HNRdBACF_sma3nz_amean\", \n",
    "             \"F0semitoneFrom27.5Hz_sma3nz_percentile80.0\", \n",
    "             \"F0semitoneFrom27.5Hz_sma3nz_amean\",\n",
    "             \"F1frequency_sma3nz_amean\",\n",
    "             \"gender\", \"diagnosis\"]\n",
    "\n",
    "train['gender'] = train['gender'].replace(['female', 'male'], [1, 0])\n",
    "\n",
    "train_df = train[features]\n",
    "test_df = test[features]"
   ]
  },
  {
   "cell_type": "code",
   "execution_count": 15,
   "id": "8515620c",
   "metadata": {},
   "outputs": [],
   "source": [
    "# function for calculating accuracy, sensitivity and specificity\n",
    "\n",
    "def classification_results(y_true, y_pred):\n",
    "    print(skm.confusion_matrix(y_true, y_pred))\n",
    "    tn, fp, fn, tp = skm.confusion_matrix(y_true, y_pred).ravel()\n",
    "    specificity = tn / (tn + fp)\n",
    "    sensitivity = tp / (tp + fn)\n",
    "    accuracy = skm.accuracy_score(y_pred=y_pred, y_true=y_true)\n",
    "    print('Accuracy: ', accuracy)\n",
    "    print('Sensitivity: ', sensitivity)\n",
    "    print('Specificity: ', specificity)"
   ]
  },
  {
   "cell_type": "code",
   "execution_count": 16,
   "id": "4ab296d7",
   "metadata": {},
   "outputs": [],
   "source": [
    "# function for evaluating during CV, full train and test datasets\n",
    "\n",
    "def evaluate_model(model, data_x, data_y, X_test, y_test, k=5):\n",
    "    '''returns trained classifier'''\n",
    "    k_fold = KFold(k, shuffle=True, random_state=1)\n",
    "\n",
    "    predicted_targets = np.array([])\n",
    "    actual_targets = np.array([])\n",
    "    \n",
    "    display(Markdown(\"#### Results of k-fold CV on training set\"))\n",
    "    for train_ix, test_ix in k_fold.split(data_x):\n",
    "        train_x, train_y, test_x, test_y = data_x.iloc[train_ix], data_y.iloc[train_ix], data_x.iloc[test_ix], data_y.iloc[test_ix]\n",
    "\n",
    "        # Fit the classifier\n",
    "        classifier = model.fit(train_x, train_y)\n",
    "\n",
    "        # Predict the labels of the test set samples\n",
    "        predicted_labels_fold = classifier.predict(test_x)\n",
    "\n",
    "        predicted_targets = np.append(predicted_targets, predicted_labels_fold)\n",
    "        actual_targets = np.append(actual_targets, test_y)\n",
    "        \n",
    "        classification_results(test_y, predicted_labels_fold)\n",
    "        print('')\n",
    "        \n",
    "    display(Markdown(\"#### Results on the whole training set\"))\n",
    "    classification_results(actual_targets, predicted_targets)\n",
    "    \n",
    "    \n",
    "    display(Markdown(\"#### Results on test set\"))\n",
    "    classification_results(y_test, classifier.predict(X_test))\n",
    "    \n",
    "    return classifier\n",
    "        \n",
    "    "
   ]
  },
  {
   "cell_type": "markdown",
   "id": "22885091",
   "metadata": {},
   "source": [
    "### Logistic regression model"
   ]
  },
  {
   "cell_type": "code",
   "execution_count": 17,
   "id": "5e1f7291",
   "metadata": {},
   "outputs": [],
   "source": [
    "features_lr = [\"F0semitoneFrom27.5Hz_sma3nz_percentile80.0\", \n",
    "                 \"F1frequency_sma3nz_amean\", \n",
    "                 \"HNRdBACF_sma3nz_amean\", \n",
    "                 \"F0semitoneFrom27.5Hz_sma3nz_amean\",\n",
    "                 \"gender\"]\n",
    "\n",
    "Y_train = train_df[\"diagnosis\"]\n",
    "X_train = train_df[features_lr]\n",
    "\n",
    "Y_test = test_df[\"diagnosis\"]\n",
    "X_test = test_df[features_lr]\n"
   ]
  },
  {
   "cell_type": "code",
   "execution_count": 18,
   "id": "2141ade7",
   "metadata": {},
   "outputs": [
    {
     "data": {
      "text/markdown": [
       "#### Results of k-fold CV on training set"
      ],
      "text/plain": [
       "<IPython.core.display.Markdown object>"
      ]
     },
     "metadata": {},
     "output_type": "display_data"
    },
    {
     "name": "stdout",
     "output_type": "stream",
     "text": [
      "[[ 2  2]\n",
      " [ 5 13]]\n",
      "Accuracy:  0.6818181818181818\n",
      "Sensitivity:  0.7222222222222222\n",
      "Specificity:  0.5\n",
      "\n",
      "[[13  1]\n",
      " [ 5  3]]\n",
      "Accuracy:  0.7272727272727273\n",
      "Sensitivity:  0.375\n",
      "Specificity:  0.9285714285714286\n",
      "\n",
      "[[7 4]\n",
      " [2 9]]\n",
      "Accuracy:  0.7272727272727273\n",
      "Sensitivity:  0.8181818181818182\n",
      "Specificity:  0.6363636363636364\n",
      "\n",
      "[[7 4]\n",
      " [4 6]]\n",
      "Accuracy:  0.6190476190476191\n",
      "Sensitivity:  0.6\n",
      "Specificity:  0.6363636363636364\n",
      "\n",
      "[[8 6]\n",
      " [3 4]]\n",
      "Accuracy:  0.5714285714285714\n",
      "Sensitivity:  0.5714285714285714\n",
      "Specificity:  0.5714285714285714\n",
      "\n"
     ]
    },
    {
     "data": {
      "text/markdown": [
       "#### Results on the whole training set"
      ],
      "text/plain": [
       "<IPython.core.display.Markdown object>"
      ]
     },
     "metadata": {},
     "output_type": "display_data"
    },
    {
     "name": "stdout",
     "output_type": "stream",
     "text": [
      "[[37 17]\n",
      " [19 35]]\n",
      "Accuracy:  0.6666666666666666\n",
      "Sensitivity:  0.6481481481481481\n",
      "Specificity:  0.6851851851851852\n"
     ]
    },
    {
     "data": {
      "text/markdown": [
       "#### Results on test set"
      ],
      "text/plain": [
       "<IPython.core.display.Markdown object>"
      ]
     },
     "metadata": {},
     "output_type": "display_data"
    },
    {
     "name": "stdout",
     "output_type": "stream",
     "text": [
      "[[16  8]\n",
      " [ 7 17]]\n",
      "Accuracy:  0.6875\n",
      "Sensitivity:  0.7083333333333334\n",
      "Specificity:  0.6666666666666666\n"
     ]
    }
   ],
   "source": [
    "model_lr = make_pipeline(LogisticRegression(solver='liblinear', penalty = 'l2', class_weight = 'balanced'))\n",
    "\n",
    "model_lr = evaluate_model(model_lr, X_train, Y_train, X_test, Y_test)"
   ]
  },
  {
   "cell_type": "markdown",
   "id": "a37b740f",
   "metadata": {},
   "source": [
    "### Random forest model"
   ]
  },
  {
   "cell_type": "code",
   "execution_count": 19,
   "id": "6d09dd9c",
   "metadata": {},
   "outputs": [],
   "source": [
    "features_rf = [\"F0semitoneFrom27.5Hz_sma3nz_percentile80.0\", \n",
    "                 \"F1frequency_sma3nz_amean\", \n",
    "                 \"HNRdBACF_sma3nz_amean\", \n",
    "                 \"F0semitoneFrom27.5Hz_sma3nz_amean\",\n",
    "                 \"gender\"]\n",
    "\n",
    "Y_train = train_df[\"diagnosis\"]\n",
    "X_train = train_df[features_rf]\n",
    "\n",
    "Y_test = test_df[\"diagnosis\"]\n",
    "X_test = test_df[features_rf]"
   ]
  },
  {
   "cell_type": "code",
   "execution_count": 20,
   "id": "f20ca0b5",
   "metadata": {
    "scrolled": false
   },
   "outputs": [
    {
     "data": {
      "text/markdown": [
       "#### Results of k-fold CV on training set"
      ],
      "text/plain": [
       "<IPython.core.display.Markdown object>"
      ]
     },
     "metadata": {},
     "output_type": "display_data"
    },
    {
     "name": "stdout",
     "output_type": "stream",
     "text": [
      "[[ 1  3]\n",
      " [ 6 12]]\n",
      "Accuracy:  0.5909090909090909\n",
      "Sensitivity:  0.6666666666666666\n",
      "Specificity:  0.25\n",
      "\n",
      "[[11  3]\n",
      " [ 4  4]]\n",
      "Accuracy:  0.6818181818181818\n",
      "Sensitivity:  0.5\n",
      "Specificity:  0.7857142857142857\n",
      "\n",
      "[[6 5]\n",
      " [7 4]]\n",
      "Accuracy:  0.45454545454545453\n",
      "Sensitivity:  0.36363636363636365\n",
      "Specificity:  0.5454545454545454\n",
      "\n",
      "[[9 2]\n",
      " [4 6]]\n",
      "Accuracy:  0.7142857142857143\n",
      "Sensitivity:  0.6\n",
      "Specificity:  0.8181818181818182\n",
      "\n",
      "[[8 6]\n",
      " [2 5]]\n",
      "Accuracy:  0.6190476190476191\n",
      "Sensitivity:  0.7142857142857143\n",
      "Specificity:  0.5714285714285714\n",
      "\n"
     ]
    },
    {
     "data": {
      "text/markdown": [
       "#### Results on the whole training set"
      ],
      "text/plain": [
       "<IPython.core.display.Markdown object>"
      ]
     },
     "metadata": {},
     "output_type": "display_data"
    },
    {
     "name": "stdout",
     "output_type": "stream",
     "text": [
      "[[35 19]\n",
      " [23 31]]\n",
      "Accuracy:  0.6111111111111112\n",
      "Sensitivity:  0.5740740740740741\n",
      "Specificity:  0.6481481481481481\n"
     ]
    },
    {
     "data": {
      "text/markdown": [
       "#### Results on test set"
      ],
      "text/plain": [
       "<IPython.core.display.Markdown object>"
      ]
     },
     "metadata": {},
     "output_type": "display_data"
    },
    {
     "name": "stdout",
     "output_type": "stream",
     "text": [
      "[[16  8]\n",
      " [ 8 16]]\n",
      "Accuracy:  0.6666666666666666\n",
      "Sensitivity:  0.6666666666666666\n",
      "Specificity:  0.6666666666666666\n"
     ]
    }
   ],
   "source": [
    "model_rf = make_pipeline(MinMaxScaler(), RandomForestClassifier(n_estimators=200, min_samples_leaf=20,\n",
    "                                                               class_weight='balanced'))\n",
    "\n",
    "model_rf = evaluate_model(model_rf, X_train, Y_train, X_test, Y_test)"
   ]
  },
  {
   "cell_type": "markdown",
   "id": "6dae4016",
   "metadata": {},
   "source": [
    "### kNN model"
   ]
  },
  {
   "cell_type": "code",
   "execution_count": 21,
   "id": "d7f01da5",
   "metadata": {},
   "outputs": [],
   "source": [
    "features_knn = [\"F0semitoneFrom27.5Hz_sma3nz_percentile80.0\", \n",
    "                 \"HNRdBACF_sma3nz_amean\", \n",
    "                 \"F0semitoneFrom27.5Hz_sma3nz_amean\",\n",
    "                 \"gender\"]\n",
    "\n",
    "Y_train = train_df[\"diagnosis\"]\n",
    "X_train = train_df[features_knn]\n",
    "\n",
    "Y_test = test_df[\"diagnosis\"]\n",
    "X_test = test_df[features_knn]"
   ]
  },
  {
   "cell_type": "code",
   "execution_count": 22,
   "id": "ae51fb99",
   "metadata": {},
   "outputs": [
    {
     "data": {
      "text/markdown": [
       "#### Results of k-fold CV on training set"
      ],
      "text/plain": [
       "<IPython.core.display.Markdown object>"
      ]
     },
     "metadata": {},
     "output_type": "display_data"
    },
    {
     "name": "stdout",
     "output_type": "stream",
     "text": [
      "[[ 4  0]\n",
      " [ 8 10]]\n",
      "Accuracy:  0.6363636363636364\n",
      "Sensitivity:  0.5555555555555556\n",
      "Specificity:  1.0\n",
      "\n",
      "[[5 9]\n",
      " [3 5]]\n",
      "Accuracy:  0.45454545454545453\n",
      "Sensitivity:  0.625\n",
      "Specificity:  0.35714285714285715\n",
      "\n",
      "[[7 4]\n",
      " [6 5]]\n",
      "Accuracy:  0.5454545454545454\n",
      "Sensitivity:  0.45454545454545453\n",
      "Specificity:  0.6363636363636364\n",
      "\n",
      "[[3 8]\n",
      " [4 6]]\n",
      "Accuracy:  0.42857142857142855\n",
      "Sensitivity:  0.6\n",
      "Specificity:  0.2727272727272727\n",
      "\n",
      "[[5 9]\n",
      " [1 6]]\n",
      "Accuracy:  0.5238095238095238\n",
      "Sensitivity:  0.8571428571428571\n",
      "Specificity:  0.35714285714285715\n",
      "\n"
     ]
    },
    {
     "data": {
      "text/markdown": [
       "#### Results on the whole training set"
      ],
      "text/plain": [
       "<IPython.core.display.Markdown object>"
      ]
     },
     "metadata": {},
     "output_type": "display_data"
    },
    {
     "name": "stdout",
     "output_type": "stream",
     "text": [
      "[[24 30]\n",
      " [22 32]]\n",
      "Accuracy:  0.5185185185185185\n",
      "Sensitivity:  0.5925925925925926\n",
      "Specificity:  0.4444444444444444\n"
     ]
    },
    {
     "data": {
      "text/markdown": [
       "#### Results on test set"
      ],
      "text/plain": [
       "<IPython.core.display.Markdown object>"
      ]
     },
     "metadata": {},
     "output_type": "display_data"
    },
    {
     "name": "stdout",
     "output_type": "stream",
     "text": [
      "[[14 10]\n",
      " [ 5 19]]\n",
      "Accuracy:  0.6875\n",
      "Sensitivity:  0.7916666666666666\n",
      "Specificity:  0.5833333333333334\n"
     ]
    }
   ],
   "source": [
    "model_knn = make_pipeline(MinMaxScaler(),\n",
    "                      KNeighborsClassifier(n_neighbors=3))\n",
    "\n",
    "model_knn = evaluate_model(model_knn, X_train, Y_train, X_test, Y_test)"
   ]
  },
  {
   "cell_type": "markdown",
   "id": "767938f8",
   "metadata": {},
   "source": [
    "### Radial based SVM"
   ]
  },
  {
   "cell_type": "code",
   "execution_count": 23,
   "id": "e7bdc858",
   "metadata": {},
   "outputs": [],
   "source": [
    "features_svm = [\"F2frequency_sma3nz_amean\", \n",
    "                    \"F0semitoneFrom27.5Hz_sma3nz_percentile80.0\", \n",
    "                    \"F0semitoneFrom27.5Hz_sma3nz_amean\",\n",
    "                     \"gender\"]\n",
    "\n",
    "Y_train = train_df[\"diagnosis\"]\n",
    "X_train = train_df[features_svm]\n",
    "\n",
    "Y_test = test_df[\"diagnosis\"]\n",
    "X_test = test_df[features_svm]"
   ]
  },
  {
   "cell_type": "code",
   "execution_count": 24,
   "id": "2d63be20",
   "metadata": {},
   "outputs": [
    {
     "data": {
      "text/markdown": [
       "#### Results of k-fold CV on training set"
      ],
      "text/plain": [
       "<IPython.core.display.Markdown object>"
      ]
     },
     "metadata": {},
     "output_type": "display_data"
    },
    {
     "name": "stdout",
     "output_type": "stream",
     "text": [
      "[[ 4  0]\n",
      " [ 8 10]]\n",
      "Accuracy:  0.6363636363636364\n",
      "Sensitivity:  0.5555555555555556\n",
      "Specificity:  1.0\n",
      "\n",
      "[[9 5]\n",
      " [1 7]]\n",
      "Accuracy:  0.7272727272727273\n",
      "Sensitivity:  0.875\n",
      "Specificity:  0.6428571428571429\n",
      "\n",
      "[[5 6]\n",
      " [5 6]]\n",
      "Accuracy:  0.5\n",
      "Sensitivity:  0.5454545454545454\n",
      "Specificity:  0.45454545454545453\n",
      "\n",
      "[[6 5]\n",
      " [1 9]]\n",
      "Accuracy:  0.7142857142857143\n",
      "Sensitivity:  0.9\n",
      "Specificity:  0.5454545454545454\n",
      "\n",
      "[[9 5]\n",
      " [2 5]]\n",
      "Accuracy:  0.6666666666666666\n",
      "Sensitivity:  0.7142857142857143\n",
      "Specificity:  0.6428571428571429\n",
      "\n"
     ]
    },
    {
     "data": {
      "text/markdown": [
       "#### Results on the whole training set"
      ],
      "text/plain": [
       "<IPython.core.display.Markdown object>"
      ]
     },
     "metadata": {},
     "output_type": "display_data"
    },
    {
     "name": "stdout",
     "output_type": "stream",
     "text": [
      "[[33 21]\n",
      " [17 37]]\n",
      "Accuracy:  0.6481481481481481\n",
      "Sensitivity:  0.6851851851851852\n",
      "Specificity:  0.6111111111111112\n"
     ]
    },
    {
     "data": {
      "text/markdown": [
       "#### Results on test set"
      ],
      "text/plain": [
       "<IPython.core.display.Markdown object>"
      ]
     },
     "metadata": {},
     "output_type": "display_data"
    },
    {
     "name": "stdout",
     "output_type": "stream",
     "text": [
      "[[18  6]\n",
      " [ 8 16]]\n",
      "Accuracy:  0.7083333333333334\n",
      "Sensitivity:  0.6666666666666666\n",
      "Specificity:  0.75\n"
     ]
    }
   ],
   "source": [
    "model_svm = make_pipeline(MinMaxScaler(), SVC(kernel = 'rbf', gamma = 4.0, C = 3.0))\n",
    "\n",
    "model_svm = evaluate_model(model_svm, X_train, Y_train, X_test, Y_test)"
   ]
  },
  {
   "cell_type": "markdown",
   "id": "c6b841ec",
   "metadata": {},
   "source": [
    "#### Results on the test set without debiasing\n",
    "\n",
    "| Model       | Logistic regression | Random forest | kNN    |  SVM   |  \n",
    "|------       |------               | ------        |------  | ------ |\n",
    "| Accuracy    |  0.6875             |  0.666        | 0.6875 | 0.7083 | \n",
    "| Sensitivity |  0.7083             |  0.666        | 0.7916 | 0.6666 | \n",
    "| Specificity |  0.6666             |  0.666        | 0.5833 | 0.75   | "
   ]
  },
  {
   "cell_type": "markdown",
   "id": "b17fc9fc",
   "metadata": {},
   "source": [
    "## Applying debiasing techniques\n",
    "\n",
    "### in-processing algorithms"
   ]
  },
  {
   "cell_type": "code",
   "execution_count": 30,
   "id": "c696f04a",
   "metadata": {},
   "outputs": [],
   "source": [
    "# AIF360 Metrics\n",
    "from aif360.sklearn.metrics import statistical_parity_difference, equal_opportunity_difference, average_odds_difference\n",
    "from aif360.sklearn.metrics import disparate_impact_ratio, theil_index\n",
    "\n",
    "# AIF360 in-processing algorithms\n",
    "\n",
    "from aif360.sklearn.inprocessing import ExponentiatedGradientReduction\n",
    "from aif360.sklearn.inprocessing import GridSearchReduction\n",
    "\n",
    "# AIF360 dataset utils\n",
    "from aif360.sklearn.datasets import standardize_dataset\n",
    "\n",
    "# import of fairlearn\n",
    "import fairlearn.reductions as red\n",
    "from fairlearn.metrics import true_negative_rate\n",
    "import fairlearn.metrics as fm"
   ]
  },
  {
   "cell_type": "code",
   "execution_count": 47,
   "id": "aca6e7a7",
   "metadata": {},
   "outputs": [],
   "source": [
    "def get_values_of_aif_metrics(y_test, y_pred):\n",
    "    print('Statistical parity difference: ', statistical_parity_difference(y_test, y_pred))\n",
    "    print('Equal opportunity difference: ', equal_opportunity_difference(y_test, y_pred))\n",
    "    print('Average odds difference: ', average_odds_difference(y_test, y_pred))\n",
    "    print('Disparate impact ratio: ', disparate_impact_ratio(y_test, y_pred))\n",
    "    print('Theil index: ', theil_index(y_pred))"
   ]
  },
  {
   "cell_type": "code",
   "execution_count": 48,
   "id": "83034dca",
   "metadata": {},
   "outputs": [],
   "source": [
    "# creating aif360 dataset\n",
    "def create_dataset(train_df, test_df, target, prot_attr_cols, usecols):\n",
    "    X_train_aif, y_train_aif = standardize_dataset(df = train_df, prot_attr=prot_attr_cols, \n",
    "                                               target = target, usecols=usecols)\n",
    "    X_test_aif, y_test_aif = standardize_dataset(df = test_df, prot_attr=prot_attr_cols, target = target,\n",
    "                                            usecols=usecols)\n",
    "    return X_train_aif, y_train_aif, X_test_aif, y_test_aif"
   ]
  },
  {
   "cell_type": "code",
   "execution_count": 78,
   "id": "ce4ccc1a",
   "metadata": {},
   "outputs": [],
   "source": [
    "metrics = {\n",
    "    'accuracy': skm.accuracy_score,\n",
    "    'sensitivity': skm.recall_score,  \n",
    "    'specificity': fm.true_negative_rate       \n",
    "            }\n",
    "\n",
    "def plot_metrics(y_true, X, metrics, model, sens_feature):\n",
    "    \n",
    "    metric_frame = fm.MetricFrame(metrics=metrics,\n",
    "                           y_true=y_true,\n",
    "                           y_pred=model.predict(X),\n",
    "                           sensitive_features=X[sens_feature])\n",
    "\n",
    "    metric_frame.by_group.plot.bar(\n",
    "        subplots=True,\n",
    "        layout=[1, 3],\n",
    "        legend=False,\n",
    "        figsize=[16, 5],\n",
    "        ylim = [0, 1],\n",
    "        title=\"Show all metrics\")\n",
    "    \n",
    "    print(metric_frame.by_group)"
   ]
  },
  {
   "cell_type": "code",
   "execution_count": 53,
   "id": "e5461db6",
   "metadata": {},
   "outputs": [
    {
     "data": {
      "text/plain": [
       "['gender']"
      ]
     },
     "execution_count": 53,
     "metadata": {},
     "output_type": "execute_result"
    }
   ],
   "source": [
    "prot_attr_cols = [colname for colname in train_df if \"gender\" in colname]\n",
    "prot_attr_cols"
   ]
  },
  {
   "cell_type": "markdown",
   "id": "27dd7254",
   "metadata": {},
   "source": [
    "### Logistic regression"
   ]
  },
  {
   "cell_type": "code",
   "execution_count": 104,
   "id": "a1dea678",
   "metadata": {},
   "outputs": [],
   "source": [
    "X_train_aif, y_train_aif, X_test_aif, y_test_aif = create_dataset(train_df, test_df, 'diagnosis', prot_attr_cols, features_lr)"
   ]
  },
  {
   "cell_type": "code",
   "execution_count": 107,
   "id": "acfff24f",
   "metadata": {},
   "outputs": [
    {
     "name": "stdout",
     "output_type": "stream",
     "text": [
      "Statistical parity difference:  0.12937062937062938\n",
      "Equal opportunity difference:  0.2027972027972028\n",
      "Average odds difference:  0.12937062937062938\n",
      "Disparate impact ratio:  1.2803030303030303\n",
      "Theil index:  0.6523251860396903\n",
      "\n",
      "        accuracy sensitivity specificity\n",
      "gender                                  \n",
      "0       0.727273    0.818182    0.636364\n",
      "1       0.653846    0.615385    0.692308\n",
      "\n",
      "[[16  8]\n",
      " [ 7 17]]\n",
      "Accuracy:  0.6875\n",
      "Sensitivity:  0.7083333333333334\n",
      "Specificity:  0.6666666666666666\n"
     ]
    },
    {
     "data": {
      "image/png": "[encoded data removed]",
      "text/plain": [
       "<Figure size 1152x360 with 3 Axes>"
      ]
     },
     "metadata": {
      "needs_background": "light"
     },
     "output_type": "display_data"
    }
   ],
   "source": [
    "# results for default model \n",
    "\n",
    "get_values_of_aif_metrics(y_test_aif, model_lr.predict(X_test_aif))\n",
    "print('')\n",
    "plot_metrics(y_test_aif, X_test_aif, metrics, model_lr, 'gender')\n",
    "print('')\n",
    "classification_results(y_test_aif, model_lr.predict(X_test_aif))"
   ]
  },
  {
   "cell_type": "code",
   "execution_count": 114,
   "id": "dffe8638",
   "metadata": {},
   "outputs": [
    {
     "name": "stderr",
     "output_type": "stream",
     "text": [
      "Using the level keyword in DataFrame and Series aggregations is deprecated and will be removed in a future version. Use groupby instead. df.sum(level=1) should use df.groupby(level=1).sum().\n",
      "Using the level keyword in DataFrame and Series aggregations is deprecated and will be removed in a future version. Use groupby instead. df.sum(level=1) should use df.groupby(level=1).sum().\n",
      "Using the level keyword in DataFrame and Series aggregations is deprecated and will be removed in a future version. Use groupby instead. df.sum(level=1) should use df.groupby(level=1).sum().\n",
      "Using the level keyword in DataFrame and Series aggregations is deprecated and will be removed in a future version. Use groupby instead. df.sum(level=1) should use df.groupby(level=1).sum().\n",
      "Using the level keyword in DataFrame and Series aggregations is deprecated and will be removed in a future version. Use groupby instead. df.sum(level=1) should use df.groupby(level=1).sum().\n",
      "Using the level keyword in DataFrame and Series aggregations is deprecated and will be removed in a future version. Use groupby instead. df.sum(level=1) should use df.groupby(level=1).sum().\n",
      "Using the level keyword in DataFrame and Series aggregations is deprecated and will be removed in a future version. Use groupby instead. df.sum(level=1) should use df.groupby(level=1).sum().\n",
      "Using the level keyword in DataFrame and Series aggregations is deprecated and will be removed in a future version. Use groupby instead. df.sum(level=1) should use df.groupby(level=1).sum().\n",
      "Using the level keyword in DataFrame and Series aggregations is deprecated and will be removed in a future version. Use groupby instead. df.sum(level=1) should use df.groupby(level=1).sum().\n",
      "Using the level keyword in DataFrame and Series aggregations is deprecated and will be removed in a future version. Use groupby instead. df.sum(level=1) should use df.groupby(level=1).sum().\n"
     ]
    },
    {
     "name": "stdout",
     "output_type": "stream",
     "text": [
      "Statistical parity difference:  0.07692307692307693\n",
      "Equal opportunity difference:  0.2027972027972028\n",
      "Average odds difference:  0.07692307692307693\n",
      "Disparate impact ratio:  1.1818181818181819\n",
      "Theil index:  0.7801585575495752\n",
      "\n",
      "        accuracy sensitivity specificity\n",
      "gender                                  \n",
      "0       0.818182    0.818182    0.818182\n",
      "1       0.692308    0.615385    0.769231\n",
      "\n",
      "[[19  5]\n",
      " [ 7 17]]\n",
      "Accuracy:  0.75\n",
      "Sensitivity:  0.7083333333333334\n",
      "Specificity:  0.7916666666666666\n"
     ]
    },
    {
     "data": {
      "image/png": "[encoded data removed]",
      "text/plain": [
       "<Figure size 1152x360 with 3 Axes>"
      ]
     },
     "metadata": {
      "needs_background": "light"
     },
     "output_type": "display_data"
    }
   ],
   "source": [
    "# results for debiased model \n",
    "\n",
    "model_lr_fair = red.GridSearch(LogisticRegression(solver='liblinear', penalty = 'l2', class_weight = 'balanced'),\n",
    "                               constraints=red.EqualizedOdds())\n",
    "model_lr_fair.fit(X_train_aif, y_train_aif, sensitive_features=X_train_aif['gender'])\n",
    "\n",
    "get_values_of_aif_metrics(y_test_aif, model_lr_fair.predict(X_test_aif))\n",
    "print('')\n",
    "plot_metrics(y_test_aif, X_test_aif, metrics, model_lr_fair, 'gender')\n",
    "print('')\n",
    "classification_results(y_test_aif, model_lr_fair.predict(X_test_aif))"
   ]
  },
  {
   "cell_type": "markdown",
   "id": "a58e20ce",
   "metadata": {},
   "source": [
    "### Random forest model"
   ]
  },
  {
   "cell_type": "code",
   "execution_count": 130,
   "id": "0bfba232",
   "metadata": {},
   "outputs": [
    {
     "data": {
      "text/html": [
       "<div>\n",
       "<style scoped>\n",
       "    .dataframe tbody tr th:only-of-type {\n",
       "        vertical-align: middle;\n",
       "    }\n",
       "\n",
       "    .dataframe tbody tr th {\n",
       "        vertical-align: top;\n",
       "    }\n",
       "\n",
       "    .dataframe thead th {\n",
       "        text-align: right;\n",
       "    }\n",
       "</style>\n",
       "<table border=\"1\" class=\"dataframe\">\n",
       "  <thead>\n",
       "    <tr style=\"text-align: right;\">\n",
       "      <th></th>\n",
       "      <th>F0semitoneFrom27.5Hz_sma3nz_percentile80.0</th>\n",
       "      <th>F1frequency_sma3nz_amean</th>\n",
       "      <th>HNRdBACF_sma3nz_amean</th>\n",
       "      <th>F0semitoneFrom27.5Hz_sma3nz_amean</th>\n",
       "      <th>gender</th>\n",
       "    </tr>\n",
       "  </thead>\n",
       "  <tbody>\n",
       "    <tr>\n",
       "      <th>0</th>\n",
       "      <td>0.188503</td>\n",
       "      <td>0.222967</td>\n",
       "      <td>0.472945</td>\n",
       "      <td>0.259394</td>\n",
       "      <td>0.0</td>\n",
       "    </tr>\n",
       "    <tr>\n",
       "      <th>1</th>\n",
       "      <td>0.542339</td>\n",
       "      <td>0.738224</td>\n",
       "      <td>0.737456</td>\n",
       "      <td>0.805913</td>\n",
       "      <td>1.0</td>\n",
       "    </tr>\n",
       "    <tr>\n",
       "      <th>2</th>\n",
       "      <td>0.574666</td>\n",
       "      <td>0.656978</td>\n",
       "      <td>0.729520</td>\n",
       "      <td>0.705589</td>\n",
       "      <td>1.0</td>\n",
       "    </tr>\n",
       "    <tr>\n",
       "      <th>3</th>\n",
       "      <td>0.493656</td>\n",
       "      <td>0.656813</td>\n",
       "      <td>0.669411</td>\n",
       "      <td>0.601055</td>\n",
       "      <td>1.0</td>\n",
       "    </tr>\n",
       "    <tr>\n",
       "      <th>4</th>\n",
       "      <td>0.530319</td>\n",
       "      <td>0.485011</td>\n",
       "      <td>0.763519</td>\n",
       "      <td>0.687708</td>\n",
       "      <td>1.0</td>\n",
       "    </tr>\n",
       "  </tbody>\n",
       "</table>\n",
       "</div>"
      ],
      "text/plain": [
       "   F0semitoneFrom27.5Hz_sma3nz_percentile80.0  F1frequency_sma3nz_amean  \\\n",
       "0                                    0.188503                  0.222967   \n",
       "1                                    0.542339                  0.738224   \n",
       "2                                    0.574666                  0.656978   \n",
       "3                                    0.493656                  0.656813   \n",
       "4                                    0.530319                  0.485011   \n",
       "\n",
       "   HNRdBACF_sma3nz_amean  F0semitoneFrom27.5Hz_sma3nz_amean  gender  \n",
       "0               0.472945                           0.259394     0.0  \n",
       "1               0.737456                           0.805913     1.0  \n",
       "2               0.729520                           0.705589     1.0  \n",
       "3               0.669411                           0.601055     1.0  \n",
       "4               0.763519                           0.687708     1.0  "
      ]
     },
     "execution_count": 130,
     "metadata": {},
     "output_type": "execute_result"
    }
   ],
   "source": [
    "X_train_aif, y_train_aif, X_test_aif, y_test_aif = create_dataset(train_df, test_df, 'diagnosis', prot_attr_cols, features_rf)\n",
    "\n",
    "X_train_aif = MinMaxScaler().fit_transform(X_train_aif)\n",
    "X_train_aif = pd.DataFrame(X_train_aif, columns=features_rf)\n",
    "\n",
    "X_test_aif = MinMaxScaler().fit_transform(X_test_aif)\n",
    "X_test_aif = pd.DataFrame(X_test_aif, columns=features_rf)\n",
    "\n",
    "X_train_aif.head()"
   ]
  },
  {
   "cell_type": "code",
   "execution_count": 128,
   "id": "f16c8616",
   "metadata": {},
   "outputs": [
    {
     "name": "stdout",
     "output_type": "stream",
     "text": [
      "Statistical parity difference:  0.0\n",
      "Equal opportunity difference:  0.0\n",
      "Average odds difference:  0.0\n",
      "Disparate impact ratio:  0.0\n",
      "Theil index:  nan\n",
      "\n"
     ]
    },
    {
     "name": "stderr",
     "output_type": "stream",
     "text": [
      "The ratio is ill-defined and being set to 0.0 because 'selection_rate' for privileged samples is 0.\n",
      "invalid value encountered in true_divide\n"
     ]
    },
    {
     "name": "stdout",
     "output_type": "stream",
     "text": [
      "       accuracy sensitivity specificity\n",
      "gender                                 \n",
      "0.0         0.5         0.0         1.0\n",
      "1.0         0.5         0.0         1.0\n",
      "\n",
      "[[24  0]\n",
      " [24  0]]\n",
      "Accuracy:  0.5\n",
      "Sensitivity:  0.0\n",
      "Specificity:  1.0\n"
     ]
    },
    {
     "data": {
      "image/png": "[encoded data removed]",
      "text/plain": [
       "<Figure size 1152x360 with 3 Axes>"
      ]
     },
     "metadata": {
      "needs_background": "light"
     },
     "output_type": "display_data"
    }
   ],
   "source": [
    "# results for default model \n",
    "\n",
    "get_values_of_aif_metrics(y_test_aif, model_rf.predict(X_test_aif))\n",
    "print('')\n",
    "plot_metrics(y_test_aif, X_test_aif, metrics, model_rf, 'gender')\n",
    "print('')\n",
    "classification_results(y_test_aif, model_rf.predict(X_test_aif))"
   ]
  },
  {
   "cell_type": "code",
   "execution_count": 129,
   "id": "bc3d1dd2",
   "metadata": {},
   "outputs": [
    {
     "name": "stderr",
     "output_type": "stream",
     "text": [
      "Using the level keyword in DataFrame and Series aggregations is deprecated and will be removed in a future version. Use groupby instead. df.sum(level=1) should use df.groupby(level=1).sum().\n",
      "Using the level keyword in DataFrame and Series aggregations is deprecated and will be removed in a future version. Use groupby instead. df.sum(level=1) should use df.groupby(level=1).sum().\n",
      "Using the level keyword in DataFrame and Series aggregations is deprecated and will be removed in a future version. Use groupby instead. df.sum(level=1) should use df.groupby(level=1).sum().\n",
      "Using the level keyword in DataFrame and Series aggregations is deprecated and will be removed in a future version. Use groupby instead. df.sum(level=1) should use df.groupby(level=1).sum().\n",
      "Using the level keyword in DataFrame and Series aggregations is deprecated and will be removed in a future version. Use groupby instead. df.sum(level=1) should use df.groupby(level=1).sum().\n",
      "Using the level keyword in DataFrame and Series aggregations is deprecated and will be removed in a future version. Use groupby instead. df.sum(level=1) should use df.groupby(level=1).sum().\n",
      "Using the level keyword in DataFrame and Series aggregations is deprecated and will be removed in a future version. Use groupby instead. df.sum(level=1) should use df.groupby(level=1).sum().\n",
      "Using the level keyword in DataFrame and Series aggregations is deprecated and will be removed in a future version. Use groupby instead. df.sum(level=1) should use df.groupby(level=1).sum().\n",
      "Using the level keyword in DataFrame and Series aggregations is deprecated and will be removed in a future version. Use groupby instead. df.sum(level=1) should use df.groupby(level=1).sum().\n",
      "Using the level keyword in DataFrame and Series aggregations is deprecated and will be removed in a future version. Use groupby instead. df.sum(level=1) should use df.groupby(level=1).sum().\n"
     ]
    },
    {
     "name": "stdout",
     "output_type": "stream",
     "text": [
      "Statistical parity difference:  -0.2552447552447552\n",
      "Equal opportunity difference:  -0.4475524475524475\n",
      "Average odds difference:  -0.2552447552447552\n",
      "Disparate impact ratio:  0.26262626262626265\n",
      "Theil index:  1.4733057381095203\n",
      "\n",
      "        accuracy sensitivity specificity\n",
      "gender                                  \n",
      "0.0          0.5    0.090909    0.909091\n",
      "1.0     0.692308    0.538462    0.846154\n",
      "\n",
      "[[21  3]\n",
      " [16  8]]\n",
      "Accuracy:  0.6041666666666666\n",
      "Sensitivity:  0.3333333333333333\n",
      "Specificity:  0.875\n"
     ]
    },
    {
     "data": {
      "image/png": "[encoded data removed]",
      "text/plain": [
       "<Figure size 1152x360 with 3 Axes>"
      ]
     },
     "metadata": {
      "needs_background": "light"
     },
     "output_type": "display_data"
    }
   ],
   "source": [
    "# results for debiased model \n",
    "\n",
    "model_rf_fair = red.GridSearch(RandomForestClassifier(n_estimators=200, min_samples_leaf=20,\n",
    "                                                               class_weight='balanced'),\n",
    "                               constraints=red.EqualizedOdds())\n",
    "model_rf_fair.fit(X_train_aif, y_train_aif, sensitive_features=X_train_aif['gender'])\n",
    "\n",
    "get_values_of_aif_metrics(y_test_aif, model_rf_fair.predict(X_test_aif))\n",
    "print('')\n",
    "plot_metrics(y_test_aif, X_test_aif, metrics, model_rf_fair, 'gender')\n",
    "print('')\n",
    "classification_results(y_test_aif, model_rf_fair.predict(X_test_aif))"
   ]
  },
  {
   "cell_type": "code",
   "execution_count": null,
   "id": "7d1eeb6e",
   "metadata": {},
   "outputs": [],
   "source": []
  }
 ],
 "metadata": {
  "kernelspec": {
   "display_name": "Python 3 (ipykernel)",
   "language": "python",
   "name": "python3"
  },
  "language_info": {
   "codemirror_mode": {
    "name": "ipython",
    "version": 3
   },
   "file_extension": ".py",
   "mimetype": "text/x-python",
   "name": "python",
   "nbconvert_exporter": "python",
   "pygments_lexer": "ipython3",
   "version": "3.9.7"
  }
 },
 "nbformat": 4,
 "nbformat_minor": 5
}
