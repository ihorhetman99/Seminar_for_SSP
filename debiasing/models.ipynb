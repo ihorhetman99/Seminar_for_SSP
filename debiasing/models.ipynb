{
 "cells": [
  {
   "cell_type": "markdown",
   "id": "215008ca",
   "metadata": {},
   "source": [
    "## Sample notebook for seminar project ML for SSP\n",
    "\n",
    "Pay attention to name of variables in PATH"
   ]
  },
  {
   "cell_type": "code",
   "execution_count": 1,
   "id": "8cbc3fb3",
   "metadata": {},
   "outputs": [],
   "source": [
    "%matplotlib inline\n",
    "import matplotlib.pyplot as plt\n",
    "import numpy as np\n",
    "import pandas as pd\n",
    "from IPython.display import Markdown, display\n",
    "\n",
    "# Scalers\n",
    "from sklearn.preprocessing import StandardScaler\n",
    "from sklearn.preprocessing import MinMaxScaler\n",
    "\n",
    "# Classifiers\n",
    "from sklearn.ensemble import RandomForestClassifier\n",
    "from sklearn.linear_model import LogisticRegression\n",
    "from sklearn.neighbors import KNeighborsClassifier\n",
    "from sklearn.svm import SVC\n",
    "from sklearn.pipeline import make_pipeline\n",
    "\n",
    "# Metrics\n",
    "from sklearn import metrics\n",
    "\n",
    "# Cross validation\n",
    "from sklearn.model_selection import cross_val_predict\n",
    "from sklearn.model_selection import KFold\n",
    "\n",
    "np.random.seed(123)"
   ]
  },
  {
   "cell_type": "markdown",
   "id": "3527eed7",
   "metadata": {},
   "source": [
    "You will probably need to install aif360 package, so refer to this link: https://github.com/Trusted-AI/AIF360\n",
    "\n",
    "Or this: https://jakevdp.github.io/blog/2017/12/05/installing-python-packages-from-jupyter/\n",
    "\n",
    "Use this: https://anaconda.org/conda-forge/aif360 or https://github.com/conda-forge/aif360-feedstock if previous doesn't work\n",
    "\n",
    "\n",
    "UPD: it worked using only `pip`\n",
    "\n",
    "UPD: you will probably need to install fairlearn package `pip install fairlearn`"
   ]
  },
  {
   "cell_type": "markdown",
   "id": "5f2b963c",
   "metadata": {},
   "source": [
    "  "
   ]
  },
  {
   "cell_type": "code",
   "execution_count": 2,
   "id": "5030f384",
   "metadata": {},
   "outputs": [],
   "source": [
    "# Datapathes\n",
    "\n",
    "TRAIN_DATAPATH = r'D:\\Uni\\SS 2022\\Seminar ML for SSP\\Debiasing_Clinical_Data\\Data\\train\\functionals_train_all.csv'\n",
    "TEST_DATAPATH = r'D:\\Uni\\SS 2022\\Seminar ML for SSP\\Debiasing_Clinical_Data\\Data\\test\\functionals_test_all.csv'"
   ]
  },
  {
   "cell_type": "code",
   "execution_count": 3,
   "id": "9d674678",
   "metadata": {},
   "outputs": [],
   "source": [
    "# reading data\n",
    "\n",
    "train = pd.read_csv(TRAIN_DATAPATH)\n",
    "test = pd.read_csv(TEST_DATAPATH)"
   ]
  },
  {
   "cell_type": "code",
   "execution_count": 4,
   "id": "4d48bfac",
   "metadata": {},
   "outputs": [
    {
     "data": {
      "text/html": [
       "<div>\n",
       "<style scoped>\n",
       "    .dataframe tbody tr th:only-of-type {\n",
       "        vertical-align: middle;\n",
       "    }\n",
       "\n",
       "    .dataframe tbody tr th {\n",
       "        vertical-align: top;\n",
       "    }\n",
       "\n",
       "    .dataframe thead th {\n",
       "        text-align: right;\n",
       "    }\n",
       "</style>\n",
       "<table border=\"1\" class=\"dataframe\">\n",
       "  <thead>\n",
       "    <tr style=\"text-align: right;\">\n",
       "      <th></th>\n",
       "      <th>Unnamed: 0</th>\n",
       "      <th>id</th>\n",
       "      <th>age</th>\n",
       "      <th>gender</th>\n",
       "      <th>mmse</th>\n",
       "      <th>diagnosis</th>\n",
       "      <th>F0semitoneFrom27.5Hz_sma3nz_amean</th>\n",
       "      <th>F0semitoneFrom27.5Hz_sma3nz_stddevNorm</th>\n",
       "      <th>F0semitoneFrom27.5Hz_sma3nz_percentile20.0</th>\n",
       "      <th>F0semitoneFrom27.5Hz_sma3nz_percentile50.0</th>\n",
       "      <th>...</th>\n",
       "      <th>slopeUV0-500_sma3nz_amean</th>\n",
       "      <th>slopeUV500-1500_sma3nz_amean</th>\n",
       "      <th>spectralFluxUV_sma3nz_amean</th>\n",
       "      <th>loudnessPeaksPerSec</th>\n",
       "      <th>VoicedSegmentsPerSec</th>\n",
       "      <th>MeanVoicedSegmentLengthSec</th>\n",
       "      <th>StddevVoicedSegmentLengthSec</th>\n",
       "      <th>MeanUnvoicedSegmentLength</th>\n",
       "      <th>StddevUnvoicedSegmentLength</th>\n",
       "      <th>equivalentSoundLevel_dBp</th>\n",
       "    </tr>\n",
       "  </thead>\n",
       "  <tbody>\n",
       "    <tr>\n",
       "      <th>0</th>\n",
       "      <td>0</td>\n",
       "      <td>S001</td>\n",
       "      <td>74</td>\n",
       "      <td>male</td>\n",
       "      <td>NA</td>\n",
       "      <td>0</td>\n",
       "      <td>26.158813</td>\n",
       "      <td>0.256494</td>\n",
       "      <td>23.504830</td>\n",
       "      <td>25.390327</td>\n",
       "      <td>...</td>\n",
       "      <td>0.033982</td>\n",
       "      <td>-0.007878</td>\n",
       "      <td>0.025659</td>\n",
       "      <td>2.082161</td>\n",
       "      <td>1.610542</td>\n",
       "      <td>0.398252</td>\n",
       "      <td>0.395510</td>\n",
       "      <td>0.250614</td>\n",
       "      <td>0.467176</td>\n",
       "      <td>-29.529222</td>\n",
       "    </tr>\n",
       "    <tr>\n",
       "      <th>1</th>\n",
       "      <td>1</td>\n",
       "      <td>S002</td>\n",
       "      <td>62</td>\n",
       "      <td>female</td>\n",
       "      <td>30</td>\n",
       "      <td>0</td>\n",
       "      <td>35.038100</td>\n",
       "      <td>0.222455</td>\n",
       "      <td>32.094150</td>\n",
       "      <td>33.338820</td>\n",
       "      <td>...</td>\n",
       "      <td>0.029004</td>\n",
       "      <td>-0.006766</td>\n",
       "      <td>0.018389</td>\n",
       "      <td>0.105116</td>\n",
       "      <td>0.666316</td>\n",
       "      <td>0.105000</td>\n",
       "      <td>0.070366</td>\n",
       "      <td>1.412162</td>\n",
       "      <td>1.798986</td>\n",
       "      <td>-43.936977</td>\n",
       "    </tr>\n",
       "    <tr>\n",
       "      <th>2</th>\n",
       "      <td>2</td>\n",
       "      <td>S003</td>\n",
       "      <td>69</td>\n",
       "      <td>female</td>\n",
       "      <td>29</td>\n",
       "      <td>0</td>\n",
       "      <td>33.408146</td>\n",
       "      <td>0.167676</td>\n",
       "      <td>30.763927</td>\n",
       "      <td>33.175510</td>\n",
       "      <td>...</td>\n",
       "      <td>0.027397</td>\n",
       "      <td>-0.006148</td>\n",
       "      <td>0.020994</td>\n",
       "      <td>2.314480</td>\n",
       "      <td>1.375416</td>\n",
       "      <td>0.455579</td>\n",
       "      <td>0.408640</td>\n",
       "      <td>0.291481</td>\n",
       "      <td>0.738442</td>\n",
       "      <td>-25.290459</td>\n",
       "    </tr>\n",
       "    <tr>\n",
       "      <th>3</th>\n",
       "      <td>3</td>\n",
       "      <td>S004</td>\n",
       "      <td>71</td>\n",
       "      <td>female</td>\n",
       "      <td>30</td>\n",
       "      <td>0</td>\n",
       "      <td>31.709782</td>\n",
       "      <td>0.220399</td>\n",
       "      <td>29.273027</td>\n",
       "      <td>31.521568</td>\n",
       "      <td>...</td>\n",
       "      <td>0.027672</td>\n",
       "      <td>-0.003709</td>\n",
       "      <td>0.038795</td>\n",
       "      <td>2.695713</td>\n",
       "      <td>1.712295</td>\n",
       "      <td>0.367209</td>\n",
       "      <td>0.345697</td>\n",
       "      <td>0.235282</td>\n",
       "      <td>0.462315</td>\n",
       "      <td>-27.811728</td>\n",
       "    </tr>\n",
       "    <tr>\n",
       "      <th>4</th>\n",
       "      <td>4</td>\n",
       "      <td>S005</td>\n",
       "      <td>74</td>\n",
       "      <td>female</td>\n",
       "      <td>30</td>\n",
       "      <td>0</td>\n",
       "      <td>33.117634</td>\n",
       "      <td>0.210555</td>\n",
       "      <td>29.349773</td>\n",
       "      <td>31.528109</td>\n",
       "      <td>...</td>\n",
       "      <td>0.021428</td>\n",
       "      <td>-0.001211</td>\n",
       "      <td>0.005301</td>\n",
       "      <td>0.405904</td>\n",
       "      <td>1.046154</td>\n",
       "      <td>0.105647</td>\n",
       "      <td>0.085536</td>\n",
       "      <td>0.800909</td>\n",
       "      <td>1.251056</td>\n",
       "      <td>-49.826008</td>\n",
       "    </tr>\n",
       "  </tbody>\n",
       "</table>\n",
       "<p>5 rows × 94 columns</p>\n",
       "</div>"
      ],
      "text/plain": [
       "   Unnamed: 0    id  age  gender mmse  diagnosis  \\\n",
       "0           0  S001   74    male   NA          0   \n",
       "1           1  S002   62  female   30          0   \n",
       "2           2  S003   69  female   29          0   \n",
       "3           3  S004   71  female   30          0   \n",
       "4           4  S005   74  female   30          0   \n",
       "\n",
       "   F0semitoneFrom27.5Hz_sma3nz_amean  F0semitoneFrom27.5Hz_sma3nz_stddevNorm  \\\n",
       "0                          26.158813                                0.256494   \n",
       "1                          35.038100                                0.222455   \n",
       "2                          33.408146                                0.167676   \n",
       "3                          31.709782                                0.220399   \n",
       "4                          33.117634                                0.210555   \n",
       "\n",
       "   F0semitoneFrom27.5Hz_sma3nz_percentile20.0  \\\n",
       "0                                   23.504830   \n",
       "1                                   32.094150   \n",
       "2                                   30.763927   \n",
       "3                                   29.273027   \n",
       "4                                   29.349773   \n",
       "\n",
       "   F0semitoneFrom27.5Hz_sma3nz_percentile50.0  ...  slopeUV0-500_sma3nz_amean  \\\n",
       "0                                   25.390327  ...                   0.033982   \n",
       "1                                   33.338820  ...                   0.029004   \n",
       "2                                   33.175510  ...                   0.027397   \n",
       "3                                   31.521568  ...                   0.027672   \n",
       "4                                   31.528109  ...                   0.021428   \n",
       "\n",
       "   slopeUV500-1500_sma3nz_amean  spectralFluxUV_sma3nz_amean  \\\n",
       "0                     -0.007878                     0.025659   \n",
       "1                     -0.006766                     0.018389   \n",
       "2                     -0.006148                     0.020994   \n",
       "3                     -0.003709                     0.038795   \n",
       "4                     -0.001211                     0.005301   \n",
       "\n",
       "   loudnessPeaksPerSec  VoicedSegmentsPerSec  MeanVoicedSegmentLengthSec  \\\n",
       "0             2.082161              1.610542                    0.398252   \n",
       "1             0.105116              0.666316                    0.105000   \n",
       "2             2.314480              1.375416                    0.455579   \n",
       "3             2.695713              1.712295                    0.367209   \n",
       "4             0.405904              1.046154                    0.105647   \n",
       "\n",
       "   StddevVoicedSegmentLengthSec  MeanUnvoicedSegmentLength  \\\n",
       "0                      0.395510                   0.250614   \n",
       "1                      0.070366                   1.412162   \n",
       "2                      0.408640                   0.291481   \n",
       "3                      0.345697                   0.235282   \n",
       "4                      0.085536                   0.800909   \n",
       "\n",
       "   StddevUnvoicedSegmentLength  equivalentSoundLevel_dBp  \n",
       "0                     0.467176                -29.529222  \n",
       "1                     1.798986                -43.936977  \n",
       "2                     0.738442                -25.290459  \n",
       "3                     0.462315                -27.811728  \n",
       "4                     1.251056                -49.826008  \n",
       "\n",
       "[5 rows x 94 columns]"
      ]
     },
     "execution_count": 4,
     "metadata": {},
     "output_type": "execute_result"
    }
   ],
   "source": [
    "train.head()"
   ]
  },
  {
   "cell_type": "code",
   "execution_count": 5,
   "id": "e4937c81",
   "metadata": {},
   "outputs": [
    {
     "data": {
      "text/html": [
       "<div>\n",
       "<style scoped>\n",
       "    .dataframe tbody tr th:only-of-type {\n",
       "        vertical-align: middle;\n",
       "    }\n",
       "\n",
       "    .dataframe tbody tr th {\n",
       "        vertical-align: top;\n",
       "    }\n",
       "\n",
       "    .dataframe thead th {\n",
       "        text-align: right;\n",
       "    }\n",
       "</style>\n",
       "<table border=\"1\" class=\"dataframe\">\n",
       "  <thead>\n",
       "    <tr style=\"text-align: right;\">\n",
       "      <th></th>\n",
       "      <th>Unnamed: 0</th>\n",
       "      <th>F0semitoneFrom27.5Hz_sma3nz_amean</th>\n",
       "      <th>F0semitoneFrom27.5Hz_sma3nz_stddevNorm</th>\n",
       "      <th>F0semitoneFrom27.5Hz_sma3nz_percentile20.0</th>\n",
       "      <th>F0semitoneFrom27.5Hz_sma3nz_percentile50.0</th>\n",
       "      <th>F0semitoneFrom27.5Hz_sma3nz_percentile80.0</th>\n",
       "      <th>F0semitoneFrom27.5Hz_sma3nz_pctlrange0-2</th>\n",
       "      <th>F0semitoneFrom27.5Hz_sma3nz_meanRisingSlope</th>\n",
       "      <th>F0semitoneFrom27.5Hz_sma3nz_stddevRisingSlope</th>\n",
       "      <th>F0semitoneFrom27.5Hz_sma3nz_meanFallingSlope</th>\n",
       "      <th>...</th>\n",
       "      <th>MeanVoicedSegmentLengthSec</th>\n",
       "      <th>StddevVoicedSegmentLengthSec</th>\n",
       "      <th>MeanUnvoicedSegmentLength</th>\n",
       "      <th>StddevUnvoicedSegmentLength</th>\n",
       "      <th>equivalentSoundLevel_dBp</th>\n",
       "      <th>id</th>\n",
       "      <th>age</th>\n",
       "      <th>gender</th>\n",
       "      <th>diagnosis</th>\n",
       "      <th>mmse</th>\n",
       "    </tr>\n",
       "  </thead>\n",
       "  <tbody>\n",
       "    <tr>\n",
       "      <th>0</th>\n",
       "      <td>0</td>\n",
       "      <td>31.396942</td>\n",
       "      <td>0.154061</td>\n",
       "      <td>30.213425</td>\n",
       "      <td>31.718218</td>\n",
       "      <td>33.796870</td>\n",
       "      <td>3.583446</td>\n",
       "      <td>177.98373</td>\n",
       "      <td>132.606320</td>\n",
       "      <td>216.58685</td>\n",
       "      <td>...</td>\n",
       "      <td>0.344048</td>\n",
       "      <td>0.342380</td>\n",
       "      <td>0.302286</td>\n",
       "      <td>0.547483</td>\n",
       "      <td>-22.975720</td>\n",
       "      <td>S160</td>\n",
       "      <td>63</td>\n",
       "      <td>1</td>\n",
       "      <td>0</td>\n",
       "      <td>28</td>\n",
       "    </tr>\n",
       "    <tr>\n",
       "      <th>1</th>\n",
       "      <td>1</td>\n",
       "      <td>29.956886</td>\n",
       "      <td>0.118317</td>\n",
       "      <td>28.500713</td>\n",
       "      <td>29.874610</td>\n",
       "      <td>31.048702</td>\n",
       "      <td>2.547989</td>\n",
       "      <td>163.17845</td>\n",
       "      <td>170.156390</td>\n",
       "      <td>146.55635</td>\n",
       "      <td>...</td>\n",
       "      <td>0.140119</td>\n",
       "      <td>0.154052</td>\n",
       "      <td>0.724940</td>\n",
       "      <td>1.355301</td>\n",
       "      <td>-57.484940</td>\n",
       "      <td>S161</td>\n",
       "      <td>55</td>\n",
       "      <td>1</td>\n",
       "      <td>0</td>\n",
       "      <td>29</td>\n",
       "    </tr>\n",
       "    <tr>\n",
       "      <th>2</th>\n",
       "      <td>2</td>\n",
       "      <td>19.633840</td>\n",
       "      <td>0.402905</td>\n",
       "      <td>13.825209</td>\n",
       "      <td>14.831374</td>\n",
       "      <td>31.307632</td>\n",
       "      <td>17.482424</td>\n",
       "      <td>209.11266</td>\n",
       "      <td>314.103150</td>\n",
       "      <td>78.85801</td>\n",
       "      <td>...</td>\n",
       "      <td>1.483673</td>\n",
       "      <td>1.388053</td>\n",
       "      <td>0.055946</td>\n",
       "      <td>0.046988</td>\n",
       "      <td>-25.289870</td>\n",
       "      <td>S162</td>\n",
       "      <td>67</td>\n",
       "      <td>1</td>\n",
       "      <td>1</td>\n",
       "      <td>24</td>\n",
       "    </tr>\n",
       "    <tr>\n",
       "      <th>3</th>\n",
       "      <td>3</td>\n",
       "      <td>28.083347</td>\n",
       "      <td>0.266278</td>\n",
       "      <td>24.390467</td>\n",
       "      <td>26.107916</td>\n",
       "      <td>29.036630</td>\n",
       "      <td>4.646164</td>\n",
       "      <td>416.17200</td>\n",
       "      <td>769.896240</td>\n",
       "      <td>225.06831</td>\n",
       "      <td>...</td>\n",
       "      <td>0.368082</td>\n",
       "      <td>0.375981</td>\n",
       "      <td>0.151600</td>\n",
       "      <td>0.184023</td>\n",
       "      <td>-29.287306</td>\n",
       "      <td>S163</td>\n",
       "      <td>71</td>\n",
       "      <td>0</td>\n",
       "      <td>0</td>\n",
       "      <td>30</td>\n",
       "    </tr>\n",
       "    <tr>\n",
       "      <th>4</th>\n",
       "      <td>4</td>\n",
       "      <td>34.369990</td>\n",
       "      <td>0.078030</td>\n",
       "      <td>33.367874</td>\n",
       "      <td>34.617860</td>\n",
       "      <td>35.442660</td>\n",
       "      <td>2.074787</td>\n",
       "      <td>58.16399</td>\n",
       "      <td>31.168308</td>\n",
       "      <td>367.91990</td>\n",
       "      <td>...</td>\n",
       "      <td>0.074000</td>\n",
       "      <td>0.034409</td>\n",
       "      <td>5.053333</td>\n",
       "      <td>6.706737</td>\n",
       "      <td>-66.156525</td>\n",
       "      <td>S164</td>\n",
       "      <td>73</td>\n",
       "      <td>1</td>\n",
       "      <td>1</td>\n",
       "      <td>21</td>\n",
       "    </tr>\n",
       "  </tbody>\n",
       "</table>\n",
       "<p>5 rows × 94 columns</p>\n",
       "</div>"
      ],
      "text/plain": [
       "   Unnamed: 0  F0semitoneFrom27.5Hz_sma3nz_amean  \\\n",
       "0           0                          31.396942   \n",
       "1           1                          29.956886   \n",
       "2           2                          19.633840   \n",
       "3           3                          28.083347   \n",
       "4           4                          34.369990   \n",
       "\n",
       "   F0semitoneFrom27.5Hz_sma3nz_stddevNorm  \\\n",
       "0                                0.154061   \n",
       "1                                0.118317   \n",
       "2                                0.402905   \n",
       "3                                0.266278   \n",
       "4                                0.078030   \n",
       "\n",
       "   F0semitoneFrom27.5Hz_sma3nz_percentile20.0  \\\n",
       "0                                   30.213425   \n",
       "1                                   28.500713   \n",
       "2                                   13.825209   \n",
       "3                                   24.390467   \n",
       "4                                   33.367874   \n",
       "\n",
       "   F0semitoneFrom27.5Hz_sma3nz_percentile50.0  \\\n",
       "0                                   31.718218   \n",
       "1                                   29.874610   \n",
       "2                                   14.831374   \n",
       "3                                   26.107916   \n",
       "4                                   34.617860   \n",
       "\n",
       "   F0semitoneFrom27.5Hz_sma3nz_percentile80.0  \\\n",
       "0                                   33.796870   \n",
       "1                                   31.048702   \n",
       "2                                   31.307632   \n",
       "3                                   29.036630   \n",
       "4                                   35.442660   \n",
       "\n",
       "   F0semitoneFrom27.5Hz_sma3nz_pctlrange0-2  \\\n",
       "0                                  3.583446   \n",
       "1                                  2.547989   \n",
       "2                                 17.482424   \n",
       "3                                  4.646164   \n",
       "4                                  2.074787   \n",
       "\n",
       "   F0semitoneFrom27.5Hz_sma3nz_meanRisingSlope  \\\n",
       "0                                    177.98373   \n",
       "1                                    163.17845   \n",
       "2                                    209.11266   \n",
       "3                                    416.17200   \n",
       "4                                     58.16399   \n",
       "\n",
       "   F0semitoneFrom27.5Hz_sma3nz_stddevRisingSlope  \\\n",
       "0                                     132.606320   \n",
       "1                                     170.156390   \n",
       "2                                     314.103150   \n",
       "3                                     769.896240   \n",
       "4                                      31.168308   \n",
       "\n",
       "   F0semitoneFrom27.5Hz_sma3nz_meanFallingSlope  ...  \\\n",
       "0                                     216.58685  ...   \n",
       "1                                     146.55635  ...   \n",
       "2                                      78.85801  ...   \n",
       "3                                     225.06831  ...   \n",
       "4                                     367.91990  ...   \n",
       "\n",
       "   MeanVoicedSegmentLengthSec  StddevVoicedSegmentLengthSec  \\\n",
       "0                    0.344048                      0.342380   \n",
       "1                    0.140119                      0.154052   \n",
       "2                    1.483673                      1.388053   \n",
       "3                    0.368082                      0.375981   \n",
       "4                    0.074000                      0.034409   \n",
       "\n",
       "   MeanUnvoicedSegmentLength  StddevUnvoicedSegmentLength  \\\n",
       "0                   0.302286                     0.547483   \n",
       "1                   0.724940                     1.355301   \n",
       "2                   0.055946                     0.046988   \n",
       "3                   0.151600                     0.184023   \n",
       "4                   5.053333                     6.706737   \n",
       "\n",
       "   equivalentSoundLevel_dBp     id  age  gender  diagnosis  mmse  \n",
       "0                -22.975720  S160    63       1          0    28  \n",
       "1                -57.484940  S161    55       1          0    29  \n",
       "2                -25.289870  S162    67       1          1    24  \n",
       "3                -29.287306  S163    71       0          0    30  \n",
       "4                -66.156525  S164    73       1          1    21  \n",
       "\n",
       "[5 rows x 94 columns]"
      ]
     },
     "execution_count": 5,
     "metadata": {},
     "output_type": "execute_result"
    }
   ],
   "source": [
    "test.head()\n",
    "\n",
    "#comment: 1 - female, 0 - male"
   ]
  },
  {
   "cell_type": "code",
   "execution_count": 6,
   "id": "1463ca21",
   "metadata": {},
   "outputs": [
    {
     "name": "stdout",
     "output_type": "stream",
     "text": [
      "<class 'pandas.core.frame.DataFrame'>\n",
      "RangeIndex: 108 entries, 0 to 107\n",
      "Data columns (total 94 columns):\n",
      " #   Column                                          Non-Null Count  Dtype  \n",
      "---  ------                                          --------------  -----  \n",
      " 0   Unnamed: 0                                      108 non-null    int64  \n",
      " 1   id                                              108 non-null    object \n",
      " 2   age                                             108 non-null    int64  \n",
      " 3   gender                                          108 non-null    object \n",
      " 4   mmse                                            108 non-null    object \n",
      " 5   diagnosis                                       108 non-null    int64  \n",
      " 6   F0semitoneFrom27.5Hz_sma3nz_amean               108 non-null    float64\n",
      " 7   F0semitoneFrom27.5Hz_sma3nz_stddevNorm          108 non-null    float64\n",
      " 8   F0semitoneFrom27.5Hz_sma3nz_percentile20.0      108 non-null    float64\n",
      " 9   F0semitoneFrom27.5Hz_sma3nz_percentile50.0      108 non-null    float64\n",
      " 10  F0semitoneFrom27.5Hz_sma3nz_percentile80.0      108 non-null    float64\n",
      " 11  F0semitoneFrom27.5Hz_sma3nz_pctlrange0-2        108 non-null    float64\n",
      " 12  F0semitoneFrom27.5Hz_sma3nz_meanRisingSlope     108 non-null    float64\n",
      " 13  F0semitoneFrom27.5Hz_sma3nz_stddevRisingSlope   108 non-null    float64\n",
      " 14  F0semitoneFrom27.5Hz_sma3nz_meanFallingSlope    108 non-null    float64\n",
      " 15  F0semitoneFrom27.5Hz_sma3nz_stddevFallingSlope  108 non-null    float64\n",
      " 16  loudness_sma3_amean                             108 non-null    float64\n",
      " 17  loudness_sma3_stddevNorm                        108 non-null    float64\n",
      " 18  loudness_sma3_percentile20.0                    108 non-null    float64\n",
      " 19  loudness_sma3_percentile50.0                    108 non-null    float64\n",
      " 20  loudness_sma3_percentile80.0                    108 non-null    float64\n",
      " 21  loudness_sma3_pctlrange0-2                      108 non-null    float64\n",
      " 22  loudness_sma3_meanRisingSlope                   108 non-null    float64\n",
      " 23  loudness_sma3_stddevRisingSlope                 108 non-null    float64\n",
      " 24  loudness_sma3_meanFallingSlope                  108 non-null    float64\n",
      " 25  loudness_sma3_stddevFallingSlope                108 non-null    float64\n",
      " 26  spectralFlux_sma3_amean                         108 non-null    float64\n",
      " 27  spectralFlux_sma3_stddevNorm                    108 non-null    float64\n",
      " 28  mfcc1_sma3_amean                                108 non-null    float64\n",
      " 29  mfcc1_sma3_stddevNorm                           108 non-null    float64\n",
      " 30  mfcc2_sma3_amean                                108 non-null    float64\n",
      " 31  mfcc2_sma3_stddevNorm                           108 non-null    float64\n",
      " 32  mfcc3_sma3_amean                                108 non-null    float64\n",
      " 33  mfcc3_sma3_stddevNorm                           108 non-null    float64\n",
      " 34  mfcc4_sma3_amean                                108 non-null    float64\n",
      " 35  mfcc4_sma3_stddevNorm                           108 non-null    float64\n",
      " 36  jitterLocal_sma3nz_amean                        108 non-null    float64\n",
      " 37  jitterLocal_sma3nz_stddevNorm                   108 non-null    float64\n",
      " 38  shimmerLocaldB_sma3nz_amean                     108 non-null    float64\n",
      " 39  shimmerLocaldB_sma3nz_stddevNorm                108 non-null    float64\n",
      " 40  HNRdBACF_sma3nz_amean                           108 non-null    float64\n",
      " 41  HNRdBACF_sma3nz_stddevNorm                      108 non-null    float64\n",
      " 42  logRelF0-H1-H2_sma3nz_amean                     108 non-null    float64\n",
      " 43  logRelF0-H1-H2_sma3nz_stddevNorm                108 non-null    float64\n",
      " 44  logRelF0-H1-A3_sma3nz_amean                     108 non-null    float64\n",
      " 45  logRelF0-H1-A3_sma3nz_stddevNorm                108 non-null    float64\n",
      " 46  F1frequency_sma3nz_amean                        108 non-null    float64\n",
      " 47  F1frequency_sma3nz_stddevNorm                   108 non-null    float64\n",
      " 48  F1bandwidth_sma3nz_amean                        108 non-null    float64\n",
      " 49  F1bandwidth_sma3nz_stddevNorm                   108 non-null    float64\n",
      " 50  F1amplitudeLogRelF0_sma3nz_amean                108 non-null    float64\n",
      " 51  F1amplitudeLogRelF0_sma3nz_stddevNorm           108 non-null    float64\n",
      " 52  F2frequency_sma3nz_amean                        108 non-null    float64\n",
      " 53  F2frequency_sma3nz_stddevNorm                   108 non-null    float64\n",
      " 54  F2bandwidth_sma3nz_amean                        108 non-null    float64\n",
      " 55  F2bandwidth_sma3nz_stddevNorm                   108 non-null    float64\n",
      " 56  F2amplitudeLogRelF0_sma3nz_amean                108 non-null    float64\n",
      " 57  F2amplitudeLogRelF0_sma3nz_stddevNorm           108 non-null    float64\n",
      " 58  F3frequency_sma3nz_amean                        108 non-null    float64\n",
      " 59  F3frequency_sma3nz_stddevNorm                   108 non-null    float64\n",
      " 60  F3bandwidth_sma3nz_amean                        108 non-null    float64\n",
      " 61  F3bandwidth_sma3nz_stddevNorm                   108 non-null    float64\n",
      " 62  F3amplitudeLogRelF0_sma3nz_amean                108 non-null    float64\n",
      " 63  F3amplitudeLogRelF0_sma3nz_stddevNorm           108 non-null    float64\n",
      " 64  alphaRatioV_sma3nz_amean                        108 non-null    float64\n",
      " 65  alphaRatioV_sma3nz_stddevNorm                   108 non-null    float64\n",
      " 66  hammarbergIndexV_sma3nz_amean                   108 non-null    float64\n",
      " 67  hammarbergIndexV_sma3nz_stddevNorm              108 non-null    float64\n",
      " 68  slopeV0-500_sma3nz_amean                        108 non-null    float64\n",
      " 69  slopeV0-500_sma3nz_stddevNorm                   108 non-null    float64\n",
      " 70  slopeV500-1500_sma3nz_amean                     108 non-null    float64\n",
      " 71  slopeV500-1500_sma3nz_stddevNorm                108 non-null    float64\n",
      " 72  spectralFluxV_sma3nz_amean                      108 non-null    float64\n",
      " 73  spectralFluxV_sma3nz_stddevNorm                 108 non-null    float64\n",
      " 74  mfcc1V_sma3nz_amean                             108 non-null    float64\n",
      " 75  mfcc1V_sma3nz_stddevNorm                        108 non-null    float64\n",
      " 76  mfcc2V_sma3nz_amean                             108 non-null    float64\n",
      " 77  mfcc2V_sma3nz_stddevNorm                        108 non-null    float64\n",
      " 78  mfcc3V_sma3nz_amean                             108 non-null    float64\n",
      " 79  mfcc3V_sma3nz_stddevNorm                        108 non-null    float64\n",
      " 80  mfcc4V_sma3nz_amean                             108 non-null    float64\n",
      " 81  mfcc4V_sma3nz_stddevNorm                        108 non-null    float64\n",
      " 82  alphaRatioUV_sma3nz_amean                       108 non-null    float64\n",
      " 83  hammarbergIndexUV_sma3nz_amean                  108 non-null    float64\n",
      " 84  slopeUV0-500_sma3nz_amean                       108 non-null    float64\n",
      " 85  slopeUV500-1500_sma3nz_amean                    108 non-null    float64\n",
      " 86  spectralFluxUV_sma3nz_amean                     108 non-null    float64\n",
      " 87  loudnessPeaksPerSec                             108 non-null    float64\n",
      " 88  VoicedSegmentsPerSec                            108 non-null    float64\n",
      " 89  MeanVoicedSegmentLengthSec                      108 non-null    float64\n",
      " 90  StddevVoicedSegmentLengthSec                    108 non-null    float64\n",
      " 91  MeanUnvoicedSegmentLength                       108 non-null    float64\n",
      " 92  StddevUnvoicedSegmentLength                     108 non-null    float64\n",
      " 93  equivalentSoundLevel_dBp                        108 non-null    float64\n",
      "dtypes: float64(88), int64(3), object(3)\n",
      "memory usage: 79.4+ KB\n"
     ]
    }
   ],
   "source": [
    "train.info()"
   ]
  },
  {
   "cell_type": "code",
   "execution_count": 7,
   "id": "c0f29d6a",
   "metadata": {},
   "outputs": [
    {
     "name": "stdout",
     "output_type": "stream",
     "text": [
      "<class 'pandas.core.frame.DataFrame'>\n",
      "RangeIndex: 48 entries, 0 to 47\n",
      "Data columns (total 94 columns):\n",
      " #   Column                                          Non-Null Count  Dtype  \n",
      "---  ------                                          --------------  -----  \n",
      " 0   Unnamed: 0                                      48 non-null     int64  \n",
      " 1   F0semitoneFrom27.5Hz_sma3nz_amean               48 non-null     float64\n",
      " 2   F0semitoneFrom27.5Hz_sma3nz_stddevNorm          48 non-null     float64\n",
      " 3   F0semitoneFrom27.5Hz_sma3nz_percentile20.0      48 non-null     float64\n",
      " 4   F0semitoneFrom27.5Hz_sma3nz_percentile50.0      48 non-null     float64\n",
      " 5   F0semitoneFrom27.5Hz_sma3nz_percentile80.0      48 non-null     float64\n",
      " 6   F0semitoneFrom27.5Hz_sma3nz_pctlrange0-2        48 non-null     float64\n",
      " 7   F0semitoneFrom27.5Hz_sma3nz_meanRisingSlope     48 non-null     float64\n",
      " 8   F0semitoneFrom27.5Hz_sma3nz_stddevRisingSlope   48 non-null     float64\n",
      " 9   F0semitoneFrom27.5Hz_sma3nz_meanFallingSlope    48 non-null     float64\n",
      " 10  F0semitoneFrom27.5Hz_sma3nz_stddevFallingSlope  48 non-null     float64\n",
      " 11  loudness_sma3_amean                             48 non-null     float64\n",
      " 12  loudness_sma3_stddevNorm                        48 non-null     float64\n",
      " 13  loudness_sma3_percentile20.0                    48 non-null     float64\n",
      " 14  loudness_sma3_percentile50.0                    48 non-null     float64\n",
      " 15  loudness_sma3_percentile80.0                    48 non-null     float64\n",
      " 16  loudness_sma3_pctlrange0-2                      48 non-null     float64\n",
      " 17  loudness_sma3_meanRisingSlope                   48 non-null     float64\n",
      " 18  loudness_sma3_stddevRisingSlope                 48 non-null     float64\n",
      " 19  loudness_sma3_meanFallingSlope                  48 non-null     float64\n",
      " 20  loudness_sma3_stddevFallingSlope                48 non-null     float64\n",
      " 21  spectralFlux_sma3_amean                         48 non-null     float64\n",
      " 22  spectralFlux_sma3_stddevNorm                    48 non-null     float64\n",
      " 23  mfcc1_sma3_amean                                48 non-null     float64\n",
      " 24  mfcc1_sma3_stddevNorm                           48 non-null     float64\n",
      " 25  mfcc2_sma3_amean                                48 non-null     float64\n",
      " 26  mfcc2_sma3_stddevNorm                           48 non-null     float64\n",
      " 27  mfcc3_sma3_amean                                48 non-null     float64\n",
      " 28  mfcc3_sma3_stddevNorm                           48 non-null     float64\n",
      " 29  mfcc4_sma3_amean                                48 non-null     float64\n",
      " 30  mfcc4_sma3_stddevNorm                           48 non-null     float64\n",
      " 31  jitterLocal_sma3nz_amean                        48 non-null     float64\n",
      " 32  jitterLocal_sma3nz_stddevNorm                   48 non-null     float64\n",
      " 33  shimmerLocaldB_sma3nz_amean                     48 non-null     float64\n",
      " 34  shimmerLocaldB_sma3nz_stddevNorm                48 non-null     float64\n",
      " 35  HNRdBACF_sma3nz_amean                           48 non-null     float64\n",
      " 36  HNRdBACF_sma3nz_stddevNorm                      48 non-null     float64\n",
      " 37  logRelF0-H1-H2_sma3nz_amean                     48 non-null     float64\n",
      " 38  logRelF0-H1-H2_sma3nz_stddevNorm                48 non-null     float64\n",
      " 39  logRelF0-H1-A3_sma3nz_amean                     48 non-null     float64\n",
      " 40  logRelF0-H1-A3_sma3nz_stddevNorm                48 non-null     float64\n",
      " 41  F1frequency_sma3nz_amean                        48 non-null     float64\n",
      " 42  F1frequency_sma3nz_stddevNorm                   48 non-null     float64\n",
      " 43  F1bandwidth_sma3nz_amean                        48 non-null     float64\n",
      " 44  F1bandwidth_sma3nz_stddevNorm                   48 non-null     float64\n",
      " 45  F1amplitudeLogRelF0_sma3nz_amean                48 non-null     float64\n",
      " 46  F1amplitudeLogRelF0_sma3nz_stddevNorm           48 non-null     float64\n",
      " 47  F2frequency_sma3nz_amean                        48 non-null     float64\n",
      " 48  F2frequency_sma3nz_stddevNorm                   48 non-null     float64\n",
      " 49  F2bandwidth_sma3nz_amean                        48 non-null     float64\n",
      " 50  F2bandwidth_sma3nz_stddevNorm                   48 non-null     float64\n",
      " 51  F2amplitudeLogRelF0_sma3nz_amean                48 non-null     float64\n",
      " 52  F2amplitudeLogRelF0_sma3nz_stddevNorm           48 non-null     float64\n",
      " 53  F3frequency_sma3nz_amean                        48 non-null     float64\n",
      " 54  F3frequency_sma3nz_stddevNorm                   48 non-null     float64\n",
      " 55  F3bandwidth_sma3nz_amean                        48 non-null     float64\n",
      " 56  F3bandwidth_sma3nz_stddevNorm                   48 non-null     float64\n",
      " 57  F3amplitudeLogRelF0_sma3nz_amean                48 non-null     float64\n",
      " 58  F3amplitudeLogRelF0_sma3nz_stddevNorm           48 non-null     float64\n",
      " 59  alphaRatioV_sma3nz_amean                        48 non-null     float64\n",
      " 60  alphaRatioV_sma3nz_stddevNorm                   48 non-null     float64\n",
      " 61  hammarbergIndexV_sma3nz_amean                   48 non-null     float64\n",
      " 62  hammarbergIndexV_sma3nz_stddevNorm              48 non-null     float64\n",
      " 63  slopeV0-500_sma3nz_amean                        48 non-null     float64\n",
      " 64  slopeV0-500_sma3nz_stddevNorm                   48 non-null     float64\n",
      " 65  slopeV500-1500_sma3nz_amean                     48 non-null     float64\n",
      " 66  slopeV500-1500_sma3nz_stddevNorm                48 non-null     float64\n",
      " 67  spectralFluxV_sma3nz_amean                      48 non-null     float64\n",
      " 68  spectralFluxV_sma3nz_stddevNorm                 48 non-null     float64\n",
      " 69  mfcc1V_sma3nz_amean                             48 non-null     float64\n",
      " 70  mfcc1V_sma3nz_stddevNorm                        48 non-null     float64\n",
      " 71  mfcc2V_sma3nz_amean                             48 non-null     float64\n",
      " 72  mfcc2V_sma3nz_stddevNorm                        48 non-null     float64\n",
      " 73  mfcc3V_sma3nz_amean                             48 non-null     float64\n",
      " 74  mfcc3V_sma3nz_stddevNorm                        48 non-null     float64\n",
      " 75  mfcc4V_sma3nz_amean                             48 non-null     float64\n",
      " 76  mfcc4V_sma3nz_stddevNorm                        48 non-null     float64\n",
      " 77  alphaRatioUV_sma3nz_amean                       48 non-null     float64\n",
      " 78  hammarbergIndexUV_sma3nz_amean                  48 non-null     float64\n",
      " 79  slopeUV0-500_sma3nz_amean                       48 non-null     float64\n",
      " 80  slopeUV500-1500_sma3nz_amean                    48 non-null     float64\n",
      " 81  spectralFluxUV_sma3nz_amean                     48 non-null     float64\n",
      " 82  loudnessPeaksPerSec                             48 non-null     float64\n",
      " 83  VoicedSegmentsPerSec                            48 non-null     float64\n",
      " 84  MeanVoicedSegmentLengthSec                      48 non-null     float64\n",
      " 85  StddevVoicedSegmentLengthSec                    48 non-null     float64\n",
      " 86  MeanUnvoicedSegmentLength                       48 non-null     float64\n",
      " 87  StddevUnvoicedSegmentLength                     48 non-null     float64\n",
      " 88  equivalentSoundLevel_dBp                        48 non-null     float64\n",
      " 89  id                                              48 non-null     object \n",
      " 90  age                                             48 non-null     int64  \n",
      " 91  gender                                          48 non-null     int64  \n",
      " 92  diagnosis                                       48 non-null     int64  \n",
      " 93  mmse                                            48 non-null     int64  \n",
      "dtypes: float64(88), int64(5), object(1)\n",
      "memory usage: 35.4+ KB\n"
     ]
    }
   ],
   "source": [
    "test.info()"
   ]
  },
  {
   "cell_type": "code",
   "execution_count": 8,
   "id": "898cb217",
   "metadata": {},
   "outputs": [],
   "source": [
    "# preprocessing\n",
    "features = [\"F2frequency_sma3nz_amean\", \n",
    "             \"HNRdBACF_sma3nz_amean\", \n",
    "             \"F0semitoneFrom27.5Hz_sma3nz_percentile80.0\", \n",
    "             \"F0semitoneFrom27.5Hz_sma3nz_amean\",\n",
    "             \"F1frequency_sma3nz_amean\",\n",
    "             \"gender\", \"diagnosis\"]\n",
    "\n",
    "train['gender'] = train['gender'].replace(['female', 'male'], [1, 0])\n",
    "\n",
    "train_df = train[features]\n",
    "test_df = test[features]"
   ]
  },
  {
   "cell_type": "code",
   "execution_count": 9,
   "id": "8515620c",
   "metadata": {},
   "outputs": [],
   "source": [
    "# function for calculating accuracy, sensitivity and specificity\n",
    "\n",
    "def classification_results(y_true, y_pred):\n",
    "    print(metrics.confusion_matrix(y_true, y_pred))\n",
    "    tn, fp, fn, tp = metrics.confusion_matrix(y_true, y_pred).ravel()\n",
    "    specificity = tn / (tn + fp)\n",
    "    sensitivity = tp / (tp + fn)\n",
    "    accuracy = metrics.accuracy_score(y_pred=y_pred, y_true=y_true)\n",
    "    print('Accuracy: ', accuracy)\n",
    "    print('Sensitivity: ', sensitivity)\n",
    "    print('Specificity: ', specificity)"
   ]
  },
  {
   "cell_type": "code",
   "execution_count": 10,
   "id": "4ab296d7",
   "metadata": {},
   "outputs": [],
   "source": [
    "# function for evaluating during CV, full train and test datasets\n",
    "\n",
    "def evaluate_model(model, data_x, data_y, X_test, y_test, k=5):\n",
    "    '''returns trained classifier'''\n",
    "    k_fold = KFold(k, shuffle=True, random_state=1)\n",
    "\n",
    "    predicted_targets = np.array([])\n",
    "    actual_targets = np.array([])\n",
    "    \n",
    "    display(Markdown(\"#### Results of k-fold CV on training set\"))\n",
    "    for train_ix, test_ix in k_fold.split(data_x):\n",
    "        train_x, train_y, test_x, test_y = data_x.iloc[train_ix], data_y.iloc[train_ix], data_x.iloc[test_ix], data_y.iloc[test_ix]\n",
    "\n",
    "        # Fit the classifier\n",
    "        classifier = model.fit(train_x, train_y)\n",
    "\n",
    "        # Predict the labels of the test set samples\n",
    "        predicted_labels_fold = classifier.predict(test_x)\n",
    "\n",
    "        predicted_targets = np.append(predicted_targets, predicted_labels_fold)\n",
    "        actual_targets = np.append(actual_targets, test_y)\n",
    "        \n",
    "        classification_results(test_y, predicted_labels_fold)\n",
    "        print('')\n",
    "        \n",
    "    display(Markdown(\"#### Results on the whole training set\"))\n",
    "    classification_results(actual_targets, predicted_targets)\n",
    "    \n",
    "    \n",
    "    display(Markdown(\"#### Results on test set\"))\n",
    "    classification_results(y_test, classifier.predict(X_test))\n",
    "    \n",
    "    return classifier\n",
    "        \n",
    "    "
   ]
  },
  {
   "cell_type": "markdown",
   "id": "22885091",
   "metadata": {},
   "source": [
    "### Logistic regression model"
   ]
  },
  {
   "cell_type": "code",
   "execution_count": 11,
   "id": "5e1f7291",
   "metadata": {},
   "outputs": [],
   "source": [
    "features_lr = [\"F0semitoneFrom27.5Hz_sma3nz_percentile80.0\", \n",
    "                 \"F1frequency_sma3nz_amean\", \n",
    "                 \"HNRdBACF_sma3nz_amean\", \n",
    "                 \"F0semitoneFrom27.5Hz_sma3nz_amean\",\n",
    "                 \"gender\"]\n",
    "\n",
    "Y_train = train_df[\"diagnosis\"]\n",
    "X_train = train_df[features_lr]\n",
    "\n",
    "Y_test = test_df[\"diagnosis\"]\n",
    "X_test = test_df[features_lr]\n"
   ]
  },
  {
   "cell_type": "code",
   "execution_count": 12,
   "id": "2141ade7",
   "metadata": {},
   "outputs": [
    {
     "data": {
      "text/markdown": [
       "#### Results of k-fold CV on training set"
      ],
      "text/plain": [
       "<IPython.core.display.Markdown object>"
      ]
     },
     "metadata": {},
     "output_type": "display_data"
    },
    {
     "name": "stdout",
     "output_type": "stream",
     "text": [
      "[[ 2  2]\n",
      " [ 5 13]]\n",
      "Accuracy:  0.6818181818181818\n",
      "Sensitivity:  0.7222222222222222\n",
      "Specificity:  0.5\n",
      "\n",
      "[[13  1]\n",
      " [ 5  3]]\n",
      "Accuracy:  0.7272727272727273\n",
      "Sensitivity:  0.375\n",
      "Specificity:  0.9285714285714286\n",
      "\n",
      "[[7 4]\n",
      " [2 9]]\n",
      "Accuracy:  0.7272727272727273\n",
      "Sensitivity:  0.8181818181818182\n",
      "Specificity:  0.6363636363636364\n",
      "\n",
      "[[7 4]\n",
      " [4 6]]\n",
      "Accuracy:  0.6190476190476191\n",
      "Sensitivity:  0.6\n",
      "Specificity:  0.6363636363636364\n",
      "\n",
      "[[8 6]\n",
      " [3 4]]\n",
      "Accuracy:  0.5714285714285714\n",
      "Sensitivity:  0.5714285714285714\n",
      "Specificity:  0.5714285714285714\n",
      "\n"
     ]
    },
    {
     "data": {
      "text/markdown": [
       "#### Results on the whole training set"
      ],
      "text/plain": [
       "<IPython.core.display.Markdown object>"
      ]
     },
     "metadata": {},
     "output_type": "display_data"
    },
    {
     "name": "stdout",
     "output_type": "stream",
     "text": [
      "[[37 17]\n",
      " [19 35]]\n",
      "Accuracy:  0.6666666666666666\n",
      "Sensitivity:  0.6481481481481481\n",
      "Specificity:  0.6851851851851852\n"
     ]
    },
    {
     "data": {
      "text/markdown": [
       "#### Results on test set"
      ],
      "text/plain": [
       "<IPython.core.display.Markdown object>"
      ]
     },
     "metadata": {},
     "output_type": "display_data"
    },
    {
     "name": "stdout",
     "output_type": "stream",
     "text": [
      "[[16  8]\n",
      " [ 7 17]]\n",
      "Accuracy:  0.6875\n",
      "Sensitivity:  0.7083333333333334\n",
      "Specificity:  0.6666666666666666\n"
     ]
    }
   ],
   "source": [
    "model_lr = make_pipeline(LogisticRegression(solver='liblinear', penalty = 'l2', class_weight = 'balanced'))\n",
    "\n",
    "model_lr = evaluate_model(model_lr, X_train, Y_train, X_test, Y_test)"
   ]
  },
  {
   "cell_type": "markdown",
   "id": "a37b740f",
   "metadata": {},
   "source": [
    "### Random forest model"
   ]
  },
  {
   "cell_type": "code",
   "execution_count": 13,
   "id": "6d09dd9c",
   "metadata": {},
   "outputs": [],
   "source": [
    "features_rf = [\"F0semitoneFrom27.5Hz_sma3nz_percentile80.0\", \n",
    "                 \"F1frequency_sma3nz_amean\", \n",
    "                 \"HNRdBACF_sma3nz_amean\", \n",
    "                 \"F0semitoneFrom27.5Hz_sma3nz_amean\",\n",
    "                 \"gender\"]\n",
    "\n",
    "Y_train = train_df[\"diagnosis\"]\n",
    "X_train = train_df[features_rf]\n",
    "\n",
    "Y_test = test_df[\"diagnosis\"]\n",
    "X_test = test_df[features_rf]"
   ]
  },
  {
   "cell_type": "code",
   "execution_count": 14,
   "id": "f20ca0b5",
   "metadata": {
    "scrolled": false
   },
   "outputs": [
    {
     "data": {
      "text/markdown": [
       "#### Results of k-fold CV on training set"
      ],
      "text/plain": [
       "<IPython.core.display.Markdown object>"
      ]
     },
     "metadata": {},
     "output_type": "display_data"
    },
    {
     "name": "stdout",
     "output_type": "stream",
     "text": [
      "[[ 1  3]\n",
      " [ 6 12]]\n",
      "Accuracy:  0.5909090909090909\n",
      "Sensitivity:  0.6666666666666666\n",
      "Specificity:  0.25\n",
      "\n",
      "[[11  3]\n",
      " [ 4  4]]\n",
      "Accuracy:  0.6818181818181818\n",
      "Sensitivity:  0.5\n",
      "Specificity:  0.7857142857142857\n",
      "\n",
      "[[6 5]\n",
      " [7 4]]\n",
      "Accuracy:  0.45454545454545453\n",
      "Sensitivity:  0.36363636363636365\n",
      "Specificity:  0.5454545454545454\n",
      "\n",
      "[[9 2]\n",
      " [4 6]]\n",
      "Accuracy:  0.7142857142857143\n",
      "Sensitivity:  0.6\n",
      "Specificity:  0.8181818181818182\n",
      "\n",
      "[[8 6]\n",
      " [2 5]]\n",
      "Accuracy:  0.6190476190476191\n",
      "Sensitivity:  0.7142857142857143\n",
      "Specificity:  0.5714285714285714\n",
      "\n"
     ]
    },
    {
     "data": {
      "text/markdown": [
       "#### Results on the whole training set"
      ],
      "text/plain": [
       "<IPython.core.display.Markdown object>"
      ]
     },
     "metadata": {},
     "output_type": "display_data"
    },
    {
     "name": "stdout",
     "output_type": "stream",
     "text": [
      "[[35 19]\n",
      " [23 31]]\n",
      "Accuracy:  0.6111111111111112\n",
      "Sensitivity:  0.5740740740740741\n",
      "Specificity:  0.6481481481481481\n"
     ]
    },
    {
     "data": {
      "text/markdown": [
       "#### Results on test set"
      ],
      "text/plain": [
       "<IPython.core.display.Markdown object>"
      ]
     },
     "metadata": {},
     "output_type": "display_data"
    },
    {
     "name": "stdout",
     "output_type": "stream",
     "text": [
      "[[16  8]\n",
      " [ 8 16]]\n",
      "Accuracy:  0.6666666666666666\n",
      "Sensitivity:  0.6666666666666666\n",
      "Specificity:  0.6666666666666666\n"
     ]
    }
   ],
   "source": [
    "model_rf = make_pipeline(MinMaxScaler(), RandomForestClassifier(n_estimators=200, min_samples_leaf=20,\n",
    "                                                               class_weight='balanced'))\n",
    "\n",
    "model_rf = evaluate_model(model_rf, X_train, Y_train, X_test, Y_test)"
   ]
  },
  {
   "cell_type": "markdown",
   "id": "6dae4016",
   "metadata": {},
   "source": [
    "### kNN model"
   ]
  },
  {
   "cell_type": "code",
   "execution_count": 15,
   "id": "d7f01da5",
   "metadata": {},
   "outputs": [],
   "source": [
    "features_knn = [\"F0semitoneFrom27.5Hz_sma3nz_percentile80.0\", \n",
    "                 \"HNRdBACF_sma3nz_amean\", \n",
    "                 \"F0semitoneFrom27.5Hz_sma3nz_amean\",\n",
    "                 \"gender\"]\n",
    "\n",
    "Y_train = train_df[\"diagnosis\"]\n",
    "X_train = train_df[features_knn]\n",
    "\n",
    "Y_test = test_df[\"diagnosis\"]\n",
    "X_test = test_df[features_knn]"
   ]
  },
  {
   "cell_type": "code",
   "execution_count": 16,
   "id": "ae51fb99",
   "metadata": {},
   "outputs": [
    {
     "data": {
      "text/markdown": [
       "#### Results of k-fold CV on training set"
      ],
      "text/plain": [
       "<IPython.core.display.Markdown object>"
      ]
     },
     "metadata": {},
     "output_type": "display_data"
    },
    {
     "name": "stdout",
     "output_type": "stream",
     "text": [
      "[[ 4  0]\n",
      " [ 8 10]]\n",
      "Accuracy:  0.6363636363636364\n",
      "Sensitivity:  0.5555555555555556\n",
      "Specificity:  1.0\n",
      "\n",
      "[[5 9]\n",
      " [3 5]]\n",
      "Accuracy:  0.45454545454545453\n",
      "Sensitivity:  0.625\n",
      "Specificity:  0.35714285714285715\n",
      "\n",
      "[[7 4]\n",
      " [6 5]]\n",
      "Accuracy:  0.5454545454545454\n",
      "Sensitivity:  0.45454545454545453\n",
      "Specificity:  0.6363636363636364\n",
      "\n",
      "[[3 8]\n",
      " [4 6]]\n",
      "Accuracy:  0.42857142857142855\n",
      "Sensitivity:  0.6\n",
      "Specificity:  0.2727272727272727\n",
      "\n",
      "[[5 9]\n",
      " [1 6]]\n",
      "Accuracy:  0.5238095238095238\n",
      "Sensitivity:  0.8571428571428571\n",
      "Specificity:  0.35714285714285715\n",
      "\n"
     ]
    },
    {
     "data": {
      "text/markdown": [
       "#### Results on the whole training set"
      ],
      "text/plain": [
       "<IPython.core.display.Markdown object>"
      ]
     },
     "metadata": {},
     "output_type": "display_data"
    },
    {
     "name": "stdout",
     "output_type": "stream",
     "text": [
      "[[24 30]\n",
      " [22 32]]\n",
      "Accuracy:  0.5185185185185185\n",
      "Sensitivity:  0.5925925925925926\n",
      "Specificity:  0.4444444444444444\n"
     ]
    },
    {
     "data": {
      "text/markdown": [
       "#### Results on test set"
      ],
      "text/plain": [
       "<IPython.core.display.Markdown object>"
      ]
     },
     "metadata": {},
     "output_type": "display_data"
    },
    {
     "name": "stdout",
     "output_type": "stream",
     "text": [
      "[[14 10]\n",
      " [ 5 19]]\n",
      "Accuracy:  0.6875\n",
      "Sensitivity:  0.7916666666666666\n",
      "Specificity:  0.5833333333333334\n"
     ]
    }
   ],
   "source": [
    "model_knn = make_pipeline(MinMaxScaler(),\n",
    "                      KNeighborsClassifier(n_neighbors=3))\n",
    "\n",
    "model_knn = evaluate_model(model_knn, X_train, Y_train, X_test, Y_test)"
   ]
  },
  {
   "cell_type": "markdown",
   "id": "767938f8",
   "metadata": {},
   "source": [
    "### Radial based SVM"
   ]
  },
  {
   "cell_type": "code",
   "execution_count": 17,
   "id": "e7bdc858",
   "metadata": {},
   "outputs": [],
   "source": [
    "features_svm = [\"F2frequency_sma3nz_amean\", \n",
    "                    \"F0semitoneFrom27.5Hz_sma3nz_percentile80.0\", \n",
    "                    \"F0semitoneFrom27.5Hz_sma3nz_amean\",\n",
    "                     \"gender\"]\n",
    "\n",
    "Y_train = train_df[\"diagnosis\"]\n",
    "X_train = train_df[features_svm]\n",
    "\n",
    "Y_test = test_df[\"diagnosis\"]\n",
    "X_test = test_df[features_svm]"
   ]
  },
  {
   "cell_type": "code",
   "execution_count": 18,
   "id": "2d63be20",
   "metadata": {},
   "outputs": [
    {
     "data": {
      "text/markdown": [
       "#### Results of k-fold CV on training set"
      ],
      "text/plain": [
       "<IPython.core.display.Markdown object>"
      ]
     },
     "metadata": {},
     "output_type": "display_data"
    },
    {
     "name": "stdout",
     "output_type": "stream",
     "text": [
      "[[ 4  0]\n",
      " [ 8 10]]\n",
      "Accuracy:  0.6363636363636364\n",
      "Sensitivity:  0.5555555555555556\n",
      "Specificity:  1.0\n",
      "\n",
      "[[9 5]\n",
      " [1 7]]\n",
      "Accuracy:  0.7272727272727273\n",
      "Sensitivity:  0.875\n",
      "Specificity:  0.6428571428571429\n",
      "\n",
      "[[5 6]\n",
      " [5 6]]\n",
      "Accuracy:  0.5\n",
      "Sensitivity:  0.5454545454545454\n",
      "Specificity:  0.45454545454545453\n",
      "\n",
      "[[6 5]\n",
      " [1 9]]\n",
      "Accuracy:  0.7142857142857143\n",
      "Sensitivity:  0.9\n",
      "Specificity:  0.5454545454545454\n",
      "\n",
      "[[9 5]\n",
      " [2 5]]\n",
      "Accuracy:  0.6666666666666666\n",
      "Sensitivity:  0.7142857142857143\n",
      "Specificity:  0.6428571428571429\n",
      "\n"
     ]
    },
    {
     "data": {
      "text/markdown": [
       "#### Results on the whole training set"
      ],
      "text/plain": [
       "<IPython.core.display.Markdown object>"
      ]
     },
     "metadata": {},
     "output_type": "display_data"
    },
    {
     "name": "stdout",
     "output_type": "stream",
     "text": [
      "[[33 21]\n",
      " [17 37]]\n",
      "Accuracy:  0.6481481481481481\n",
      "Sensitivity:  0.6851851851851852\n",
      "Specificity:  0.6111111111111112\n"
     ]
    },
    {
     "data": {
      "text/markdown": [
       "#### Results on test set"
      ],
      "text/plain": [
       "<IPython.core.display.Markdown object>"
      ]
     },
     "metadata": {},
     "output_type": "display_data"
    },
    {
     "name": "stdout",
     "output_type": "stream",
     "text": [
      "[[18  6]\n",
      " [ 8 16]]\n",
      "Accuracy:  0.7083333333333334\n",
      "Sensitivity:  0.6666666666666666\n",
      "Specificity:  0.75\n"
     ]
    }
   ],
   "source": [
    "model_svm = make_pipeline(MinMaxScaler(), SVC(kernel = 'rbf', gamma = 4.0, C = 3.0))\n",
    "\n",
    "model_svm = evaluate_model(model_svm, X_train, Y_train, X_test, Y_test)"
   ]
  },
  {
   "cell_type": "markdown",
   "id": "c6b841ec",
   "metadata": {},
   "source": [
    "#### Results on the test set without debiasing\n",
    "\n",
    "| Model       | Logistic regression | Random forest | kNN    |  SVM   |  \n",
    "|------       |------               | ------        |------  | ------ |\n",
    "| Accuracy    |  0.6875             |  0.666        | 0.6875 | 0.7083 | \n",
    "| Sensitivity |  0.7083             |  0.666        | 0.7916 | 0.6666 | \n",
    "| Specificity |  0.6666             |  0.666        | 0.5833 | 0.75   | "
   ]
  },
  {
   "cell_type": "markdown",
   "id": "b17fc9fc",
   "metadata": {},
   "source": [
    "## Applying debiasing techniques\n",
    "\n",
    "### in-processing algorithms"
   ]
  },
  {
   "cell_type": "code",
   "execution_count": 19,
   "id": "c696f04a",
   "metadata": {},
   "outputs": [],
   "source": [
    "# AIF360 Metrics\n",
    "from aif360.sklearn.metrics import statistical_parity_difference, equal_opportunity_difference, average_odds_difference\n",
    "from aif360.sklearn.metrics import disparate_impact_ratio, theil_index\n",
    "\n",
    "# AIF360 in-processing algorithms\n",
    "\n",
    "from aif360.sklearn.inprocessing import ExponentiatedGradientReduction\n",
    "from aif360.sklearn.inprocessing import GridSearchReduction\n",
    "\n",
    "# AIF360 dataset utils\n",
    "from aif360.sklearn.datasets import standardize_dataset\n",
    "\n",
    "# import of constraint moments\n",
    "import fairlearn.reductions as red"
   ]
  },
  {
   "cell_type": "code",
   "execution_count": 20,
   "id": "aca6e7a7",
   "metadata": {},
   "outputs": [],
   "source": [
    "def get_values_of_aif_metrics(y_test, y_pred):\n",
    "    print('Statistical parity difference: ', statistical_parity_difference(y_test, y_pred))\n",
    "    print('Equal opportunity difference: ', equal_opportunity_difference(y_test, y_pred))\n",
    "    print('Average odds difference: ', average_odds_difference(y_test, y_pred))\n",
    "    print('Disparate impact ratio: ', disparate_impact_ratio(y_test, y_pred))\n",
    "    print('Theil index: ', theil_index(y_pred))"
   ]
  },
  {
   "cell_type": "code",
   "execution_count": 21,
   "id": "e5461db6",
   "metadata": {},
   "outputs": [
    {
     "data": {
      "text/plain": [
       "['gender']"
      ]
     },
     "execution_count": 21,
     "metadata": {},
     "output_type": "execute_result"
    }
   ],
   "source": [
    "prot_attr_cols = [colname for colname in train_df if \"gender\" in colname]\n",
    "prot_attr_cols"
   ]
  },
  {
   "cell_type": "markdown",
   "id": "27dd7254",
   "metadata": {},
   "source": [
    "### Logistic regression"
   ]
  },
  {
   "cell_type": "code",
   "execution_count": 22,
   "id": "acfff24f",
   "metadata": {},
   "outputs": [],
   "source": [
    "# creating aif360 dataset\n",
    "\n",
    "X_train_aif, y_train_aif = standardize_dataset(df = train_df, prot_attr=prot_attr_cols, \n",
    "                                               target = 'diagnosis', usecols=features_lr)\n",
    "X_test_aif, y_test_aif = standardize_dataset(df = test_df, prot_attr=prot_attr_cols, target = 'diagnosis',\n",
    "                                            usecols=features_lr)"
   ]
  },
  {
   "cell_type": "code",
   "execution_count": 23,
   "id": "4a72c052",
   "metadata": {},
   "outputs": [
    {
     "name": "stdout",
     "output_type": "stream",
     "text": [
      "Statistical parity difference:  0.12937062937062938\n",
      "Equal opportunity difference:  0.2027972027972028\n",
      "Average odds difference:  0.12937062937062938\n",
      "Disparate impact ratio:  1.2803030303030303\n",
      "Theil index:  0.6523251860396903\n"
     ]
    }
   ],
   "source": [
    "get_values_of_aif_metrics(y_test_aif, model_lr.predict(X_test_aif))"
   ]
  },
  {
   "cell_type": "code",
   "execution_count": 32,
   "id": "facada8a",
   "metadata": {},
   "outputs": [
    {
     "name": "stderr",
     "output_type": "stream",
     "text": [
      "Using the level keyword in DataFrame and Series aggregations is deprecated and will be removed in a future version. Use groupby instead. df.sum(level=1) should use df.groupby(level=1).sum().\n",
      "Using the level keyword in DataFrame and Series aggregations is deprecated and will be removed in a future version. Use groupby instead. df.sum(level=1) should use df.groupby(level=1).sum().\n",
      "Using the level keyword in DataFrame and Series aggregations is deprecated and will be removed in a future version. Use groupby instead. df.sum(level=1) should use df.groupby(level=1).sum().\n",
      "Using the level keyword in DataFrame and Series aggregations is deprecated and will be removed in a future version. Use groupby instead. df.sum(level=1) should use df.groupby(level=1).sum().\n",
      "Using the level keyword in DataFrame and Series aggregations is deprecated and will be removed in a future version. Use groupby instead. df.sum(level=1) should use df.groupby(level=1).sum().\n",
      "Using the level keyword in DataFrame and Series aggregations is deprecated and will be removed in a future version. Use groupby instead. df.sum(level=1) should use df.groupby(level=1).sum().\n",
      "Using the level keyword in DataFrame and Series aggregations is deprecated and will be removed in a future version. Use groupby instead. df.sum(level=1) should use df.groupby(level=1).sum().\n",
      "Using the level keyword in DataFrame and Series aggregations is deprecated and will be removed in a future version. Use groupby instead. df.sum(level=1) should use df.groupby(level=1).sum().\n",
      "Using the level keyword in DataFrame and Series aggregations is deprecated and will be removed in a future version. Use groupby instead. df.sum(level=1) should use df.groupby(level=1).sum().\n",
      "Using the level keyword in DataFrame and Series aggregations is deprecated and will be removed in a future version. Use groupby instead. df.sum(level=1) should use df.groupby(level=1).sum().\n",
      "Using the level keyword in DataFrame and Series aggregations is deprecated and will be removed in a future version. Use groupby instead. df.sum(level=1) should use df.groupby(level=1).sum().\n",
      "Using the level keyword in DataFrame and Series aggregations is deprecated and will be removed in a future version. Use groupby instead. df.sum(level=1) should use df.groupby(level=1).sum().\n",
      "Using the level keyword in DataFrame and Series aggregations is deprecated and will be removed in a future version. Use groupby instead. df.sum(level=1) should use df.groupby(level=1).sum().\n",
      "Using the level keyword in DataFrame and Series aggregations is deprecated and will be removed in a future version. Use groupby instead. df.sum(level=1) should use df.groupby(level=1).sum().\n",
      "Using the level keyword in DataFrame and Series aggregations is deprecated and will be removed in a future version. Use groupby instead. df.sum(level=1) should use df.groupby(level=1).sum().\n",
      "Using the level keyword in DataFrame and Series aggregations is deprecated and will be removed in a future version. Use groupby instead. df.sum(level=1) should use df.groupby(level=1).sum().\n",
      "Using the level keyword in DataFrame and Series aggregations is deprecated and will be removed in a future version. Use groupby instead. df.sum(level=1) should use df.groupby(level=1).sum().\n",
      "Using the level keyword in DataFrame and Series aggregations is deprecated and will be removed in a future version. Use groupby instead. df.sum(level=1) should use df.groupby(level=1).sum().\n",
      "Using the level keyword in DataFrame and Series aggregations is deprecated and will be removed in a future version. Use groupby instead. df.sum(level=1) should use df.groupby(level=1).sum().\n",
      "Using the level keyword in DataFrame and Series aggregations is deprecated and will be removed in a future version. Use groupby instead. df.sum(level=1) should use df.groupby(level=1).sum().\n"
     ]
    },
    {
     "ename": "AttributeError",
     "evalue": "'GridSearchReduction' object has no attribute 'constraints'",
     "output_type": "error",
     "traceback": [
      "\u001b[1;31m---------------------------------------------------------------------------\u001b[0m",
      "\u001b[1;31mAttributeError\u001b[0m                            Traceback (most recent call last)",
      "File \u001b[1;32m~\\anaconda3\\lib\\site-packages\\IPython\\core\\formatters.py:973\u001b[0m, in \u001b[0;36mMimeBundleFormatter.__call__\u001b[1;34m(self, obj, include, exclude)\u001b[0m\n\u001b[0;32m    970\u001b[0m     method \u001b[38;5;241m=\u001b[39m get_real_method(obj, \u001b[38;5;28mself\u001b[39m\u001b[38;5;241m.\u001b[39mprint_method)\n\u001b[0;32m    972\u001b[0m     \u001b[38;5;28;01mif\u001b[39;00m method \u001b[38;5;129;01mis\u001b[39;00m \u001b[38;5;129;01mnot\u001b[39;00m \u001b[38;5;28;01mNone\u001b[39;00m:\n\u001b[1;32m--> 973\u001b[0m         \u001b[38;5;28;01mreturn\u001b[39;00m \u001b[43mmethod\u001b[49m\u001b[43m(\u001b[49m\u001b[43minclude\u001b[49m\u001b[38;5;241;43m=\u001b[39;49m\u001b[43minclude\u001b[49m\u001b[43m,\u001b[49m\u001b[43m \u001b[49m\u001b[43mexclude\u001b[49m\u001b[38;5;241;43m=\u001b[39;49m\u001b[43mexclude\u001b[49m\u001b[43m)\u001b[49m\n\u001b[0;32m    974\u001b[0m     \u001b[38;5;28;01mreturn\u001b[39;00m \u001b[38;5;28;01mNone\u001b[39;00m\n\u001b[0;32m    975\u001b[0m \u001b[38;5;28;01melse\u001b[39;00m:\n",
      "File \u001b[1;32m~\\anaconda3\\lib\\site-packages\\sklearn\\base.py:614\u001b[0m, in \u001b[0;36mBaseEstimator._repr_mimebundle_\u001b[1;34m(self, **kwargs)\u001b[0m\n\u001b[0;32m    612\u001b[0m \u001b[38;5;28;01mdef\u001b[39;00m \u001b[38;5;21m_repr_mimebundle_\u001b[39m(\u001b[38;5;28mself\u001b[39m, \u001b[38;5;241m*\u001b[39m\u001b[38;5;241m*\u001b[39mkwargs):\n\u001b[0;32m    613\u001b[0m     \u001b[38;5;124;03m\"\"\"Mime bundle used by jupyter kernels to display estimator\"\"\"\u001b[39;00m\n\u001b[1;32m--> 614\u001b[0m     output \u001b[38;5;241m=\u001b[39m {\u001b[38;5;124m\"\u001b[39m\u001b[38;5;124mtext/plain\u001b[39m\u001b[38;5;124m\"\u001b[39m: \u001b[38;5;28;43mrepr\u001b[39;49m\u001b[43m(\u001b[49m\u001b[38;5;28;43mself\u001b[39;49m\u001b[43m)\u001b[49m}\n\u001b[0;32m    615\u001b[0m     \u001b[38;5;28;01mif\u001b[39;00m get_config()[\u001b[38;5;124m\"\u001b[39m\u001b[38;5;124mdisplay\u001b[39m\u001b[38;5;124m\"\u001b[39m] \u001b[38;5;241m==\u001b[39m \u001b[38;5;124m\"\u001b[39m\u001b[38;5;124mdiagram\u001b[39m\u001b[38;5;124m\"\u001b[39m:\n\u001b[0;32m    616\u001b[0m         output[\u001b[38;5;124m\"\u001b[39m\u001b[38;5;124mtext/html\u001b[39m\u001b[38;5;124m\"\u001b[39m] \u001b[38;5;241m=\u001b[39m estimator_html_repr(\u001b[38;5;28mself\u001b[39m)\n",
      "File \u001b[1;32m~\\anaconda3\\lib\\site-packages\\sklearn\\base.py:279\u001b[0m, in \u001b[0;36mBaseEstimator.__repr__\u001b[1;34m(self, N_CHAR_MAX)\u001b[0m\n\u001b[0;32m    271\u001b[0m \u001b[38;5;66;03m# use ellipsis for sequences with a lot of elements\u001b[39;00m\n\u001b[0;32m    272\u001b[0m pp \u001b[38;5;241m=\u001b[39m _EstimatorPrettyPrinter(\n\u001b[0;32m    273\u001b[0m     compact\u001b[38;5;241m=\u001b[39m\u001b[38;5;28;01mTrue\u001b[39;00m,\n\u001b[0;32m    274\u001b[0m     indent\u001b[38;5;241m=\u001b[39m\u001b[38;5;241m1\u001b[39m,\n\u001b[0;32m    275\u001b[0m     indent_at_name\u001b[38;5;241m=\u001b[39m\u001b[38;5;28;01mTrue\u001b[39;00m,\n\u001b[0;32m    276\u001b[0m     n_max_elements_to_show\u001b[38;5;241m=\u001b[39mN_MAX_ELEMENTS_TO_SHOW,\n\u001b[0;32m    277\u001b[0m )\n\u001b[1;32m--> 279\u001b[0m repr_ \u001b[38;5;241m=\u001b[39m \u001b[43mpp\u001b[49m\u001b[38;5;241;43m.\u001b[39;49m\u001b[43mpformat\u001b[49m\u001b[43m(\u001b[49m\u001b[38;5;28;43mself\u001b[39;49m\u001b[43m)\u001b[49m\n\u001b[0;32m    281\u001b[0m \u001b[38;5;66;03m# Use bruteforce ellipsis when there are a lot of non-blank characters\u001b[39;00m\n\u001b[0;32m    282\u001b[0m n_nonblank \u001b[38;5;241m=\u001b[39m \u001b[38;5;28mlen\u001b[39m(\u001b[38;5;124m\"\u001b[39m\u001b[38;5;124m\"\u001b[39m\u001b[38;5;241m.\u001b[39mjoin(repr_\u001b[38;5;241m.\u001b[39msplit()))\n",
      "File \u001b[1;32m~\\anaconda3\\lib\\pprint.py:153\u001b[0m, in \u001b[0;36mPrettyPrinter.pformat\u001b[1;34m(self, object)\u001b[0m\n\u001b[0;32m    151\u001b[0m \u001b[38;5;28;01mdef\u001b[39;00m \u001b[38;5;21mpformat\u001b[39m(\u001b[38;5;28mself\u001b[39m, \u001b[38;5;28mobject\u001b[39m):\n\u001b[0;32m    152\u001b[0m     sio \u001b[38;5;241m=\u001b[39m _StringIO()\n\u001b[1;32m--> 153\u001b[0m     \u001b[38;5;28;43mself\u001b[39;49m\u001b[38;5;241;43m.\u001b[39;49m\u001b[43m_format\u001b[49m\u001b[43m(\u001b[49m\u001b[38;5;28;43mobject\u001b[39;49m\u001b[43m,\u001b[49m\u001b[43m \u001b[49m\u001b[43msio\u001b[49m\u001b[43m,\u001b[49m\u001b[43m \u001b[49m\u001b[38;5;241;43m0\u001b[39;49m\u001b[43m,\u001b[49m\u001b[43m \u001b[49m\u001b[38;5;241;43m0\u001b[39;49m\u001b[43m,\u001b[49m\u001b[43m \u001b[49m\u001b[43m{\u001b[49m\u001b[43m}\u001b[49m\u001b[43m,\u001b[49m\u001b[43m \u001b[49m\u001b[38;5;241;43m0\u001b[39;49m\u001b[43m)\u001b[49m\n\u001b[0;32m    154\u001b[0m     \u001b[38;5;28;01mreturn\u001b[39;00m sio\u001b[38;5;241m.\u001b[39mgetvalue()\n",
      "File \u001b[1;32m~\\anaconda3\\lib\\pprint.py:170\u001b[0m, in \u001b[0;36mPrettyPrinter._format\u001b[1;34m(self, object, stream, indent, allowance, context, level)\u001b[0m\n\u001b[0;32m    168\u001b[0m     \u001b[38;5;28mself\u001b[39m\u001b[38;5;241m.\u001b[39m_readable \u001b[38;5;241m=\u001b[39m \u001b[38;5;28;01mFalse\u001b[39;00m\n\u001b[0;32m    169\u001b[0m     \u001b[38;5;28;01mreturn\u001b[39;00m\n\u001b[1;32m--> 170\u001b[0m rep \u001b[38;5;241m=\u001b[39m \u001b[38;5;28;43mself\u001b[39;49m\u001b[38;5;241;43m.\u001b[39;49m\u001b[43m_repr\u001b[49m\u001b[43m(\u001b[49m\u001b[38;5;28;43mobject\u001b[39;49m\u001b[43m,\u001b[49m\u001b[43m \u001b[49m\u001b[43mcontext\u001b[49m\u001b[43m,\u001b[49m\u001b[43m \u001b[49m\u001b[43mlevel\u001b[49m\u001b[43m)\u001b[49m\n\u001b[0;32m    171\u001b[0m max_width \u001b[38;5;241m=\u001b[39m \u001b[38;5;28mself\u001b[39m\u001b[38;5;241m.\u001b[39m_width \u001b[38;5;241m-\u001b[39m indent \u001b[38;5;241m-\u001b[39m allowance\n\u001b[0;32m    172\u001b[0m \u001b[38;5;28;01mif\u001b[39;00m \u001b[38;5;28mlen\u001b[39m(rep) \u001b[38;5;241m>\u001b[39m max_width:\n",
      "File \u001b[1;32m~\\anaconda3\\lib\\pprint.py:431\u001b[0m, in \u001b[0;36mPrettyPrinter._repr\u001b[1;34m(self, object, context, level)\u001b[0m\n\u001b[0;32m    430\u001b[0m \u001b[38;5;28;01mdef\u001b[39;00m \u001b[38;5;21m_repr\u001b[39m(\u001b[38;5;28mself\u001b[39m, \u001b[38;5;28mobject\u001b[39m, context, level):\n\u001b[1;32m--> 431\u001b[0m     \u001b[38;5;28mrepr\u001b[39m, readable, recursive \u001b[38;5;241m=\u001b[39m \u001b[38;5;28;43mself\u001b[39;49m\u001b[38;5;241;43m.\u001b[39;49m\u001b[43mformat\u001b[49m\u001b[43m(\u001b[49m\u001b[38;5;28;43mobject\u001b[39;49m\u001b[43m,\u001b[49m\u001b[43m \u001b[49m\u001b[43mcontext\u001b[49m\u001b[38;5;241;43m.\u001b[39;49m\u001b[43mcopy\u001b[49m\u001b[43m(\u001b[49m\u001b[43m)\u001b[49m\u001b[43m,\u001b[49m\n\u001b[0;32m    432\u001b[0m \u001b[43m                                            \u001b[49m\u001b[38;5;28;43mself\u001b[39;49m\u001b[38;5;241;43m.\u001b[39;49m\u001b[43m_depth\u001b[49m\u001b[43m,\u001b[49m\u001b[43m \u001b[49m\u001b[43mlevel\u001b[49m\u001b[43m)\u001b[49m\n\u001b[0;32m    433\u001b[0m     \u001b[38;5;28;01mif\u001b[39;00m \u001b[38;5;129;01mnot\u001b[39;00m readable:\n\u001b[0;32m    434\u001b[0m         \u001b[38;5;28mself\u001b[39m\u001b[38;5;241m.\u001b[39m_readable \u001b[38;5;241m=\u001b[39m \u001b[38;5;28;01mFalse\u001b[39;00m\n",
      "File \u001b[1;32m~\\anaconda3\\lib\\site-packages\\sklearn\\utils\\_pprint.py:189\u001b[0m, in \u001b[0;36m_EstimatorPrettyPrinter.format\u001b[1;34m(self, object, context, maxlevels, level)\u001b[0m\n\u001b[0;32m    188\u001b[0m \u001b[38;5;28;01mdef\u001b[39;00m \u001b[38;5;21mformat\u001b[39m(\u001b[38;5;28mself\u001b[39m, \u001b[38;5;28mobject\u001b[39m, context, maxlevels, level):\n\u001b[1;32m--> 189\u001b[0m     \u001b[38;5;28;01mreturn\u001b[39;00m \u001b[43m_safe_repr\u001b[49m\u001b[43m(\u001b[49m\n\u001b[0;32m    190\u001b[0m \u001b[43m        \u001b[49m\u001b[38;5;28;43mobject\u001b[39;49m\u001b[43m,\u001b[49m\u001b[43m \u001b[49m\u001b[43mcontext\u001b[49m\u001b[43m,\u001b[49m\u001b[43m \u001b[49m\u001b[43mmaxlevels\u001b[49m\u001b[43m,\u001b[49m\u001b[43m \u001b[49m\u001b[43mlevel\u001b[49m\u001b[43m,\u001b[49m\u001b[43m \u001b[49m\u001b[43mchanged_only\u001b[49m\u001b[38;5;241;43m=\u001b[39;49m\u001b[38;5;28;43mself\u001b[39;49m\u001b[38;5;241;43m.\u001b[39;49m\u001b[43m_changed_only\u001b[49m\n\u001b[0;32m    191\u001b[0m \u001b[43m    \u001b[49m\u001b[43m)\u001b[49m\n",
      "File \u001b[1;32m~\\anaconda3\\lib\\site-packages\\sklearn\\utils\\_pprint.py:440\u001b[0m, in \u001b[0;36m_safe_repr\u001b[1;34m(object, context, maxlevels, level, changed_only)\u001b[0m\n\u001b[0;32m    438\u001b[0m recursive \u001b[38;5;241m=\u001b[39m \u001b[38;5;28;01mFalse\u001b[39;00m\n\u001b[0;32m    439\u001b[0m \u001b[38;5;28;01mif\u001b[39;00m changed_only:\n\u001b[1;32m--> 440\u001b[0m     params \u001b[38;5;241m=\u001b[39m \u001b[43m_changed_params\u001b[49m\u001b[43m(\u001b[49m\u001b[38;5;28;43mobject\u001b[39;49m\u001b[43m)\u001b[49m\n\u001b[0;32m    441\u001b[0m \u001b[38;5;28;01melse\u001b[39;00m:\n\u001b[0;32m    442\u001b[0m     params \u001b[38;5;241m=\u001b[39m \u001b[38;5;28mobject\u001b[39m\u001b[38;5;241m.\u001b[39mget_params(deep\u001b[38;5;241m=\u001b[39m\u001b[38;5;28;01mFalse\u001b[39;00m)\n",
      "File \u001b[1;32m~\\anaconda3\\lib\\site-packages\\sklearn\\utils\\_pprint.py:93\u001b[0m, in \u001b[0;36m_changed_params\u001b[1;34m(estimator)\u001b[0m\n\u001b[0;32m     89\u001b[0m \u001b[38;5;28;01mdef\u001b[39;00m \u001b[38;5;21m_changed_params\u001b[39m(estimator):\n\u001b[0;32m     90\u001b[0m     \u001b[38;5;124;03m\"\"\"Return dict (param_name: value) of parameters that were given to\u001b[39;00m\n\u001b[0;32m     91\u001b[0m \u001b[38;5;124;03m    estimator with non-default values.\"\"\"\u001b[39;00m\n\u001b[1;32m---> 93\u001b[0m     params \u001b[38;5;241m=\u001b[39m \u001b[43mestimator\u001b[49m\u001b[38;5;241;43m.\u001b[39;49m\u001b[43mget_params\u001b[49m\u001b[43m(\u001b[49m\u001b[43mdeep\u001b[49m\u001b[38;5;241;43m=\u001b[39;49m\u001b[38;5;28;43;01mFalse\u001b[39;49;00m\u001b[43m)\u001b[49m\n\u001b[0;32m     94\u001b[0m     init_func \u001b[38;5;241m=\u001b[39m \u001b[38;5;28mgetattr\u001b[39m(estimator\u001b[38;5;241m.\u001b[39m\u001b[38;5;21m__init__\u001b[39m, \u001b[38;5;124m\"\u001b[39m\u001b[38;5;124mdeprecated_original\u001b[39m\u001b[38;5;124m\"\u001b[39m, estimator\u001b[38;5;241m.\u001b[39m\u001b[38;5;21m__init__\u001b[39m)\n\u001b[0;32m     95\u001b[0m     init_params \u001b[38;5;241m=\u001b[39m inspect\u001b[38;5;241m.\u001b[39msignature(init_func)\u001b[38;5;241m.\u001b[39mparameters\n",
      "File \u001b[1;32m~\\anaconda3\\lib\\site-packages\\sklearn\\base.py:210\u001b[0m, in \u001b[0;36mBaseEstimator.get_params\u001b[1;34m(self, deep)\u001b[0m\n\u001b[0;32m    208\u001b[0m out \u001b[38;5;241m=\u001b[39m \u001b[38;5;28mdict\u001b[39m()\n\u001b[0;32m    209\u001b[0m \u001b[38;5;28;01mfor\u001b[39;00m key \u001b[38;5;129;01min\u001b[39;00m \u001b[38;5;28mself\u001b[39m\u001b[38;5;241m.\u001b[39m_get_param_names():\n\u001b[1;32m--> 210\u001b[0m     value \u001b[38;5;241m=\u001b[39m \u001b[38;5;28;43mgetattr\u001b[39;49m\u001b[43m(\u001b[49m\u001b[38;5;28;43mself\u001b[39;49m\u001b[43m,\u001b[49m\u001b[43m \u001b[49m\u001b[43mkey\u001b[49m\u001b[43m)\u001b[49m\n\u001b[0;32m    211\u001b[0m     \u001b[38;5;28;01mif\u001b[39;00m deep \u001b[38;5;129;01mand\u001b[39;00m \u001b[38;5;28mhasattr\u001b[39m(value, \u001b[38;5;124m\"\u001b[39m\u001b[38;5;124mget_params\u001b[39m\u001b[38;5;124m\"\u001b[39m):\n\u001b[0;32m    212\u001b[0m         deep_items \u001b[38;5;241m=\u001b[39m value\u001b[38;5;241m.\u001b[39mget_params()\u001b[38;5;241m.\u001b[39mitems()\n",
      "\u001b[1;31mAttributeError\u001b[0m: 'GridSearchReduction' object has no attribute 'constraints'"
     ]
    },
    {
     "ename": "AttributeError",
     "evalue": "'GridSearchReduction' object has no attribute 'constraints'",
     "output_type": "error",
     "traceback": [
      "\u001b[1;31m---------------------------------------------------------------------------\u001b[0m",
      "\u001b[1;31mAttributeError\u001b[0m                            Traceback (most recent call last)",
      "File \u001b[1;32m~\\anaconda3\\lib\\site-packages\\IPython\\core\\formatters.py:707\u001b[0m, in \u001b[0;36mPlainTextFormatter.__call__\u001b[1;34m(self, obj)\u001b[0m\n\u001b[0;32m    700\u001b[0m stream \u001b[38;5;241m=\u001b[39m StringIO()\n\u001b[0;32m    701\u001b[0m printer \u001b[38;5;241m=\u001b[39m pretty\u001b[38;5;241m.\u001b[39mRepresentationPrinter(stream, \u001b[38;5;28mself\u001b[39m\u001b[38;5;241m.\u001b[39mverbose,\n\u001b[0;32m    702\u001b[0m     \u001b[38;5;28mself\u001b[39m\u001b[38;5;241m.\u001b[39mmax_width, \u001b[38;5;28mself\u001b[39m\u001b[38;5;241m.\u001b[39mnewline,\n\u001b[0;32m    703\u001b[0m     max_seq_length\u001b[38;5;241m=\u001b[39m\u001b[38;5;28mself\u001b[39m\u001b[38;5;241m.\u001b[39mmax_seq_length,\n\u001b[0;32m    704\u001b[0m     singleton_pprinters\u001b[38;5;241m=\u001b[39m\u001b[38;5;28mself\u001b[39m\u001b[38;5;241m.\u001b[39msingleton_printers,\n\u001b[0;32m    705\u001b[0m     type_pprinters\u001b[38;5;241m=\u001b[39m\u001b[38;5;28mself\u001b[39m\u001b[38;5;241m.\u001b[39mtype_printers,\n\u001b[0;32m    706\u001b[0m     deferred_pprinters\u001b[38;5;241m=\u001b[39m\u001b[38;5;28mself\u001b[39m\u001b[38;5;241m.\u001b[39mdeferred_printers)\n\u001b[1;32m--> 707\u001b[0m \u001b[43mprinter\u001b[49m\u001b[38;5;241;43m.\u001b[39;49m\u001b[43mpretty\u001b[49m\u001b[43m(\u001b[49m\u001b[43mobj\u001b[49m\u001b[43m)\u001b[49m\n\u001b[0;32m    708\u001b[0m printer\u001b[38;5;241m.\u001b[39mflush()\n\u001b[0;32m    709\u001b[0m \u001b[38;5;28;01mreturn\u001b[39;00m stream\u001b[38;5;241m.\u001b[39mgetvalue()\n",
      "File \u001b[1;32m~\\anaconda3\\lib\\site-packages\\IPython\\lib\\pretty.py:410\u001b[0m, in \u001b[0;36mRepresentationPrinter.pretty\u001b[1;34m(self, obj)\u001b[0m\n\u001b[0;32m    407\u001b[0m                         \u001b[38;5;28;01mreturn\u001b[39;00m meth(obj, \u001b[38;5;28mself\u001b[39m, cycle)\n\u001b[0;32m    408\u001b[0m                 \u001b[38;5;28;01mif\u001b[39;00m \u001b[38;5;28mcls\u001b[39m \u001b[38;5;129;01mis\u001b[39;00m \u001b[38;5;129;01mnot\u001b[39;00m \u001b[38;5;28mobject\u001b[39m \\\n\u001b[0;32m    409\u001b[0m                         \u001b[38;5;129;01mand\u001b[39;00m callable(\u001b[38;5;28mcls\u001b[39m\u001b[38;5;241m.\u001b[39m\u001b[38;5;18m__dict__\u001b[39m\u001b[38;5;241m.\u001b[39mget(\u001b[38;5;124m'\u001b[39m\u001b[38;5;124m__repr__\u001b[39m\u001b[38;5;124m'\u001b[39m)):\n\u001b[1;32m--> 410\u001b[0m                     \u001b[38;5;28;01mreturn\u001b[39;00m \u001b[43m_repr_pprint\u001b[49m\u001b[43m(\u001b[49m\u001b[43mobj\u001b[49m\u001b[43m,\u001b[49m\u001b[43m \u001b[49m\u001b[38;5;28;43mself\u001b[39;49m\u001b[43m,\u001b[49m\u001b[43m \u001b[49m\u001b[43mcycle\u001b[49m\u001b[43m)\u001b[49m\n\u001b[0;32m    412\u001b[0m     \u001b[38;5;28;01mreturn\u001b[39;00m _default_pprint(obj, \u001b[38;5;28mself\u001b[39m, cycle)\n\u001b[0;32m    413\u001b[0m \u001b[38;5;28;01mfinally\u001b[39;00m:\n",
      "File \u001b[1;32m~\\anaconda3\\lib\\site-packages\\IPython\\lib\\pretty.py:778\u001b[0m, in \u001b[0;36m_repr_pprint\u001b[1;34m(obj, p, cycle)\u001b[0m\n\u001b[0;32m    776\u001b[0m \u001b[38;5;124;03m\"\"\"A pprint that just redirects to the normal repr function.\"\"\"\u001b[39;00m\n\u001b[0;32m    777\u001b[0m \u001b[38;5;66;03m# Find newlines and replace them with p.break_()\u001b[39;00m\n\u001b[1;32m--> 778\u001b[0m output \u001b[38;5;241m=\u001b[39m \u001b[38;5;28;43mrepr\u001b[39;49m\u001b[43m(\u001b[49m\u001b[43mobj\u001b[49m\u001b[43m)\u001b[49m\n\u001b[0;32m    779\u001b[0m lines \u001b[38;5;241m=\u001b[39m output\u001b[38;5;241m.\u001b[39msplitlines()\n\u001b[0;32m    780\u001b[0m \u001b[38;5;28;01mwith\u001b[39;00m p\u001b[38;5;241m.\u001b[39mgroup():\n",
      "File \u001b[1;32m~\\anaconda3\\lib\\site-packages\\sklearn\\base.py:279\u001b[0m, in \u001b[0;36mBaseEstimator.__repr__\u001b[1;34m(self, N_CHAR_MAX)\u001b[0m\n\u001b[0;32m    271\u001b[0m \u001b[38;5;66;03m# use ellipsis for sequences with a lot of elements\u001b[39;00m\n\u001b[0;32m    272\u001b[0m pp \u001b[38;5;241m=\u001b[39m _EstimatorPrettyPrinter(\n\u001b[0;32m    273\u001b[0m     compact\u001b[38;5;241m=\u001b[39m\u001b[38;5;28;01mTrue\u001b[39;00m,\n\u001b[0;32m    274\u001b[0m     indent\u001b[38;5;241m=\u001b[39m\u001b[38;5;241m1\u001b[39m,\n\u001b[0;32m    275\u001b[0m     indent_at_name\u001b[38;5;241m=\u001b[39m\u001b[38;5;28;01mTrue\u001b[39;00m,\n\u001b[0;32m    276\u001b[0m     n_max_elements_to_show\u001b[38;5;241m=\u001b[39mN_MAX_ELEMENTS_TO_SHOW,\n\u001b[0;32m    277\u001b[0m )\n\u001b[1;32m--> 279\u001b[0m repr_ \u001b[38;5;241m=\u001b[39m \u001b[43mpp\u001b[49m\u001b[38;5;241;43m.\u001b[39;49m\u001b[43mpformat\u001b[49m\u001b[43m(\u001b[49m\u001b[38;5;28;43mself\u001b[39;49m\u001b[43m)\u001b[49m\n\u001b[0;32m    281\u001b[0m \u001b[38;5;66;03m# Use bruteforce ellipsis when there are a lot of non-blank characters\u001b[39;00m\n\u001b[0;32m    282\u001b[0m n_nonblank \u001b[38;5;241m=\u001b[39m \u001b[38;5;28mlen\u001b[39m(\u001b[38;5;124m\"\u001b[39m\u001b[38;5;124m\"\u001b[39m\u001b[38;5;241m.\u001b[39mjoin(repr_\u001b[38;5;241m.\u001b[39msplit()))\n",
      "File \u001b[1;32m~\\anaconda3\\lib\\pprint.py:153\u001b[0m, in \u001b[0;36mPrettyPrinter.pformat\u001b[1;34m(self, object)\u001b[0m\n\u001b[0;32m    151\u001b[0m \u001b[38;5;28;01mdef\u001b[39;00m \u001b[38;5;21mpformat\u001b[39m(\u001b[38;5;28mself\u001b[39m, \u001b[38;5;28mobject\u001b[39m):\n\u001b[0;32m    152\u001b[0m     sio \u001b[38;5;241m=\u001b[39m _StringIO()\n\u001b[1;32m--> 153\u001b[0m     \u001b[38;5;28;43mself\u001b[39;49m\u001b[38;5;241;43m.\u001b[39;49m\u001b[43m_format\u001b[49m\u001b[43m(\u001b[49m\u001b[38;5;28;43mobject\u001b[39;49m\u001b[43m,\u001b[49m\u001b[43m \u001b[49m\u001b[43msio\u001b[49m\u001b[43m,\u001b[49m\u001b[43m \u001b[49m\u001b[38;5;241;43m0\u001b[39;49m\u001b[43m,\u001b[49m\u001b[43m \u001b[49m\u001b[38;5;241;43m0\u001b[39;49m\u001b[43m,\u001b[49m\u001b[43m \u001b[49m\u001b[43m{\u001b[49m\u001b[43m}\u001b[49m\u001b[43m,\u001b[49m\u001b[43m \u001b[49m\u001b[38;5;241;43m0\u001b[39;49m\u001b[43m)\u001b[49m\n\u001b[0;32m    154\u001b[0m     \u001b[38;5;28;01mreturn\u001b[39;00m sio\u001b[38;5;241m.\u001b[39mgetvalue()\n",
      "File \u001b[1;32m~\\anaconda3\\lib\\pprint.py:170\u001b[0m, in \u001b[0;36mPrettyPrinter._format\u001b[1;34m(self, object, stream, indent, allowance, context, level)\u001b[0m\n\u001b[0;32m    168\u001b[0m     \u001b[38;5;28mself\u001b[39m\u001b[38;5;241m.\u001b[39m_readable \u001b[38;5;241m=\u001b[39m \u001b[38;5;28;01mFalse\u001b[39;00m\n\u001b[0;32m    169\u001b[0m     \u001b[38;5;28;01mreturn\u001b[39;00m\n\u001b[1;32m--> 170\u001b[0m rep \u001b[38;5;241m=\u001b[39m \u001b[38;5;28;43mself\u001b[39;49m\u001b[38;5;241;43m.\u001b[39;49m\u001b[43m_repr\u001b[49m\u001b[43m(\u001b[49m\u001b[38;5;28;43mobject\u001b[39;49m\u001b[43m,\u001b[49m\u001b[43m \u001b[49m\u001b[43mcontext\u001b[49m\u001b[43m,\u001b[49m\u001b[43m \u001b[49m\u001b[43mlevel\u001b[49m\u001b[43m)\u001b[49m\n\u001b[0;32m    171\u001b[0m max_width \u001b[38;5;241m=\u001b[39m \u001b[38;5;28mself\u001b[39m\u001b[38;5;241m.\u001b[39m_width \u001b[38;5;241m-\u001b[39m indent \u001b[38;5;241m-\u001b[39m allowance\n\u001b[0;32m    172\u001b[0m \u001b[38;5;28;01mif\u001b[39;00m \u001b[38;5;28mlen\u001b[39m(rep) \u001b[38;5;241m>\u001b[39m max_width:\n",
      "File \u001b[1;32m~\\anaconda3\\lib\\pprint.py:431\u001b[0m, in \u001b[0;36mPrettyPrinter._repr\u001b[1;34m(self, object, context, level)\u001b[0m\n\u001b[0;32m    430\u001b[0m \u001b[38;5;28;01mdef\u001b[39;00m \u001b[38;5;21m_repr\u001b[39m(\u001b[38;5;28mself\u001b[39m, \u001b[38;5;28mobject\u001b[39m, context, level):\n\u001b[1;32m--> 431\u001b[0m     \u001b[38;5;28mrepr\u001b[39m, readable, recursive \u001b[38;5;241m=\u001b[39m \u001b[38;5;28;43mself\u001b[39;49m\u001b[38;5;241;43m.\u001b[39;49m\u001b[43mformat\u001b[49m\u001b[43m(\u001b[49m\u001b[38;5;28;43mobject\u001b[39;49m\u001b[43m,\u001b[49m\u001b[43m \u001b[49m\u001b[43mcontext\u001b[49m\u001b[38;5;241;43m.\u001b[39;49m\u001b[43mcopy\u001b[49m\u001b[43m(\u001b[49m\u001b[43m)\u001b[49m\u001b[43m,\u001b[49m\n\u001b[0;32m    432\u001b[0m \u001b[43m                                            \u001b[49m\u001b[38;5;28;43mself\u001b[39;49m\u001b[38;5;241;43m.\u001b[39;49m\u001b[43m_depth\u001b[49m\u001b[43m,\u001b[49m\u001b[43m \u001b[49m\u001b[43mlevel\u001b[49m\u001b[43m)\u001b[49m\n\u001b[0;32m    433\u001b[0m     \u001b[38;5;28;01mif\u001b[39;00m \u001b[38;5;129;01mnot\u001b[39;00m readable:\n\u001b[0;32m    434\u001b[0m         \u001b[38;5;28mself\u001b[39m\u001b[38;5;241m.\u001b[39m_readable \u001b[38;5;241m=\u001b[39m \u001b[38;5;28;01mFalse\u001b[39;00m\n",
      "File \u001b[1;32m~\\anaconda3\\lib\\site-packages\\sklearn\\utils\\_pprint.py:189\u001b[0m, in \u001b[0;36m_EstimatorPrettyPrinter.format\u001b[1;34m(self, object, context, maxlevels, level)\u001b[0m\n\u001b[0;32m    188\u001b[0m \u001b[38;5;28;01mdef\u001b[39;00m \u001b[38;5;21mformat\u001b[39m(\u001b[38;5;28mself\u001b[39m, \u001b[38;5;28mobject\u001b[39m, context, maxlevels, level):\n\u001b[1;32m--> 189\u001b[0m     \u001b[38;5;28;01mreturn\u001b[39;00m \u001b[43m_safe_repr\u001b[49m\u001b[43m(\u001b[49m\n\u001b[0;32m    190\u001b[0m \u001b[43m        \u001b[49m\u001b[38;5;28;43mobject\u001b[39;49m\u001b[43m,\u001b[49m\u001b[43m \u001b[49m\u001b[43mcontext\u001b[49m\u001b[43m,\u001b[49m\u001b[43m \u001b[49m\u001b[43mmaxlevels\u001b[49m\u001b[43m,\u001b[49m\u001b[43m \u001b[49m\u001b[43mlevel\u001b[49m\u001b[43m,\u001b[49m\u001b[43m \u001b[49m\u001b[43mchanged_only\u001b[49m\u001b[38;5;241;43m=\u001b[39;49m\u001b[38;5;28;43mself\u001b[39;49m\u001b[38;5;241;43m.\u001b[39;49m\u001b[43m_changed_only\u001b[49m\n\u001b[0;32m    191\u001b[0m \u001b[43m    \u001b[49m\u001b[43m)\u001b[49m\n",
      "File \u001b[1;32m~\\anaconda3\\lib\\site-packages\\sklearn\\utils\\_pprint.py:440\u001b[0m, in \u001b[0;36m_safe_repr\u001b[1;34m(object, context, maxlevels, level, changed_only)\u001b[0m\n\u001b[0;32m    438\u001b[0m recursive \u001b[38;5;241m=\u001b[39m \u001b[38;5;28;01mFalse\u001b[39;00m\n\u001b[0;32m    439\u001b[0m \u001b[38;5;28;01mif\u001b[39;00m changed_only:\n\u001b[1;32m--> 440\u001b[0m     params \u001b[38;5;241m=\u001b[39m \u001b[43m_changed_params\u001b[49m\u001b[43m(\u001b[49m\u001b[38;5;28;43mobject\u001b[39;49m\u001b[43m)\u001b[49m\n\u001b[0;32m    441\u001b[0m \u001b[38;5;28;01melse\u001b[39;00m:\n\u001b[0;32m    442\u001b[0m     params \u001b[38;5;241m=\u001b[39m \u001b[38;5;28mobject\u001b[39m\u001b[38;5;241m.\u001b[39mget_params(deep\u001b[38;5;241m=\u001b[39m\u001b[38;5;28;01mFalse\u001b[39;00m)\n",
      "File \u001b[1;32m~\\anaconda3\\lib\\site-packages\\sklearn\\utils\\_pprint.py:93\u001b[0m, in \u001b[0;36m_changed_params\u001b[1;34m(estimator)\u001b[0m\n\u001b[0;32m     89\u001b[0m \u001b[38;5;28;01mdef\u001b[39;00m \u001b[38;5;21m_changed_params\u001b[39m(estimator):\n\u001b[0;32m     90\u001b[0m     \u001b[38;5;124;03m\"\"\"Return dict (param_name: value) of parameters that were given to\u001b[39;00m\n\u001b[0;32m     91\u001b[0m \u001b[38;5;124;03m    estimator with non-default values.\"\"\"\u001b[39;00m\n\u001b[1;32m---> 93\u001b[0m     params \u001b[38;5;241m=\u001b[39m \u001b[43mestimator\u001b[49m\u001b[38;5;241;43m.\u001b[39;49m\u001b[43mget_params\u001b[49m\u001b[43m(\u001b[49m\u001b[43mdeep\u001b[49m\u001b[38;5;241;43m=\u001b[39;49m\u001b[38;5;28;43;01mFalse\u001b[39;49;00m\u001b[43m)\u001b[49m\n\u001b[0;32m     94\u001b[0m     init_func \u001b[38;5;241m=\u001b[39m \u001b[38;5;28mgetattr\u001b[39m(estimator\u001b[38;5;241m.\u001b[39m\u001b[38;5;21m__init__\u001b[39m, \u001b[38;5;124m\"\u001b[39m\u001b[38;5;124mdeprecated_original\u001b[39m\u001b[38;5;124m\"\u001b[39m, estimator\u001b[38;5;241m.\u001b[39m\u001b[38;5;21m__init__\u001b[39m)\n\u001b[0;32m     95\u001b[0m     init_params \u001b[38;5;241m=\u001b[39m inspect\u001b[38;5;241m.\u001b[39msignature(init_func)\u001b[38;5;241m.\u001b[39mparameters\n",
      "File \u001b[1;32m~\\anaconda3\\lib\\site-packages\\sklearn\\base.py:210\u001b[0m, in \u001b[0;36mBaseEstimator.get_params\u001b[1;34m(self, deep)\u001b[0m\n\u001b[0;32m    208\u001b[0m out \u001b[38;5;241m=\u001b[39m \u001b[38;5;28mdict\u001b[39m()\n\u001b[0;32m    209\u001b[0m \u001b[38;5;28;01mfor\u001b[39;00m key \u001b[38;5;129;01min\u001b[39;00m \u001b[38;5;28mself\u001b[39m\u001b[38;5;241m.\u001b[39m_get_param_names():\n\u001b[1;32m--> 210\u001b[0m     value \u001b[38;5;241m=\u001b[39m \u001b[38;5;28;43mgetattr\u001b[39;49m\u001b[43m(\u001b[49m\u001b[38;5;28;43mself\u001b[39;49m\u001b[43m,\u001b[49m\u001b[43m \u001b[49m\u001b[43mkey\u001b[49m\u001b[43m)\u001b[49m\n\u001b[0;32m    211\u001b[0m     \u001b[38;5;28;01mif\u001b[39;00m deep \u001b[38;5;129;01mand\u001b[39;00m \u001b[38;5;28mhasattr\u001b[39m(value, \u001b[38;5;124m\"\u001b[39m\u001b[38;5;124mget_params\u001b[39m\u001b[38;5;124m\"\u001b[39m):\n\u001b[0;32m    212\u001b[0m         deep_items \u001b[38;5;241m=\u001b[39m value\u001b[38;5;241m.\u001b[39mget_params()\u001b[38;5;241m.\u001b[39mitems()\n",
      "\u001b[1;31mAttributeError\u001b[0m: 'GridSearchReduction' object has no attribute 'constraints'"
     ]
    }
   ],
   "source": [
    "model_lr_aif = LogisticRegression(solver='liblinear', \n",
    "                                            penalty = 'l2', \n",
    "                                            class_weight = 'balanced')\n",
    "\n",
    "grid_search_red = GridSearchReduction(prot_attr=prot_attr_cols, \n",
    "                                      estimator=model_lr_aif, \n",
    "                                      constraints=\"EqualizedOdds\",\n",
    "                                      grid_size=20,\n",
    "                                      drop_prot_attr=False)\n",
    "grid_search_red.fit(X_train_aif, y_train_aif)"
   ]
  },
  {
   "cell_type": "code",
   "execution_count": 31,
   "id": "da5deb99",
   "metadata": {},
   "outputs": [
    {
     "name": "stderr",
     "output_type": "stream",
     "text": [
      "Using the level keyword in DataFrame and Series aggregations is deprecated and will be removed in a future version. Use groupby instead. df.sum(level=1) should use df.groupby(level=1).sum().\n",
      "Using the level keyword in DataFrame and Series aggregations is deprecated and will be removed in a future version. Use groupby instead. df.sum(level=1) should use df.groupby(level=1).sum().\n",
      "Using the level keyword in DataFrame and Series aggregations is deprecated and will be removed in a future version. Use groupby instead. df.sum(level=1) should use df.groupby(level=1).sum().\n",
      "Using the level keyword in DataFrame and Series aggregations is deprecated and will be removed in a future version. Use groupby instead. df.sum(level=1) should use df.groupby(level=1).sum().\n",
      "Using the level keyword in DataFrame and Series aggregations is deprecated and will be removed in a future version. Use groupby instead. df.sum(level=1) should use df.groupby(level=1).sum().\n",
      "Using the level keyword in DataFrame and Series aggregations is deprecated and will be removed in a future version. Use groupby instead. df.sum(level=1) should use df.groupby(level=1).sum().\n",
      "Using the level keyword in DataFrame and Series aggregations is deprecated and will be removed in a future version. Use groupby instead. df.sum(level=1) should use df.groupby(level=1).sum().\n",
      "Using the level keyword in DataFrame and Series aggregations is deprecated and will be removed in a future version. Use groupby instead. df.sum(level=1) should use df.groupby(level=1).sum().\n",
      "Using the level keyword in DataFrame and Series aggregations is deprecated and will be removed in a future version. Use groupby instead. df.sum(level=1) should use df.groupby(level=1).sum().\n",
      "Using the level keyword in DataFrame and Series aggregations is deprecated and will be removed in a future version. Use groupby instead. df.sum(level=1) should use df.groupby(level=1).sum().\n",
      "Using the level keyword in DataFrame and Series aggregations is deprecated and will be removed in a future version. Use groupby instead. df.sum(level=1) should use df.groupby(level=1).sum().\n",
      "Using the level keyword in DataFrame and Series aggregations is deprecated and will be removed in a future version. Use groupby instead. df.sum(level=1) should use df.groupby(level=1).sum().\n",
      "Using the level keyword in DataFrame and Series aggregations is deprecated and will be removed in a future version. Use groupby instead. df.sum(level=1) should use df.groupby(level=1).sum().\n",
      "Using the level keyword in DataFrame and Series aggregations is deprecated and will be removed in a future version. Use groupby instead. df.sum(level=1) should use df.groupby(level=1).sum().\n",
      "Using the level keyword in DataFrame and Series aggregations is deprecated and will be removed in a future version. Use groupby instead. df.sum(level=1) should use df.groupby(level=1).sum().\n",
      "Using the level keyword in DataFrame and Series aggregations is deprecated and will be removed in a future version. Use groupby instead. df.sum(level=1) should use df.groupby(level=1).sum().\n",
      "Using the level keyword in DataFrame and Series aggregations is deprecated and will be removed in a future version. Use groupby instead. df.sum(level=1) should use df.groupby(level=1).sum().\n",
      "Using the level keyword in DataFrame and Series aggregations is deprecated and will be removed in a future version. Use groupby instead. df.sum(level=1) should use df.groupby(level=1).sum().\n",
      "Using the level keyword in DataFrame and Series aggregations is deprecated and will be removed in a future version. Use groupby instead. df.sum(level=1) should use df.groupby(level=1).sum().\n",
      "Using the level keyword in DataFrame and Series aggregations is deprecated and will be removed in a future version. Use groupby instead. df.sum(level=1) should use df.groupby(level=1).sum().\n"
     ]
    },
    {
     "ename": "AttributeError",
     "evalue": "'ExponentiatedGradientReduction' object has no attribute 'constraints'",
     "output_type": "error",
     "traceback": [
      "\u001b[1;31m---------------------------------------------------------------------------\u001b[0m",
      "\u001b[1;31mAttributeError\u001b[0m                            Traceback (most recent call last)",
      "File \u001b[1;32m~\\anaconda3\\lib\\site-packages\\IPython\\core\\formatters.py:973\u001b[0m, in \u001b[0;36mMimeBundleFormatter.__call__\u001b[1;34m(self, obj, include, exclude)\u001b[0m\n\u001b[0;32m    970\u001b[0m     method \u001b[38;5;241m=\u001b[39m get_real_method(obj, \u001b[38;5;28mself\u001b[39m\u001b[38;5;241m.\u001b[39mprint_method)\n\u001b[0;32m    972\u001b[0m     \u001b[38;5;28;01mif\u001b[39;00m method \u001b[38;5;129;01mis\u001b[39;00m \u001b[38;5;129;01mnot\u001b[39;00m \u001b[38;5;28;01mNone\u001b[39;00m:\n\u001b[1;32m--> 973\u001b[0m         \u001b[38;5;28;01mreturn\u001b[39;00m \u001b[43mmethod\u001b[49m\u001b[43m(\u001b[49m\u001b[43minclude\u001b[49m\u001b[38;5;241;43m=\u001b[39;49m\u001b[43minclude\u001b[49m\u001b[43m,\u001b[49m\u001b[43m \u001b[49m\u001b[43mexclude\u001b[49m\u001b[38;5;241;43m=\u001b[39;49m\u001b[43mexclude\u001b[49m\u001b[43m)\u001b[49m\n\u001b[0;32m    974\u001b[0m     \u001b[38;5;28;01mreturn\u001b[39;00m \u001b[38;5;28;01mNone\u001b[39;00m\n\u001b[0;32m    975\u001b[0m \u001b[38;5;28;01melse\u001b[39;00m:\n",
      "File \u001b[1;32m~\\anaconda3\\lib\\site-packages\\sklearn\\base.py:614\u001b[0m, in \u001b[0;36mBaseEstimator._repr_mimebundle_\u001b[1;34m(self, **kwargs)\u001b[0m\n\u001b[0;32m    612\u001b[0m \u001b[38;5;28;01mdef\u001b[39;00m \u001b[38;5;21m_repr_mimebundle_\u001b[39m(\u001b[38;5;28mself\u001b[39m, \u001b[38;5;241m*\u001b[39m\u001b[38;5;241m*\u001b[39mkwargs):\n\u001b[0;32m    613\u001b[0m     \u001b[38;5;124;03m\"\"\"Mime bundle used by jupyter kernels to display estimator\"\"\"\u001b[39;00m\n\u001b[1;32m--> 614\u001b[0m     output \u001b[38;5;241m=\u001b[39m {\u001b[38;5;124m\"\u001b[39m\u001b[38;5;124mtext/plain\u001b[39m\u001b[38;5;124m\"\u001b[39m: \u001b[38;5;28;43mrepr\u001b[39;49m\u001b[43m(\u001b[49m\u001b[38;5;28;43mself\u001b[39;49m\u001b[43m)\u001b[49m}\n\u001b[0;32m    615\u001b[0m     \u001b[38;5;28;01mif\u001b[39;00m get_config()[\u001b[38;5;124m\"\u001b[39m\u001b[38;5;124mdisplay\u001b[39m\u001b[38;5;124m\"\u001b[39m] \u001b[38;5;241m==\u001b[39m \u001b[38;5;124m\"\u001b[39m\u001b[38;5;124mdiagram\u001b[39m\u001b[38;5;124m\"\u001b[39m:\n\u001b[0;32m    616\u001b[0m         output[\u001b[38;5;124m\"\u001b[39m\u001b[38;5;124mtext/html\u001b[39m\u001b[38;5;124m\"\u001b[39m] \u001b[38;5;241m=\u001b[39m estimator_html_repr(\u001b[38;5;28mself\u001b[39m)\n",
      "File \u001b[1;32m~\\anaconda3\\lib\\site-packages\\sklearn\\base.py:279\u001b[0m, in \u001b[0;36mBaseEstimator.__repr__\u001b[1;34m(self, N_CHAR_MAX)\u001b[0m\n\u001b[0;32m    271\u001b[0m \u001b[38;5;66;03m# use ellipsis for sequences with a lot of elements\u001b[39;00m\n\u001b[0;32m    272\u001b[0m pp \u001b[38;5;241m=\u001b[39m _EstimatorPrettyPrinter(\n\u001b[0;32m    273\u001b[0m     compact\u001b[38;5;241m=\u001b[39m\u001b[38;5;28;01mTrue\u001b[39;00m,\n\u001b[0;32m    274\u001b[0m     indent\u001b[38;5;241m=\u001b[39m\u001b[38;5;241m1\u001b[39m,\n\u001b[0;32m    275\u001b[0m     indent_at_name\u001b[38;5;241m=\u001b[39m\u001b[38;5;28;01mTrue\u001b[39;00m,\n\u001b[0;32m    276\u001b[0m     n_max_elements_to_show\u001b[38;5;241m=\u001b[39mN_MAX_ELEMENTS_TO_SHOW,\n\u001b[0;32m    277\u001b[0m )\n\u001b[1;32m--> 279\u001b[0m repr_ \u001b[38;5;241m=\u001b[39m \u001b[43mpp\u001b[49m\u001b[38;5;241;43m.\u001b[39;49m\u001b[43mpformat\u001b[49m\u001b[43m(\u001b[49m\u001b[38;5;28;43mself\u001b[39;49m\u001b[43m)\u001b[49m\n\u001b[0;32m    281\u001b[0m \u001b[38;5;66;03m# Use bruteforce ellipsis when there are a lot of non-blank characters\u001b[39;00m\n\u001b[0;32m    282\u001b[0m n_nonblank \u001b[38;5;241m=\u001b[39m \u001b[38;5;28mlen\u001b[39m(\u001b[38;5;124m\"\u001b[39m\u001b[38;5;124m\"\u001b[39m\u001b[38;5;241m.\u001b[39mjoin(repr_\u001b[38;5;241m.\u001b[39msplit()))\n",
      "File \u001b[1;32m~\\anaconda3\\lib\\pprint.py:153\u001b[0m, in \u001b[0;36mPrettyPrinter.pformat\u001b[1;34m(self, object)\u001b[0m\n\u001b[0;32m    151\u001b[0m \u001b[38;5;28;01mdef\u001b[39;00m \u001b[38;5;21mpformat\u001b[39m(\u001b[38;5;28mself\u001b[39m, \u001b[38;5;28mobject\u001b[39m):\n\u001b[0;32m    152\u001b[0m     sio \u001b[38;5;241m=\u001b[39m _StringIO()\n\u001b[1;32m--> 153\u001b[0m     \u001b[38;5;28;43mself\u001b[39;49m\u001b[38;5;241;43m.\u001b[39;49m\u001b[43m_format\u001b[49m\u001b[43m(\u001b[49m\u001b[38;5;28;43mobject\u001b[39;49m\u001b[43m,\u001b[49m\u001b[43m \u001b[49m\u001b[43msio\u001b[49m\u001b[43m,\u001b[49m\u001b[43m \u001b[49m\u001b[38;5;241;43m0\u001b[39;49m\u001b[43m,\u001b[49m\u001b[43m \u001b[49m\u001b[38;5;241;43m0\u001b[39;49m\u001b[43m,\u001b[49m\u001b[43m \u001b[49m\u001b[43m{\u001b[49m\u001b[43m}\u001b[49m\u001b[43m,\u001b[49m\u001b[43m \u001b[49m\u001b[38;5;241;43m0\u001b[39;49m\u001b[43m)\u001b[49m\n\u001b[0;32m    154\u001b[0m     \u001b[38;5;28;01mreturn\u001b[39;00m sio\u001b[38;5;241m.\u001b[39mgetvalue()\n",
      "File \u001b[1;32m~\\anaconda3\\lib\\pprint.py:170\u001b[0m, in \u001b[0;36mPrettyPrinter._format\u001b[1;34m(self, object, stream, indent, allowance, context, level)\u001b[0m\n\u001b[0;32m    168\u001b[0m     \u001b[38;5;28mself\u001b[39m\u001b[38;5;241m.\u001b[39m_readable \u001b[38;5;241m=\u001b[39m \u001b[38;5;28;01mFalse\u001b[39;00m\n\u001b[0;32m    169\u001b[0m     \u001b[38;5;28;01mreturn\u001b[39;00m\n\u001b[1;32m--> 170\u001b[0m rep \u001b[38;5;241m=\u001b[39m \u001b[38;5;28;43mself\u001b[39;49m\u001b[38;5;241;43m.\u001b[39;49m\u001b[43m_repr\u001b[49m\u001b[43m(\u001b[49m\u001b[38;5;28;43mobject\u001b[39;49m\u001b[43m,\u001b[49m\u001b[43m \u001b[49m\u001b[43mcontext\u001b[49m\u001b[43m,\u001b[49m\u001b[43m \u001b[49m\u001b[43mlevel\u001b[49m\u001b[43m)\u001b[49m\n\u001b[0;32m    171\u001b[0m max_width \u001b[38;5;241m=\u001b[39m \u001b[38;5;28mself\u001b[39m\u001b[38;5;241m.\u001b[39m_width \u001b[38;5;241m-\u001b[39m indent \u001b[38;5;241m-\u001b[39m allowance\n\u001b[0;32m    172\u001b[0m \u001b[38;5;28;01mif\u001b[39;00m \u001b[38;5;28mlen\u001b[39m(rep) \u001b[38;5;241m>\u001b[39m max_width:\n",
      "File \u001b[1;32m~\\anaconda3\\lib\\pprint.py:431\u001b[0m, in \u001b[0;36mPrettyPrinter._repr\u001b[1;34m(self, object, context, level)\u001b[0m\n\u001b[0;32m    430\u001b[0m \u001b[38;5;28;01mdef\u001b[39;00m \u001b[38;5;21m_repr\u001b[39m(\u001b[38;5;28mself\u001b[39m, \u001b[38;5;28mobject\u001b[39m, context, level):\n\u001b[1;32m--> 431\u001b[0m     \u001b[38;5;28mrepr\u001b[39m, readable, recursive \u001b[38;5;241m=\u001b[39m \u001b[38;5;28;43mself\u001b[39;49m\u001b[38;5;241;43m.\u001b[39;49m\u001b[43mformat\u001b[49m\u001b[43m(\u001b[49m\u001b[38;5;28;43mobject\u001b[39;49m\u001b[43m,\u001b[49m\u001b[43m \u001b[49m\u001b[43mcontext\u001b[49m\u001b[38;5;241;43m.\u001b[39;49m\u001b[43mcopy\u001b[49m\u001b[43m(\u001b[49m\u001b[43m)\u001b[49m\u001b[43m,\u001b[49m\n\u001b[0;32m    432\u001b[0m \u001b[43m                                            \u001b[49m\u001b[38;5;28;43mself\u001b[39;49m\u001b[38;5;241;43m.\u001b[39;49m\u001b[43m_depth\u001b[49m\u001b[43m,\u001b[49m\u001b[43m \u001b[49m\u001b[43mlevel\u001b[49m\u001b[43m)\u001b[49m\n\u001b[0;32m    433\u001b[0m     \u001b[38;5;28;01mif\u001b[39;00m \u001b[38;5;129;01mnot\u001b[39;00m readable:\n\u001b[0;32m    434\u001b[0m         \u001b[38;5;28mself\u001b[39m\u001b[38;5;241m.\u001b[39m_readable \u001b[38;5;241m=\u001b[39m \u001b[38;5;28;01mFalse\u001b[39;00m\n",
      "File \u001b[1;32m~\\anaconda3\\lib\\site-packages\\sklearn\\utils\\_pprint.py:189\u001b[0m, in \u001b[0;36m_EstimatorPrettyPrinter.format\u001b[1;34m(self, object, context, maxlevels, level)\u001b[0m\n\u001b[0;32m    188\u001b[0m \u001b[38;5;28;01mdef\u001b[39;00m \u001b[38;5;21mformat\u001b[39m(\u001b[38;5;28mself\u001b[39m, \u001b[38;5;28mobject\u001b[39m, context, maxlevels, level):\n\u001b[1;32m--> 189\u001b[0m     \u001b[38;5;28;01mreturn\u001b[39;00m \u001b[43m_safe_repr\u001b[49m\u001b[43m(\u001b[49m\n\u001b[0;32m    190\u001b[0m \u001b[43m        \u001b[49m\u001b[38;5;28;43mobject\u001b[39;49m\u001b[43m,\u001b[49m\u001b[43m \u001b[49m\u001b[43mcontext\u001b[49m\u001b[43m,\u001b[49m\u001b[43m \u001b[49m\u001b[43mmaxlevels\u001b[49m\u001b[43m,\u001b[49m\u001b[43m \u001b[49m\u001b[43mlevel\u001b[49m\u001b[43m,\u001b[49m\u001b[43m \u001b[49m\u001b[43mchanged_only\u001b[49m\u001b[38;5;241;43m=\u001b[39;49m\u001b[38;5;28;43mself\u001b[39;49m\u001b[38;5;241;43m.\u001b[39;49m\u001b[43m_changed_only\u001b[49m\n\u001b[0;32m    191\u001b[0m \u001b[43m    \u001b[49m\u001b[43m)\u001b[49m\n",
      "File \u001b[1;32m~\\anaconda3\\lib\\site-packages\\sklearn\\utils\\_pprint.py:440\u001b[0m, in \u001b[0;36m_safe_repr\u001b[1;34m(object, context, maxlevels, level, changed_only)\u001b[0m\n\u001b[0;32m    438\u001b[0m recursive \u001b[38;5;241m=\u001b[39m \u001b[38;5;28;01mFalse\u001b[39;00m\n\u001b[0;32m    439\u001b[0m \u001b[38;5;28;01mif\u001b[39;00m changed_only:\n\u001b[1;32m--> 440\u001b[0m     params \u001b[38;5;241m=\u001b[39m \u001b[43m_changed_params\u001b[49m\u001b[43m(\u001b[49m\u001b[38;5;28;43mobject\u001b[39;49m\u001b[43m)\u001b[49m\n\u001b[0;32m    441\u001b[0m \u001b[38;5;28;01melse\u001b[39;00m:\n\u001b[0;32m    442\u001b[0m     params \u001b[38;5;241m=\u001b[39m \u001b[38;5;28mobject\u001b[39m\u001b[38;5;241m.\u001b[39mget_params(deep\u001b[38;5;241m=\u001b[39m\u001b[38;5;28;01mFalse\u001b[39;00m)\n",
      "File \u001b[1;32m~\\anaconda3\\lib\\site-packages\\sklearn\\utils\\_pprint.py:93\u001b[0m, in \u001b[0;36m_changed_params\u001b[1;34m(estimator)\u001b[0m\n\u001b[0;32m     89\u001b[0m \u001b[38;5;28;01mdef\u001b[39;00m \u001b[38;5;21m_changed_params\u001b[39m(estimator):\n\u001b[0;32m     90\u001b[0m     \u001b[38;5;124;03m\"\"\"Return dict (param_name: value) of parameters that were given to\u001b[39;00m\n\u001b[0;32m     91\u001b[0m \u001b[38;5;124;03m    estimator with non-default values.\"\"\"\u001b[39;00m\n\u001b[1;32m---> 93\u001b[0m     params \u001b[38;5;241m=\u001b[39m \u001b[43mestimator\u001b[49m\u001b[38;5;241;43m.\u001b[39;49m\u001b[43mget_params\u001b[49m\u001b[43m(\u001b[49m\u001b[43mdeep\u001b[49m\u001b[38;5;241;43m=\u001b[39;49m\u001b[38;5;28;43;01mFalse\u001b[39;49;00m\u001b[43m)\u001b[49m\n\u001b[0;32m     94\u001b[0m     init_func \u001b[38;5;241m=\u001b[39m \u001b[38;5;28mgetattr\u001b[39m(estimator\u001b[38;5;241m.\u001b[39m\u001b[38;5;21m__init__\u001b[39m, \u001b[38;5;124m\"\u001b[39m\u001b[38;5;124mdeprecated_original\u001b[39m\u001b[38;5;124m\"\u001b[39m, estimator\u001b[38;5;241m.\u001b[39m\u001b[38;5;21m__init__\u001b[39m)\n\u001b[0;32m     95\u001b[0m     init_params \u001b[38;5;241m=\u001b[39m inspect\u001b[38;5;241m.\u001b[39msignature(init_func)\u001b[38;5;241m.\u001b[39mparameters\n",
      "File \u001b[1;32m~\\anaconda3\\lib\\site-packages\\sklearn\\base.py:210\u001b[0m, in \u001b[0;36mBaseEstimator.get_params\u001b[1;34m(self, deep)\u001b[0m\n\u001b[0;32m    208\u001b[0m out \u001b[38;5;241m=\u001b[39m \u001b[38;5;28mdict\u001b[39m()\n\u001b[0;32m    209\u001b[0m \u001b[38;5;28;01mfor\u001b[39;00m key \u001b[38;5;129;01min\u001b[39;00m \u001b[38;5;28mself\u001b[39m\u001b[38;5;241m.\u001b[39m_get_param_names():\n\u001b[1;32m--> 210\u001b[0m     value \u001b[38;5;241m=\u001b[39m \u001b[38;5;28;43mgetattr\u001b[39;49m\u001b[43m(\u001b[49m\u001b[38;5;28;43mself\u001b[39;49m\u001b[43m,\u001b[49m\u001b[43m \u001b[49m\u001b[43mkey\u001b[49m\u001b[43m)\u001b[49m\n\u001b[0;32m    211\u001b[0m     \u001b[38;5;28;01mif\u001b[39;00m deep \u001b[38;5;129;01mand\u001b[39;00m \u001b[38;5;28mhasattr\u001b[39m(value, \u001b[38;5;124m\"\u001b[39m\u001b[38;5;124mget_params\u001b[39m\u001b[38;5;124m\"\u001b[39m):\n\u001b[0;32m    212\u001b[0m         deep_items \u001b[38;5;241m=\u001b[39m value\u001b[38;5;241m.\u001b[39mget_params()\u001b[38;5;241m.\u001b[39mitems()\n",
      "\u001b[1;31mAttributeError\u001b[0m: 'ExponentiatedGradientReduction' object has no attribute 'constraints'"
     ]
    },
    {
     "ename": "AttributeError",
     "evalue": "'ExponentiatedGradientReduction' object has no attribute 'constraints'",
     "output_type": "error",
     "traceback": [
      "\u001b[1;31m---------------------------------------------------------------------------\u001b[0m",
      "\u001b[1;31mAttributeError\u001b[0m                            Traceback (most recent call last)",
      "File \u001b[1;32m~\\anaconda3\\lib\\site-packages\\IPython\\core\\formatters.py:707\u001b[0m, in \u001b[0;36mPlainTextFormatter.__call__\u001b[1;34m(self, obj)\u001b[0m\n\u001b[0;32m    700\u001b[0m stream \u001b[38;5;241m=\u001b[39m StringIO()\n\u001b[0;32m    701\u001b[0m printer \u001b[38;5;241m=\u001b[39m pretty\u001b[38;5;241m.\u001b[39mRepresentationPrinter(stream, \u001b[38;5;28mself\u001b[39m\u001b[38;5;241m.\u001b[39mverbose,\n\u001b[0;32m    702\u001b[0m     \u001b[38;5;28mself\u001b[39m\u001b[38;5;241m.\u001b[39mmax_width, \u001b[38;5;28mself\u001b[39m\u001b[38;5;241m.\u001b[39mnewline,\n\u001b[0;32m    703\u001b[0m     max_seq_length\u001b[38;5;241m=\u001b[39m\u001b[38;5;28mself\u001b[39m\u001b[38;5;241m.\u001b[39mmax_seq_length,\n\u001b[0;32m    704\u001b[0m     singleton_pprinters\u001b[38;5;241m=\u001b[39m\u001b[38;5;28mself\u001b[39m\u001b[38;5;241m.\u001b[39msingleton_printers,\n\u001b[0;32m    705\u001b[0m     type_pprinters\u001b[38;5;241m=\u001b[39m\u001b[38;5;28mself\u001b[39m\u001b[38;5;241m.\u001b[39mtype_printers,\n\u001b[0;32m    706\u001b[0m     deferred_pprinters\u001b[38;5;241m=\u001b[39m\u001b[38;5;28mself\u001b[39m\u001b[38;5;241m.\u001b[39mdeferred_printers)\n\u001b[1;32m--> 707\u001b[0m \u001b[43mprinter\u001b[49m\u001b[38;5;241;43m.\u001b[39;49m\u001b[43mpretty\u001b[49m\u001b[43m(\u001b[49m\u001b[43mobj\u001b[49m\u001b[43m)\u001b[49m\n\u001b[0;32m    708\u001b[0m printer\u001b[38;5;241m.\u001b[39mflush()\n\u001b[0;32m    709\u001b[0m \u001b[38;5;28;01mreturn\u001b[39;00m stream\u001b[38;5;241m.\u001b[39mgetvalue()\n",
      "File \u001b[1;32m~\\anaconda3\\lib\\site-packages\\IPython\\lib\\pretty.py:410\u001b[0m, in \u001b[0;36mRepresentationPrinter.pretty\u001b[1;34m(self, obj)\u001b[0m\n\u001b[0;32m    407\u001b[0m                         \u001b[38;5;28;01mreturn\u001b[39;00m meth(obj, \u001b[38;5;28mself\u001b[39m, cycle)\n\u001b[0;32m    408\u001b[0m                 \u001b[38;5;28;01mif\u001b[39;00m \u001b[38;5;28mcls\u001b[39m \u001b[38;5;129;01mis\u001b[39;00m \u001b[38;5;129;01mnot\u001b[39;00m \u001b[38;5;28mobject\u001b[39m \\\n\u001b[0;32m    409\u001b[0m                         \u001b[38;5;129;01mand\u001b[39;00m callable(\u001b[38;5;28mcls\u001b[39m\u001b[38;5;241m.\u001b[39m\u001b[38;5;18m__dict__\u001b[39m\u001b[38;5;241m.\u001b[39mget(\u001b[38;5;124m'\u001b[39m\u001b[38;5;124m__repr__\u001b[39m\u001b[38;5;124m'\u001b[39m)):\n\u001b[1;32m--> 410\u001b[0m                     \u001b[38;5;28;01mreturn\u001b[39;00m \u001b[43m_repr_pprint\u001b[49m\u001b[43m(\u001b[49m\u001b[43mobj\u001b[49m\u001b[43m,\u001b[49m\u001b[43m \u001b[49m\u001b[38;5;28;43mself\u001b[39;49m\u001b[43m,\u001b[49m\u001b[43m \u001b[49m\u001b[43mcycle\u001b[49m\u001b[43m)\u001b[49m\n\u001b[0;32m    412\u001b[0m     \u001b[38;5;28;01mreturn\u001b[39;00m _default_pprint(obj, \u001b[38;5;28mself\u001b[39m, cycle)\n\u001b[0;32m    413\u001b[0m \u001b[38;5;28;01mfinally\u001b[39;00m:\n",
      "File \u001b[1;32m~\\anaconda3\\lib\\site-packages\\IPython\\lib\\pretty.py:778\u001b[0m, in \u001b[0;36m_repr_pprint\u001b[1;34m(obj, p, cycle)\u001b[0m\n\u001b[0;32m    776\u001b[0m \u001b[38;5;124;03m\"\"\"A pprint that just redirects to the normal repr function.\"\"\"\u001b[39;00m\n\u001b[0;32m    777\u001b[0m \u001b[38;5;66;03m# Find newlines and replace them with p.break_()\u001b[39;00m\n\u001b[1;32m--> 778\u001b[0m output \u001b[38;5;241m=\u001b[39m \u001b[38;5;28;43mrepr\u001b[39;49m\u001b[43m(\u001b[49m\u001b[43mobj\u001b[49m\u001b[43m)\u001b[49m\n\u001b[0;32m    779\u001b[0m lines \u001b[38;5;241m=\u001b[39m output\u001b[38;5;241m.\u001b[39msplitlines()\n\u001b[0;32m    780\u001b[0m \u001b[38;5;28;01mwith\u001b[39;00m p\u001b[38;5;241m.\u001b[39mgroup():\n",
      "File \u001b[1;32m~\\anaconda3\\lib\\site-packages\\sklearn\\base.py:279\u001b[0m, in \u001b[0;36mBaseEstimator.__repr__\u001b[1;34m(self, N_CHAR_MAX)\u001b[0m\n\u001b[0;32m    271\u001b[0m \u001b[38;5;66;03m# use ellipsis for sequences with a lot of elements\u001b[39;00m\n\u001b[0;32m    272\u001b[0m pp \u001b[38;5;241m=\u001b[39m _EstimatorPrettyPrinter(\n\u001b[0;32m    273\u001b[0m     compact\u001b[38;5;241m=\u001b[39m\u001b[38;5;28;01mTrue\u001b[39;00m,\n\u001b[0;32m    274\u001b[0m     indent\u001b[38;5;241m=\u001b[39m\u001b[38;5;241m1\u001b[39m,\n\u001b[0;32m    275\u001b[0m     indent_at_name\u001b[38;5;241m=\u001b[39m\u001b[38;5;28;01mTrue\u001b[39;00m,\n\u001b[0;32m    276\u001b[0m     n_max_elements_to_show\u001b[38;5;241m=\u001b[39mN_MAX_ELEMENTS_TO_SHOW,\n\u001b[0;32m    277\u001b[0m )\n\u001b[1;32m--> 279\u001b[0m repr_ \u001b[38;5;241m=\u001b[39m \u001b[43mpp\u001b[49m\u001b[38;5;241;43m.\u001b[39;49m\u001b[43mpformat\u001b[49m\u001b[43m(\u001b[49m\u001b[38;5;28;43mself\u001b[39;49m\u001b[43m)\u001b[49m\n\u001b[0;32m    281\u001b[0m \u001b[38;5;66;03m# Use bruteforce ellipsis when there are a lot of non-blank characters\u001b[39;00m\n\u001b[0;32m    282\u001b[0m n_nonblank \u001b[38;5;241m=\u001b[39m \u001b[38;5;28mlen\u001b[39m(\u001b[38;5;124m\"\u001b[39m\u001b[38;5;124m\"\u001b[39m\u001b[38;5;241m.\u001b[39mjoin(repr_\u001b[38;5;241m.\u001b[39msplit()))\n",
      "File \u001b[1;32m~\\anaconda3\\lib\\pprint.py:153\u001b[0m, in \u001b[0;36mPrettyPrinter.pformat\u001b[1;34m(self, object)\u001b[0m\n\u001b[0;32m    151\u001b[0m \u001b[38;5;28;01mdef\u001b[39;00m \u001b[38;5;21mpformat\u001b[39m(\u001b[38;5;28mself\u001b[39m, \u001b[38;5;28mobject\u001b[39m):\n\u001b[0;32m    152\u001b[0m     sio \u001b[38;5;241m=\u001b[39m _StringIO()\n\u001b[1;32m--> 153\u001b[0m     \u001b[38;5;28;43mself\u001b[39;49m\u001b[38;5;241;43m.\u001b[39;49m\u001b[43m_format\u001b[49m\u001b[43m(\u001b[49m\u001b[38;5;28;43mobject\u001b[39;49m\u001b[43m,\u001b[49m\u001b[43m \u001b[49m\u001b[43msio\u001b[49m\u001b[43m,\u001b[49m\u001b[43m \u001b[49m\u001b[38;5;241;43m0\u001b[39;49m\u001b[43m,\u001b[49m\u001b[43m \u001b[49m\u001b[38;5;241;43m0\u001b[39;49m\u001b[43m,\u001b[49m\u001b[43m \u001b[49m\u001b[43m{\u001b[49m\u001b[43m}\u001b[49m\u001b[43m,\u001b[49m\u001b[43m \u001b[49m\u001b[38;5;241;43m0\u001b[39;49m\u001b[43m)\u001b[49m\n\u001b[0;32m    154\u001b[0m     \u001b[38;5;28;01mreturn\u001b[39;00m sio\u001b[38;5;241m.\u001b[39mgetvalue()\n",
      "File \u001b[1;32m~\\anaconda3\\lib\\pprint.py:170\u001b[0m, in \u001b[0;36mPrettyPrinter._format\u001b[1;34m(self, object, stream, indent, allowance, context, level)\u001b[0m\n\u001b[0;32m    168\u001b[0m     \u001b[38;5;28mself\u001b[39m\u001b[38;5;241m.\u001b[39m_readable \u001b[38;5;241m=\u001b[39m \u001b[38;5;28;01mFalse\u001b[39;00m\n\u001b[0;32m    169\u001b[0m     \u001b[38;5;28;01mreturn\u001b[39;00m\n\u001b[1;32m--> 170\u001b[0m rep \u001b[38;5;241m=\u001b[39m \u001b[38;5;28;43mself\u001b[39;49m\u001b[38;5;241;43m.\u001b[39;49m\u001b[43m_repr\u001b[49m\u001b[43m(\u001b[49m\u001b[38;5;28;43mobject\u001b[39;49m\u001b[43m,\u001b[49m\u001b[43m \u001b[49m\u001b[43mcontext\u001b[49m\u001b[43m,\u001b[49m\u001b[43m \u001b[49m\u001b[43mlevel\u001b[49m\u001b[43m)\u001b[49m\n\u001b[0;32m    171\u001b[0m max_width \u001b[38;5;241m=\u001b[39m \u001b[38;5;28mself\u001b[39m\u001b[38;5;241m.\u001b[39m_width \u001b[38;5;241m-\u001b[39m indent \u001b[38;5;241m-\u001b[39m allowance\n\u001b[0;32m    172\u001b[0m \u001b[38;5;28;01mif\u001b[39;00m \u001b[38;5;28mlen\u001b[39m(rep) \u001b[38;5;241m>\u001b[39m max_width:\n",
      "File \u001b[1;32m~\\anaconda3\\lib\\pprint.py:431\u001b[0m, in \u001b[0;36mPrettyPrinter._repr\u001b[1;34m(self, object, context, level)\u001b[0m\n\u001b[0;32m    430\u001b[0m \u001b[38;5;28;01mdef\u001b[39;00m \u001b[38;5;21m_repr\u001b[39m(\u001b[38;5;28mself\u001b[39m, \u001b[38;5;28mobject\u001b[39m, context, level):\n\u001b[1;32m--> 431\u001b[0m     \u001b[38;5;28mrepr\u001b[39m, readable, recursive \u001b[38;5;241m=\u001b[39m \u001b[38;5;28;43mself\u001b[39;49m\u001b[38;5;241;43m.\u001b[39;49m\u001b[43mformat\u001b[49m\u001b[43m(\u001b[49m\u001b[38;5;28;43mobject\u001b[39;49m\u001b[43m,\u001b[49m\u001b[43m \u001b[49m\u001b[43mcontext\u001b[49m\u001b[38;5;241;43m.\u001b[39;49m\u001b[43mcopy\u001b[49m\u001b[43m(\u001b[49m\u001b[43m)\u001b[49m\u001b[43m,\u001b[49m\n\u001b[0;32m    432\u001b[0m \u001b[43m                                            \u001b[49m\u001b[38;5;28;43mself\u001b[39;49m\u001b[38;5;241;43m.\u001b[39;49m\u001b[43m_depth\u001b[49m\u001b[43m,\u001b[49m\u001b[43m \u001b[49m\u001b[43mlevel\u001b[49m\u001b[43m)\u001b[49m\n\u001b[0;32m    433\u001b[0m     \u001b[38;5;28;01mif\u001b[39;00m \u001b[38;5;129;01mnot\u001b[39;00m readable:\n\u001b[0;32m    434\u001b[0m         \u001b[38;5;28mself\u001b[39m\u001b[38;5;241m.\u001b[39m_readable \u001b[38;5;241m=\u001b[39m \u001b[38;5;28;01mFalse\u001b[39;00m\n",
      "File \u001b[1;32m~\\anaconda3\\lib\\site-packages\\sklearn\\utils\\_pprint.py:189\u001b[0m, in \u001b[0;36m_EstimatorPrettyPrinter.format\u001b[1;34m(self, object, context, maxlevels, level)\u001b[0m\n\u001b[0;32m    188\u001b[0m \u001b[38;5;28;01mdef\u001b[39;00m \u001b[38;5;21mformat\u001b[39m(\u001b[38;5;28mself\u001b[39m, \u001b[38;5;28mobject\u001b[39m, context, maxlevels, level):\n\u001b[1;32m--> 189\u001b[0m     \u001b[38;5;28;01mreturn\u001b[39;00m \u001b[43m_safe_repr\u001b[49m\u001b[43m(\u001b[49m\n\u001b[0;32m    190\u001b[0m \u001b[43m        \u001b[49m\u001b[38;5;28;43mobject\u001b[39;49m\u001b[43m,\u001b[49m\u001b[43m \u001b[49m\u001b[43mcontext\u001b[49m\u001b[43m,\u001b[49m\u001b[43m \u001b[49m\u001b[43mmaxlevels\u001b[49m\u001b[43m,\u001b[49m\u001b[43m \u001b[49m\u001b[43mlevel\u001b[49m\u001b[43m,\u001b[49m\u001b[43m \u001b[49m\u001b[43mchanged_only\u001b[49m\u001b[38;5;241;43m=\u001b[39;49m\u001b[38;5;28;43mself\u001b[39;49m\u001b[38;5;241;43m.\u001b[39;49m\u001b[43m_changed_only\u001b[49m\n\u001b[0;32m    191\u001b[0m \u001b[43m    \u001b[49m\u001b[43m)\u001b[49m\n",
      "File \u001b[1;32m~\\anaconda3\\lib\\site-packages\\sklearn\\utils\\_pprint.py:440\u001b[0m, in \u001b[0;36m_safe_repr\u001b[1;34m(object, context, maxlevels, level, changed_only)\u001b[0m\n\u001b[0;32m    438\u001b[0m recursive \u001b[38;5;241m=\u001b[39m \u001b[38;5;28;01mFalse\u001b[39;00m\n\u001b[0;32m    439\u001b[0m \u001b[38;5;28;01mif\u001b[39;00m changed_only:\n\u001b[1;32m--> 440\u001b[0m     params \u001b[38;5;241m=\u001b[39m \u001b[43m_changed_params\u001b[49m\u001b[43m(\u001b[49m\u001b[38;5;28;43mobject\u001b[39;49m\u001b[43m)\u001b[49m\n\u001b[0;32m    441\u001b[0m \u001b[38;5;28;01melse\u001b[39;00m:\n\u001b[0;32m    442\u001b[0m     params \u001b[38;5;241m=\u001b[39m \u001b[38;5;28mobject\u001b[39m\u001b[38;5;241m.\u001b[39mget_params(deep\u001b[38;5;241m=\u001b[39m\u001b[38;5;28;01mFalse\u001b[39;00m)\n",
      "File \u001b[1;32m~\\anaconda3\\lib\\site-packages\\sklearn\\utils\\_pprint.py:93\u001b[0m, in \u001b[0;36m_changed_params\u001b[1;34m(estimator)\u001b[0m\n\u001b[0;32m     89\u001b[0m \u001b[38;5;28;01mdef\u001b[39;00m \u001b[38;5;21m_changed_params\u001b[39m(estimator):\n\u001b[0;32m     90\u001b[0m     \u001b[38;5;124;03m\"\"\"Return dict (param_name: value) of parameters that were given to\u001b[39;00m\n\u001b[0;32m     91\u001b[0m \u001b[38;5;124;03m    estimator with non-default values.\"\"\"\u001b[39;00m\n\u001b[1;32m---> 93\u001b[0m     params \u001b[38;5;241m=\u001b[39m \u001b[43mestimator\u001b[49m\u001b[38;5;241;43m.\u001b[39;49m\u001b[43mget_params\u001b[49m\u001b[43m(\u001b[49m\u001b[43mdeep\u001b[49m\u001b[38;5;241;43m=\u001b[39;49m\u001b[38;5;28;43;01mFalse\u001b[39;49;00m\u001b[43m)\u001b[49m\n\u001b[0;32m     94\u001b[0m     init_func \u001b[38;5;241m=\u001b[39m \u001b[38;5;28mgetattr\u001b[39m(estimator\u001b[38;5;241m.\u001b[39m\u001b[38;5;21m__init__\u001b[39m, \u001b[38;5;124m\"\u001b[39m\u001b[38;5;124mdeprecated_original\u001b[39m\u001b[38;5;124m\"\u001b[39m, estimator\u001b[38;5;241m.\u001b[39m\u001b[38;5;21m__init__\u001b[39m)\n\u001b[0;32m     95\u001b[0m     init_params \u001b[38;5;241m=\u001b[39m inspect\u001b[38;5;241m.\u001b[39msignature(init_func)\u001b[38;5;241m.\u001b[39mparameters\n",
      "File \u001b[1;32m~\\anaconda3\\lib\\site-packages\\sklearn\\base.py:210\u001b[0m, in \u001b[0;36mBaseEstimator.get_params\u001b[1;34m(self, deep)\u001b[0m\n\u001b[0;32m    208\u001b[0m out \u001b[38;5;241m=\u001b[39m \u001b[38;5;28mdict\u001b[39m()\n\u001b[0;32m    209\u001b[0m \u001b[38;5;28;01mfor\u001b[39;00m key \u001b[38;5;129;01min\u001b[39;00m \u001b[38;5;28mself\u001b[39m\u001b[38;5;241m.\u001b[39m_get_param_names():\n\u001b[1;32m--> 210\u001b[0m     value \u001b[38;5;241m=\u001b[39m \u001b[38;5;28;43mgetattr\u001b[39;49m\u001b[43m(\u001b[49m\u001b[38;5;28;43mself\u001b[39;49m\u001b[43m,\u001b[49m\u001b[43m \u001b[49m\u001b[43mkey\u001b[49m\u001b[43m)\u001b[49m\n\u001b[0;32m    211\u001b[0m     \u001b[38;5;28;01mif\u001b[39;00m deep \u001b[38;5;129;01mand\u001b[39;00m \u001b[38;5;28mhasattr\u001b[39m(value, \u001b[38;5;124m\"\u001b[39m\u001b[38;5;124mget_params\u001b[39m\u001b[38;5;124m\"\u001b[39m):\n\u001b[0;32m    212\u001b[0m         deep_items \u001b[38;5;241m=\u001b[39m value\u001b[38;5;241m.\u001b[39mget_params()\u001b[38;5;241m.\u001b[39mitems()\n",
      "\u001b[1;31mAttributeError\u001b[0m: 'ExponentiatedGradientReduction' object has no attribute 'constraints'"
     ]
    }
   ],
   "source": [
    "exp_grad_red = ExponentiatedGradientReduction(prot_attr=prot_attr_cols, \n",
    "                                              estimator=model_lr_aif, \n",
    "                                              constraints=\"EqualizedOdds\",\n",
    "                                              drop_prot_attr=False)\n",
    "exp_grad_red.fit(X_train_aif, y_train_aif)"
   ]
  },
  {
   "cell_type": "code",
   "execution_count": null,
   "id": "c26e9598",
   "metadata": {},
   "outputs": [],
   "source": []
  },
  {
   "cell_type": "code",
   "execution_count": null,
   "id": "ce4ccc1a",
   "metadata": {},
   "outputs": [],
   "source": []
  }
 ],
 "metadata": {
  "kernelspec": {
   "display_name": "Python 3 (ipykernel)",
   "language": "python",
   "name": "python3"
  },
  "language_info": {
   "codemirror_mode": {
    "name": "ipython",
    "version": 3
   },
   "file_extension": ".py",
   "mimetype": "text/x-python",
   "name": "python",
   "nbconvert_exporter": "python",
   "pygments_lexer": "ipython3",
   "version": "3.9.7"
  }
 },
 "nbformat": 4,
 "nbformat_minor": 5
}
