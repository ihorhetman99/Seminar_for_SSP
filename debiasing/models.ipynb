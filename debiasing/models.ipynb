{
 "cells": [
  {
   "cell_type": "markdown",
   "id": "215008ca",
   "metadata": {
    "pycharm": {
     "name": "#%% md\n"
    }
   },
   "source": [
    "## Sample notebook for seminar project ML for SSP\n",
    "\n",
    "Pay attention to name of variables in PATH"
   ]
  },
  {
   "cell_type": "code",
   "execution_count": 18,
   "id": "8cbc3fb3",
   "metadata": {
    "pycharm": {
     "name": "#%%\n"
    }
   },
   "outputs": [],
   "source": [
    "%matplotlib inline\n",
    "import matplotlib.pyplot as plt\n",
    "import numpy as np\n",
    "import pandas as pd\n",
    "from IPython.display import Markdown, display\n",
    "\n",
    "# Scalers\n",
    "from sklearn.preprocessing import StandardScaler\n",
    "from sklearn.preprocessing import MinMaxScaler\n",
    "\n",
    "# Classifiers\n",
    "from sklearn.ensemble import RandomForestClassifier\n",
    "from sklearn.linear_model import LogisticRegression\n",
    "from sklearn.neighbors import KNeighborsClassifier\n",
    "from sklearn.svm import SVC\n",
    "from sklearn.pipeline import Pipeline\n",
    "\n",
    "# Metrics\n",
    "import sklearn.metrics as skm\n",
    "\n",
    "# Cross validation\n",
    "from sklearn.model_selection import cross_val_predict\n",
    "from sklearn.model_selection import KFold\n",
    "\n",
    "np.random.seed(123)"
   ]
  },
  {
   "cell_type": "markdown",
   "id": "3527eed7",
   "metadata": {
    "pycharm": {
     "name": "#%% md\n"
    }
   },
   "source": [
    "You will probably need to install aif360 package, so refer to this link: https://github.com/Trusted-AI/AIF360\n",
    "\n",
    "Or this: https://jakevdp.github.io/blog/2017/12/05/installing-python-packages-from-jupyter/\n",
    "\n",
    "Use this: https://anaconda.org/conda-forge/aif360 or https://github.com/conda-forge/aif360-feedstock if previous doesn't work\n",
    "\n",
    "\n",
    "UPD: it worked using only `pip`\n",
    "\n",
    "UPD: you will probably need to install fairlearn package `pip install fairlearn`"
   ]
  },
  {
   "cell_type": "markdown",
   "id": "5f2b963c",
   "metadata": {
    "pycharm": {
     "name": "#%% md\n"
    }
   },
   "source": [
    "  "
   ]
  },
  {
   "cell_type": "code",
   "execution_count": 19,
   "id": "5030f384",
   "metadata": {
    "pycharm": {
     "name": "#%%\n"
    }
   },
   "outputs": [],
   "source": [
    "# Datapathes\n",
    "\n",
    "folder = r'C:\\Users\\felix\\PycharmProjects\\seminar-files\\data'\n",
    "\n",
    "TRAIN_DATAPATH = fr'{folder}\\functionals_train_all.csv'\n",
    "TEST_DATAPATH = fr'{folder}\\functionals_test_all.csv'"
   ]
  },
  {
   "cell_type": "code",
   "execution_count": 20,
   "id": "9d674678",
   "metadata": {
    "pycharm": {
     "name": "#%%\n"
    }
   },
   "outputs": [],
   "source": [
    "# reading data\n",
    "\n",
    "train = pd.read_csv(TRAIN_DATAPATH)\n",
    "test = pd.read_csv(TEST_DATAPATH)"
   ]
  },
  {
   "cell_type": "code",
   "execution_count": 21,
   "id": "4d48bfac",
   "metadata": {
    "pycharm": {
     "name": "#%%\n"
    }
   },
   "outputs": [
    {
     "data": {
      "text/plain": "   Unnamed: 0    id  age  gender mmse  diagnosis  \\\n0           0  S001   74    male   NA          0   \n1           1  S002   62  female   30          0   \n2           2  S003   69  female   29          0   \n3           3  S004   71  female   30          0   \n4           4  S005   74  female   30          0   \n\n   F0semitoneFrom27.5Hz_sma3nz_amean  F0semitoneFrom27.5Hz_sma3nz_stddevNorm  \\\n0                          26.158813                                0.256494   \n1                          35.038100                                0.222455   \n2                          33.408146                                0.167676   \n3                          31.709782                                0.220399   \n4                          33.117634                                0.210555   \n\n   F0semitoneFrom27.5Hz_sma3nz_percentile20.0  \\\n0                                   23.504830   \n1                                   32.094150   \n2                                   30.763927   \n3                                   29.273027   \n4                                   29.349773   \n\n   F0semitoneFrom27.5Hz_sma3nz_percentile50.0  ...  slopeUV0-500_sma3nz_amean  \\\n0                                   25.390327  ...                   0.033982   \n1                                   33.338820  ...                   0.029004   \n2                                   33.175510  ...                   0.027397   \n3                                   31.521568  ...                   0.027672   \n4                                   31.528109  ...                   0.021428   \n\n   slopeUV500-1500_sma3nz_amean  spectralFluxUV_sma3nz_amean  \\\n0                     -0.007878                     0.025659   \n1                     -0.006766                     0.018389   \n2                     -0.006148                     0.020994   \n3                     -0.003709                     0.038795   \n4                     -0.001211                     0.005301   \n\n   loudnessPeaksPerSec  VoicedSegmentsPerSec  MeanVoicedSegmentLengthSec  \\\n0             2.082161              1.610542                    0.398252   \n1             0.105116              0.666316                    0.105000   \n2             2.314480              1.375416                    0.455579   \n3             2.695713              1.712295                    0.367209   \n4             0.405904              1.046154                    0.105647   \n\n   StddevVoicedSegmentLengthSec  MeanUnvoicedSegmentLength  \\\n0                      0.395510                   0.250614   \n1                      0.070366                   1.412162   \n2                      0.408640                   0.291481   \n3                      0.345697                   0.235282   \n4                      0.085536                   0.800909   \n\n   StddevUnvoicedSegmentLength  equivalentSoundLevel_dBp  \n0                     0.467176                -29.529222  \n1                     1.798986                -43.936977  \n2                     0.738442                -25.290459  \n3                     0.462315                -27.811728  \n4                     1.251056                -49.826008  \n\n[5 rows x 94 columns]",
      "text/html": "<div>\n<style scoped>\n    .dataframe tbody tr th:only-of-type {\n        vertical-align: middle;\n    }\n\n    .dataframe tbody tr th {\n        vertical-align: top;\n    }\n\n    .dataframe thead th {\n        text-align: right;\n    }\n</style>\n<table border=\"1\" class=\"dataframe\">\n  <thead>\n    <tr style=\"text-align: right;\">\n      <th></th>\n      <th>Unnamed: 0</th>\n      <th>id</th>\n      <th>age</th>\n      <th>gender</th>\n      <th>mmse</th>\n      <th>diagnosis</th>\n      <th>F0semitoneFrom27.5Hz_sma3nz_amean</th>\n      <th>F0semitoneFrom27.5Hz_sma3nz_stddevNorm</th>\n      <th>F0semitoneFrom27.5Hz_sma3nz_percentile20.0</th>\n      <th>F0semitoneFrom27.5Hz_sma3nz_percentile50.0</th>\n      <th>...</th>\n      <th>slopeUV0-500_sma3nz_amean</th>\n      <th>slopeUV500-1500_sma3nz_amean</th>\n      <th>spectralFluxUV_sma3nz_amean</th>\n      <th>loudnessPeaksPerSec</th>\n      <th>VoicedSegmentsPerSec</th>\n      <th>MeanVoicedSegmentLengthSec</th>\n      <th>StddevVoicedSegmentLengthSec</th>\n      <th>MeanUnvoicedSegmentLength</th>\n      <th>StddevUnvoicedSegmentLength</th>\n      <th>equivalentSoundLevel_dBp</th>\n    </tr>\n  </thead>\n  <tbody>\n    <tr>\n      <th>0</th>\n      <td>0</td>\n      <td>S001</td>\n      <td>74</td>\n      <td>male</td>\n      <td>NA</td>\n      <td>0</td>\n      <td>26.158813</td>\n      <td>0.256494</td>\n      <td>23.504830</td>\n      <td>25.390327</td>\n      <td>...</td>\n      <td>0.033982</td>\n      <td>-0.007878</td>\n      <td>0.025659</td>\n      <td>2.082161</td>\n      <td>1.610542</td>\n      <td>0.398252</td>\n      <td>0.395510</td>\n      <td>0.250614</td>\n      <td>0.467176</td>\n      <td>-29.529222</td>\n    </tr>\n    <tr>\n      <th>1</th>\n      <td>1</td>\n      <td>S002</td>\n      <td>62</td>\n      <td>female</td>\n      <td>30</td>\n      <td>0</td>\n      <td>35.038100</td>\n      <td>0.222455</td>\n      <td>32.094150</td>\n      <td>33.338820</td>\n      <td>...</td>\n      <td>0.029004</td>\n      <td>-0.006766</td>\n      <td>0.018389</td>\n      <td>0.105116</td>\n      <td>0.666316</td>\n      <td>0.105000</td>\n      <td>0.070366</td>\n      <td>1.412162</td>\n      <td>1.798986</td>\n      <td>-43.936977</td>\n    </tr>\n    <tr>\n      <th>2</th>\n      <td>2</td>\n      <td>S003</td>\n      <td>69</td>\n      <td>female</td>\n      <td>29</td>\n      <td>0</td>\n      <td>33.408146</td>\n      <td>0.167676</td>\n      <td>30.763927</td>\n      <td>33.175510</td>\n      <td>...</td>\n      <td>0.027397</td>\n      <td>-0.006148</td>\n      <td>0.020994</td>\n      <td>2.314480</td>\n      <td>1.375416</td>\n      <td>0.455579</td>\n      <td>0.408640</td>\n      <td>0.291481</td>\n      <td>0.738442</td>\n      <td>-25.290459</td>\n    </tr>\n    <tr>\n      <th>3</th>\n      <td>3</td>\n      <td>S004</td>\n      <td>71</td>\n      <td>female</td>\n      <td>30</td>\n      <td>0</td>\n      <td>31.709782</td>\n      <td>0.220399</td>\n      <td>29.273027</td>\n      <td>31.521568</td>\n      <td>...</td>\n      <td>0.027672</td>\n      <td>-0.003709</td>\n      <td>0.038795</td>\n      <td>2.695713</td>\n      <td>1.712295</td>\n      <td>0.367209</td>\n      <td>0.345697</td>\n      <td>0.235282</td>\n      <td>0.462315</td>\n      <td>-27.811728</td>\n    </tr>\n    <tr>\n      <th>4</th>\n      <td>4</td>\n      <td>S005</td>\n      <td>74</td>\n      <td>female</td>\n      <td>30</td>\n      <td>0</td>\n      <td>33.117634</td>\n      <td>0.210555</td>\n      <td>29.349773</td>\n      <td>31.528109</td>\n      <td>...</td>\n      <td>0.021428</td>\n      <td>-0.001211</td>\n      <td>0.005301</td>\n      <td>0.405904</td>\n      <td>1.046154</td>\n      <td>0.105647</td>\n      <td>0.085536</td>\n      <td>0.800909</td>\n      <td>1.251056</td>\n      <td>-49.826008</td>\n    </tr>\n  </tbody>\n</table>\n<p>5 rows × 94 columns</p>\n</div>"
     },
     "execution_count": 21,
     "metadata": {},
     "output_type": "execute_result"
    }
   ],
   "source": [
    "train.head()"
   ]
  },
  {
   "cell_type": "code",
   "execution_count": 22,
   "id": "e4937c81",
   "metadata": {
    "pycharm": {
     "name": "#%%\n"
    }
   },
   "outputs": [
    {
     "data": {
      "text/plain": "   Unnamed: 0  F0semitoneFrom27.5Hz_sma3nz_amean  \\\n0           0                          31.396942   \n1           1                          29.956886   \n2           2                          19.633840   \n3           3                          28.083347   \n4           4                          34.369990   \n\n   F0semitoneFrom27.5Hz_sma3nz_stddevNorm  \\\n0                                0.154061   \n1                                0.118317   \n2                                0.402905   \n3                                0.266278   \n4                                0.078030   \n\n   F0semitoneFrom27.5Hz_sma3nz_percentile20.0  \\\n0                                   30.213425   \n1                                   28.500713   \n2                                   13.825209   \n3                                   24.390467   \n4                                   33.367874   \n\n   F0semitoneFrom27.5Hz_sma3nz_percentile50.0  \\\n0                                   31.718218   \n1                                   29.874610   \n2                                   14.831374   \n3                                   26.107916   \n4                                   34.617860   \n\n   F0semitoneFrom27.5Hz_sma3nz_percentile80.0  \\\n0                                   33.796870   \n1                                   31.048702   \n2                                   31.307632   \n3                                   29.036630   \n4                                   35.442660   \n\n   F0semitoneFrom27.5Hz_sma3nz_pctlrange0-2  \\\n0                                  3.583446   \n1                                  2.547989   \n2                                 17.482424   \n3                                  4.646164   \n4                                  2.074787   \n\n   F0semitoneFrom27.5Hz_sma3nz_meanRisingSlope  \\\n0                                    177.98373   \n1                                    163.17845   \n2                                    209.11266   \n3                                    416.17200   \n4                                     58.16399   \n\n   F0semitoneFrom27.5Hz_sma3nz_stddevRisingSlope  \\\n0                                     132.606320   \n1                                     170.156390   \n2                                     314.103150   \n3                                     769.896240   \n4                                      31.168308   \n\n   F0semitoneFrom27.5Hz_sma3nz_meanFallingSlope  ...  \\\n0                                     216.58685  ...   \n1                                     146.55635  ...   \n2                                      78.85801  ...   \n3                                     225.06831  ...   \n4                                     367.91990  ...   \n\n   MeanVoicedSegmentLengthSec  StddevVoicedSegmentLengthSec  \\\n0                    0.344048                      0.342380   \n1                    0.140119                      0.154052   \n2                    1.483673                      1.388053   \n3                    0.368082                      0.375981   \n4                    0.074000                      0.034409   \n\n   MeanUnvoicedSegmentLength  StddevUnvoicedSegmentLength  \\\n0                   0.302286                     0.547483   \n1                   0.724940                     1.355301   \n2                   0.055946                     0.046988   \n3                   0.151600                     0.184023   \n4                   5.053333                     6.706737   \n\n   equivalentSoundLevel_dBp     id  age  gender  diagnosis  mmse  \n0                -22.975720  S160    63       1          0    28  \n1                -57.484940  S161    55       1          0    29  \n2                -25.289870  S162    67       1          1    24  \n3                -29.287306  S163    71       0          0    30  \n4                -66.156525  S164    73       1          1    21  \n\n[5 rows x 94 columns]",
      "text/html": "<div>\n<style scoped>\n    .dataframe tbody tr th:only-of-type {\n        vertical-align: middle;\n    }\n\n    .dataframe tbody tr th {\n        vertical-align: top;\n    }\n\n    .dataframe thead th {\n        text-align: right;\n    }\n</style>\n<table border=\"1\" class=\"dataframe\">\n  <thead>\n    <tr style=\"text-align: right;\">\n      <th></th>\n      <th>Unnamed: 0</th>\n      <th>F0semitoneFrom27.5Hz_sma3nz_amean</th>\n      <th>F0semitoneFrom27.5Hz_sma3nz_stddevNorm</th>\n      <th>F0semitoneFrom27.5Hz_sma3nz_percentile20.0</th>\n      <th>F0semitoneFrom27.5Hz_sma3nz_percentile50.0</th>\n      <th>F0semitoneFrom27.5Hz_sma3nz_percentile80.0</th>\n      <th>F0semitoneFrom27.5Hz_sma3nz_pctlrange0-2</th>\n      <th>F0semitoneFrom27.5Hz_sma3nz_meanRisingSlope</th>\n      <th>F0semitoneFrom27.5Hz_sma3nz_stddevRisingSlope</th>\n      <th>F0semitoneFrom27.5Hz_sma3nz_meanFallingSlope</th>\n      <th>...</th>\n      <th>MeanVoicedSegmentLengthSec</th>\n      <th>StddevVoicedSegmentLengthSec</th>\n      <th>MeanUnvoicedSegmentLength</th>\n      <th>StddevUnvoicedSegmentLength</th>\n      <th>equivalentSoundLevel_dBp</th>\n      <th>id</th>\n      <th>age</th>\n      <th>gender</th>\n      <th>diagnosis</th>\n      <th>mmse</th>\n    </tr>\n  </thead>\n  <tbody>\n    <tr>\n      <th>0</th>\n      <td>0</td>\n      <td>31.396942</td>\n      <td>0.154061</td>\n      <td>30.213425</td>\n      <td>31.718218</td>\n      <td>33.796870</td>\n      <td>3.583446</td>\n      <td>177.98373</td>\n      <td>132.606320</td>\n      <td>216.58685</td>\n      <td>...</td>\n      <td>0.344048</td>\n      <td>0.342380</td>\n      <td>0.302286</td>\n      <td>0.547483</td>\n      <td>-22.975720</td>\n      <td>S160</td>\n      <td>63</td>\n      <td>1</td>\n      <td>0</td>\n      <td>28</td>\n    </tr>\n    <tr>\n      <th>1</th>\n      <td>1</td>\n      <td>29.956886</td>\n      <td>0.118317</td>\n      <td>28.500713</td>\n      <td>29.874610</td>\n      <td>31.048702</td>\n      <td>2.547989</td>\n      <td>163.17845</td>\n      <td>170.156390</td>\n      <td>146.55635</td>\n      <td>...</td>\n      <td>0.140119</td>\n      <td>0.154052</td>\n      <td>0.724940</td>\n      <td>1.355301</td>\n      <td>-57.484940</td>\n      <td>S161</td>\n      <td>55</td>\n      <td>1</td>\n      <td>0</td>\n      <td>29</td>\n    </tr>\n    <tr>\n      <th>2</th>\n      <td>2</td>\n      <td>19.633840</td>\n      <td>0.402905</td>\n      <td>13.825209</td>\n      <td>14.831374</td>\n      <td>31.307632</td>\n      <td>17.482424</td>\n      <td>209.11266</td>\n      <td>314.103150</td>\n      <td>78.85801</td>\n      <td>...</td>\n      <td>1.483673</td>\n      <td>1.388053</td>\n      <td>0.055946</td>\n      <td>0.046988</td>\n      <td>-25.289870</td>\n      <td>S162</td>\n      <td>67</td>\n      <td>1</td>\n      <td>1</td>\n      <td>24</td>\n    </tr>\n    <tr>\n      <th>3</th>\n      <td>3</td>\n      <td>28.083347</td>\n      <td>0.266278</td>\n      <td>24.390467</td>\n      <td>26.107916</td>\n      <td>29.036630</td>\n      <td>4.646164</td>\n      <td>416.17200</td>\n      <td>769.896240</td>\n      <td>225.06831</td>\n      <td>...</td>\n      <td>0.368082</td>\n      <td>0.375981</td>\n      <td>0.151600</td>\n      <td>0.184023</td>\n      <td>-29.287306</td>\n      <td>S163</td>\n      <td>71</td>\n      <td>0</td>\n      <td>0</td>\n      <td>30</td>\n    </tr>\n    <tr>\n      <th>4</th>\n      <td>4</td>\n      <td>34.369990</td>\n      <td>0.078030</td>\n      <td>33.367874</td>\n      <td>34.617860</td>\n      <td>35.442660</td>\n      <td>2.074787</td>\n      <td>58.16399</td>\n      <td>31.168308</td>\n      <td>367.91990</td>\n      <td>...</td>\n      <td>0.074000</td>\n      <td>0.034409</td>\n      <td>5.053333</td>\n      <td>6.706737</td>\n      <td>-66.156525</td>\n      <td>S164</td>\n      <td>73</td>\n      <td>1</td>\n      <td>1</td>\n      <td>21</td>\n    </tr>\n  </tbody>\n</table>\n<p>5 rows × 94 columns</p>\n</div>"
     },
     "execution_count": 22,
     "metadata": {},
     "output_type": "execute_result"
    }
   ],
   "source": [
    "test.head()\n",
    "\n",
    "#comment: 1 - female, 0 - male"
   ]
  },
  {
   "cell_type": "code",
   "execution_count": 23,
   "id": "898cb217",
   "metadata": {
    "pycharm": {
     "name": "#%%\n"
    }
   },
   "outputs": [],
   "source": [
    "# preprocessing\n",
    "features = [\"F2frequency_sma3nz_amean\", \n",
    "             \"HNRdBACF_sma3nz_amean\", \n",
    "             \"F0semitoneFrom27.5Hz_sma3nz_percentile80.0\", \n",
    "             \"F0semitoneFrom27.5Hz_sma3nz_amean\",\n",
    "             \"F1frequency_sma3nz_amean\",\n",
    "             \"gender\", \"diagnosis\"]\n",
    "\n",
    "train['gender'] = train['gender'].replace(['female', 'male'], [1, 0])\n",
    "\n",
    "train_df = train[features]\n",
    "test_df = test[features]"
   ]
  },
  {
   "cell_type": "code",
   "execution_count": 24,
   "id": "8515620c",
   "metadata": {
    "pycharm": {
     "name": "#%%\n"
    }
   },
   "outputs": [],
   "source": [
    "# function for calculating accuracy, sensitivity and specificity\n",
    "\n",
    "def classification_results(y_true, y_pred):\n",
    "    print(skm.confusion_matrix(y_true, y_pred))\n",
    "    tn, fp, fn, tp = skm.confusion_matrix(y_true, y_pred).ravel()\n",
    "    specificity = tn / (tn + fp)\n",
    "    sensitivity = tp / (tp + fn)\n",
    "    accuracy = skm.accuracy_score(y_pred=y_pred, y_true=y_true)\n",
    "    print('Accuracy: ', accuracy)\n",
    "    print('Sensitivity: ', sensitivity)\n",
    "    print('Specificity: ', specificity)"
   ]
  },
  {
   "cell_type": "code",
   "execution_count": 25,
   "id": "4ab296d7",
   "metadata": {
    "pycharm": {
     "name": "#%%\n"
    }
   },
   "outputs": [],
   "source": [
    "# function for evaluating during CV, full train and test datasets\n",
    "\n",
    "def evaluate_model(model, data_x, data_y, X_test, y_test, k=5):\n",
    "    '''returns trained classifier'''\n",
    "    k_fold = KFold(k, shuffle=True, random_state=1)\n",
    "\n",
    "    predicted_targets = np.array([])\n",
    "    actual_targets = np.array([])\n",
    "    \n",
    "    display(Markdown(\"#### Results of k-fold CV on training set\"))\n",
    "    for train_ix, test_ix in k_fold.split(data_x):\n",
    "        train_x, train_y, test_x, test_y = data_x.iloc[train_ix], data_y.iloc[train_ix], data_x.iloc[test_ix], data_y.iloc[test_ix]\n",
    "\n",
    "        # Fit the classifier\n",
    "        classifier = model.fit(train_x, train_y)\n",
    "\n",
    "        # Predict the labels of the test set samples\n",
    "        predicted_labels_fold = classifier.predict(test_x)\n",
    "\n",
    "        predicted_targets = np.append(predicted_targets, predicted_labels_fold)\n",
    "        actual_targets = np.append(actual_targets, test_y)\n",
    "        \n",
    "        classification_results(test_y, predicted_labels_fold)\n",
    "        print('')\n",
    "        \n",
    "    display(Markdown(\"#### Results on the whole training set\"))\n",
    "    classification_results(actual_targets, predicted_targets)\n",
    "    \n",
    "    \n",
    "    display(Markdown(\"#### Results on test set\"))\n",
    "    classification_results(y_test, classifier.predict(X_test))\n",
    "    \n",
    "    return classifier\n",
    "        \n",
    "    "
   ]
  },
  {
   "cell_type": "markdown",
   "id": "22885091",
   "metadata": {
    "pycharm": {
     "name": "#%% md\n"
    }
   },
   "source": [
    "### Logistic regression model"
   ]
  },
  {
   "cell_type": "code",
   "execution_count": 26,
   "id": "5e1f7291",
   "metadata": {
    "pycharm": {
     "name": "#%%\n"
    }
   },
   "outputs": [],
   "source": [
    "features_lr = [\"F0semitoneFrom27.5Hz_sma3nz_percentile80.0\", \n",
    "                 \"F1frequency_sma3nz_amean\", \n",
    "                 \"HNRdBACF_sma3nz_amean\", \n",
    "                 \"F0semitoneFrom27.5Hz_sma3nz_amean\",\n",
    "                 \"gender\"]\n",
    "\n",
    "Y_train = train_df[\"diagnosis\"]\n",
    "X_train = train_df[features_lr]\n",
    "\n",
    "Y_test = test_df[\"diagnosis\"]\n",
    "X_test = test_df[features_lr]\n"
   ]
  },
  {
   "cell_type": "code",
   "execution_count": 27,
   "id": "2141ade7",
   "metadata": {
    "pycharm": {
     "name": "#%%\n"
    }
   },
   "outputs": [
    {
     "data": {
      "text/plain": "<IPython.core.display.Markdown object>",
      "text/markdown": "#### Results of k-fold CV on training set"
     },
     "metadata": {},
     "output_type": "display_data"
    },
    {
     "name": "stdout",
     "output_type": "stream",
     "text": [
      "[[ 2  2]\n",
      " [ 5 13]]\n",
      "Accuracy:  0.6818181818181818\n",
      "Sensitivity:  0.7222222222222222\n",
      "Specificity:  0.5\n",
      "\n",
      "[[13  1]\n",
      " [ 5  3]]\n",
      "Accuracy:  0.7272727272727273\n",
      "Sensitivity:  0.375\n",
      "Specificity:  0.9285714285714286\n",
      "\n",
      "[[7 4]\n",
      " [2 9]]\n",
      "Accuracy:  0.7272727272727273\n",
      "Sensitivity:  0.8181818181818182\n",
      "Specificity:  0.6363636363636364\n",
      "\n",
      "[[7 4]\n",
      " [4 6]]\n",
      "Accuracy:  0.6190476190476191\n",
      "Sensitivity:  0.6\n",
      "Specificity:  0.6363636363636364\n",
      "\n",
      "[[8 6]\n",
      " [3 4]]\n",
      "Accuracy:  0.5714285714285714\n",
      "Sensitivity:  0.5714285714285714\n",
      "Specificity:  0.5714285714285714\n",
      "\n"
     ]
    },
    {
     "data": {
      "text/plain": "<IPython.core.display.Markdown object>",
      "text/markdown": "#### Results on the whole training set"
     },
     "metadata": {},
     "output_type": "display_data"
    },
    {
     "name": "stdout",
     "output_type": "stream",
     "text": [
      "[[37 17]\n",
      " [19 35]]\n",
      "Accuracy:  0.6666666666666666\n",
      "Sensitivity:  0.6481481481481481\n",
      "Specificity:  0.6851851851851852\n"
     ]
    },
    {
     "data": {
      "text/plain": "<IPython.core.display.Markdown object>",
      "text/markdown": "#### Results on test set"
     },
     "metadata": {},
     "output_type": "display_data"
    },
    {
     "name": "stdout",
     "output_type": "stream",
     "text": [
      "[[16  8]\n",
      " [ 7 17]]\n",
      "Accuracy:  0.6875\n",
      "Sensitivity:  0.7083333333333334\n",
      "Specificity:  0.6666666666666666\n"
     ]
    }
   ],
   "source": [
    "model_lr = Pipeline(\n",
    "    steps=[\n",
    "        (\n",
    "            \"classifier\",\n",
    "            LogisticRegression(solver='liblinear', penalty = 'l2', class_weight = 'balanced'),\n",
    "        ),\n",
    "    ]\n",
    ")\n",
    "\n",
    "model_lr = evaluate_model(model_lr, X_train, Y_train, X_test, Y_test)"
   ]
  },
  {
   "cell_type": "markdown",
   "id": "a37b740f",
   "metadata": {
    "pycharm": {
     "name": "#%% md\n"
    }
   },
   "source": [
    "### Random forest model"
   ]
  },
  {
   "cell_type": "code",
   "execution_count": 28,
   "id": "6d09dd9c",
   "metadata": {
    "pycharm": {
     "name": "#%%\n"
    }
   },
   "outputs": [],
   "source": [
    "features_rf = [\"F0semitoneFrom27.5Hz_sma3nz_percentile80.0\", \n",
    "                 \"F1frequency_sma3nz_amean\", \n",
    "                 \"HNRdBACF_sma3nz_amean\", \n",
    "                 \"F0semitoneFrom27.5Hz_sma3nz_amean\",\n",
    "                 \"gender\"]\n",
    "\n",
    "Y_train = train_df[\"diagnosis\"]\n",
    "X_train = train_df[features_rf]\n",
    "\n",
    "Y_test = test_df[\"diagnosis\"]\n",
    "X_test = test_df[features_rf]"
   ]
  },
  {
   "cell_type": "code",
   "execution_count": 29,
   "id": "f20ca0b5",
   "metadata": {
    "scrolled": false,
    "pycharm": {
     "name": "#%%\n"
    }
   },
   "outputs": [
    {
     "data": {
      "text/plain": "<IPython.core.display.Markdown object>",
      "text/markdown": "#### Results of k-fold CV on training set"
     },
     "metadata": {},
     "output_type": "display_data"
    },
    {
     "name": "stdout",
     "output_type": "stream",
     "text": [
      "[[ 1  3]\n",
      " [ 6 12]]\n",
      "Accuracy:  0.5909090909090909\n",
      "Sensitivity:  0.6666666666666666\n",
      "Specificity:  0.25\n",
      "\n",
      "[[11  3]\n",
      " [ 4  4]]\n",
      "Accuracy:  0.6818181818181818\n",
      "Sensitivity:  0.5\n",
      "Specificity:  0.7857142857142857\n",
      "\n",
      "[[6 5]\n",
      " [7 4]]\n",
      "Accuracy:  0.45454545454545453\n",
      "Sensitivity:  0.36363636363636365\n",
      "Specificity:  0.5454545454545454\n",
      "\n",
      "[[9 2]\n",
      " [4 6]]\n",
      "Accuracy:  0.7142857142857143\n",
      "Sensitivity:  0.6\n",
      "Specificity:  0.8181818181818182\n",
      "\n",
      "[[8 6]\n",
      " [2 5]]\n",
      "Accuracy:  0.6190476190476191\n",
      "Sensitivity:  0.7142857142857143\n",
      "Specificity:  0.5714285714285714\n",
      "\n"
     ]
    },
    {
     "data": {
      "text/plain": "<IPython.core.display.Markdown object>",
      "text/markdown": "#### Results on the whole training set"
     },
     "metadata": {},
     "output_type": "display_data"
    },
    {
     "name": "stdout",
     "output_type": "stream",
     "text": [
      "[[35 19]\n",
      " [23 31]]\n",
      "Accuracy:  0.6111111111111112\n",
      "Sensitivity:  0.5740740740740741\n",
      "Specificity:  0.6481481481481481\n"
     ]
    },
    {
     "data": {
      "text/plain": "<IPython.core.display.Markdown object>",
      "text/markdown": "#### Results on test set"
     },
     "metadata": {},
     "output_type": "display_data"
    },
    {
     "name": "stdout",
     "output_type": "stream",
     "text": [
      "[[16  8]\n",
      " [ 8 16]]\n",
      "Accuracy:  0.6666666666666666\n",
      "Sensitivity:  0.6666666666666666\n",
      "Specificity:  0.6666666666666666\n"
     ]
    }
   ],
   "source": [
    "model_rf = Pipeline(\n",
    "    steps=[\n",
    "        (\"preprocessor\", MinMaxScaler()),\n",
    "        (\n",
    "            \"classifier\",\n",
    "            RandomForestClassifier(n_estimators=200, min_samples_leaf=20,\n",
    "                                                               class_weight='balanced'),\n",
    "        ),\n",
    "    ]\n",
    ")\n",
    "\n",
    "model_rf = evaluate_model(model_rf, X_train, Y_train, X_test, Y_test)"
   ]
  },
  {
   "cell_type": "markdown",
   "id": "6dae4016",
   "metadata": {
    "pycharm": {
     "name": "#%% md\n"
    }
   },
   "source": [
    "### kNN model"
   ]
  },
  {
   "cell_type": "code",
   "execution_count": 30,
   "id": "d7f01da5",
   "metadata": {
    "pycharm": {
     "name": "#%%\n"
    }
   },
   "outputs": [],
   "source": [
    "features_knn = [\"F0semitoneFrom27.5Hz_sma3nz_percentile80.0\", \n",
    "                 \"HNRdBACF_sma3nz_amean\", \n",
    "                 \"F0semitoneFrom27.5Hz_sma3nz_amean\",\n",
    "                 \"gender\"]\n",
    "\n",
    "Y_train = train_df[\"diagnosis\"]\n",
    "X_train = train_df[features_knn]\n",
    "\n",
    "Y_test = test_df[\"diagnosis\"]\n",
    "X_test = test_df[features_knn]"
   ]
  },
  {
   "cell_type": "code",
   "execution_count": 31,
   "id": "ae51fb99",
   "metadata": {
    "pycharm": {
     "name": "#%%\n"
    }
   },
   "outputs": [
    {
     "data": {
      "text/plain": "<IPython.core.display.Markdown object>",
      "text/markdown": "#### Results of k-fold CV on training set"
     },
     "metadata": {},
     "output_type": "display_data"
    },
    {
     "name": "stdout",
     "output_type": "stream",
     "text": [
      "[[ 4  0]\n",
      " [ 8 10]]\n",
      "Accuracy:  0.6363636363636364\n",
      "Sensitivity:  0.5555555555555556\n",
      "Specificity:  1.0\n",
      "\n",
      "[[5 9]\n",
      " [3 5]]\n",
      "Accuracy:  0.45454545454545453\n",
      "Sensitivity:  0.625\n",
      "Specificity:  0.35714285714285715\n",
      "\n",
      "[[7 4]\n",
      " [6 5]]\n",
      "Accuracy:  0.5454545454545454\n",
      "Sensitivity:  0.45454545454545453\n",
      "Specificity:  0.6363636363636364\n",
      "\n",
      "[[3 8]\n",
      " [4 6]]\n",
      "Accuracy:  0.42857142857142855\n",
      "Sensitivity:  0.6\n",
      "Specificity:  0.2727272727272727\n",
      "\n",
      "[[5 9]\n",
      " [1 6]]\n",
      "Accuracy:  0.5238095238095238\n",
      "Sensitivity:  0.8571428571428571\n",
      "Specificity:  0.35714285714285715\n",
      "\n"
     ]
    },
    {
     "data": {
      "text/plain": "<IPython.core.display.Markdown object>",
      "text/markdown": "#### Results on the whole training set"
     },
     "metadata": {},
     "output_type": "display_data"
    },
    {
     "name": "stdout",
     "output_type": "stream",
     "text": [
      "[[24 30]\n",
      " [22 32]]\n",
      "Accuracy:  0.5185185185185185\n",
      "Sensitivity:  0.5925925925925926\n",
      "Specificity:  0.4444444444444444\n"
     ]
    },
    {
     "data": {
      "text/plain": "<IPython.core.display.Markdown object>",
      "text/markdown": "#### Results on test set"
     },
     "metadata": {},
     "output_type": "display_data"
    },
    {
     "name": "stdout",
     "output_type": "stream",
     "text": [
      "[[14 10]\n",
      " [ 5 19]]\n",
      "Accuracy:  0.6875\n",
      "Sensitivity:  0.7916666666666666\n",
      "Specificity:  0.5833333333333334\n"
     ]
    }
   ],
   "source": [
    "model_knn = Pipeline(\n",
    "    steps=[\n",
    "        (\"preprocessor\", MinMaxScaler()),\n",
    "        (\n",
    "            \"classifier\",\n",
    "            KNeighborsClassifier(n_neighbors=3),\n",
    "        ),\n",
    "    ]\n",
    ")\n",
    "\n",
    "model_knn = evaluate_model(model_knn, X_train, Y_train, X_test, Y_test)"
   ]
  },
  {
   "cell_type": "markdown",
   "id": "767938f8",
   "metadata": {
    "pycharm": {
     "name": "#%% md\n"
    }
   },
   "source": [
    "### Radial based SVM"
   ]
  },
  {
   "cell_type": "code",
   "execution_count": 32,
   "id": "e7bdc858",
   "metadata": {
    "pycharm": {
     "name": "#%%\n"
    }
   },
   "outputs": [],
   "source": [
    "features_svm = [\"F2frequency_sma3nz_amean\", \n",
    "                    \"F0semitoneFrom27.5Hz_sma3nz_percentile80.0\", \n",
    "                    \"F0semitoneFrom27.5Hz_sma3nz_amean\",\n",
    "                     \"gender\"]\n",
    "\n",
    "Y_train = train_df[\"diagnosis\"]\n",
    "X_train = train_df[features_svm]\n",
    "\n",
    "Y_test = test_df[\"diagnosis\"]\n",
    "X_test = test_df[features_svm]"
   ]
  },
  {
   "cell_type": "code",
   "execution_count": 33,
   "id": "2d63be20",
   "metadata": {
    "pycharm": {
     "name": "#%%\n"
    }
   },
   "outputs": [
    {
     "data": {
      "text/plain": "<IPython.core.display.Markdown object>",
      "text/markdown": "#### Results of k-fold CV on training set"
     },
     "metadata": {},
     "output_type": "display_data"
    },
    {
     "name": "stdout",
     "output_type": "stream",
     "text": [
      "[[ 4  0]\n",
      " [ 8 10]]\n",
      "Accuracy:  0.6363636363636364\n",
      "Sensitivity:  0.5555555555555556\n",
      "Specificity:  1.0\n",
      "\n",
      "[[9 5]\n",
      " [1 7]]\n",
      "Accuracy:  0.7272727272727273\n",
      "Sensitivity:  0.875\n",
      "Specificity:  0.6428571428571429\n",
      "\n",
      "[[5 6]\n",
      " [5 6]]\n",
      "Accuracy:  0.5\n",
      "Sensitivity:  0.5454545454545454\n",
      "Specificity:  0.45454545454545453\n",
      "\n",
      "[[6 5]\n",
      " [1 9]]\n",
      "Accuracy:  0.7142857142857143\n",
      "Sensitivity:  0.9\n",
      "Specificity:  0.5454545454545454\n",
      "\n",
      "[[9 5]\n",
      " [2 5]]\n",
      "Accuracy:  0.6666666666666666\n",
      "Sensitivity:  0.7142857142857143\n",
      "Specificity:  0.6428571428571429\n",
      "\n"
     ]
    },
    {
     "data": {
      "text/plain": "<IPython.core.display.Markdown object>",
      "text/markdown": "#### Results on the whole training set"
     },
     "metadata": {},
     "output_type": "display_data"
    },
    {
     "name": "stdout",
     "output_type": "stream",
     "text": [
      "[[33 21]\n",
      " [17 37]]\n",
      "Accuracy:  0.6481481481481481\n",
      "Sensitivity:  0.6851851851851852\n",
      "Specificity:  0.6111111111111112\n"
     ]
    },
    {
     "data": {
      "text/plain": "<IPython.core.display.Markdown object>",
      "text/markdown": "#### Results on test set"
     },
     "metadata": {},
     "output_type": "display_data"
    },
    {
     "name": "stdout",
     "output_type": "stream",
     "text": [
      "[[18  6]\n",
      " [ 8 16]]\n",
      "Accuracy:  0.7083333333333334\n",
      "Sensitivity:  0.6666666666666666\n",
      "Specificity:  0.75\n"
     ]
    }
   ],
   "source": [
    "model_svm = Pipeline(\n",
    "    steps=[\n",
    "        (\"preprocessor\", MinMaxScaler()),\n",
    "        (\n",
    "            \"classifier\",\n",
    "            SVC(kernel = 'rbf', gamma = 4.0, C = 3.0),\n",
    "        ),\n",
    "    ]\n",
    ")\n",
    "\n",
    "\n",
    "model_svm = evaluate_model(model_svm, X_train, Y_train, X_test, Y_test)"
   ]
  },
  {
   "cell_type": "markdown",
   "id": "c6b841ec",
   "metadata": {
    "pycharm": {
     "name": "#%% md\n"
    }
   },
   "source": [
    "#### Results on the test set without debiasing\n",
    "\n",
    "| Model       | Logistic regression | Random forest | kNN    |  SVM   |  \n",
    "|------       |------               | ------        |------  | ------ |\n",
    "| Accuracy    |  0.6875             |  0.666        | 0.6875 | 0.7083 | \n",
    "| Sensitivity |  0.7083             |  0.666        | 0.7916 | 0.6666 | \n",
    "| Specificity |  0.6666             |  0.666        | 0.5833 | 0.75   | "
   ]
  },
  {
   "cell_type": "markdown",
   "id": "b17fc9fc",
   "metadata": {
    "pycharm": {
     "name": "#%% md\n"
    }
   },
   "source": [
    "## Applying debiasing techniques\n",
    "\n",
    "### in-processing algorithms"
   ]
  },
  {
   "cell_type": "code",
   "execution_count": 34,
   "id": "c696f04a",
   "metadata": {
    "pycharm": {
     "name": "#%%\n"
    }
   },
   "outputs": [],
   "source": [
    "# AIF360 Metrics\n",
    "from aif360.sklearn.metrics import statistical_parity_difference, equal_opportunity_difference, average_odds_difference\n",
    "from aif360.sklearn.metrics import disparate_impact_ratio, theil_index\n",
    "\n",
    "# AIF360 in-processing algorithms\n",
    "\n",
    "from aif360.sklearn.inprocessing import ExponentiatedGradientReduction\n",
    "from aif360.sklearn.inprocessing import GridSearchReduction\n",
    "\n",
    "from aif360.sklearn import preprocessing\n",
    "from aif360.sklearn import inprocessing\n",
    "from aif360.sklearn import postprocessing\n",
    "\n",
    "# AIF360 dataset utils\n",
    "from aif360.sklearn.datasets import standardize_dataset\n",
    "\n",
    "# import of fairlearn\n",
    "import fairlearn.reductions as red\n",
    "from fairlearn.metrics import true_negative_rate\n",
    "import fairlearn.metrics as fm"
   ]
  },
  {
   "cell_type": "code",
   "execution_count": 35,
   "id": "aca6e7a7",
   "metadata": {
    "pycharm": {
     "name": "#%%\n"
    }
   },
   "outputs": [],
   "source": [
    "def get_values_of_aif_metrics(y_test, y_pred):\n",
    "    print('Statistical parity difference: ', statistical_parity_difference(y_test, y_pred))\n",
    "    print('Equal opportunity difference: ', equal_opportunity_difference(y_test, y_pred))\n",
    "    print('Average odds difference: ', average_odds_difference(y_test, y_pred))\n",
    "    print('Disparate impact ratio: ', disparate_impact_ratio(y_test, y_pred))\n",
    "    print('Theil index: ', theil_index(y_pred))"
   ]
  },
  {
   "cell_type": "code",
   "execution_count": 36,
   "id": "eea28e22",
   "metadata": {
    "pycharm": {
     "name": "#%%\n"
    }
   },
   "outputs": [],
   "source": [
    "# creating aif360 dataset\n",
    "def create_dataset(train_df, test_df, target, prot_attr_cols, usecols):\n",
    "    X_train_aif, y_train_aif = standardize_dataset(df = train_df, prot_attr=prot_attr_cols, \n",
    "                                               target = target, usecols=usecols)\n",
    "    X_test_aif, y_test_aif = standardize_dataset(df = test_df, prot_attr=prot_attr_cols, target = target,\n",
    "                                            usecols=usecols)\n",
    "    return X_train_aif, y_train_aif, X_test_aif, y_test_aif"
   ]
  },
  {
   "cell_type": "code",
   "execution_count": 37,
   "id": "ce4ccc1a",
   "metadata": {
    "pycharm": {
     "name": "#%%\n"
    }
   },
   "outputs": [],
   "source": [
    "metrics = {\n",
    "    'accuracy': skm.accuracy_score,\n",
    "    'sensitivity': skm.recall_score,  \n",
    "    'specificity': fm.true_negative_rate\n",
    "            }\n",
    "\n",
    "def plot_metrics(y_true, X, metrics, model, sens_feature):\n",
    "    \n",
    "    metric_frame = fm.MetricFrame(metrics=metrics,\n",
    "                           y_true=y_true,\n",
    "                           y_pred=model.predict(X),\n",
    "                           sensitive_features=X[sens_feature])\n",
    "\n",
    "    metric_frame.by_group.plot.bar(\n",
    "        subplots=True,\n",
    "        layout=[1, 3],\n",
    "        legend=False,\n",
    "        figsize=[16, 5],\n",
    "        ylim = [0, 1],\n",
    "        title=\"Show all metrics\")\n",
    "    \n",
    "    print(metric_frame.by_group)"
   ]
  },
  {
   "cell_type": "code",
   "execution_count": 38,
   "id": "e5461db6",
   "metadata": {
    "pycharm": {
     "name": "#%%\n"
    }
   },
   "outputs": [
    {
     "data": {
      "text/plain": "['gender']"
     },
     "execution_count": 38,
     "metadata": {},
     "output_type": "execute_result"
    }
   ],
   "source": [
    "prot_attr_cols = [colname for colname in train_df if \"gender\" in colname]\n",
    "prot_attr_cols"
   ]
  },
  {
   "cell_type": "markdown",
   "source": [
    "### Logistic regressionX_train_aif, y_train_aif, X_test_aif, y_test_aif = create_dataset(train_df, test_df, 'diagnosis', prot_attr_cols, features_lr)"
   ],
   "metadata": {
    "collapsed": false,
    "pycharm": {
     "name": "#%% md\n"
    }
   }
  },
  {
   "cell_type": "code",
   "execution_count": 227,
   "id": "c5fdbb97",
   "metadata": {
    "pycharm": {
     "name": "#%%\n"
    }
   },
   "outputs": [],
   "source": [
    "X_train_aif, y_train_aif, X_test_aif, y_test_aif = create_dataset(train_df, test_df, 'diagnosis', prot_attr_cols, features_lr)"
   ]
  },
  {
   "cell_type": "code",
   "execution_count": 40,
   "id": "acfff24f",
   "metadata": {
    "pycharm": {
     "name": "#%%\n"
    }
   },
   "outputs": [
    {
     "name": "stdout",
     "output_type": "stream",
     "text": [
      "Statistical parity difference:  0.12937062937062938\n",
      "Equal opportunity difference:  0.2027972027972028\n",
      "Average odds difference:  0.12937062937062938\n",
      "Disparate impact ratio:  1.2803030303030303\n",
      "Theil index:  0.6523251860396903\n",
      "\n",
      "        accuracy sensitivity specificity\n",
      "gender                                  \n",
      "0       0.727273    0.818182    0.636364\n",
      "1       0.653846    0.615385    0.692308\n",
      "\n",
      "[[16  8]\n",
      " [ 7 17]]\n",
      "Accuracy:  0.6875\n",
      "Sensitivity:  0.7083333333333334\n",
      "Specificity:  0.6666666666666666\n"
     ]
    },
    {
     "data": {
      "text/plain": "<Figure size 1152x360 with 3 Axes>",
      "image/png": "[encoded data removed]"
     },
     "metadata": {
      "needs_background": "light"
     },
     "output_type": "display_data"
    }
   ],
   "source": [
    "# results for default model \n",
    "\n",
    "get_values_of_aif_metrics(y_test_aif, model_lr.predict(X_test_aif))\n",
    "print('')\n",
    "plot_metrics(y_test_aif, X_test_aif, metrics, model_lr, 'gender')\n",
    "print('')\n",
    "classification_results(y_test_aif, model_lr.predict(X_test_aif))"
   ]
  },
  {
   "cell_type": "code",
   "execution_count": 41,
   "outputs": [
    {
     "name": "stderr",
     "output_type": "stream",
     "text": [
      "Using the level keyword in DataFrame and Series aggregations is deprecated and will be removed in a future version. Use groupby instead. df.sum(level=1) should use df.groupby(level=1).sum().\n",
      "Using the level keyword in DataFrame and Series aggregations is deprecated and will be removed in a future version. Use groupby instead. df.sum(level=1) should use df.groupby(level=1).sum().\n",
      "Using the level keyword in DataFrame and Series aggregations is deprecated and will be removed in a future version. Use groupby instead. df.sum(level=1) should use df.groupby(level=1).sum().\n",
      "Using the level keyword in DataFrame and Series aggregations is deprecated and will be removed in a future version. Use groupby instead. df.sum(level=1) should use df.groupby(level=1).sum().\n",
      "Using the level keyword in DataFrame and Series aggregations is deprecated and will be removed in a future version. Use groupby instead. df.sum(level=1) should use df.groupby(level=1).sum().\n",
      "Using the level keyword in DataFrame and Series aggregations is deprecated and will be removed in a future version. Use groupby instead. df.sum(level=1) should use df.groupby(level=1).sum().\n",
      "Using the level keyword in DataFrame and Series aggregations is deprecated and will be removed in a future version. Use groupby instead. df.sum(level=1) should use df.groupby(level=1).sum().\n",
      "Using the level keyword in DataFrame and Series aggregations is deprecated and will be removed in a future version. Use groupby instead. df.sum(level=1) should use df.groupby(level=1).sum().\n",
      "Using the level keyword in DataFrame and Series aggregations is deprecated and will be removed in a future version. Use groupby instead. df.sum(level=1) should use df.groupby(level=1).sum().\n",
      "Using the level keyword in DataFrame and Series aggregations is deprecated and will be removed in a future version. Use groupby instead. df.sum(level=1) should use df.groupby(level=1).sum().\n"
     ]
    },
    {
     "name": "stdout",
     "output_type": "stream",
     "text": [
      "Statistical parity difference:  0.07692307692307693\n",
      "Equal opportunity difference:  0.2027972027972028\n",
      "Average odds difference:  0.07692307692307693\n",
      "Disparate impact ratio:  1.1818181818181819\n",
      "Theil index:  0.7801585575495752\n",
      "\n",
      "        accuracy sensitivity specificity\n",
      "gender                                  \n",
      "0       0.818182    0.818182    0.818182\n",
      "1       0.692308    0.615385    0.769231\n",
      "\n",
      "[[19  5]\n",
      " [ 7 17]]\n",
      "Accuracy:  0.75\n",
      "Sensitivity:  0.7083333333333334\n",
      "Specificity:  0.7916666666666666\n"
     ]
    },
    {
     "data": {
      "text/plain": "<Figure size 1152x360 with 3 Axes>",
      "image/png": "[encoded data removed]"
     },
     "metadata": {
      "needs_background": "light"
     },
     "output_type": "display_data"
    }
   ],
   "source": [
    "# results for debiased model with GridSearch\n",
    "\n",
    "model_lr_fair = red.GridSearch(model_lr,\n",
    "                               constraints=red.EqualizedOdds(),\n",
    "                              sample_weight_name=\"classifier__sample_weight\")\n",
    "model_lr_fair.fit(X_train_aif, y_train_aif, sensitive_features=X_train_aif['gender'])\n",
    "\n",
    "get_values_of_aif_metrics(y_test_aif, model_lr_fair.predict(X_test_aif))\n",
    "print('')\n",
    "plot_metrics(y_test_aif, X_test_aif, metrics, model_lr_fair, 'gender')\n",
    "print('')\n",
    "classification_results(y_test_aif, model_lr_fair.predict(X_test_aif))"
   ],
   "metadata": {
    "collapsed": false,
    "pycharm": {
     "name": "#%%\n"
    }
   }
  },
  {
   "cell_type": "code",
   "execution_count": 42,
   "outputs": [
    {
     "name": "stderr",
     "output_type": "stream",
     "text": [
      "Using the level keyword in DataFrame and Series aggregations is deprecated and will be removed in a future version. Use groupby instead. df.sum(level=1) should use df.groupby(level=1).sum().\n",
      "Using the level keyword in DataFrame and Series aggregations is deprecated and will be removed in a future version. Use groupby instead. df.sum(level=1) should use df.groupby(level=1).sum().\n",
      "Using the level keyword in DataFrame and Series aggregations is deprecated and will be removed in a future version. Use groupby instead. df.sum(level=1) should use df.groupby(level=1).sum().\n",
      "Using the level keyword in DataFrame and Series aggregations is deprecated and will be removed in a future version. Use groupby instead. df.sum(level=1) should use df.groupby(level=1).sum().\n",
      "Using the level keyword in DataFrame and Series aggregations is deprecated and will be removed in a future version. Use groupby instead. df.sum(level=1) should use df.groupby(level=1).sum().\n",
      "Using the level keyword in DataFrame and Series aggregations is deprecated and will be removed in a future version. Use groupby instead. df.sum(level=1) should use df.groupby(level=1).sum().\n",
      "Using the level keyword in DataFrame and Series aggregations is deprecated and will be removed in a future version. Use groupby instead. df.sum(level=1) should use df.groupby(level=1).sum().\n",
      "Using the level keyword in DataFrame and Series aggregations is deprecated and will be removed in a future version. Use groupby instead. df.sum(level=1) should use df.groupby(level=1).sum().\n",
      "Using the level keyword in DataFrame and Series aggregations is deprecated and will be removed in a future version. Use groupby instead. df.sum(level=1) should use df.groupby(level=1).sum().\n",
      "Using the level keyword in DataFrame and Series aggregations is deprecated and will be removed in a future version. Use groupby instead. df.sum(level=1) should use df.groupby(level=1).sum().\n",
      "Using the level keyword in DataFrame and Series aggregations is deprecated and will be removed in a future version. Use groupby instead. df.sum(level=1) should use df.groupby(level=1).sum().\n",
      "Using the level keyword in DataFrame and Series aggregations is deprecated and will be removed in a future version. Use groupby instead. df.sum(level=1) should use df.groupby(level=1).sum().\n",
      "Using the level keyword in DataFrame and Series aggregations is deprecated and will be removed in a future version. Use groupby instead. df.sum(level=1) should use df.groupby(level=1).sum().\n",
      "Using the level keyword in DataFrame and Series aggregations is deprecated and will be removed in a future version. Use groupby instead. df.sum(level=1) should use df.groupby(level=1).sum().\n",
      "Using the level keyword in DataFrame and Series aggregations is deprecated and will be removed in a future version. Use groupby instead. df.sum(level=1) should use df.groupby(level=1).sum().\n",
      "Using the level keyword in DataFrame and Series aggregations is deprecated and will be removed in a future version. Use groupby instead. df.sum(level=1) should use df.groupby(level=1).sum().\n",
      "Using the level keyword in DataFrame and Series aggregations is deprecated and will be removed in a future version. Use groupby instead. df.sum(level=1) should use df.groupby(level=1).sum().\n",
      "Using the level keyword in DataFrame and Series aggregations is deprecated and will be removed in a future version. Use groupby instead. df.sum(level=1) should use df.groupby(level=1).sum().\n",
      "Using the level keyword in DataFrame and Series aggregations is deprecated and will be removed in a future version. Use groupby instead. df.sum(level=1) should use df.groupby(level=1).sum().\n",
      "Using the level keyword in DataFrame and Series aggregations is deprecated and will be removed in a future version. Use groupby instead. df.sum(level=1) should use df.groupby(level=1).sum().\n",
      "Using the level keyword in DataFrame and Series aggregations is deprecated and will be removed in a future version. Use groupby instead. df.sum(level=1) should use df.groupby(level=1).sum().\n",
      "Using the level keyword in DataFrame and Series aggregations is deprecated and will be removed in a future version. Use groupby instead. df.sum(level=1) should use df.groupby(level=1).sum().\n",
      "Using the level keyword in DataFrame and Series aggregations is deprecated and will be removed in a future version. Use groupby instead. df.sum(level=1) should use df.groupby(level=1).sum().\n",
      "Using the level keyword in DataFrame and Series aggregations is deprecated and will be removed in a future version. Use groupby instead. df.sum(level=1) should use df.groupby(level=1).sum().\n",
      "Using the level keyword in DataFrame and Series aggregations is deprecated and will be removed in a future version. Use groupby instead. df.sum(level=1) should use df.groupby(level=1).sum().\n",
      "Using the level keyword in DataFrame and Series aggregations is deprecated and will be removed in a future version. Use groupby instead. df.sum(level=1) should use df.groupby(level=1).sum().\n",
      "Using the level keyword in DataFrame and Series aggregations is deprecated and will be removed in a future version. Use groupby instead. df.sum(level=1) should use df.groupby(level=1).sum().\n",
      "Using the level keyword in DataFrame and Series aggregations is deprecated and will be removed in a future version. Use groupby instead. df.sum(level=1) should use df.groupby(level=1).sum().\n",
      "Using the level keyword in DataFrame and Series aggregations is deprecated and will be removed in a future version. Use groupby instead. df.sum(level=1) should use df.groupby(level=1).sum().\n",
      "Using the level keyword in DataFrame and Series aggregations is deprecated and will be removed in a future version. Use groupby instead. df.sum(level=1) should use df.groupby(level=1).sum().\n"
     ]
    },
    {
     "name": "stdout",
     "output_type": "stream",
     "text": [
      "Statistical parity difference:  0.038461538461538436\n",
      "Equal opportunity difference:  0.2027972027972028\n",
      "Average odds difference:  0.038461538461538436\n",
      "Disparate impact ratio:  1.0833333333333333\n",
      "Theil index:  0.735706794978741\n",
      "\n",
      "        accuracy sensitivity specificity\n",
      "gender                                  \n",
      "0       0.818182    0.818182    0.818182\n",
      "1       0.653846    0.615385    0.692308\n",
      "\n",
      "[[18  6]\n",
      " [ 7 17]]\n",
      "Accuracy:  0.7291666666666666\n",
      "Sensitivity:  0.7083333333333334\n",
      "Specificity:  0.75\n"
     ]
    },
    {
     "data": {
      "text/plain": "<Figure size 1152x360 with 3 Axes>",
      "image/png": "[encoded data removed]"
     },
     "metadata": {
      "needs_background": "light"
     },
     "output_type": "display_data"
    }
   ],
   "source": [
    "# results for debiased model with ExponentiatedGradient\n",
    "\n",
    "model_lr_fair = red.ExponentiatedGradient(model_lr,\n",
    "                               constraints=red.DemographicParity(),\n",
    "                              sample_weight_name=\"classifier__sample_weight\")\n",
    "model_lr_fair.fit(X_train_aif, y_train_aif, sensitive_features=X_train_aif['gender'])\n",
    "\n",
    "get_values_of_aif_metrics(y_test_aif, model_lr_fair.predict(X_test_aif))\n",
    "print('')\n",
    "plot_metrics(y_test_aif, X_test_aif, metrics, model_lr_fair, 'gender')\n",
    "print('')\n",
    "classification_results(y_test_aif, model_lr_fair.predict(X_test_aif))"
   ],
   "metadata": {
    "collapsed": false,
    "pycharm": {
     "name": "#%%\n"
    }
   }
  },
  {
   "cell_type": "markdown",
   "source": [
    "#### Results:\n",
    "\n",
    "Model's performance improved"
   ],
   "metadata": {
    "collapsed": false,
    "pycharm": {
     "name": "#%% md\n"
    }
   }
  },
  {
   "cell_type": "markdown",
   "source": [
    "### Random forest model"
   ],
   "metadata": {
    "collapsed": false,
    "pycharm": {
     "name": "#%% md\n"
    }
   }
  },
  {
   "cell_type": "code",
   "execution_count": 43,
   "outputs": [],
   "source": [
    "X_train_aif, y_train_aif, X_test_aif, y_test_aif = create_dataset(train_df, test_df, 'diagnosis', prot_attr_cols, features_rf)"
   ],
   "metadata": {
    "collapsed": false,
    "pycharm": {
     "name": "#%%\n"
    }
   }
  },
  {
   "cell_type": "code",
   "execution_count": 44,
   "outputs": [
    {
     "name": "stdout",
     "output_type": "stream",
     "text": [
      "Statistical parity difference:  -0.3356643356643357\n",
      "Equal opportunity difference:  -0.22377622377622386\n",
      "Average odds difference:  -0.3356643356643357\n",
      "Disparate impact ratio:  0.48663101604278075\n",
      "Theil index:  0.6931471805599453\n",
      "\n",
      "        accuracy sensitivity specificity\n",
      "gender                                  \n",
      "0       0.727273    0.545455    0.909091\n",
      "1       0.615385    0.769231    0.461538\n",
      "\n",
      "[[16  8]\n",
      " [ 8 16]]\n",
      "Accuracy:  0.6666666666666666\n",
      "Sensitivity:  0.6666666666666666\n",
      "Specificity:  0.6666666666666666\n"
     ]
    },
    {
     "data": {
      "text/plain": "<Figure size 1152x360 with 3 Axes>",
      "image/png": "[encoded data removed]"
     },
     "metadata": {
      "needs_background": "light"
     },
     "output_type": "display_data"
    }
   ],
   "source": [
    "# results for default model \n",
    "\n",
    "get_values_of_aif_metrics(y_test_aif, model_rf.predict(X_test_aif))\n",
    "print('')\n",
    "plot_metrics(y_test_aif, X_test_aif, metrics, model_rf, 'gender')\n",
    "print('')\n",
    "classification_results(y_test_aif, model_rf.predict(X_test_aif))"
   ],
   "metadata": {
    "collapsed": false,
    "pycharm": {
     "name": "#%%\n"
    }
   }
  },
  {
   "cell_type": "code",
   "execution_count": 45,
   "outputs": [
    {
     "name": "stderr",
     "output_type": "stream",
     "text": [
      "Using the level keyword in DataFrame and Series aggregations is deprecated and will be removed in a future version. Use groupby instead. df.sum(level=1) should use df.groupby(level=1).sum().\n",
      "Using the level keyword in DataFrame and Series aggregations is deprecated and will be removed in a future version. Use groupby instead. df.sum(level=1) should use df.groupby(level=1).sum().\n",
      "Using the level keyword in DataFrame and Series aggregations is deprecated and will be removed in a future version. Use groupby instead. df.sum(level=1) should use df.groupby(level=1).sum().\n",
      "Using the level keyword in DataFrame and Series aggregations is deprecated and will be removed in a future version. Use groupby instead. df.sum(level=1) should use df.groupby(level=1).sum().\n",
      "Using the level keyword in DataFrame and Series aggregations is deprecated and will be removed in a future version. Use groupby instead. df.sum(level=1) should use df.groupby(level=1).sum().\n",
      "Using the level keyword in DataFrame and Series aggregations is deprecated and will be removed in a future version. Use groupby instead. df.sum(level=1) should use df.groupby(level=1).sum().\n",
      "Using the level keyword in DataFrame and Series aggregations is deprecated and will be removed in a future version. Use groupby instead. df.sum(level=1) should use df.groupby(level=1).sum().\n",
      "Using the level keyword in DataFrame and Series aggregations is deprecated and will be removed in a future version. Use groupby instead. df.sum(level=1) should use df.groupby(level=1).sum().\n",
      "Using the level keyword in DataFrame and Series aggregations is deprecated and will be removed in a future version. Use groupby instead. df.sum(level=1) should use df.groupby(level=1).sum().\n",
      "Using the level keyword in DataFrame and Series aggregations is deprecated and will be removed in a future version. Use groupby instead. df.sum(level=1) should use df.groupby(level=1).sum().\n"
     ]
    },
    {
     "name": "stdout",
     "output_type": "stream",
     "text": [
      "Statistical parity difference:  -0.2342657342657343\n",
      "Equal opportunity difference:  -0.2517482517482518\n",
      "Average odds difference:  -0.23426573426573427\n",
      "Disparate impact ratio:  0.4924242424242424\n",
      "Theil index:  1.0379876668516748\n",
      "\n",
      "        accuracy sensitivity specificity\n",
      "gender                                  \n",
      "0       0.636364    0.363636    0.909091\n",
      "1       0.653846    0.615385    0.692308\n",
      "\n",
      "[[19  5]\n",
      " [12 12]]\n",
      "Accuracy:  0.6458333333333334\n",
      "Sensitivity:  0.5\n",
      "Specificity:  0.7916666666666666\n"
     ]
    },
    {
     "data": {
      "text/plain": "<Figure size 1152x360 with 3 Axes>",
      "image/png": "[encoded data removed]"
     },
     "metadata": {
      "needs_background": "light"
     },
     "output_type": "display_data"
    }
   ],
   "source": [
    "# results for debiased model with GridSearch\n",
    "\n",
    "model_rf_fair = red.GridSearch(model_rf,\n",
    "                               constraints=red.DemographicParity(),\n",
    "                              sample_weight_name=\"classifier__sample_weight\",)\n",
    "model_rf_fair.fit(X_train_aif, y_train_aif, sensitive_features=X_train_aif['gender'])\n",
    "\n",
    "get_values_of_aif_metrics(y_test_aif, model_rf_fair.predict(X_test_aif))\n",
    "print('')\n",
    "plot_metrics(y_test_aif, X_test_aif, metrics, model_rf_fair, 'gender')\n",
    "print('')\n",
    "classification_results(y_test_aif, model_rf_fair.predict(X_test_aif))"
   ],
   "metadata": {
    "collapsed": false,
    "pycharm": {
     "name": "#%%\n"
    }
   }
  },
  {
   "cell_type": "code",
   "execution_count": 46,
   "outputs": [
    {
     "name": "stderr",
     "output_type": "stream",
     "text": [
      "Using the level keyword in DataFrame and Series aggregations is deprecated and will be removed in a future version. Use groupby instead. df.sum(level=1) should use df.groupby(level=1).sum().\n",
      "Using the level keyword in DataFrame and Series aggregations is deprecated and will be removed in a future version. Use groupby instead. df.sum(level=1) should use df.groupby(level=1).sum().\n",
      "Using the level keyword in DataFrame and Series aggregations is deprecated and will be removed in a future version. Use groupby instead. df.sum(level=1) should use df.groupby(level=1).sum().\n",
      "Using the level keyword in DataFrame and Series aggregations is deprecated and will be removed in a future version. Use groupby instead. df.sum(level=1) should use df.groupby(level=1).sum().\n",
      "Using the level keyword in DataFrame and Series aggregations is deprecated and will be removed in a future version. Use groupby instead. df.sum(level=1) should use df.groupby(level=1).sum().\n",
      "Using the level keyword in DataFrame and Series aggregations is deprecated and will be removed in a future version. Use groupby instead. df.sum(level=1) should use df.groupby(level=1).sum().\n",
      "Using the level keyword in DataFrame and Series aggregations is deprecated and will be removed in a future version. Use groupby instead. df.sum(level=1) should use df.groupby(level=1).sum().\n",
      "Using the level keyword in DataFrame and Series aggregations is deprecated and will be removed in a future version. Use groupby instead. df.sum(level=1) should use df.groupby(level=1).sum().\n",
      "Using the level keyword in DataFrame and Series aggregations is deprecated and will be removed in a future version. Use groupby instead. df.sum(level=1) should use df.groupby(level=1).sum().\n",
      "Using the level keyword in DataFrame and Series aggregations is deprecated and will be removed in a future version. Use groupby instead. df.sum(level=1) should use df.groupby(level=1).sum().\n",
      "Using the level keyword in DataFrame and Series aggregations is deprecated and will be removed in a future version. Use groupby instead. df.sum(level=1) should use df.groupby(level=1).sum().\n",
      "Using the level keyword in DataFrame and Series aggregations is deprecated and will be removed in a future version. Use groupby instead. df.sum(level=1) should use df.groupby(level=1).sum().\n",
      "Using the level keyword in DataFrame and Series aggregations is deprecated and will be removed in a future version. Use groupby instead. df.sum(level=1) should use df.groupby(level=1).sum().\n",
      "Using the level keyword in DataFrame and Series aggregations is deprecated and will be removed in a future version. Use groupby instead. df.sum(level=1) should use df.groupby(level=1).sum().\n",
      "Using the level keyword in DataFrame and Series aggregations is deprecated and will be removed in a future version. Use groupby instead. df.sum(level=1) should use df.groupby(level=1).sum().\n",
      "Using the level keyword in DataFrame and Series aggregations is deprecated and will be removed in a future version. Use groupby instead. df.sum(level=1) should use df.groupby(level=1).sum().\n",
      "Using the level keyword in DataFrame and Series aggregations is deprecated and will be removed in a future version. Use groupby instead. df.sum(level=1) should use df.groupby(level=1).sum().\n",
      "Using the level keyword in DataFrame and Series aggregations is deprecated and will be removed in a future version. Use groupby instead. df.sum(level=1) should use df.groupby(level=1).sum().\n",
      "Using the level keyword in DataFrame and Series aggregations is deprecated and will be removed in a future version. Use groupby instead. df.sum(level=1) should use df.groupby(level=1).sum().\n",
      "Using the level keyword in DataFrame and Series aggregations is deprecated and will be removed in a future version. Use groupby instead. df.sum(level=1) should use df.groupby(level=1).sum().\n",
      "Using the level keyword in DataFrame and Series aggregations is deprecated and will be removed in a future version. Use groupby instead. df.sum(level=1) should use df.groupby(level=1).sum().\n",
      "Using the level keyword in DataFrame and Series aggregations is deprecated and will be removed in a future version. Use groupby instead. df.sum(level=1) should use df.groupby(level=1).sum().\n",
      "Using the level keyword in DataFrame and Series aggregations is deprecated and will be removed in a future version. Use groupby instead. df.sum(level=1) should use df.groupby(level=1).sum().\n",
      "Using the level keyword in DataFrame and Series aggregations is deprecated and will be removed in a future version. Use groupby instead. df.sum(level=1) should use df.groupby(level=1).sum().\n",
      "Using the level keyword in DataFrame and Series aggregations is deprecated and will be removed in a future version. Use groupby instead. df.sum(level=1) should use df.groupby(level=1).sum().\n",
      "Using the level keyword in DataFrame and Series aggregations is deprecated and will be removed in a future version. Use groupby instead. df.sum(level=1) should use df.groupby(level=1).sum().\n",
      "Using the level keyword in DataFrame and Series aggregations is deprecated and will be removed in a future version. Use groupby instead. df.sum(level=1) should use df.groupby(level=1).sum().\n",
      "Using the level keyword in DataFrame and Series aggregations is deprecated and will be removed in a future version. Use groupby instead. df.sum(level=1) should use df.groupby(level=1).sum().\n",
      "Using the level keyword in DataFrame and Series aggregations is deprecated and will be removed in a future version. Use groupby instead. df.sum(level=1) should use df.groupby(level=1).sum().\n",
      "Using the level keyword in DataFrame and Series aggregations is deprecated and will be removed in a future version. Use groupby instead. df.sum(level=1) should use df.groupby(level=1).sum().\n",
      "Using the level keyword in DataFrame and Series aggregations is deprecated and will be removed in a future version. Use groupby instead. df.sum(level=1) should use df.groupby(level=1).sum().\n",
      "Using the level keyword in DataFrame and Series aggregations is deprecated and will be removed in a future version. Use groupby instead. df.sum(level=1) should use df.groupby(level=1).sum().\n"
     ]
    },
    {
     "name": "stdout",
     "output_type": "stream",
     "text": [
      "Statistical parity difference:  -0.11888111888111888\n",
      "Equal opportunity difference:  -0.1748251748251748\n",
      "Average odds difference:  -0.11888111888111885\n",
      "Disparate impact ratio:  0.6565656565656566\n",
      "Theil index:  1.232143681292632\n",
      "\n",
      "        accuracy sensitivity specificity\n",
      "gender                                  \n",
      "0       0.681818    0.454545    0.909091\n",
      "1       0.692308    0.538462    0.846154\n",
      "\n",
      "[[21  3]\n",
      " [12 12]]\n",
      "Accuracy:  0.6875\n",
      "Sensitivity:  0.5\n",
      "Specificity:  0.875\n"
     ]
    },
    {
     "data": {
      "text/plain": "<Figure size 1152x360 with 3 Axes>",
      "image/png": "[encoded data removed]"
     },
     "metadata": {
      "needs_background": "light"
     },
     "output_type": "display_data"
    }
   ],
   "source": [
    "# results for debiased model with ExponentiatedGradient\n",
    "\n",
    "model_rf_fair = red.ExponentiatedGradient(model_rf,\n",
    "                               constraints=red.TruePositiveRateParity(),\n",
    "                              sample_weight_name=\"classifier__sample_weight\",)\n",
    "model_rf_fair.fit(X_train_aif, y_train_aif, sensitive_features=X_train_aif['gender'])\n",
    "\n",
    "get_values_of_aif_metrics(y_test_aif, model_rf_fair.predict(X_test_aif))\n",
    "print('')\n",
    "plot_metrics(y_test_aif, X_test_aif, metrics, model_rf_fair, 'gender')\n",
    "print('')\n",
    "classification_results(y_test_aif, model_rf_fair.predict(X_test_aif))"
   ],
   "metadata": {
    "collapsed": false,
    "pycharm": {
     "name": "#%%\n"
    }
   }
  },
  {
   "cell_type": "markdown",
   "source": [
    "#### Results:\n",
    "Model performance didn't improve and even became a bit worse."
   ],
   "metadata": {
    "collapsed": false,
    "pycharm": {
     "name": "#%% md\n"
    }
   }
  },
  {
   "cell_type": "markdown",
   "source": [
    "### kNN model"
   ],
   "metadata": {
    "collapsed": false,
    "pycharm": {
     "name": "#%% md\n"
    }
   }
  },
  {
   "cell_type": "code",
   "execution_count": 47,
   "outputs": [],
   "source": [
    "X_train_aif, y_train_aif, X_test_aif, y_test_aif = create_dataset(train_df, test_df, 'diagnosis', prot_attr_cols, features_knn)"
   ],
   "metadata": {
    "collapsed": false,
    "pycharm": {
     "name": "#%%\n"
    }
   }
  },
  {
   "cell_type": "code",
   "execution_count": 48,
   "outputs": [
    {
     "name": "stdout",
     "output_type": "stream",
     "text": [
      "Statistical parity difference:  0.2272727272727273\n",
      "Equal opportunity difference:  0.21678321678321677\n",
      "Average odds difference:  0.22727272727272727\n",
      "Disparate impact ratio:  1.4545454545454546\n",
      "Theil index:  0.503905180921417\n",
      "\n",
      "        accuracy sensitivity specificity\n",
      "gender                                  \n",
      "0       0.681818    0.909091    0.454545\n",
      "1       0.692308    0.692308    0.692308\n",
      "\n",
      "[[14 10]\n",
      " [ 5 19]]\n",
      "Accuracy:  0.6875\n",
      "Sensitivity:  0.7916666666666666\n",
      "Specificity:  0.5833333333333334\n"
     ]
    },
    {
     "data": {
      "text/plain": "<Figure size 1152x360 with 3 Axes>",
      "image/png": "[encoded data removed]"
     },
     "metadata": {
      "needs_background": "light"
     },
     "output_type": "display_data"
    }
   ],
   "source": [
    "# results for default model\n",
    "\n",
    "get_values_of_aif_metrics(y_test_aif, model_knn.predict(X_test_aif))\n",
    "print('')\n",
    "plot_metrics(y_test_aif, X_test_aif, metrics, model_knn, 'gender')\n",
    "print('')\n",
    "classification_results(y_test_aif, model_knn.predict(X_test_aif))"
   ],
   "metadata": {
    "collapsed": false,
    "pycharm": {
     "name": "#%%\n"
    }
   }
  },
  {
   "cell_type": "code",
   "execution_count": 49,
   "outputs": [
    {
     "name": "stderr",
     "output_type": "stream",
     "text": [
      "Using the level keyword in DataFrame and Series aggregations is deprecated and will be removed in a future version. Use groupby instead. df.sum(level=1) should use df.groupby(level=1).sum().\n"
     ]
    },
    {
     "ename": "ValueError",
     "evalue": "Pipeline.fit does not accept the sample_weight parameter. You can pass parameters to specific steps of your pipeline using the stepname__parameter format, e.g. `Pipeline.fit(X, y, logisticregression__sample_weight=sample_weight)`.",
     "output_type": "error",
     "traceback": [
      "\u001B[1;31m---------------------------------------------------------------------------\u001B[0m",
      "\u001B[1;31mValueError\u001B[0m                                Traceback (most recent call last)",
      "Input \u001B[1;32mIn [49]\u001B[0m, in \u001B[0;36m<cell line: 6>\u001B[1;34m()\u001B[0m\n\u001B[0;32m      1\u001B[0m \u001B[38;5;66;03m# results for debiased model with GridSearch\u001B[39;00m\n\u001B[0;32m      3\u001B[0m model_knn_fair \u001B[38;5;241m=\u001B[39m red\u001B[38;5;241m.\u001B[39mGridSearch(model_knn,\n\u001B[0;32m      4\u001B[0m                                constraints\u001B[38;5;241m=\u001B[39mred\u001B[38;5;241m.\u001B[39mEqualizedOdds(),\n\u001B[0;32m      5\u001B[0m                               )\n\u001B[1;32m----> 6\u001B[0m \u001B[43mmodel_knn_fair\u001B[49m\u001B[38;5;241;43m.\u001B[39;49m\u001B[43mfit\u001B[49m\u001B[43m(\u001B[49m\u001B[43mX_train_aif\u001B[49m\u001B[43m,\u001B[49m\u001B[43m \u001B[49m\u001B[43my_train_aif\u001B[49m\u001B[43m,\u001B[49m\u001B[43m \u001B[49m\u001B[43msensitive_features\u001B[49m\u001B[38;5;241;43m=\u001B[39;49m\u001B[43mX_train_aif\u001B[49m\u001B[43m[\u001B[49m\u001B[38;5;124;43m'\u001B[39;49m\u001B[38;5;124;43mgender\u001B[39;49m\u001B[38;5;124;43m'\u001B[39;49m\u001B[43m]\u001B[49m\u001B[43m)\u001B[49m\n\u001B[0;32m      8\u001B[0m get_values_of_aif_metrics(y_test_aif, model_knn_fair\u001B[38;5;241m.\u001B[39mpredict(X_test_aif))\n\u001B[0;32m      9\u001B[0m \u001B[38;5;28mprint\u001B[39m(\u001B[38;5;124m'\u001B[39m\u001B[38;5;124m'\u001B[39m)\n",
      "File \u001B[1;32m~\\AppData\\Local\\Programs\\Python\\Python39\\lib\\site-packages\\fairlearn\\reductions\\_grid_search\\grid_search.py:186\u001B[0m, in \u001B[0;36mGridSearch.fit\u001B[1;34m(self, X, y, **kwargs)\u001B[0m\n\u001B[0;32m    183\u001B[0m     current_estimator \u001B[38;5;241m=\u001B[39m copy\u001B[38;5;241m.\u001B[39mdeepcopy(\u001B[38;5;28mself\u001B[39m\u001B[38;5;241m.\u001B[39mestimator)\n\u001B[0;32m    185\u001B[0m oracle_call_start_time \u001B[38;5;241m=\u001B[39m time()\n\u001B[1;32m--> 186\u001B[0m current_estimator\u001B[38;5;241m.\u001B[39mfit(X, y_reduction, \u001B[38;5;241m*\u001B[39m\u001B[38;5;241m*\u001B[39m{\u001B[38;5;28mself\u001B[39m\u001B[38;5;241m.\u001B[39msample_weight_name: weights})\n\u001B[0;32m    187\u001B[0m oracle_call_execution_time \u001B[38;5;241m=\u001B[39m time() \u001B[38;5;241m-\u001B[39m oracle_call_start_time\n\u001B[0;32m    188\u001B[0m logger\u001B[38;5;241m.\u001B[39mdebug(\u001B[38;5;124m\"\u001B[39m\u001B[38;5;124mCall to estimator complete\u001B[39m\u001B[38;5;124m\"\u001B[39m)\n",
      "File \u001B[1;32m~\\AppData\\Local\\Programs\\Python\\Python39\\lib\\site-packages\\sklearn\\pipeline.py:340\u001B[0m, in \u001B[0;36mPipeline.fit\u001B[1;34m(self, X, y, **fit_params)\u001B[0m\n\u001B[0;32m    314\u001B[0m \u001B[38;5;28;01mdef\u001B[39;00m \u001B[38;5;21mfit\u001B[39m(\u001B[38;5;28mself\u001B[39m, X, y\u001B[38;5;241m=\u001B[39m\u001B[38;5;28;01mNone\u001B[39;00m, \u001B[38;5;241m*\u001B[39m\u001B[38;5;241m*\u001B[39mfit_params):\n\u001B[0;32m    315\u001B[0m     \u001B[38;5;124;03m\"\"\"Fit the model\u001B[39;00m\n\u001B[0;32m    316\u001B[0m \n\u001B[0;32m    317\u001B[0m \u001B[38;5;124;03m    Fit all the transforms one after the other and transform the\u001B[39;00m\n\u001B[1;32m   (...)\u001B[0m\n\u001B[0;32m    338\u001B[0m \u001B[38;5;124;03m        This estimator\u001B[39;00m\n\u001B[0;32m    339\u001B[0m \u001B[38;5;124;03m    \"\"\"\u001B[39;00m\n\u001B[1;32m--> 340\u001B[0m     fit_params_steps \u001B[38;5;241m=\u001B[39m \u001B[38;5;28mself\u001B[39m\u001B[38;5;241m.\u001B[39m_check_fit_params(\u001B[38;5;241m*\u001B[39m\u001B[38;5;241m*\u001B[39mfit_params)\n\u001B[0;32m    341\u001B[0m     Xt \u001B[38;5;241m=\u001B[39m \u001B[38;5;28mself\u001B[39m\u001B[38;5;241m.\u001B[39m_fit(X, y, \u001B[38;5;241m*\u001B[39m\u001B[38;5;241m*\u001B[39mfit_params_steps)\n\u001B[0;32m    342\u001B[0m     \u001B[38;5;28;01mwith\u001B[39;00m _print_elapsed_time(\u001B[38;5;124m'\u001B[39m\u001B[38;5;124mPipeline\u001B[39m\u001B[38;5;124m'\u001B[39m,\n\u001B[0;32m    343\u001B[0m                              \u001B[38;5;28mself\u001B[39m\u001B[38;5;241m.\u001B[39m_log_message(\u001B[38;5;28mlen\u001B[39m(\u001B[38;5;28mself\u001B[39m\u001B[38;5;241m.\u001B[39msteps) \u001B[38;5;241m-\u001B[39m \u001B[38;5;241m1\u001B[39m)):\n",
      "File \u001B[1;32m~\\AppData\\Local\\Programs\\Python\\Python39\\lib\\site-packages\\sklearn\\pipeline.py:254\u001B[0m, in \u001B[0;36mPipeline._check_fit_params\u001B[1;34m(self, **fit_params)\u001B[0m\n\u001B[0;32m    252\u001B[0m \u001B[38;5;28;01mfor\u001B[39;00m pname, pval \u001B[38;5;129;01min\u001B[39;00m fit_params\u001B[38;5;241m.\u001B[39mitems():\n\u001B[0;32m    253\u001B[0m     \u001B[38;5;28;01mif\u001B[39;00m \u001B[38;5;124m'\u001B[39m\u001B[38;5;124m__\u001B[39m\u001B[38;5;124m'\u001B[39m \u001B[38;5;129;01mnot\u001B[39;00m \u001B[38;5;129;01min\u001B[39;00m pname:\n\u001B[1;32m--> 254\u001B[0m         \u001B[38;5;28;01mraise\u001B[39;00m \u001B[38;5;167;01mValueError\u001B[39;00m(\n\u001B[0;32m    255\u001B[0m             \u001B[38;5;124m\"\u001B[39m\u001B[38;5;124mPipeline.fit does not accept the \u001B[39m\u001B[38;5;132;01m{}\u001B[39;00m\u001B[38;5;124m parameter. \u001B[39m\u001B[38;5;124m\"\u001B[39m\n\u001B[0;32m    256\u001B[0m             \u001B[38;5;124m\"\u001B[39m\u001B[38;5;124mYou can pass parameters to specific steps of your \u001B[39m\u001B[38;5;124m\"\u001B[39m\n\u001B[0;32m    257\u001B[0m             \u001B[38;5;124m\"\u001B[39m\u001B[38;5;124mpipeline using the stepname__parameter format, e.g. \u001B[39m\u001B[38;5;124m\"\u001B[39m\n\u001B[0;32m    258\u001B[0m             \u001B[38;5;124m\"\u001B[39m\u001B[38;5;124m`Pipeline.fit(X, y, logisticregression__sample_weight\u001B[39m\u001B[38;5;124m\"\u001B[39m\n\u001B[0;32m    259\u001B[0m             \u001B[38;5;124m\"\u001B[39m\u001B[38;5;124m=sample_weight)`.\u001B[39m\u001B[38;5;124m\"\u001B[39m\u001B[38;5;241m.\u001B[39mformat(pname))\n\u001B[0;32m    260\u001B[0m     step, param \u001B[38;5;241m=\u001B[39m pname\u001B[38;5;241m.\u001B[39msplit(\u001B[38;5;124m'\u001B[39m\u001B[38;5;124m__\u001B[39m\u001B[38;5;124m'\u001B[39m, \u001B[38;5;241m1\u001B[39m)\n\u001B[0;32m    261\u001B[0m     fit_params_steps[step][param] \u001B[38;5;241m=\u001B[39m pval\n",
      "\u001B[1;31mValueError\u001B[0m: Pipeline.fit does not accept the sample_weight parameter. You can pass parameters to specific steps of your pipeline using the stepname__parameter format, e.g. `Pipeline.fit(X, y, logisticregression__sample_weight=sample_weight)`."
     ]
    }
   ],
   "source": [
    "# results for debiased model with GridSearch\n",
    "\n",
    "model_knn_fair = red.GridSearch(model_knn,\n",
    "                               constraints=red.EqualizedOdds(),\n",
    "                              )\n",
    "model_knn_fair.fit(X_train_aif, y_train_aif, sensitive_features=X_train_aif['gender'])\n",
    "\n",
    "get_values_of_aif_metrics(y_test_aif, model_knn_fair.predict(X_test_aif))\n",
    "print('')\n",
    "plot_metrics(y_test_aif, X_test_aif, metrics, model_knn_fair, 'gender')\n",
    "print('')\n",
    "classification_results(y_test_aif, model_knn_fair.predict(X_test_aif))"
   ],
   "metadata": {
    "collapsed": false,
    "pycharm": {
     "name": "#%%\n"
    }
   }
  },
  {
   "cell_type": "code",
   "execution_count": 50,
   "outputs": [
    {
     "name": "stderr",
     "output_type": "stream",
     "text": [
      "Using the level keyword in DataFrame and Series aggregations is deprecated and will be removed in a future version. Use groupby instead. df.sum(level=1) should use df.groupby(level=1).sum().\n"
     ]
    },
    {
     "ename": "ValueError",
     "evalue": "Pipeline.fit does not accept the sample_weight parameter. You can pass parameters to specific steps of your pipeline using the stepname__parameter format, e.g. `Pipeline.fit(X, y, logisticregression__sample_weight=sample_weight)`.",
     "output_type": "error",
     "traceback": [
      "\u001B[1;31m---------------------------------------------------------------------------\u001B[0m",
      "\u001B[1;31mValueError\u001B[0m                                Traceback (most recent call last)",
      "Input \u001B[1;32mIn [50]\u001B[0m, in \u001B[0;36m<cell line: 6>\u001B[1;34m()\u001B[0m\n\u001B[0;32m      1\u001B[0m \u001B[38;5;66;03m# results for debiased model with ExponentiatedGradient\u001B[39;00m\n\u001B[0;32m      3\u001B[0m model_knn_fair \u001B[38;5;241m=\u001B[39m red\u001B[38;5;241m.\u001B[39mExponentiatedGradient(model_knn,\n\u001B[0;32m      4\u001B[0m                                constraints\u001B[38;5;241m=\u001B[39mred\u001B[38;5;241m.\u001B[39mEqualizedOdds(),\n\u001B[0;32m      5\u001B[0m                               )\n\u001B[1;32m----> 6\u001B[0m \u001B[43mmodel_knn_fair\u001B[49m\u001B[38;5;241;43m.\u001B[39;49m\u001B[43mfit\u001B[49m\u001B[43m(\u001B[49m\u001B[43mX_train_aif\u001B[49m\u001B[43m,\u001B[49m\u001B[43m \u001B[49m\u001B[43my_train_aif\u001B[49m\u001B[43m,\u001B[49m\u001B[43m \u001B[49m\u001B[43msensitive_features\u001B[49m\u001B[38;5;241;43m=\u001B[39;49m\u001B[43mX_train_aif\u001B[49m\u001B[43m[\u001B[49m\u001B[38;5;124;43m'\u001B[39;49m\u001B[38;5;124;43mgender\u001B[39;49m\u001B[38;5;124;43m'\u001B[39;49m\u001B[43m]\u001B[49m\u001B[43m)\u001B[49m\n\u001B[0;32m      8\u001B[0m get_values_of_aif_metrics(y_test_aif, model_knn_fair\u001B[38;5;241m.\u001B[39mpredict(X_test_aif))\n\u001B[0;32m      9\u001B[0m \u001B[38;5;28mprint\u001B[39m(\u001B[38;5;124m'\u001B[39m\u001B[38;5;124m'\u001B[39m)\n",
      "File \u001B[1;32m~\\AppData\\Local\\Programs\\Python\\Python39\\lib\\site-packages\\fairlearn\\reductions\\_exponentiated_gradient\\exponentiated_gradient.py:110\u001B[0m, in \u001B[0;36mExponentiatedGradient.fit\u001B[1;34m(self, X, y, **kwargs)\u001B[0m\n\u001B[0;32m    107\u001B[0m lambda_EG \u001B[38;5;241m=\u001B[39m \u001B[38;5;28mself\u001B[39m\u001B[38;5;241m.\u001B[39mlambda_vecs_EG_\u001B[38;5;241m.\u001B[39mmean(axis\u001B[38;5;241m=\u001B[39m\u001B[38;5;241m1\u001B[39m)\n\u001B[0;32m    109\u001B[0m \u001B[38;5;66;03m# select classifier according to best_h method\u001B[39;00m\n\u001B[1;32m--> 110\u001B[0m h, h_idx \u001B[38;5;241m=\u001B[39m \u001B[43mlagrangian\u001B[49m\u001B[38;5;241;43m.\u001B[39;49m\u001B[43mbest_h\u001B[49m\u001B[43m(\u001B[49m\u001B[43mlambda_vec\u001B[49m\u001B[43m)\u001B[49m\n\u001B[0;32m    112\u001B[0m \u001B[38;5;28;01mif\u001B[39;00m t \u001B[38;5;241m==\u001B[39m \u001B[38;5;241m0\u001B[39m:\n\u001B[0;32m    113\u001B[0m     \u001B[38;5;28;01mif\u001B[39;00m \u001B[38;5;28mself\u001B[39m\u001B[38;5;241m.\u001B[39mnu \u001B[38;5;129;01mis\u001B[39;00m \u001B[38;5;28;01mNone\u001B[39;00m:\n",
      "File \u001B[1;32m~\\AppData\\Local\\Programs\\Python\\Python39\\lib\\site-packages\\fairlearn\\reductions\\_exponentiated_gradient\\_lagrangian.py:187\u001B[0m, in \u001B[0;36m_Lagrangian.best_h\u001B[1;34m(self, lambda_vec)\u001B[0m\n\u001B[0;32m    181\u001B[0m \u001B[38;5;28;01mdef\u001B[39;00m \u001B[38;5;21mbest_h\u001B[39m(\u001B[38;5;28mself\u001B[39m, lambda_vec):\n\u001B[0;32m    182\u001B[0m     \u001B[38;5;124;03m\"\"\"Solve the best-response problem.\u001B[39;00m\n\u001B[0;32m    183\u001B[0m \n\u001B[0;32m    184\u001B[0m \u001B[38;5;124;03m    Returns the classifier that solves the best-response problem for\u001B[39;00m\n\u001B[0;32m    185\u001B[0m \u001B[38;5;124;03m    the vector of Lagrange multipliers `lambda_vec`.\u001B[39;00m\n\u001B[0;32m    186\u001B[0m \u001B[38;5;124;03m    \"\"\"\u001B[39;00m\n\u001B[1;32m--> 187\u001B[0m     classifier \u001B[38;5;241m=\u001B[39m \u001B[38;5;28;43mself\u001B[39;49m\u001B[38;5;241;43m.\u001B[39;49m\u001B[43m_call_oracle\u001B[49m\u001B[43m(\u001B[49m\u001B[43mlambda_vec\u001B[49m\u001B[43m)\u001B[49m\n\u001B[0;32m    189\u001B[0m     \u001B[38;5;28;01mdef\u001B[39;00m \u001B[38;5;21mh\u001B[39m(X):\n\u001B[0;32m    190\u001B[0m         pred \u001B[38;5;241m=\u001B[39m classifier\u001B[38;5;241m.\u001B[39mpredict(X)\n",
      "File \u001B[1;32m~\\AppData\\Local\\Programs\\Python\\Python39\\lib\\site-packages\\fairlearn\\reductions\\_exponentiated_gradient\\_lagrangian.py:175\u001B[0m, in \u001B[0;36m_Lagrangian._call_oracle\u001B[1;34m(self, lambda_vec)\u001B[0m\n\u001B[0;32m    172\u001B[0m     estimator \u001B[38;5;241m=\u001B[39m clone(estimator\u001B[38;5;241m=\u001B[39m\u001B[38;5;28mself\u001B[39m\u001B[38;5;241m.\u001B[39mestimator, safe\u001B[38;5;241m=\u001B[39m\u001B[38;5;28;01mFalse\u001B[39;00m)\n\u001B[0;32m    174\u001B[0m oracle_call_start_time \u001B[38;5;241m=\u001B[39m time()\n\u001B[1;32m--> 175\u001B[0m estimator\u001B[38;5;241m.\u001B[39mfit(\u001B[38;5;28mself\u001B[39m\u001B[38;5;241m.\u001B[39mconstraints\u001B[38;5;241m.\u001B[39mX, redY, \u001B[38;5;241m*\u001B[39m\u001B[38;5;241m*\u001B[39m{\u001B[38;5;28mself\u001B[39m\u001B[38;5;241m.\u001B[39msample_weight_name: redW})\n\u001B[0;32m    176\u001B[0m \u001B[38;5;28mself\u001B[39m\u001B[38;5;241m.\u001B[39moracle_execution_times\u001B[38;5;241m.\u001B[39mappend(time() \u001B[38;5;241m-\u001B[39m oracle_call_start_time)\n\u001B[0;32m    177\u001B[0m \u001B[38;5;28mself\u001B[39m\u001B[38;5;241m.\u001B[39mn_oracle_calls \u001B[38;5;241m+\u001B[39m\u001B[38;5;241m=\u001B[39m \u001B[38;5;241m1\u001B[39m\n",
      "File \u001B[1;32m~\\AppData\\Local\\Programs\\Python\\Python39\\lib\\site-packages\\sklearn\\pipeline.py:340\u001B[0m, in \u001B[0;36mPipeline.fit\u001B[1;34m(self, X, y, **fit_params)\u001B[0m\n\u001B[0;32m    314\u001B[0m \u001B[38;5;28;01mdef\u001B[39;00m \u001B[38;5;21mfit\u001B[39m(\u001B[38;5;28mself\u001B[39m, X, y\u001B[38;5;241m=\u001B[39m\u001B[38;5;28;01mNone\u001B[39;00m, \u001B[38;5;241m*\u001B[39m\u001B[38;5;241m*\u001B[39mfit_params):\n\u001B[0;32m    315\u001B[0m     \u001B[38;5;124;03m\"\"\"Fit the model\u001B[39;00m\n\u001B[0;32m    316\u001B[0m \n\u001B[0;32m    317\u001B[0m \u001B[38;5;124;03m    Fit all the transforms one after the other and transform the\u001B[39;00m\n\u001B[1;32m   (...)\u001B[0m\n\u001B[0;32m    338\u001B[0m \u001B[38;5;124;03m        This estimator\u001B[39;00m\n\u001B[0;32m    339\u001B[0m \u001B[38;5;124;03m    \"\"\"\u001B[39;00m\n\u001B[1;32m--> 340\u001B[0m     fit_params_steps \u001B[38;5;241m=\u001B[39m \u001B[38;5;28mself\u001B[39m\u001B[38;5;241m.\u001B[39m_check_fit_params(\u001B[38;5;241m*\u001B[39m\u001B[38;5;241m*\u001B[39mfit_params)\n\u001B[0;32m    341\u001B[0m     Xt \u001B[38;5;241m=\u001B[39m \u001B[38;5;28mself\u001B[39m\u001B[38;5;241m.\u001B[39m_fit(X, y, \u001B[38;5;241m*\u001B[39m\u001B[38;5;241m*\u001B[39mfit_params_steps)\n\u001B[0;32m    342\u001B[0m     \u001B[38;5;28;01mwith\u001B[39;00m _print_elapsed_time(\u001B[38;5;124m'\u001B[39m\u001B[38;5;124mPipeline\u001B[39m\u001B[38;5;124m'\u001B[39m,\n\u001B[0;32m    343\u001B[0m                              \u001B[38;5;28mself\u001B[39m\u001B[38;5;241m.\u001B[39m_log_message(\u001B[38;5;28mlen\u001B[39m(\u001B[38;5;28mself\u001B[39m\u001B[38;5;241m.\u001B[39msteps) \u001B[38;5;241m-\u001B[39m \u001B[38;5;241m1\u001B[39m)):\n",
      "File \u001B[1;32m~\\AppData\\Local\\Programs\\Python\\Python39\\lib\\site-packages\\sklearn\\pipeline.py:254\u001B[0m, in \u001B[0;36mPipeline._check_fit_params\u001B[1;34m(self, **fit_params)\u001B[0m\n\u001B[0;32m    252\u001B[0m \u001B[38;5;28;01mfor\u001B[39;00m pname, pval \u001B[38;5;129;01min\u001B[39;00m fit_params\u001B[38;5;241m.\u001B[39mitems():\n\u001B[0;32m    253\u001B[0m     \u001B[38;5;28;01mif\u001B[39;00m \u001B[38;5;124m'\u001B[39m\u001B[38;5;124m__\u001B[39m\u001B[38;5;124m'\u001B[39m \u001B[38;5;129;01mnot\u001B[39;00m \u001B[38;5;129;01min\u001B[39;00m pname:\n\u001B[1;32m--> 254\u001B[0m         \u001B[38;5;28;01mraise\u001B[39;00m \u001B[38;5;167;01mValueError\u001B[39;00m(\n\u001B[0;32m    255\u001B[0m             \u001B[38;5;124m\"\u001B[39m\u001B[38;5;124mPipeline.fit does not accept the \u001B[39m\u001B[38;5;132;01m{}\u001B[39;00m\u001B[38;5;124m parameter. \u001B[39m\u001B[38;5;124m\"\u001B[39m\n\u001B[0;32m    256\u001B[0m             \u001B[38;5;124m\"\u001B[39m\u001B[38;5;124mYou can pass parameters to specific steps of your \u001B[39m\u001B[38;5;124m\"\u001B[39m\n\u001B[0;32m    257\u001B[0m             \u001B[38;5;124m\"\u001B[39m\u001B[38;5;124mpipeline using the stepname__parameter format, e.g. \u001B[39m\u001B[38;5;124m\"\u001B[39m\n\u001B[0;32m    258\u001B[0m             \u001B[38;5;124m\"\u001B[39m\u001B[38;5;124m`Pipeline.fit(X, y, logisticregression__sample_weight\u001B[39m\u001B[38;5;124m\"\u001B[39m\n\u001B[0;32m    259\u001B[0m             \u001B[38;5;124m\"\u001B[39m\u001B[38;5;124m=sample_weight)`.\u001B[39m\u001B[38;5;124m\"\u001B[39m\u001B[38;5;241m.\u001B[39mformat(pname))\n\u001B[0;32m    260\u001B[0m     step, param \u001B[38;5;241m=\u001B[39m pname\u001B[38;5;241m.\u001B[39msplit(\u001B[38;5;124m'\u001B[39m\u001B[38;5;124m__\u001B[39m\u001B[38;5;124m'\u001B[39m, \u001B[38;5;241m1\u001B[39m)\n\u001B[0;32m    261\u001B[0m     fit_params_steps[step][param] \u001B[38;5;241m=\u001B[39m pval\n",
      "\u001B[1;31mValueError\u001B[0m: Pipeline.fit does not accept the sample_weight parameter. You can pass parameters to specific steps of your pipeline using the stepname__parameter format, e.g. `Pipeline.fit(X, y, logisticregression__sample_weight=sample_weight)`."
     ]
    }
   ],
   "source": [
    "# results for debiased model with ExponentiatedGradient\n",
    "\n",
    "model_knn_fair = red.ExponentiatedGradient(model_knn,\n",
    "                               constraints=red.EqualizedOdds(),\n",
    "                              )\n",
    "model_knn_fair.fit(X_train_aif, y_train_aif, sensitive_features=X_train_aif['gender'])\n",
    "\n",
    "get_values_of_aif_metrics(y_test_aif, model_knn_fair.predict(X_test_aif))\n",
    "print('')\n",
    "plot_metrics(y_test_aif, X_test_aif, metrics, model_knn_fair, 'gender')\n",
    "print('')\n",
    "classification_results(y_test_aif, model_knn_fair.predict(X_test_aif))"
   ],
   "metadata": {
    "collapsed": false,
    "pycharm": {
     "name": "#%%\n"
    }
   }
  },
  {
   "cell_type": "markdown",
   "source": [
    "#### Results:"
   ],
   "metadata": {
    "collapsed": false,
    "pycharm": {
     "name": "#%% md\n"
    }
   }
  },
  {
   "cell_type": "markdown",
   "source": [
    "### SVM model"
   ],
   "metadata": {
    "collapsed": false,
    "pycharm": {
     "name": "#%% md\n"
    }
   }
  },
  {
   "cell_type": "code",
   "execution_count": 51,
   "outputs": [],
   "source": [
    "X_train_aif, y_train_aif, X_test_aif, y_test_aif = create_dataset(train_df, test_df, 'diagnosis', prot_attr_cols, features_svm)"
   ],
   "metadata": {
    "collapsed": false,
    "pycharm": {
     "name": "#%%\n"
    }
   }
  },
  {
   "cell_type": "code",
   "execution_count": 52,
   "outputs": [
    {
     "name": "stdout",
     "output_type": "stream",
     "text": [
      "Statistical parity difference:  0.07692307692307693\n",
      "Equal opportunity difference:  0.11188811188811187\n",
      "Average odds difference:  0.07692307692307693\n",
      "Disparate impact ratio:  1.1818181818181819\n",
      "Theil index:  0.7801585575495752\n",
      "\n",
      "        accuracy sensitivity specificity\n",
      "gender                                  \n",
      "0       0.727273    0.727273    0.727273\n",
      "1       0.692308    0.615385    0.769231\n",
      "\n",
      "[[18  6]\n",
      " [ 8 16]]\n",
      "Accuracy:  0.7083333333333334\n",
      "Sensitivity:  0.6666666666666666\n",
      "Specificity:  0.75\n"
     ]
    },
    {
     "data": {
      "text/plain": "<Figure size 1152x360 with 3 Axes>",
      "image/png": "[encoded data removed]"
     },
     "metadata": {
      "needs_background": "light"
     },
     "output_type": "display_data"
    }
   ],
   "source": [
    "# results for default model \n",
    "\n",
    "get_values_of_aif_metrics(y_test_aif, model_svm.predict(X_test_aif))\n",
    "print('')\n",
    "plot_metrics(y_test_aif, X_test_aif, metrics, model_svm, 'gender')\n",
    "print('')\n",
    "classification_results(y_test_aif, model_svm.predict(X_test_aif))"
   ],
   "metadata": {
    "collapsed": false,
    "pycharm": {
     "name": "#%%\n"
    }
   }
  },
  {
   "cell_type": "code",
   "execution_count": 53,
   "outputs": [
    {
     "name": "stderr",
     "output_type": "stream",
     "text": [
      "Using the level keyword in DataFrame and Series aggregations is deprecated and will be removed in a future version. Use groupby instead. df.sum(level=1) should use df.groupby(level=1).sum().\n",
      "Using the level keyword in DataFrame and Series aggregations is deprecated and will be removed in a future version. Use groupby instead. df.sum(level=1) should use df.groupby(level=1).sum().\n",
      "Using the level keyword in DataFrame and Series aggregations is deprecated and will be removed in a future version. Use groupby instead. df.sum(level=1) should use df.groupby(level=1).sum().\n",
      "Using the level keyword in DataFrame and Series aggregations is deprecated and will be removed in a future version. Use groupby instead. df.sum(level=1) should use df.groupby(level=1).sum().\n",
      "Using the level keyword in DataFrame and Series aggregations is deprecated and will be removed in a future version. Use groupby instead. df.sum(level=1) should use df.groupby(level=1).sum().\n",
      "Using the level keyword in DataFrame and Series aggregations is deprecated and will be removed in a future version. Use groupby instead. df.sum(level=1) should use df.groupby(level=1).sum().\n",
      "Using the level keyword in DataFrame and Series aggregations is deprecated and will be removed in a future version. Use groupby instead. df.sum(level=1) should use df.groupby(level=1).sum().\n",
      "Using the level keyword in DataFrame and Series aggregations is deprecated and will be removed in a future version. Use groupby instead. df.sum(level=1) should use df.groupby(level=1).sum().\n",
      "Using the level keyword in DataFrame and Series aggregations is deprecated and will be removed in a future version. Use groupby instead. df.sum(level=1) should use df.groupby(level=1).sum().\n",
      "Using the level keyword in DataFrame and Series aggregations is deprecated and will be removed in a future version. Use groupby instead. df.sum(level=1) should use df.groupby(level=1).sum().\n"
     ]
    },
    {
     "name": "stdout",
     "output_type": "stream",
     "text": [
      "Statistical parity difference:  0.12237762237762234\n",
      "Equal opportunity difference:  0.18881118881118886\n",
      "Average odds difference:  0.1223776223776224\n",
      "Disparate impact ratio:  1.2892561983471074\n",
      "Theil index:  0.7357067949787411\n",
      "\n",
      "        accuracy sensitivity specificity\n",
      "gender                                  \n",
      "0       0.681818    0.727273    0.636364\n",
      "1       0.615385    0.538462    0.692308\n",
      "\n",
      "[[16  8]\n",
      " [ 9 15]]\n",
      "Accuracy:  0.6458333333333334\n",
      "Sensitivity:  0.625\n",
      "Specificity:  0.6666666666666666\n"
     ]
    },
    {
     "data": {
      "text/plain": "<Figure size 1152x360 with 3 Axes>",
      "image/png": "[encoded data removed]"
     },
     "metadata": {
      "needs_background": "light"
     },
     "output_type": "display_data"
    }
   ],
   "source": [
    "# results for debiased model with GridSearch\n",
    "\n",
    "model_svm_fair = red.GridSearch(model_svm,\n",
    "                               constraints=red.EqualizedOdds(),\n",
    "                                sample_weight_name=\"classifier__sample_weight\",\n",
    "                              )\n",
    "model_svm_fair.fit(X_train_aif, y_train_aif, sensitive_features=X_train_aif['gender'])\n",
    "\n",
    "get_values_of_aif_metrics(y_test_aif, model_svm_fair.predict(X_test_aif))\n",
    "print('')\n",
    "plot_metrics(y_test_aif, X_test_aif, metrics, model_svm_fair, 'gender')\n",
    "print('')\n",
    "classification_results(y_test_aif, model_svm_fair.predict(X_test_aif))"
   ],
   "metadata": {
    "collapsed": false,
    "pycharm": {
     "name": "#%%\n"
    }
   }
  },
  {
   "cell_type": "code",
   "execution_count": 54,
   "outputs": [
    {
     "name": "stderr",
     "output_type": "stream",
     "text": [
      "Using the level keyword in DataFrame and Series aggregations is deprecated and will be removed in a future version. Use groupby instead. df.sum(level=1) should use df.groupby(level=1).sum().\n",
      "Using the level keyword in DataFrame and Series aggregations is deprecated and will be removed in a future version. Use groupby instead. df.sum(level=1) should use df.groupby(level=1).sum().\n",
      "Using the level keyword in DataFrame and Series aggregations is deprecated and will be removed in a future version. Use groupby instead. df.sum(level=1) should use df.groupby(level=1).sum().\n",
      "Using the level keyword in DataFrame and Series aggregations is deprecated and will be removed in a future version. Use groupby instead. df.sum(level=1) should use df.groupby(level=1).sum().\n",
      "Using the level keyword in DataFrame and Series aggregations is deprecated and will be removed in a future version. Use groupby instead. df.sum(level=1) should use df.groupby(level=1).sum().\n",
      "Using the level keyword in DataFrame and Series aggregations is deprecated and will be removed in a future version. Use groupby instead. df.sum(level=1) should use df.groupby(level=1).sum().\n",
      "Using the level keyword in DataFrame and Series aggregations is deprecated and will be removed in a future version. Use groupby instead. df.sum(level=1) should use df.groupby(level=1).sum().\n",
      "Using the level keyword in DataFrame and Series aggregations is deprecated and will be removed in a future version. Use groupby instead. df.sum(level=1) should use df.groupby(level=1).sum().\n",
      "Using the level keyword in DataFrame and Series aggregations is deprecated and will be removed in a future version. Use groupby instead. df.sum(level=1) should use df.groupby(level=1).sum().\n",
      "Using the level keyword in DataFrame and Series aggregations is deprecated and will be removed in a future version. Use groupby instead. df.sum(level=1) should use df.groupby(level=1).sum().\n",
      "Using the level keyword in DataFrame and Series aggregations is deprecated and will be removed in a future version. Use groupby instead. df.sum(level=1) should use df.groupby(level=1).sum().\n",
      "Using the level keyword in DataFrame and Series aggregations is deprecated and will be removed in a future version. Use groupby instead. df.sum(level=1) should use df.groupby(level=1).sum().\n",
      "Using the level keyword in DataFrame and Series aggregations is deprecated and will be removed in a future version. Use groupby instead. df.sum(level=1) should use df.groupby(level=1).sum().\n",
      "Using the level keyword in DataFrame and Series aggregations is deprecated and will be removed in a future version. Use groupby instead. df.sum(level=1) should use df.groupby(level=1).sum().\n",
      "Using the level keyword in DataFrame and Series aggregations is deprecated and will be removed in a future version. Use groupby instead. df.sum(level=1) should use df.groupby(level=1).sum().\n",
      "Using the level keyword in DataFrame and Series aggregations is deprecated and will be removed in a future version. Use groupby instead. df.sum(level=1) should use df.groupby(level=1).sum().\n",
      "Using the level keyword in DataFrame and Series aggregations is deprecated and will be removed in a future version. Use groupby instead. df.sum(level=1) should use df.groupby(level=1).sum().\n",
      "Using the level keyword in DataFrame and Series aggregations is deprecated and will be removed in a future version. Use groupby instead. df.sum(level=1) should use df.groupby(level=1).sum().\n"
     ]
    },
    {
     "name": "stdout",
     "output_type": "stream",
     "text": [
      "Statistical parity difference:  0.16083916083916078\n",
      "Equal opportunity difference:  0.18881118881118886\n",
      "Average odds difference:  0.1608391608391609\n",
      "Disparate impact ratio:  1.418181818181818\n",
      "Theil index:  0.7801585575495752\n",
      "\n",
      "        accuracy sensitivity specificity\n",
      "gender                                  \n",
      "0       0.727273    0.727273    0.727273\n",
      "1       0.615385    0.538462    0.692308\n",
      "\n",
      "[[17  7]\n",
      " [ 9 15]]\n",
      "Accuracy:  0.6666666666666666\n",
      "Sensitivity:  0.625\n",
      "Specificity:  0.7083333333333334\n"
     ]
    },
    {
     "data": {
      "text/plain": "<Figure size 1152x360 with 3 Axes>",
      "image/png": "[encoded data removed]"
     },
     "metadata": {
      "needs_background": "light"
     },
     "output_type": "display_data"
    }
   ],
   "source": [
    "# results for debiased model with ExponentiatedGradient\n",
    "\n",
    "model_svm_fair = red.ExponentiatedGradient(model_svm,\n",
    "                               constraints=red.EqualizedOdds(),\n",
    "                                sample_weight_name=\"classifier__sample_weight\",\n",
    "                              )\n",
    "model_svm_fair.fit(X_train_aif, y_train_aif, sensitive_features=X_train_aif['gender'])\n",
    "\n",
    "get_values_of_aif_metrics(y_test_aif, model_svm_fair.predict(X_test_aif))\n",
    "print('')\n",
    "plot_metrics(y_test_aif, X_test_aif, metrics, model_svm_fair, 'gender')\n",
    "print('')\n",
    "classification_results(y_test_aif, model_svm_fair.predict(X_test_aif))"
   ],
   "metadata": {
    "collapsed": false,
    "pycharm": {
     "name": "#%%\n"
    }
   }
  },
  {
   "cell_type": "markdown",
   "source": [
    "#### Results:\n",
    "Model's performance became worse"
   ],
   "metadata": {
    "collapsed": false,
    "pycharm": {
     "name": "#%% md\n"
    }
   }
  },
  {
   "cell_type": "markdown",
   "source": [
    "#### Results on the test set with debiasing\n",
    "\n",
    "| Model       | LR       |  LR + GridSearch | LR + ExponentiatedGradient | \n",
    "|------       |------    |  ------          | ------                     |\n",
    "| Accuracy    |  0.6875  |  0.75            |  0.7291                    | \n",
    "| Sensitivity |  0.7083  |  0.7083          |  0.7083                    | \n",
    "| Specificity |  0.6666  |  0.7916          |  0.75                      | \n",
    "\n",
    "\n",
    "##### Summary:  \n",
    "LR + GridSearch obtained the best performance\n",
    "\n",
    "---"
   ],
   "metadata": {
    "collapsed": false,
    "pycharm": {
     "name": "#%% md\n"
    }
   }
  },
  {
   "cell_type": "markdown",
   "source": [
    "#### Results on the test set with debiasing\n",
    "\n",
    "| Model       | RF       |  RF + GridSearch | RF + ExponentiatedGradient | \n",
    "|------       |------    |  ------          | ------                     |\n",
    "| Accuracy    |  0.6875  |  0.625           |  0.6875                    | \n",
    "| Sensitivity |  0.7083  |  0.5             |  0.5                       | \n",
    "| Specificity |  0.6666  |  0.75            |  0.875                     | \n",
    "\n",
    "##### Summary:  \n",
    "Original model obtained the best performance\n",
    "\n",
    "---"
   ],
   "metadata": {
    "collapsed": false,
    "pycharm": {
     "name": "#%% md\n"
    }
   }
  },
  {
   "cell_type": "markdown",
   "source": [
    "#### Results on the test set with debiasing\n",
    "\n",
    "| Model       | SVM      | SVM + GridSearch |SVM + ExponentiatedGradient | \n",
    "|------       |------    |  ------          | ------                     |\n",
    "| Accuracy    |  0.6875  |  0.6458          |  0.6875                    | \n",
    "| Sensitivity |  0.7083  |  0.625           |  0.625                     | \n",
    "| Specificity |  0.6666  |  0.6666          |  0.75                      | \n",
    "\n",
    "##### Summary:  \n",
    "Original model obtained the best performance\n",
    "\n",
    "---"
   ],
   "metadata": {
    "collapsed": false,
    "pycharm": {
     "name": "#%% md\n"
    }
   }
  },
  {
   "cell_type": "code",
   "execution_count": 55,
   "id": "90c0b3ec",
   "metadata": {
    "pycharm": {
     "name": "#%%\n"
    }
   },
   "outputs": [],
   "source": [
    "X_train_aif, y_train_aif, X_test_aif, y_test_aif = create_dataset(train_df, test_df, 'diagnosis', prot_attr_cols, features_svm)"
   ]
  },
  {
   "cell_type": "code",
   "execution_count": 56,
   "id": "b2292f4e",
   "metadata": {
    "pycharm": {
     "name": "#%%\n"
    }
   },
   "outputs": [
    {
     "name": "stdout",
     "output_type": "stream",
     "text": [
      "Statistical parity difference:  0.07692307692307693\n",
      "Equal opportunity difference:  0.11188811188811187\n",
      "Average odds difference:  0.07692307692307693\n",
      "Disparate impact ratio:  1.1818181818181819\n",
      "Theil index:  0.7801585575495752\n",
      "\n",
      "        accuracy sensitivity specificity\n",
      "gender                                  \n",
      "0       0.727273    0.727273    0.727273\n",
      "1       0.692308    0.615385    0.769231\n",
      "\n",
      "[[18  6]\n",
      " [ 8 16]]\n",
      "Accuracy:  0.7083333333333334\n",
      "Sensitivity:  0.6666666666666666\n",
      "Specificity:  0.75\n"
     ]
    },
    {
     "data": {
      "text/plain": "<Figure size 1152x360 with 3 Axes>",
      "image/png": "[encoded data removed]"
     },
     "metadata": {
      "needs_background": "light"
     },
     "output_type": "display_data"
    }
   ],
   "source": [
    "# results for default model \n",
    "\n",
    "get_values_of_aif_metrics(y_test_aif, model_svm.predict(X_test_aif))\n",
    "print('')\n",
    "plot_metrics(y_test_aif, X_test_aif, metrics, model_svm, 'gender')\n",
    "print('')\n",
    "classification_results(y_test_aif, model_svm.predict(X_test_aif))"
   ]
  },
  {
   "cell_type": "code",
   "execution_count": 57,
   "id": "31574543",
   "metadata": {
    "pycharm": {
     "name": "#%%\n"
    }
   },
   "outputs": [
    {
     "name": "stderr",
     "output_type": "stream",
     "text": [
      "Using the level keyword in DataFrame and Series aggregations is deprecated and will be removed in a future version. Use groupby instead. df.sum(level=1) should use df.groupby(level=1).sum().\n",
      "Using the level keyword in DataFrame and Series aggregations is deprecated and will be removed in a future version. Use groupby instead. df.sum(level=1) should use df.groupby(level=1).sum().\n",
      "Using the level keyword in DataFrame and Series aggregations is deprecated and will be removed in a future version. Use groupby instead. df.sum(level=1) should use df.groupby(level=1).sum().\n",
      "Using the level keyword in DataFrame and Series aggregations is deprecated and will be removed in a future version. Use groupby instead. df.sum(level=1) should use df.groupby(level=1).sum().\n",
      "Using the level keyword in DataFrame and Series aggregations is deprecated and will be removed in a future version. Use groupby instead. df.sum(level=1) should use df.groupby(level=1).sum().\n",
      "Using the level keyword in DataFrame and Series aggregations is deprecated and will be removed in a future version. Use groupby instead. df.sum(level=1) should use df.groupby(level=1).sum().\n",
      "Using the level keyword in DataFrame and Series aggregations is deprecated and will be removed in a future version. Use groupby instead. df.sum(level=1) should use df.groupby(level=1).sum().\n",
      "Using the level keyword in DataFrame and Series aggregations is deprecated and will be removed in a future version. Use groupby instead. df.sum(level=1) should use df.groupby(level=1).sum().\n",
      "Using the level keyword in DataFrame and Series aggregations is deprecated and will be removed in a future version. Use groupby instead. df.sum(level=1) should use df.groupby(level=1).sum().\n",
      "Using the level keyword in DataFrame and Series aggregations is deprecated and will be removed in a future version. Use groupby instead. df.sum(level=1) should use df.groupby(level=1).sum().\n"
     ]
    },
    {
     "name": "stdout",
     "output_type": "stream",
     "text": [
      "Statistical parity difference:  0.12237762237762234\n",
      "Equal opportunity difference:  0.18881118881118886\n",
      "Average odds difference:  0.1223776223776224\n",
      "Disparate impact ratio:  1.2892561983471074\n",
      "Theil index:  0.7357067949787411\n",
      "\n",
      "        accuracy sensitivity specificity\n",
      "gender                                  \n",
      "0       0.681818    0.727273    0.636364\n",
      "1       0.615385    0.538462    0.692308\n",
      "\n",
      "[[16  8]\n",
      " [ 9 15]]\n",
      "Accuracy:  0.6458333333333334\n",
      "Sensitivity:  0.625\n",
      "Specificity:  0.6666666666666666\n"
     ]
    },
    {
     "data": {
      "text/plain": "<Figure size 1152x360 with 3 Axes>",
      "image/png": "[encoded data removed]"
     },
     "metadata": {
      "needs_background": "light"
     },
     "output_type": "display_data"
    }
   ],
   "source": [
    "# results for debiased model with GridSearch\n",
    "\n",
    "model_svm_fair = red.GridSearch(model_svm,\n",
    "                               constraints=red.EqualizedOdds(),\n",
    "                                sample_weight_name=\"classifier__sample_weight\",\n",
    "                              )\n",
    "model_svm_fair.fit(X_train_aif, y_train_aif, sensitive_features=X_train_aif['gender'])\n",
    "\n",
    "get_values_of_aif_metrics(y_test_aif, model_svm_fair.predict(X_test_aif))\n",
    "print('')\n",
    "plot_metrics(y_test_aif, X_test_aif, metrics, model_svm_fair, 'gender')\n",
    "print('')\n",
    "classification_results(y_test_aif, model_svm_fair.predict(X_test_aif))"
   ]
  },
  {
   "cell_type": "code",
   "execution_count": 58,
   "id": "3a9d493c",
   "metadata": {
    "pycharm": {
     "name": "#%%\n"
    }
   },
   "outputs": [
    {
     "name": "stderr",
     "output_type": "stream",
     "text": [
      "Using the level keyword in DataFrame and Series aggregations is deprecated and will be removed in a future version. Use groupby instead. df.sum(level=1) should use df.groupby(level=1).sum().\n",
      "Using the level keyword in DataFrame and Series aggregations is deprecated and will be removed in a future version. Use groupby instead. df.sum(level=1) should use df.groupby(level=1).sum().\n",
      "Using the level keyword in DataFrame and Series aggregations is deprecated and will be removed in a future version. Use groupby instead. df.sum(level=1) should use df.groupby(level=1).sum().\n",
      "Using the level keyword in DataFrame and Series aggregations is deprecated and will be removed in a future version. Use groupby instead. df.sum(level=1) should use df.groupby(level=1).sum().\n",
      "Using the level keyword in DataFrame and Series aggregations is deprecated and will be removed in a future version. Use groupby instead. df.sum(level=1) should use df.groupby(level=1).sum().\n",
      "Using the level keyword in DataFrame and Series aggregations is deprecated and will be removed in a future version. Use groupby instead. df.sum(level=1) should use df.groupby(level=1).sum().\n",
      "Using the level keyword in DataFrame and Series aggregations is deprecated and will be removed in a future version. Use groupby instead. df.sum(level=1) should use df.groupby(level=1).sum().\n",
      "Using the level keyword in DataFrame and Series aggregations is deprecated and will be removed in a future version. Use groupby instead. df.sum(level=1) should use df.groupby(level=1).sum().\n",
      "Using the level keyword in DataFrame and Series aggregations is deprecated and will be removed in a future version. Use groupby instead. df.sum(level=1) should use df.groupby(level=1).sum().\n",
      "Using the level keyword in DataFrame and Series aggregations is deprecated and will be removed in a future version. Use groupby instead. df.sum(level=1) should use df.groupby(level=1).sum().\n",
      "Using the level keyword in DataFrame and Series aggregations is deprecated and will be removed in a future version. Use groupby instead. df.sum(level=1) should use df.groupby(level=1).sum().\n",
      "Using the level keyword in DataFrame and Series aggregations is deprecated and will be removed in a future version. Use groupby instead. df.sum(level=1) should use df.groupby(level=1).sum().\n",
      "Using the level keyword in DataFrame and Series aggregations is deprecated and will be removed in a future version. Use groupby instead. df.sum(level=1) should use df.groupby(level=1).sum().\n",
      "Using the level keyword in DataFrame and Series aggregations is deprecated and will be removed in a future version. Use groupby instead. df.sum(level=1) should use df.groupby(level=1).sum().\n",
      "Using the level keyword in DataFrame and Series aggregations is deprecated and will be removed in a future version. Use groupby instead. df.sum(level=1) should use df.groupby(level=1).sum().\n",
      "Using the level keyword in DataFrame and Series aggregations is deprecated and will be removed in a future version. Use groupby instead. df.sum(level=1) should use df.groupby(level=1).sum().\n",
      "Using the level keyword in DataFrame and Series aggregations is deprecated and will be removed in a future version. Use groupby instead. df.sum(level=1) should use df.groupby(level=1).sum().\n",
      "Using the level keyword in DataFrame and Series aggregations is deprecated and will be removed in a future version. Use groupby instead. df.sum(level=1) should use df.groupby(level=1).sum().\n"
     ]
    },
    {
     "name": "stdout",
     "output_type": "stream",
     "text": [
      "Statistical parity difference:  0.07692307692307693\n",
      "Equal opportunity difference:  0.18881118881118886\n",
      "Average odds difference:  0.07692307692307693\n",
      "Disparate impact ratio:  1.1818181818181819\n",
      "Theil index:  0.7801585575495752\n",
      "\n",
      "        accuracy sensitivity specificity\n",
      "gender                                  \n",
      "0       0.681818    0.727273    0.636364\n",
      "1       0.615385    0.538462    0.692308\n",
      "\n",
      "[[16  8]\n",
      " [ 9 15]]\n",
      "Accuracy:  0.6458333333333334\n",
      "Sensitivity:  0.625\n",
      "Specificity:  0.6666666666666666\n"
     ]
    },
    {
     "data": {
      "text/plain": "<Figure size 1152x360 with 3 Axes>",
      "image/png": "[encoded data removed]"
     },
     "metadata": {
      "needs_background": "light"
     },
     "output_type": "display_data"
    }
   ],
   "source": [
    "# results for debiased model with ExponentiatedGradient\n",
    "\n",
    "model_svm_fair = red.ExponentiatedGradient(model_svm,\n",
    "                               constraints=red.EqualizedOdds(),\n",
    "                                sample_weight_name=\"classifier__sample_weight\",\n",
    "                              )\n",
    "model_svm_fair.fit(X_train_aif, y_train_aif, sensitive_features=X_train_aif['gender'])\n",
    "\n",
    "get_values_of_aif_metrics(y_test_aif, model_svm_fair.predict(X_test_aif))\n",
    "print('')\n",
    "plot_metrics(y_test_aif, X_test_aif, metrics, model_svm_fair, 'gender')\n",
    "print('')\n",
    "classification_results(y_test_aif, model_svm_fair.predict(X_test_aif))"
   ]
  },
  {
   "cell_type": "markdown",
   "id": "e4d2c799",
   "metadata": {
    "pycharm": {
     "name": "#%% md\n"
    }
   },
   "source": [
    "#### Results:\n",
    "Model's performance became worse"
   ]
  },
  {
   "cell_type": "markdown",
   "id": "6466a29e",
   "metadata": {
    "pycharm": {
     "name": "#%% md\n"
    }
   },
   "source": [
    "#### Results on the test set with debiasing\n",
    "\n",
    "| Model       | LR       |  LR + GridSearch | LR + ExponentiatedGradient | \n",
    "|------       |------    |  ------          | ------                     |\n",
    "| Accuracy    |  0.6875  |  0.75            |  0.7291                    | \n",
    "| Sensitivity |  0.7083  |  0.7083          |  0.7083                    | \n",
    "| Specificity |  0.6666  |  0.7916          |  0.75                      | \n",
    "\n",
    "\n",
    "##### Summary:  \n",
    "LR + GridSearch obtained the best performance\n",
    "\n",
    "---"
   ]
  },
  {
   "cell_type": "markdown",
   "id": "8a882c4f",
   "metadata": {
    "pycharm": {
     "name": "#%% md\n"
    }
   },
   "source": [
    "#### Results on the test set with debiasing\n",
    "\n",
    "| Model       | RF       |  RF + GridSearch | RF + ExponentiatedGradient | \n",
    "|------       |------    |  ------          | ------                     |\n",
    "| Accuracy    |  0.6875  |  0.625           |  0.6875                    | \n",
    "| Sensitivity |  0.7083  |  0.5             |  0.5                       | \n",
    "| Specificity |  0.6666  |  0.75            |  0.875                     | \n",
    "\n",
    "##### Summary:  \n",
    "Original model obtained the best performance\n",
    "\n",
    "---"
   ]
  },
  {
   "cell_type": "markdown",
   "id": "d8add886",
   "metadata": {
    "pycharm": {
     "name": "#%% md\n"
    }
   },
   "source": [
    "#### Results on the test set with debiasing\n",
    "\n",
    "| Model       | SVM      | SVM + GridSearch |SVM + ExponentiatedGradient | \n",
    "|------       |------    |  ------          | ------                     |\n",
    "| Accuracy    |  0.6875  |  0.6458          |  0.6875                    | \n",
    "| Sensitivity |  0.7083  |  0.625           |  0.625                     | \n",
    "| Specificity |  0.6666  |  0.6666          |  0.75                      | \n",
    "\n",
    "##### Summary:  \n",
    "Original model obtained the best performance\n",
    "\n",
    "---"
   ]
  },
  {
   "cell_type": "code",
   "execution_count": 170,
   "outputs": [],
   "source": [
    "X_train_aif, y_train_aif, X_test_aif, y_test_aif = create_dataset(train_df, test_df, 'diagnosis', prot_attr_cols, features_svm)\n",
    "\n",
    "# y_train_aif = np.array([[i[0], i[1]] for i in y_train_aif.index.values])\n",
    "# y_train_aif = np.array([i for i in y_train_aif])\n",
    "# y_train_aif = pd.Series(y_train_aif)\n",
    "# X_train_aif.values"
   ],
   "metadata": {
    "collapsed": false,
    "pycharm": {
     "name": "#%%\n"
    }
   }
  },
  {
   "cell_type": "code",
   "execution_count": 197,
   "outputs": [
    {
     "data": {
      "text/plain": "array([[1.5491672e+03, 2.7291796e+01, 2.6158813e+01, 0.0000000e+00],\n       [1.7304797e+03, 3.5377094e+01, 3.5038100e+01, 1.0000000e+00],\n       [1.6415321e+03, 3.6115800e+01, 3.3408146e+01, 1.0000000e+00],\n       [1.6508950e+03, 3.4264683e+01, 3.1709782e+01, 1.0000000e+00],\n       [1.6002507e+03, 3.5102440e+01, 3.3117634e+01, 1.0000000e+00],\n       [1.6932694e+03, 4.2503616e+01, 3.7825570e+01, 1.0000000e+00],\n       [1.7085579e+03, 4.3527600e+01, 2.9538963e+01, 0.0000000e+00],\n       [1.5447943e+03, 2.8411049e+01, 2.6636423e+01, 0.0000000e+00],\n       [1.6863982e+03, 4.2400190e+01, 3.5141730e+01, 1.0000000e+00],\n       [1.5635681e+03, 2.3976517e+01, 2.2042637e+01, 0.0000000e+00],\n       [1.7370377e+03, 4.2863420e+01, 3.2347580e+01, 0.0000000e+00],\n       [1.7093969e+03, 3.6452465e+01, 2.9487438e+01, 1.0000000e+00],\n       [1.6392520e+03, 3.1832458e+01, 2.8130297e+01, 1.0000000e+00],\n       [1.6320121e+03, 3.4304720e+01, 3.1555447e+01, 1.0000000e+00],\n       [1.7780598e+03, 3.0895164e+01, 2.7455835e+01, 0.0000000e+00],\n       [1.7348359e+03, 3.7646446e+01, 3.0841337e+01, 1.0000000e+00],\n       [1.6333729e+03, 2.7574432e+01, 2.2666483e+01, 0.0000000e+00],\n       [1.6756171e+03, 3.7142246e+01, 3.4655575e+01, 1.0000000e+00],\n       [1.6889406e+03, 3.2564724e+01, 3.0199220e+01, 1.0000000e+00],\n       [1.6153620e+03, 3.2634174e+01, 2.3834213e+01, 1.0000000e+00],\n       [1.7926104e+03, 3.6622635e+01, 3.1910795e+01, 0.0000000e+00],\n       [1.5297817e+03, 2.3918522e+01, 2.1944437e+01, 0.0000000e+00],\n       [1.6428254e+03, 3.4337025e+01, 2.9332712e+01, 1.0000000e+00],\n       [1.6924462e+03, 3.2603012e+01, 2.8592937e+01, 1.0000000e+00],\n       [1.6968297e+03, 3.6292866e+01, 3.4015514e+01, 1.0000000e+00],\n       [1.6712239e+03, 3.7151110e+01, 3.3286570e+01, 1.0000000e+00],\n       [1.6454586e+03, 3.6274460e+01, 3.1414396e+01, 1.0000000e+00],\n       [1.7270021e+03, 3.1975980e+01, 2.9561320e+01, 1.0000000e+00],\n       [1.5410469e+03, 3.2087418e+01, 2.9985943e+01, 0.0000000e+00],\n       [1.4604304e+03, 2.9067032e+01, 2.6299640e+01, 0.0000000e+00],\n       [1.7600353e+03, 3.4001484e+01, 3.0824926e+01, 1.0000000e+00],\n       [1.7136327e+03, 3.4100742e+01, 3.2260900e+01, 1.0000000e+00],\n       [1.7947788e+03, 3.4762383e+01, 3.2255900e+01, 1.0000000e+00],\n       [1.5685398e+03, 2.9228006e+01, 2.6436968e+01, 0.0000000e+00],\n       [1.5889746e+03, 3.6884285e+01, 2.6049389e+01, 0.0000000e+00],\n       [1.6089075e+03, 2.8198536e+01, 2.4956924e+01, 0.0000000e+00],\n       [1.5528354e+03, 2.9977768e+01, 2.5790272e+01, 0.0000000e+00],\n       [1.6526682e+03, 2.2984436e+01, 2.3231195e+01, 0.0000000e+00],\n       [1.5445254e+03, 3.0173650e+01, 2.5578156e+01, 0.0000000e+00],\n       [1.7138971e+03, 3.3455290e+01, 2.8989830e+01, 1.0000000e+00],\n       [1.6510173e+03, 3.5652626e+01, 3.1025705e+01, 1.0000000e+00],\n       [1.6985840e+03, 2.8479130e+01, 2.6284690e+01, 1.0000000e+00],\n       [1.7070682e+03, 3.4368680e+01, 2.9282564e+01, 1.0000000e+00],\n       [1.5138059e+03, 2.6843208e+01, 2.6107052e+01, 0.0000000e+00],\n       [1.5171442e+03, 2.6954962e+01, 2.5852510e+01, 0.0000000e+00],\n       [1.5609421e+03, 2.8932428e+01, 2.6293333e+01, 1.0000000e+00],\n       [1.6127529e+03, 3.3192787e+01, 2.9274680e+01, 0.0000000e+00],\n       [1.5442102e+03, 2.6880991e+01, 2.6462660e+01, 0.0000000e+00],\n       [1.6692676e+03, 3.6453327e+01, 2.8719883e+01, 1.0000000e+00],\n       [1.6454360e+03, 3.2974620e+01, 2.8215889e+01, 0.0000000e+00],\n       [1.5217404e+03, 2.6660622e+01, 2.3842495e+01, 0.0000000e+00],\n       [1.6821744e+03, 3.2676342e+01, 2.9161234e+01, 0.0000000e+00],\n       [1.7149794e+03, 3.5184044e+01, 2.9003520e+01, 1.0000000e+00],\n       [1.7535723e+03, 3.3779620e+01, 2.6646324e+01, 1.0000000e+00],\n       [1.5855531e+03, 3.5092380e+01, 2.7493350e+01, 0.0000000e+00],\n       [1.7091156e+03, 4.4597640e+01, 3.7144863e+01, 0.0000000e+00],\n       [1.4790138e+03, 2.3805788e+01, 2.2623365e+01, 0.0000000e+00],\n       [1.6262577e+03, 4.0716812e+01, 3.0688890e+01, 0.0000000e+00],\n       [1.6369374e+03, 3.2615550e+01, 2.8216452e+01, 0.0000000e+00],\n       [1.5777223e+03, 3.1248936e+01, 2.7351488e+01, 0.0000000e+00],\n       [1.5651055e+03, 3.5437424e+01, 2.8814112e+01, 0.0000000e+00],\n       [1.7979945e+03, 3.7602596e+01, 3.3414726e+01, 1.0000000e+00],\n       [1.6916514e+03, 4.3246880e+01, 3.3900310e+01, 0.0000000e+00],\n       [1.6639674e+03, 3.9356632e+01, 3.2053750e+01, 0.0000000e+00],\n       [1.7805061e+03, 3.7989452e+01, 3.3891666e+01, 1.0000000e+00],\n       [1.6736729e+03, 4.5353650e+01, 3.6524660e+01, 1.0000000e+00],\n       [1.6165697e+03, 3.8206840e+01, 3.5898740e+01, 1.0000000e+00],\n       [1.7365935e+03, 4.4294678e+01, 3.8191433e+01, 1.0000000e+00],\n       [1.7326433e+03, 3.9103012e+01, 3.0398254e+01, 1.0000000e+00],\n       [1.6567379e+03, 3.5382755e+01, 3.0142340e+01, 1.0000000e+00],\n       [1.6729266e+03, 3.5670730e+01, 3.3675350e+01, 1.0000000e+00],\n       [1.7154825e+03, 3.3999813e+01, 3.0008574e+01, 1.0000000e+00],\n       [1.5972411e+03, 2.8837357e+01, 2.7657114e+01, 0.0000000e+00],\n       [1.6996844e+03, 2.7387490e+01, 2.9123272e+01, 0.0000000e+00],\n       [1.7251553e+03, 3.8835884e+01, 3.1506786e+01, 0.0000000e+00],\n       [1.6274603e+03, 3.7827244e+01, 3.3029230e+01, 0.0000000e+00],\n       [1.6319114e+03, 3.6783638e+01, 3.2682606e+01, 1.0000000e+00],\n       [1.7834998e+03, 4.5834846e+01, 3.8110110e+01, 1.0000000e+00],\n       [1.5573531e+03, 3.0654600e+01, 2.5716547e+01, 0.0000000e+00],\n       [1.6571957e+03, 3.6316370e+01, 3.1873198e+01, 1.0000000e+00],\n       [1.6885101e+03, 3.8570175e+01, 3.1837543e+01, 1.0000000e+00],\n       [1.6484803e+03, 3.3419125e+01, 3.1280788e+01, 1.0000000e+00],\n       [1.7308873e+03, 3.5115417e+01, 2.7590483e+01, 1.0000000e+00],\n       [1.7223806e+03, 3.9058975e+01, 3.4570072e+01, 1.0000000e+00],\n       [1.7875544e+03, 4.1466140e+01, 3.2742188e+01, 0.0000000e+00],\n       [1.5818224e+03, 3.7198418e+01, 3.4185722e+01, 1.0000000e+00],\n       [1.7581010e+03, 3.7672215e+01, 3.2596996e+01, 1.0000000e+00],\n       [1.6179945e+03, 3.4457256e+01, 3.3257477e+01, 1.0000000e+00],\n       [1.7076094e+03, 3.7603170e+01, 3.5322310e+01, 1.0000000e+00],\n       [1.7510559e+03, 3.9832100e+01, 3.5494630e+01, 1.0000000e+00],\n       [1.5837714e+03, 2.9502304e+01, 2.7054710e+01, 0.0000000e+00],\n       [1.5843042e+03, 3.0590242e+01, 2.7920698e+01, 0.0000000e+00],\n       [1.7177532e+03, 3.8276363e+01, 3.3282380e+01, 1.0000000e+00],\n       [1.5417222e+03, 3.5802685e+01, 2.7016144e+01, 1.0000000e+00],\n       [1.7129199e+03, 4.4255280e+01, 3.8019960e+01, 1.0000000e+00],\n       [1.6787114e+03, 3.6798430e+01, 2.4151348e+01, 1.0000000e+00],\n       [1.6254369e+03, 3.0905670e+01, 2.6759815e+01, 0.0000000e+00],\n       [1.5599348e+03, 2.7141985e+01, 2.6500961e+01, 0.0000000e+00],\n       [1.7059268e+03, 3.6278350e+01, 3.2085712e+01, 1.0000000e+00],\n       [1.6693344e+03, 3.6005936e+01, 2.7341099e+01, 0.0000000e+00],\n       [1.6671616e+03, 4.0108640e+01, 3.1303415e+01, 0.0000000e+00],\n       [1.6470598e+03, 3.9992817e+01, 3.3725660e+01, 0.0000000e+00],\n       [1.6824930e+03, 3.6009388e+01, 3.2536613e+01, 1.0000000e+00],\n       [1.4912928e+03, 2.6226475e+01, 2.2124865e+01, 0.0000000e+00],\n       [1.6057102e+03, 3.1227346e+01, 2.5876417e+01, 0.0000000e+00],\n       [1.6796383e+03, 3.5406845e+01, 3.2019115e+01, 1.0000000e+00],\n       [1.7026135e+03, 3.2480110e+01, 2.5526005e+01, 1.0000000e+00],\n       [1.7388940e+03, 3.7427216e+01, 2.9731531e+01, 1.0000000e+00]])"
     },
     "execution_count": 197,
     "metadata": {},
     "output_type": "execute_result"
    }
   ],
   "source": [
    "p1 = postprocessing.CalibratedEqualizedOdds(prot_attr=prot_attr_cols)\n",
    "\n",
    "# p1.fit(X_train_aif, y_train_aif)\n",
    "\n",
    "X=X_train_aif\n",
    "y = y_train_aif\n",
    "pos_label_ = 1\n",
    "classes_ = np.unique(y)\n",
    "X.values\n",
    "# X = X.values[:, np.nonzero(classes_ == pos_label_)[0][0]]\n",
    "# X"
   ],
   "metadata": {
    "collapsed": false,
    "pycharm": {
     "name": "#%%\n"
    }
   }
  },
  {
   "cell_type": "code",
   "execution_count": 261,
   "outputs": [
    {
     "data": {
      "text/plain": "     0  1  2\n0    0  0  0\n1    0  1  0\n2    0  1  1\n3    0  1  0\n4    0  1  1\n..  .. .. ..\n103  1  0  0\n104  1  0  0\n105  1  1  0\n106  1  1  0\n107  1  1  1\n\n[108 rows x 3 columns]",
      "text/html": "<div>\n<style scoped>\n    .dataframe tbody tr th:only-of-type {\n        vertical-align: middle;\n    }\n\n    .dataframe tbody tr th {\n        vertical-align: top;\n    }\n\n    .dataframe thead th {\n        text-align: right;\n    }\n</style>\n<table border=\"1\" class=\"dataframe\">\n  <thead>\n    <tr style=\"text-align: right;\">\n      <th></th>\n      <th>0</th>\n      <th>1</th>\n      <th>2</th>\n    </tr>\n  </thead>\n  <tbody>\n    <tr>\n      <th>0</th>\n      <td>0</td>\n      <td>0</td>\n      <td>0</td>\n    </tr>\n    <tr>\n      <th>1</th>\n      <td>0</td>\n      <td>1</td>\n      <td>0</td>\n    </tr>\n    <tr>\n      <th>2</th>\n      <td>0</td>\n      <td>1</td>\n      <td>1</td>\n    </tr>\n    <tr>\n      <th>3</th>\n      <td>0</td>\n      <td>1</td>\n      <td>0</td>\n    </tr>\n    <tr>\n      <th>4</th>\n      <td>0</td>\n      <td>1</td>\n      <td>1</td>\n    </tr>\n    <tr>\n      <th>...</th>\n      <td>...</td>\n      <td>...</td>\n      <td>...</td>\n    </tr>\n    <tr>\n      <th>103</th>\n      <td>1</td>\n      <td>0</td>\n      <td>0</td>\n    </tr>\n    <tr>\n      <th>104</th>\n      <td>1</td>\n      <td>0</td>\n      <td>0</td>\n    </tr>\n    <tr>\n      <th>105</th>\n      <td>1</td>\n      <td>1</td>\n      <td>0</td>\n    </tr>\n    <tr>\n      <th>106</th>\n      <td>1</td>\n      <td>1</td>\n      <td>0</td>\n    </tr>\n    <tr>\n      <th>107</th>\n      <td>1</td>\n      <td>1</td>\n      <td>1</td>\n    </tr>\n  </tbody>\n</table>\n<p>108 rows × 3 columns</p>\n</div>"
     },
     "execution_count": 261,
     "metadata": {},
     "output_type": "execute_result"
    }
   ],
   "source": [
    "# get_values_of_aif_metrics(y_test_aif, model_lr_fair.predict(X_test_aif))\n",
    "X_train_aif, y_train_aif, X_test_aif, y_test_aif = create_dataset(train_df, test_df, 'diagnosis', prot_attr_cols, features_lr)\n",
    "model_lr_fair.predict(X_train_aif)\n",
    "\n",
    "y_train_aif.values\n",
    "\n",
    "df = pd.DataFrame({\n",
    "    'label': y_train_aif.values,\n",
    "    'group': X_train_aif.gender,\n",
    "    'prediction': model_lr_fair.predict(X_train_aif)\n",
    "})\n",
    "df = pd.DataFrame(df.values)\n",
    "df.to_csv('./test.csv', index=False)\n",
    "\n",
    "df"
   ],
   "metadata": {
    "collapsed": false,
    "pycharm": {
     "name": "#%%\n"
    }
   }
  }
 ],
 "metadata": {
  "kernelspec": {
   "display_name": "Python 3 (ipykernel)",
   "language": "python",
   "name": "python3"
  },
  "language_info": {
   "codemirror_mode": {
    "name": "ipython",
    "version": 3
   },
   "file_extension": ".py",
   "mimetype": "text/x-python",
   "name": "python",
   "nbconvert_exporter": "python",
   "pygments_lexer": "ipython3",
   "version": "3.9.7"
  }
 },
 "nbformat": 4,
 "nbformat_minor": 5
}